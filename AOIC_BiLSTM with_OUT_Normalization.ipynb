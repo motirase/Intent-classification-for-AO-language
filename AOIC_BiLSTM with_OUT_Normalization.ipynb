{
 "cells": [
  {
   "cell_type": "code",
   "execution_count": 1,
   "id": "0ab87ed1",
   "metadata": {},
   "outputs": [],
   "source": [
    "import numpy as np\n",
    "from sklearn.linear_model import LogisticRegression\n",
    "from sklearn.metrics import accuracy_score\n",
    "from sklearn.ensemble import VotingClassifier\n",
    "from tensorflow.keras.models import Sequential\n",
    "from tensorflow.keras.layers import Bidirectional, LSTM, Dense\n",
    "from tensorflow.keras.preprocessing.sequence import pad_sequences\n",
    "from sklearn.model_selection import train_test_split\n",
    "from gensim.models import KeyedVectors\n",
    "from keras.utils import to_categorical\n",
    "from tensorflow.keras.layers import Embedding\n",
    "import numpy as np\n",
    "import pandas as pd\n",
    "from sklearn.linear_model import LogisticRegression\n",
    "import seaborn as sns\n",
    "import re\n",
    "import gensim\n",
    "from keras.models import Sequential,load_model\n",
    "from keras.models import Model\n",
    "from keras.layers import Input, Dense, Dropout, Flatten, Conv1D, MaxPooling1D, concatenate\n",
    "#from tensorflow.keras.layers import Embedding\n",
    "from keras.preprocessing.text import Tokenizer"
   ]
  },
  {
   "cell_type": "code",
   "execution_count": 2,
   "id": "7f61f2e9",
   "metadata": {},
   "outputs": [
    {
     "name": "stdout",
     "output_type": "stream",
     "text": [
      "(10561, 2)\n"
     ]
    },
    {
     "data": {
      "text/html": [
       "<div>\n",
       "<style scoped>\n",
       "    .dataframe tbody tr th:only-of-type {\n",
       "        vertical-align: middle;\n",
       "    }\n",
       "\n",
       "    .dataframe tbody tr th {\n",
       "        vertical-align: top;\n",
       "    }\n",
       "\n",
       "    .dataframe thead th {\n",
       "        text-align: right;\n",
       "    }\n",
       "</style>\n",
       "<table border=\"1\" class=\"dataframe\">\n",
       "  <thead>\n",
       "    <tr style=\"text-align: right;\">\n",
       "      <th></th>\n",
       "      <th>Text</th>\n",
       "      <th>Intent</th>\n",
       "    </tr>\n",
       "  </thead>\n",
       "  <tbody>\n",
       "    <tr>\n",
       "      <th>0</th>\n",
       "      <td>Kiyyoo dirama oso  eguti jirun na darbe tari a...</td>\n",
       "      <td>Question</td>\n",
       "    </tr>\n",
       "    <tr>\n",
       "      <th>1</th>\n",
       "      <td>Meeti ree kuta 28ffaa</td>\n",
       "      <td>Question</td>\n",
       "    </tr>\n",
       "    <tr>\n",
       "      <th>2</th>\n",
       "      <td>Kutaa digdami sadetaffa isiin egee dadhabee.</td>\n",
       "      <td>Negative</td>\n",
       "    </tr>\n",
       "    <tr>\n",
       "      <th>3</th>\n",
       "      <td>Kutaa digdami sadetaffaa fiidagaa maali nuuraa...</td>\n",
       "      <td>Negative</td>\n",
       "    </tr>\n",
       "    <tr>\n",
       "      <th>4</th>\n",
       "      <td>Nuuf jabbadhakaa warii Akka kotti kiyyoo jaala...</td>\n",
       "      <td>Positive</td>\n",
       "    </tr>\n",
       "  </tbody>\n",
       "</table>\n",
       "</div>"
      ],
      "text/plain": [
       "                                                Text     Intent\n",
       "0  Kiyyoo dirama oso  eguti jirun na darbe tari a...  Question \n",
       "1                              Meeti ree kuta 28ffaa  Question \n",
       "2       Kutaa digdami sadetaffa isiin egee dadhabee.   Negative\n",
       "3  Kutaa digdami sadetaffaa fiidagaa maali nuuraa...   Negative\n",
       "4  Nuuf jabbadhakaa warii Akka kotti kiyyoo jaala...   Positive"
      ]
     },
     "execution_count": 2,
     "metadata": {},
     "output_type": "execute_result"
    }
   ],
   "source": [
    "# Load data\n",
    "#data=open(\"hate-by-Kabada.csv\", errors='ignore')\n",
    "#df = pd.read_csv('hate-by-Kabada.csv')\n",
    "#,count,hate_speech,offensive_language,neither,class,tweet\n",
    "# Preprocess data\n",
    "path = \"C:\\\\Users\\\\Moti\\Desktop\\\\Intent\\\\Meliha Research\\\\maliha_dataset_researchs.xlsx\"\n",
    "data=pd.read_excel(path, names=['Text','Intent'])\n",
    "data.sample(frac=1).reset_index(drop=True)\n",
    "print(data.shape)\n",
    "data.head()"
   ]
  },
  {
   "cell_type": "code",
   "execution_count": 3,
   "id": "684c9ad4",
   "metadata": {},
   "outputs": [
    {
     "data": {
      "text/plain": [
       "<AxesSubplot:xlabel='Intent', ylabel='count'>"
      ]
     },
     "execution_count": 3,
     "metadata": {},
     "output_type": "execute_result"
    },
    {
     "data": {
      "image/png": "[encoded data removed]",
      "text/plain": [
       "<Figure size 432x288 with 1 Axes>"
      ]
     },
     "metadata": {
      "needs_background": "light"
     },
     "output_type": "display_data"
    }
   ],
   "source": [
    "sns.countplot(x='Intent', data=data)"
   ]
  },
  {
   "cell_type": "code",
   "execution_count": 4,
   "id": "41428226",
   "metadata": {},
   "outputs": [
    {
     "data": {
      "text/plain": [
       "Positive       4320\n",
       "Negative       3271\n",
       "Suggestion     1686\n",
       "Question        736\n",
       "Wish            546\n",
       "Name: Intent, dtype: int64"
      ]
     },
     "execution_count": 4,
     "metadata": {},
     "output_type": "execute_result"
    }
   ],
   "source": [
    "data[\"Intent\"].value_counts()\n",
    "#print(len('Gosa_miira'))\n",
    "#print(len('jechoota'))"
   ]
  },
  {
   "cell_type": "code",
   "execution_count": 5,
   "id": "0a7c0b50",
   "metadata": {},
   "outputs": [
    {
     "data": {
      "text/plain": [
       "0        kiyyoo dirama oso  eguti jirun na darbe tari a...\n",
       "1                                    meeti ree kuta 28ffaa\n",
       "2             kutaa digdami sadetaffa isiin egee dadhabee.\n",
       "3        kutaa digdami sadetaffaa fiidagaa maali nuuraa...\n",
       "4        nuuf jabbadhakaa warii akka kotti kiyyoo jaala...\n",
       "                               ...                        \n",
       "10556    isheenis namoota dogoggoraa waliin lafa dogogg...\n",
       "10557    vidiyichis battalumatti qoodamuun marsariitiiw...\n",
       "10558    gochiwwan qaamaa warraabbicha irratti ture bah...\n",
       "10559              jechi gurbbichaa altokkicha dhagahame. \n",
       "10560                           viidiyoo waraabaa jirtaa? \n",
       "Name: Text, Length: 10561, dtype: object"
      ]
     },
     "execution_count": 5,
     "metadata": {},
     "output_type": "execute_result"
    }
   ],
   "source": [
    "data['Text'].apply(lambda x: x.lower())"
   ]
  },
  {
   "cell_type": "code",
   "execution_count": 6,
   "id": "fd227d89",
   "metadata": {},
   "outputs": [],
   "source": [
    "y = data['Intent']"
   ]
  },
  {
   "cell_type": "code",
   "execution_count": 11,
   "id": "9b39af00",
   "metadata": {},
   "outputs": [
    {
     "data": {
      "text/plain": [
       "array([[   0,    0,    0,    0,    0,    0,    0,    0,    0,    0,    0,\n",
       "           0,    0,    0,    0,    0,    0,    0,    0,    0,    0,    0,\n",
       "           0,    0,    0,    0,    0,    0,  200, 3024, 3025, 6010, 6011,\n",
       "          37,  192, 6012, 6013,  140,  325, 6014, 6015],\n",
       "       [   0,    0,    0,    0,    0,    0,    0,    0,    0,    0,    0,\n",
       "           0,    0,    0,    0,    0,    0,    0,    0,    0,    0,    0,\n",
       "           0,    0,    0,    0,    0,    0,    0,    0,    0,    0,    0,\n",
       "           0,    0,    0,    0, 5622,  438, 3332, 6016],\n",
       "       [   0,    0,    0,    0,    0,    0,    0,    0,    0,    0,    0,\n",
       "           0,    0,    0,    0,    0,    0,    0,    0,    0,    0,    0,\n",
       "           0,    0,    0,    0,    0,    0,    0,    0,    0,    0,    0,\n",
       "           0,    0,  162, 3333, 6017,  326, 6018,  422],\n",
       "       [   0,    0,    0,    0,    0,    0,    0,    0,    0,    0,    0,\n",
       "           0,    0,    0,    0,    0,    0,    0,    0,    0,    0,    0,\n",
       "           0,    0,    0,    0,    0,  162, 3333, 6019, 6020,  157, 6021,\n",
       "        6022, 3115,   47, 6023, 6024, 6025, 6026, 6027],\n",
       "       [   0,    0,    0,    0,    0,    0,    0,    0,    0,    0,    0,\n",
       "           0,    0,    0,    0,    0,    0,    0,    0,    0,    0,    0,\n",
       "           0,    0,    0,    0,    0,    0,    0,    0,    0,    0,    0,\n",
       "           0,   78, 6028, 3334,    4, 3116,  200, 3335]])"
      ]
     },
     "execution_count": 11,
     "metadata": {},
     "output_type": "execute_result"
    }
   ],
   "source": [
    "tokenizer=Tokenizer(num_words=20000,split=\" \")\n",
    "tokenizer.fit_on_texts(data['Text'].values)\n",
    "x=tokenizer.texts_to_sequences(data['Text'].values)\n",
    "x=pad_sequences(x)\n",
    "x[:5]"
   ]
  },
  {
   "cell_type": "code",
   "execution_count": 12,
   "id": "85473955",
   "metadata": {},
   "outputs": [
    {
     "name": "stdout",
     "output_type": "stream",
     "text": [
      "Question  [0 0 1 0 0]\n",
      "Question  [0 0 1 0 0]\n",
      "Negative [1 0 0 0 0]\n",
      "Negative [1 0 0 0 0]\n",
      "Positive [0 1 0 0 0]\n"
     ]
    },
    {
     "data": {
      "text/plain": [
       "[None, None, None, None, None]"
      ]
     },
     "execution_count": 12,
     "metadata": {},
     "output_type": "execute_result"
    }
   ],
   "source": [
    "y=pd.get_dummies(data['Intent']).values\n",
    "[print(data['Intent'][i],y[i]) for i in range(0,5)]"
   ]
  },
  {
   "cell_type": "code",
   "execution_count": 13,
   "id": "9c9dd93c",
   "metadata": {},
   "outputs": [],
   "source": [
    "x_train, x_test, y_train, y_test = train_test_split(x, y, test_size = 0.1, random_state=100)"
   ]
  },
  {
   "cell_type": "code",
   "execution_count": 18,
   "id": "05c5b51b",
   "metadata": {},
   "outputs": [],
   "source": [
    "model = Sequential()\n",
    "model.add(Embedding(12000, 64, input_length=x.shape[1]))\n",
    "model.add(Dropout(0.3))\n",
    "model.add(Bidirectional(LSTM(150, return_sequences=True, dropout=0.3, recurrent_dropout=0.2)))\n",
    "model.add(Bidirectional(LSTM(100, dropout=0.5, recurrent_dropout=0.3)))\n",
    "#model.add(LSTM(128, dropout=0.2, recurrent_dropout=0.3))\n",
    "model.add(Dense(5, activation = 'softmax'))"
   ]
  },
  {
   "cell_type": "code",
   "execution_count": 19,
   "id": "b3604448",
   "metadata": {},
   "outputs": [],
   "source": [
    "model.compile(loss='categorical_crossentropy', optimizer='adam', metrics=['accuracy'])"
   ]
  },
  {
   "cell_type": "code",
   "execution_count": 20,
   "id": "566ed724",
   "metadata": {},
   "outputs": [
    {
     "name": "stdout",
     "output_type": "stream",
     "text": [
      "Model: \"sequential_2\"\n",
      "_________________________________________________________________\n",
      " Layer (type)                Output Shape              Param #   \n",
      "=================================================================\n",
      " embedding_1 (Embedding)     (None, 41, 64)            768000    \n",
      "                                                                 \n",
      " dropout_1 (Dropout)         (None, 41, 64)            0         \n",
      "                                                                 \n",
      " bidirectional_2 (Bidirectio  (None, 41, 300)          258000    \n",
      " nal)                                                            \n",
      "                                                                 \n",
      " bidirectional_3 (Bidirectio  (None, 200)              320800    \n",
      " nal)                                                            \n",
      "                                                                 \n",
      " dense_1 (Dense)             (None, 5)                 1005      \n",
      "                                                                 \n",
      "=================================================================\n",
      "Total params: 1,347,805\n",
      "Trainable params: 1,347,805\n",
      "Non-trainable params: 0\n",
      "_________________________________________________________________\n"
     ]
    }
   ],
   "source": [
    "model.summary()"
   ]
  },
  {
   "cell_type": "code",
   "execution_count": 21,
   "id": "4ca717e4",
   "metadata": {},
   "outputs": [
    {
     "name": "stdout",
     "output_type": "stream",
     "text": [
      "Epoch 1/30\n",
      "134/134 [==============================] - 116s 626ms/step - loss: 1.2005 - accuracy: 0.5092 - val_loss: 0.8556 - val_accuracy: 0.6730\n",
      "Epoch 2/30\n",
      "134/134 [==============================] - 177s 1s/step - loss: 0.5539 - accuracy: 0.8005 - val_loss: 0.5229 - val_accuracy: 0.8160\n",
      "Epoch 3/30\n",
      "134/134 [==============================] - 211s 2s/step - loss: 0.2946 - accuracy: 0.9005 - val_loss: 0.4434 - val_accuracy: 0.8507\n",
      "Epoch 4/30\n",
      "134/134 [==============================] - 213s 2s/step - loss: 0.1987 - accuracy: 0.9288 - val_loss: 0.4330 - val_accuracy: 0.8644\n",
      "Epoch 5/30\n",
      "134/134 [==============================] - 160s 1s/step - loss: 0.1540 - accuracy: 0.9452 - val_loss: 0.4204 - val_accuracy: 0.8633\n",
      "Epoch 6/30\n",
      "134/134 [==============================] - 183s 1s/step - loss: 0.1281 - accuracy: 0.9505 - val_loss: 0.4214 - val_accuracy: 0.8644\n",
      "Epoch 7/30\n",
      "134/134 [==============================] - 206s 2s/step - loss: 0.1091 - accuracy: 0.9542 - val_loss: 0.4223 - val_accuracy: 0.8686\n",
      "Epoch 8/30\n",
      "134/134 [==============================] - 215s 2s/step - loss: 0.0946 - accuracy: 0.9570 - val_loss: 0.4368 - val_accuracy: 0.8707\n",
      "Epoch 9/30\n",
      "134/134 [==============================] - 2503s 19s/step - loss: 0.0927 - accuracy: 0.9553 - val_loss: 0.4259 - val_accuracy: 0.8665\n",
      "Epoch 10/30\n",
      "134/134 [==============================] - 117s 871ms/step - loss: 0.0853 - accuracy: 0.9602 - val_loss: 0.4291 - val_accuracy: 0.8633\n",
      "Epoch 11/30\n",
      "134/134 [==============================] - 139s 1s/step - loss: 0.0822 - accuracy: 0.9604 - val_loss: 0.4349 - val_accuracy: 0.8654\n",
      "Epoch 12/30\n",
      "134/134 [==============================] - 134s 997ms/step - loss: 0.0793 - accuracy: 0.9597 - val_loss: 0.4642 - val_accuracy: 0.8686\n",
      "Epoch 13/30\n",
      "134/134 [==============================] - 134s 1000ms/step - loss: 0.0775 - accuracy: 0.9615 - val_loss: 0.4543 - val_accuracy: 0.8738\n",
      "Epoch 14/30\n",
      "134/134 [==============================] - 144s 1s/step - loss: 0.0766 - accuracy: 0.9598 - val_loss: 0.4693 - val_accuracy: 0.8728\n",
      "Epoch 15/30\n",
      "134/134 [==============================] - 152s 1s/step - loss: 0.0780 - accuracy: 0.9611 - val_loss: 0.4813 - val_accuracy: 0.8822\n",
      "Epoch 16/30\n",
      "134/134 [==============================] - 168s 1s/step - loss: 0.0715 - accuracy: 0.9624 - val_loss: 0.5157 - val_accuracy: 0.8728\n",
      "Epoch 17/30\n",
      "134/134 [==============================] - 168s 1s/step - loss: 0.0739 - accuracy: 0.9607 - val_loss: 0.4925 - val_accuracy: 0.8654\n",
      "Epoch 18/30\n",
      "134/134 [==============================] - 163s 1s/step - loss: 0.0705 - accuracy: 0.9614 - val_loss: 0.5178 - val_accuracy: 0.8654\n",
      "Epoch 19/30\n",
      "134/134 [==============================] - 175s 1s/step - loss: 0.0666 - accuracy: 0.9615 - val_loss: 0.5109 - val_accuracy: 0.8623\n",
      "Epoch 20/30\n",
      "134/134 [==============================] - 154s 1s/step - loss: 0.0656 - accuracy: 0.9619 - val_loss: 0.5155 - val_accuracy: 0.8601\n",
      "Epoch 21/30\n",
      "134/134 [==============================] - 165s 1s/step - loss: 0.0722 - accuracy: 0.9639 - val_loss: 0.4991 - val_accuracy: 0.8686\n",
      "Epoch 22/30\n",
      "134/134 [==============================] - 173s 1s/step - loss: 0.0664 - accuracy: 0.9627 - val_loss: 0.4993 - val_accuracy: 0.8633\n",
      "Epoch 23/30\n",
      "134/134 [==============================] - 169s 1s/step - loss: 0.0663 - accuracy: 0.9639 - val_loss: 0.5250 - val_accuracy: 0.8696\n",
      "Epoch 24/30\n",
      "134/134 [==============================] - 162s 1s/step - loss: 0.0652 - accuracy: 0.9659 - val_loss: 0.5230 - val_accuracy: 0.8696\n",
      "Epoch 25/30\n",
      "134/134 [==============================] - 162s 1s/step - loss: 0.0652 - accuracy: 0.9621 - val_loss: 0.5613 - val_accuracy: 0.8675\n",
      "Epoch 26/30\n",
      "134/134 [==============================] - 158s 1s/step - loss: 0.0623 - accuracy: 0.9645 - val_loss: 0.5720 - val_accuracy: 0.8644\n",
      "Epoch 27/30\n",
      "134/134 [==============================] - 176s 1s/step - loss: 0.0652 - accuracy: 0.9628 - val_loss: 0.5432 - val_accuracy: 0.8686\n",
      "Epoch 28/30\n",
      "134/134 [==============================] - 172s 1s/step - loss: 0.0642 - accuracy: 0.9626 - val_loss: 0.5719 - val_accuracy: 0.8675\n",
      "Epoch 29/30\n",
      "134/134 [==============================] - 154s 1s/step - loss: 0.0600 - accuracy: 0.9656 - val_loss: 0.5730 - val_accuracy: 0.8696\n",
      "Epoch 30/30\n",
      "134/134 [==============================] - 144s 1s/step - loss: 0.0625 - accuracy: 0.9661 - val_loss: 0.5563 - val_accuracy: 0.8591\n"
     ]
    }
   ],
   "source": [
    "history = model.fit(x_train, y_train, epochs=30, batch_size=64,validation_split=0.1)"
   ]
  },
  {
   "cell_type": "code",
   "execution_count": 22,
   "id": "4b958e6e",
   "metadata": {},
   "outputs": [],
   "source": [
    "import matplotlib.pyplot as plt"
   ]
  },
  {
   "cell_type": "code",
   "execution_count": 23,
   "id": "36672628",
   "metadata": {},
   "outputs": [
    {
     "data": {
      "image/png": "[encoded data removed]",
      "text/plain": [
       "<Figure size 432x288 with 1 Axes>"
      ]
     },
     "metadata": {
      "needs_background": "light"
     },
     "output_type": "display_data"
    },
    {
     "data": {
      "image/png": "[encoded data removed]",
      "text/plain": [
       "<Figure size 432x288 with 1 Axes>"
      ]
     },
     "metadata": {
      "needs_background": "light"
     },
     "output_type": "display_data"
    }
   ],
   "source": [
    "def plot_graphs(history, string):\n",
    "    plt.plot(history.history[string])\n",
    "    plt.plot(history.history['val_'+string])\n",
    "    plt.xlabel(\"epochs\")\n",
    "    plt.ylabel(string)\n",
    "    plt.legend([string, 'val_'+string])\n",
    "    plt.show()\n",
    "plot_graphs(history, \"accuracy\")\n",
    "plot_graphs(history, \"loss\")"
   ]
  },
  {
   "cell_type": "code",
   "execution_count": 46,
   "id": "f3e16656",
   "metadata": {},
   "outputs": [],
   "source": [
    "classes = ['Positive','Negative','Question','Suggestion','Wish']"
   ]
  },
  {
   "cell_type": "code",
   "execution_count": 47,
   "id": "e9838de4",
   "metadata": {},
   "outputs": [
    {
     "name": "stdout",
     "output_type": "stream",
     "text": [
      "34/34 [==============================] - 3s 80ms/step\n"
     ]
    }
   ],
   "source": [
    "# Make predictions with your BiLSTM model\n",
    "from sklearn.metrics import classification_report\n",
    "y_pred = model.predict(x_test)\n",
    "y_pred_classes = y_pred.argmax(axis=1)  # Assuming you have a multi-class classification problem\n",
    "\n",
    "# Convert true labels to classes (if they are in one-hot encoded format)\n",
    "y_true_classes = y_test.argmax(axis=1)\n",
    "\n"
   ]
  },
  {
   "cell_type": "code",
   "execution_count": 48,
   "id": "9914104a",
   "metadata": {},
   "outputs": [
    {
     "name": "stdout",
     "output_type": "stream",
     "text": [
      "              precision    recall  f1-score   support\n",
      "\n",
      "    Positive       0.88      0.89      0.89       338\n",
      "    Negative       0.88      0.85      0.87       426\n",
      "    Question       0.87      0.90      0.88        79\n",
      "  Suggestion       0.71      0.77      0.74       159\n",
      "        Wish       0.84      0.78      0.81        55\n",
      "\n",
      "    accuracy                           0.85      1057\n",
      "   macro avg       0.84      0.84      0.84      1057\n",
      "weighted avg       0.85      0.85      0.85      1057\n",
      "\n"
     ]
    }
   ],
   "source": [
    "# Generate the classification report\n",
    "report = classification_report(y_true_classes, y_pred_classes, target_names = classes)\n",
    "\n",
    "# Print the classification report\n",
    "print(report)"
   ]
  },
  {
   "cell_type": "code",
   "execution_count": 49,
   "id": "c37a3a3a",
   "metadata": {},
   "outputs": [],
   "source": [
    "from sklearn import metrics\n",
    "from sklearn.metrics import accuracy_score, confusion_matrix, precision_recall_fscore_support"
   ]
  },
  {
   "cell_type": "code",
   "execution_count": 50,
   "id": "13f5ed7f",
   "metadata": {},
   "outputs": [
    {
     "name": "stdout",
     "output_type": "stream",
     "text": [
      "34/34 [==============================] - 3s 74ms/step\n"
     ]
    }
   ],
   "source": [
    "predictions = model.predict(x_test)"
   ]
  },
  {
   "cell_type": "code",
   "execution_count": 51,
   "id": "5d4ae189",
   "metadata": {},
   "outputs": [
    {
     "name": "stdout",
     "output_type": "stream",
     "text": [
      "              precision    recall  f1-score   support\n",
      "\n",
      "    Positive       0.88      0.89      0.89       338\n",
      "    Negative       0.88      0.85      0.87       426\n",
      "    Question       0.87      0.90      0.88        79\n",
      "  Suggestion       0.71      0.77      0.74       159\n",
      "        Wish       0.84      0.78      0.81        55\n",
      "\n",
      "    accuracy                           0.85      1057\n",
      "   macro avg       0.84      0.84      0.84      1057\n",
      "weighted avg       0.85      0.85      0.85      1057\n",
      "\n"
     ]
    }
   ],
   "source": [
    "# Generate the classification report\n",
    "report = classification_report(y_true_classes, y_pred_classes, target_names = classes)\n",
    "\n",
    "# Print the classification report\n",
    "print(report)"
   ]
  },
  {
   "cell_type": "code",
   "execution_count": 52,
   "id": "43e0a5bc",
   "metadata": {},
   "outputs": [],
   "source": [
    "cm=metrics.confusion_matrix(y_test.argmax(axis=1), predictions.argmax(axis=1))"
   ]
  },
  {
   "cell_type": "code",
   "execution_count": 53,
   "id": "64ca9996",
   "metadata": {},
   "outputs": [],
   "source": [
    "FP = cm.sum(axis=0) - np.diag(cm)  \n",
    "FN = cm.sum(axis=1) - np.diag(cm)\n",
    "TP = np.diag(cm)\n",
    "TN = cm.sum() - (FP + FN + TP)"
   ]
  },
  {
   "cell_type": "code",
   "execution_count": 54,
   "id": "8964d7eb",
   "metadata": {},
   "outputs": [],
   "source": [
    "FP = FP.astype(float)\n",
    "FN = FN.astype(float)\n",
    "TP = TP.astype(float)\n",
    "TN = TN.astype(float)"
   ]
  },
  {
   "cell_type": "code",
   "execution_count": 55,
   "id": "c00c63c2",
   "metadata": {},
   "outputs": [
    {
     "name": "stdout",
     "output_type": "stream",
     "text": [
      "[39. 49. 11. 50.  8.]\n",
      "[38. 63.  8. 36. 12.]\n",
      "[300. 363.  71. 123.  43.]\n",
      "[680. 582. 967. 848. 994.]\n"
     ]
    }
   ],
   "source": [
    "print(FP)\n",
    "print(FN)\n",
    "print(TP)\n",
    "print(TN)"
   ]
  },
  {
   "cell_type": "code",
   "execution_count": 56,
   "id": "523178e3",
   "metadata": {},
   "outputs": [],
   "source": [
    "accuracy=(TP+TN)/(TP+TN+FP+FN)\n",
    "precision = TP/(TP+FP)\n",
    "recall = TP/(TP+FN)\n",
    "f1_score = 2*precision*recall/(precision+recall)"
   ]
  },
  {
   "cell_type": "code",
   "execution_count": 57,
   "id": "fa054392",
   "metadata": {},
   "outputs": [
    {
     "name": "stdout",
     "output_type": "stream",
     "text": [
      "recall   [0.88757396 0.85211268 0.89873418 0.77358491 0.78181818]\n",
      "precision [0.88495575 0.88106796 0.86585366 0.71098266 0.84313725]\n",
      "f1_score [0.88626292 0.86634845 0.88198758 0.74096386 0.81132075]\n"
     ]
    }
   ],
   "source": [
    "print(\"recall  \", recall)\n",
    "print(\"precision\",precision)\n",
    "print(\"f1_score\",f1_score)"
   ]
  },
  {
   "cell_type": "code",
   "execution_count": 58,
   "id": "cdf5297e",
   "metadata": {},
   "outputs": [],
   "source": [
    "def accuracy(confusion_matrix):\n",
    "    diagonal_sum = confusion_matrix.trace()\n",
    "    sum_of_all_elements = confusion_matrix.sum()\n",
    "    return diagonal_sum / sum_of_all_elements "
   ]
  },
  {
   "cell_type": "code",
   "execution_count": 59,
   "id": "02f4f993",
   "metadata": {},
   "outputs": [
    {
     "data": {
      "text/plain": [
       "0.8514664143803217"
      ]
     },
     "execution_count": 59,
     "metadata": {},
     "output_type": "execute_result"
    }
   ],
   "source": [
    "accuracy(cm)"
   ]
  },
  {
   "cell_type": "code",
   "execution_count": 60,
   "id": "9b70984f",
   "metadata": {},
   "outputs": [
    {
     "name": "stdout",
     "output_type": "stream",
     "text": [
      "1/1 [==============================] - 4s 4s/step\n",
      "[[8.9403708e-05 9.9966264e-01 4.5431210e-05 1.7684742e-04 2.5701140e-05]] Negative\n"
     ]
    }
   ],
   "source": [
    "new_intent = ['Kutaa digdami sadetaffa isiin egee dadhabee.']\n",
    "seq = tokenizer.texts_to_sequences(new_intent)\n",
    "padded = pad_sequences(seq, maxlen=6000)\n",
    "pred = model.predict(padded)\n",
    "classes = ['Positive','Negative','Question','Suggestion','Wish']\n",
    "#Intent = ['Question', 'Negative', 'Positive', 'Suggestion', 'Wish']\n",
    "print(pred, classes[np.argmax(pred)])"
   ]
  },
  {
   "cell_type": "code",
   "execution_count": null,
   "id": "306f049d",
   "metadata": {},
   "outputs": [],
   "source": []
  }
 ],
 "metadata": {
  "kernelspec": {
   "display_name": "Python 3 (ipykernel)",
   "language": "python",
   "name": "python3"
  },
  "language_info": {
   "codemirror_mode": {
    "name": "ipython",
    "version": 3
   },
   "file_extension": ".py",
   "mimetype": "text/x-python",
   "name": "python",
   "nbconvert_exporter": "python",
   "pygments_lexer": "ipython3",
   "version": "3.9.12"
  }
 },
 "nbformat": 4,
 "nbformat_minor": 5
}
