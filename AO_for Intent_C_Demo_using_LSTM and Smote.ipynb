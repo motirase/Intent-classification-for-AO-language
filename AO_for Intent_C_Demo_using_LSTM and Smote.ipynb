{
 "cells": [
  {
   "cell_type": "code",
   "execution_count": 1,
   "metadata": {},
   "outputs": [],
   "source": [
    "import numpy as np\n",
    "import pandas as pd\n",
    "from sklearn.model_selection import train_test_split\n",
    "import matplotlib.pyplot as plt\n",
    "from keras.models import Sequential,load_model\n",
    "from keras.layers import Dense,LSTM,Embedding,Dropout\n",
    "from keras.preprocessing.text import Tokenizer\n",
    "from tensorflow.keras.preprocessing.sequence import pad_sequences\n",
    "import seaborn as sns\n",
    "from sklearn import metrics\n",
    "from sklearn.metrics import accuracy_score, confusion_matrix, precision_recall_fscore_support\n",
    "import re\n",
    "from imblearn.over_sampling import RandomOverSampler\n",
    "from imblearn.over_sampling import SMOTE"
   ]
  },
  {
   "cell_type": "code",
   "execution_count": 2,
   "metadata": {},
   "outputs": [],
   "source": [
    "# Reading Intent Dataset"
   ]
  },
  {
   "cell_type": "code",
   "execution_count": 3,
   "metadata": {},
   "outputs": [
    {
     "name": "stdout",
     "output_type": "stream",
     "text": [
      "(10561, 2)\n"
     ]
    },
    {
     "data": {
      "text/html": [
       "<div>\n",
       "<style scoped>\n",
       "    .dataframe tbody tr th:only-of-type {\n",
       "        vertical-align: middle;\n",
       "    }\n",
       "\n",
       "    .dataframe tbody tr th {\n",
       "        vertical-align: top;\n",
       "    }\n",
       "\n",
       "    .dataframe thead th {\n",
       "        text-align: right;\n",
       "    }\n",
       "</style>\n",
       "<table border=\"1\" class=\"dataframe\">\n",
       "  <thead>\n",
       "    <tr style=\"text-align: right;\">\n",
       "      <th></th>\n",
       "      <th>Text</th>\n",
       "      <th>Intent</th>\n",
       "    </tr>\n",
       "  </thead>\n",
       "  <tbody>\n",
       "    <tr>\n",
       "      <th>0</th>\n",
       "      <td>Kiyyoo dirama oso  eguti jirun na darbe tari a...</td>\n",
       "      <td>Question</td>\n",
       "    </tr>\n",
       "    <tr>\n",
       "      <th>1</th>\n",
       "      <td>Meeti ree kuta 28ffaa</td>\n",
       "      <td>Question</td>\n",
       "    </tr>\n",
       "    <tr>\n",
       "      <th>2</th>\n",
       "      <td>Kutaa digdami sadetaffa isiin egee dadhabee.</td>\n",
       "      <td>Negative</td>\n",
       "    </tr>\n",
       "    <tr>\n",
       "      <th>3</th>\n",
       "      <td>Kutaa digdami sadetaffaa fiidagaa maali nuuraa...</td>\n",
       "      <td>Negative</td>\n",
       "    </tr>\n",
       "    <tr>\n",
       "      <th>4</th>\n",
       "      <td>Nuuf jabbadhakaa warii Akka kotti kiyyoo jaala...</td>\n",
       "      <td>Positive</td>\n",
       "    </tr>\n",
       "  </tbody>\n",
       "</table>\n",
       "</div>"
      ],
      "text/plain": [
       "                                                Text     Intent\n",
       "0  Kiyyoo dirama oso  eguti jirun na darbe tari a...  Question \n",
       "1                              Meeti ree kuta 28ffaa  Question \n",
       "2       Kutaa digdami sadetaffa isiin egee dadhabee.   Negative\n",
       "3  Kutaa digdami sadetaffaa fiidagaa maali nuuraa...   Negative\n",
       "4  Nuuf jabbadhakaa warii Akka kotti kiyyoo jaala...   Positive"
      ]
     },
     "execution_count": 3,
     "metadata": {},
     "output_type": "execute_result"
    }
   ],
   "source": [
    "data=pd.read_csv('intent12-corrected.csv',delimiter = ';',names=['Text','Intent'],encoding=\"utf-8\")\n",
    "data.sample(frac=1).reset_index(drop=True)\n",
    "print(data.shape)\n",
    "data.head()"
   ]
  },
  {
   "cell_type": "code",
   "execution_count": 4,
   "metadata": {},
   "outputs": [
    {
     "data": {
      "text/plain": [
       "<AxesSubplot:xlabel='Intent', ylabel='count'>"
      ]
     },
     "execution_count": 4,
     "metadata": {},
     "output_type": "execute_result"
    },
    {
     "data": {
      "image/png": "[encoded data removed]",
      "text/plain": [
       "<Figure size 432x288 with 1 Axes>"
      ]
     },
     "metadata": {
      "needs_background": "light"
     },
     "output_type": "display_data"
    }
   ],
   "source": [
    "sns.countplot(x='Intent', data=data)"
   ]
  },
  {
   "cell_type": "code",
   "execution_count": 5,
   "metadata": {},
   "outputs": [
    {
     "data": {
      "text/plain": [
       "Positive       4301\n",
       "Negative       3271\n",
       "Suggestion     1686\n",
       "Question        718\n",
       "Wish            454\n",
       "Name: Intent, dtype: int64"
      ]
     },
     "execution_count": 5,
     "metadata": {},
     "output_type": "execute_result"
    }
   ],
   "source": [
    "data[\"Intent\"].value_counts()\n",
    "#print(len('Gosa_miira'))\n",
    "#print(len('jechoota'))"
   ]
  },
  {
   "cell_type": "markdown",
   "metadata": {},
   "source": [
    "# Data Preprocessing"
   ]
  },
  {
   "cell_type": "code",
   "execution_count": 6,
   "metadata": {},
   "outputs": [],
   "source": [
    "def preprocess_text(sen):\n",
    "    # Removing html tags\n",
    "    sentence = remove_tags(sen)\n",
    "    # Remove punctuations and numbers\n",
    "    sentence = re.sub('[^a-zA-Z]', ' ', sentence)\n",
    "    # Single character removal\n",
    "    sentence = re.sub(r\"\\s+[a-zA-Z]\\s+\", ' ', sentence)\n",
    "    # Removing multiple spaces\n",
    "    sentence = re.sub(r'\\s+', ' ', sentence)\n",
    "    sentence = sen.lower()\n",
    "    sentence = re.sub(r'wo*w','wow', sentence)\n",
    "    sentence = re.sub(r'uu*f','uff', sentence)\n",
    "    return sentence\n",
    "TAG_RE = re.compile(r'<[^>]+>')\n",
    "def remove_tags(Text):\n",
    "    return TAG_RE.sub('', Text)"
   ]
  },
  {
   "cell_type": "code",
   "execution_count": 7,
   "metadata": {},
   "outputs": [],
   "source": [
    "def remove_stopwords(review_words):\n",
    "    with open('stopwords.txt')as stopfile:\n",
    "        stopwords=stopfile.read()\n",
    "        list=stopwords.split()\n",
    "        print(list)\n",
    "        with open(\"intent1.csv\") as workfile:\n",
    "            read_data=workfile.read()\n",
    "            data=read_data.split()\n",
    "            print(data)\n",
    "            for word1 in list:\n",
    "                for word2 in data:\n",
    "                    if word1==word2:\n",
    "                        return data.remove(list)\n",
    "                        print(remove_stopwords)"
   ]
  },
  {
   "cell_type": "code",
   "execution_count": 8,
   "metadata": {},
   "outputs": [
    {
     "data": {
      "text/plain": [
       "0        kiyyoo dirama oso  eguti jirun na darbe tari a...\n",
       "1                                    meeti ree kuta 28ffaa\n",
       "2             kutaa digdami sadetaffa isiin egee dadhabee.\n",
       "3        kutaa digdami sadetaffaa fiidagaa maali nuuraa...\n",
       "4        nuuf jabbadhakaa warii akka kotti kiyyoo jaala...\n",
       "                               ...                        \n",
       "10556    isheenis namoota dogoggoraa waliin lafa dogogg...\n",
       "10557    vidiyichis battalumatti qoodamuun marsariitiiw...\n",
       "10558    gochiwwan qaamaa warraabbicha irratti ture bah...\n",
       "10559              jechi gurbbichaa altokkicha dhagahame. \n",
       "10560                           viidiyoo waraabaa jirtaa? \n",
       "Name: Text, Length: 10561, dtype: object"
      ]
     },
     "execution_count": 8,
     "metadata": {},
     "output_type": "execute_result"
    }
   ],
   "source": [
    "data['Text'].apply(lambda x: x.lower())"
   ]
  },
  {
   "cell_type": "markdown",
   "metadata": {},
   "source": [
    "# Feature Extraction"
   ]
  },
  {
   "cell_type": "code",
   "execution_count": 9,
   "metadata": {},
   "outputs": [
    {
     "data": {
      "text/plain": [
       "array([[   0,    0,    0,    0,    0,    0,    0,    0,    0,    0,    0,\n",
       "           0,    0,    0,    0,    0,    0,    0,    0,  198, 3008, 3009,\n",
       "          37,  194,  146,  325],\n",
       "       [   0,    0,    0,    0,    0,    0,    0,    0,    0,    0,    0,\n",
       "           0,    0,    0,    0,    0,    0,    0,    0,    0,    0,    0,\n",
       "           0,    0,  432, 3297],\n",
       "       [   0,    0,    0,    0,    0,    0,    0,    0,    0,    0,    0,\n",
       "           0,    0,    0,    0,    0,    0,    0,    0,    0,    0,    0,\n",
       "         159, 3298,  319,  413],\n",
       "       [   0,    0,    0,    0,    0,    0,    0,    0,    0,    0,    0,\n",
       "           0,    0,    0,    0,    0,    0,    0,    0,    0,    0,  159,\n",
       "        3298,  154, 3094,   46],\n",
       "       [   0,    0,    0,    0,    0,    0,    0,    0,    0,    0,    0,\n",
       "           0,    0,    0,    0,    0,    0,    0,    0,    0,   75, 3299,\n",
       "           4, 3095,  198, 3300]])"
      ]
     },
     "execution_count": 9,
     "metadata": {},
     "output_type": "execute_result"
    }
   ],
   "source": [
    "tokenizer=Tokenizer(num_words=4000,split=\" \")\n",
    "tokenizer.fit_on_texts(data['Text'].values)\n",
    "x=tokenizer.texts_to_sequences(data['Text'].values)\n",
    "x=pad_sequences(x)\n",
    "x[:5]"
   ]
  },
  {
   "cell_type": "code",
   "execution_count": 10,
   "metadata": {},
   "outputs": [],
   "source": [
    "model = Sequential()\n",
    "model.add(Embedding(4000, 128, input_length=x.shape[1]))\n",
    "model.add(Dropout(0.2))\n",
    "model.add(LSTM(100, return_sequences=True, dropout=0.5, recurrent_dropout=0.2))\n",
    "model.add(LSTM(100, dropout=0.3, recurrent_dropout=0.2))\n",
    "#model.add(LSTM(128, dropout=0.2, recurrent_dropout=0.3))\n",
    "model.add(Dense(5, activation = 'softmax'))"
   ]
  },
  {
   "cell_type": "code",
   "execution_count": 11,
   "metadata": {},
   "outputs": [],
   "source": [
    "model.compile(loss='categorical_crossentropy', optimizer='adam',metrics=['accuracy'])"
   ]
  },
  {
   "cell_type": "code",
   "execution_count": 12,
   "metadata": {},
   "outputs": [
    {
     "name": "stdout",
     "output_type": "stream",
     "text": [
      "Model: \"sequential\"\n",
      "_________________________________________________________________\n",
      " Layer (type)                Output Shape              Param #   \n",
      "=================================================================\n",
      " embedding (Embedding)       (None, 26, 128)           512000    \n",
      "                                                                 \n",
      " dropout (Dropout)           (None, 26, 128)           0         \n",
      "                                                                 \n",
      " lstm (LSTM)                 (None, 26, 100)           91600     \n",
      "                                                                 \n",
      " lstm_1 (LSTM)               (None, 100)               80400     \n",
      "                                                                 \n",
      " dense (Dense)               (None, 5)                 505       \n",
      "                                                                 \n",
      "=================================================================\n",
      "Total params: 684,505\n",
      "Trainable params: 684,505\n",
      "Non-trainable params: 0\n",
      "_________________________________________________________________\n"
     ]
    }
   ],
   "source": [
    "model.summary()"
   ]
  },
  {
   "cell_type": "code",
   "execution_count": 13,
   "metadata": {},
   "outputs": [
    {
     "name": "stdout",
     "output_type": "stream",
     "text": [
      "Question  [0 0 1 0 0]\n",
      "Question  [0 0 1 0 0]\n",
      "Negative [1 0 0 0 0]\n",
      "Negative [1 0 0 0 0]\n",
      "Positive [0 1 0 0 0]\n"
     ]
    },
    {
     "data": {
      "text/plain": [
       "[None, None, None, None, None]"
      ]
     },
     "execution_count": 13,
     "metadata": {},
     "output_type": "execute_result"
    }
   ],
   "source": [
    "y=pd.get_dummies(data['Intent']).values\n",
    "[print(data['Intent'][i],y[i]) for i in range(0,5)]"
   ]
  },
  {
   "cell_type": "markdown",
   "metadata": {},
   "source": [
    "# Splitting Traing and Testing Dataset"
   ]
  },
  {
   "cell_type": "code",
   "execution_count": 14,
   "metadata": {},
   "outputs": [],
   "source": [
    "x_train, x_test, y_train, y_test = train_test_split(x, y, test_size = 0.2, random_state=10)"
   ]
  },
  {
   "cell_type": "markdown",
   "metadata": {},
   "source": [
    "# Training the Model"
   ]
  },
  {
   "cell_type": "code",
   "execution_count": 15,
   "metadata": {},
   "outputs": [],
   "source": [
    "ros = SMOTE(random_state=100)\n",
    "X_train_ros, y_train_ros = ros.fit_resample(x, y)"
   ]
  },
  {
   "cell_type": "code",
   "execution_count": 16,
   "metadata": {},
   "outputs": [
    {
     "name": "stdout",
     "output_type": "stream",
     "text": [
      "Epoch 1/30\n",
      "135/135 - 28s - loss: 1.3506 - accuracy: 0.3917 - val_loss: 3.2236 - val_accuracy: 0.0600 - 28s/epoch - 209ms/step\n",
      "Epoch 2/30\n",
      "135/135 - 27s - loss: 0.8399 - accuracy: 0.6868 - val_loss: 3.0982 - val_accuracy: 0.0821 - 27s/epoch - 197ms/step\n",
      "Epoch 3/30\n",
      "135/135 - 26s - loss: 0.6591 - accuracy: 0.7574 - val_loss: 2.6142 - val_accuracy: 0.2034 - 26s/epoch - 193ms/step\n",
      "Epoch 4/30\n",
      "135/135 - 27s - loss: 0.5542 - accuracy: 0.7990 - val_loss: 3.2662 - val_accuracy: 0.2769 - 27s/epoch - 198ms/step\n",
      "Epoch 5/30\n",
      "135/135 - 27s - loss: 0.4880 - accuracy: 0.8179 - val_loss: 3.8845 - val_accuracy: 0.2646 - 27s/epoch - 203ms/step\n",
      "Epoch 6/30\n",
      "135/135 - 27s - loss: 0.4405 - accuracy: 0.8385 - val_loss: 4.0699 - val_accuracy: 0.2990 - 27s/epoch - 197ms/step\n",
      "Epoch 7/30\n",
      "135/135 - 27s - loss: 0.4051 - accuracy: 0.8510 - val_loss: 4.0001 - val_accuracy: 0.2976 - 27s/epoch - 201ms/step\n",
      "Epoch 8/30\n",
      "135/135 - 26s - loss: 0.3753 - accuracy: 0.8629 - val_loss: 4.3450 - val_accuracy: 0.3090 - 26s/epoch - 194ms/step\n",
      "Epoch 9/30\n",
      "135/135 - 27s - loss: 0.3499 - accuracy: 0.8666 - val_loss: 4.5794 - val_accuracy: 0.3171 - 27s/epoch - 202ms/step\n",
      "Epoch 10/30\n",
      "135/135 - 28s - loss: 0.3365 - accuracy: 0.8757 - val_loss: 4.7634 - val_accuracy: 0.3195 - 28s/epoch - 209ms/step\n",
      "Epoch 11/30\n",
      "135/135 - 28s - loss: 0.3190 - accuracy: 0.8802 - val_loss: 4.6553 - val_accuracy: 0.3171 - 28s/epoch - 205ms/step\n",
      "Epoch 12/30\n",
      "135/135 - 28s - loss: 0.3095 - accuracy: 0.8813 - val_loss: 5.1266 - val_accuracy: 0.3295 - 28s/epoch - 205ms/step\n",
      "Epoch 13/30\n",
      "135/135 - 30s - loss: 0.2869 - accuracy: 0.8904 - val_loss: 5.0875 - val_accuracy: 0.3306 - 30s/epoch - 222ms/step\n",
      "Epoch 14/30\n",
      "135/135 - 26s - loss: 0.2803 - accuracy: 0.8938 - val_loss: 6.2100 - val_accuracy: 0.2883 - 26s/epoch - 194ms/step\n",
      "Epoch 15/30\n",
      "135/135 - 26s - loss: 0.2676 - accuracy: 0.8989 - val_loss: 5.6748 - val_accuracy: 0.3329 - 26s/epoch - 192ms/step\n",
      "Epoch 16/30\n",
      "135/135 - 25s - loss: 0.2601 - accuracy: 0.8991 - val_loss: 5.9172 - val_accuracy: 0.3292 - 25s/epoch - 189ms/step\n",
      "Epoch 17/30\n",
      "135/135 - 26s - loss: 0.2512 - accuracy: 0.9022 - val_loss: 5.9732 - val_accuracy: 0.3383 - 26s/epoch - 190ms/step\n",
      "Epoch 18/30\n",
      "135/135 - 25s - loss: 0.2467 - accuracy: 0.9032 - val_loss: 5.9641 - val_accuracy: 0.3090 - 25s/epoch - 189ms/step\n",
      "Epoch 19/30\n",
      "135/135 - 25s - loss: 0.2372 - accuracy: 0.9043 - val_loss: 6.3876 - val_accuracy: 0.3213 - 25s/epoch - 188ms/step\n",
      "Epoch 20/30\n",
      "135/135 - 26s - loss: 0.2284 - accuracy: 0.9090 - val_loss: 6.5618 - val_accuracy: 0.3157 - 26s/epoch - 191ms/step\n",
      "Epoch 21/30\n",
      "135/135 - 25s - loss: 0.2169 - accuracy: 0.9132 - val_loss: 6.4998 - val_accuracy: 0.3336 - 25s/epoch - 187ms/step\n",
      "Epoch 22/30\n",
      "135/135 - 25s - loss: 0.2222 - accuracy: 0.9104 - val_loss: 6.3725 - val_accuracy: 0.3299 - 25s/epoch - 189ms/step\n",
      "Epoch 23/30\n",
      "135/135 - 26s - loss: 0.2122 - accuracy: 0.9147 - val_loss: 7.0120 - val_accuracy: 0.2950 - 26s/epoch - 190ms/step\n",
      "Epoch 24/30\n",
      "135/135 - 27s - loss: 0.2088 - accuracy: 0.9126 - val_loss: 6.5401 - val_accuracy: 0.3371 - 27s/epoch - 199ms/step\n",
      "Epoch 25/30\n",
      "135/135 - 26s - loss: 0.2025 - accuracy: 0.9160 - val_loss: 6.5493 - val_accuracy: 0.3339 - 26s/epoch - 190ms/step\n",
      "Epoch 26/30\n",
      "135/135 - 26s - loss: 0.1911 - accuracy: 0.9230 - val_loss: 6.8149 - val_accuracy: 0.3297 - 26s/epoch - 192ms/step\n",
      "Epoch 27/30\n",
      "135/135 - 25s - loss: 0.1885 - accuracy: 0.9240 - val_loss: 7.2754 - val_accuracy: 0.3220 - 25s/epoch - 187ms/step\n",
      "Epoch 28/30\n",
      "135/135 - 26s - loss: 0.1871 - accuracy: 0.9222 - val_loss: 6.6511 - val_accuracy: 0.3374 - 26s/epoch - 192ms/step\n",
      "Epoch 29/30\n",
      "135/135 - 26s - loss: 0.1805 - accuracy: 0.9239 - val_loss: 6.9697 - val_accuracy: 0.3297 - 26s/epoch - 192ms/step\n",
      "Epoch 30/30\n",
      "135/135 - 25s - loss: 0.1816 - accuracy: 0.9244 - val_loss: 7.1511 - val_accuracy: 0.3223 - 25s/epoch - 188ms/step\n"
     ]
    }
   ],
   "source": [
    "batch_size = 128\n",
    "epochs = 30\n",
    "history = model.fit(X_train_ros, y_train_ros, epochs=epochs, batch_size=batch_size,validation_split=0.2, verbose=2)"
   ]
  },
  {
   "cell_type": "code",
   "execution_count": 17,
   "metadata": {},
   "outputs": [
    {
     "data": {
      "image/png": "[encoded data removed]",
      "text/plain": [
       "<Figure size 432x288 with 1 Axes>"
      ]
     },
     "metadata": {
      "needs_background": "light"
     },
     "output_type": "display_data"
    },
    {
     "data": {
      "image/png": "[encoded data removed]",
      "text/plain": [
       "<Figure size 432x288 with 1 Axes>"
      ]
     },
     "metadata": {
      "needs_background": "light"
     },
     "output_type": "display_data"
    }
   ],
   "source": [
    "def plot_graphs(history, string):\n",
    "  plt.plot(history.history[string])\n",
    "  plt.plot(history.history['val_'+string])\n",
    "  plt.xlabel(\"epochs\")\n",
    "  plt.ylabel(string)\n",
    "  plt.legend([string, 'val_'+string])\n",
    "  plt.show()\n",
    "  \n",
    "plot_graphs(history, \"accuracy\")\n",
    "plot_graphs(history, \"loss\")"
   ]
  },
  {
   "cell_type": "markdown",
   "metadata": {},
   "source": [
    "# Testing The model"
   ]
  },
  {
   "cell_type": "code",
   "execution_count": 18,
   "metadata": {},
   "outputs": [
    {
     "name": "stdout",
     "output_type": "stream",
     "text": [
      "67/67 [==============================] - 1s 9ms/step\n"
     ]
    }
   ],
   "source": [
    "predictions = model.predict(x_test)"
   ]
  },
  {
   "cell_type": "code",
   "execution_count": 19,
   "metadata": {},
   "outputs": [
    {
     "name": "stdout",
     "output_type": "stream",
     "text": [
      "67/67 - 1s - loss: 0.1314 - accuracy: 0.9375 - 1s/epoch - 18ms/step\n",
      "[0.1314096599817276, 0.9375295639038086]\n"
     ]
    }
   ],
   "source": [
    "scores = model.evaluate(x_test, y_test,verbose=2)\n",
    "\n",
    "print(scores)"
   ]
  },
  {
   "cell_type": "code",
   "execution_count": 20,
   "metadata": {},
   "outputs": [
    {
     "data": {
      "image/png": "[encoded data removed]",
      "text/plain": [
       "<Figure size 432x288 with 1 Axes>"
      ]
     },
     "metadata": {
      "needs_background": "light"
     },
     "output_type": "display_data"
    },
    {
     "data": {
      "image/png": "[encoded data removed]",
      "text/plain": [
       "<Figure size 432x288 with 1 Axes>"
      ]
     },
     "metadata": {
      "needs_background": "light"
     },
     "output_type": "display_data"
    }
   ],
   "source": [
    "def plot_graphs(history, string):\n",
    "  plt.plot(history.history[string])\n",
    "  plt.plot(history.history['val_'+string])\n",
    "  plt.xlabel(\"epochs\")\n",
    "  plt.ylabel(string)\n",
    "  plt.legend([string, 'val_'+string])\n",
    "  plt.show()\n",
    "  \n",
    "plot_graphs(history, \"accuracy\")\n",
    "plot_graphs(history, \"loss\")"
   ]
  },
  {
   "cell_type": "code",
   "execution_count": 21,
   "metadata": {},
   "outputs": [],
   "source": [
    "model.save(\"Intent_Classification_using_LSTM.h5\")"
   ]
  },
  {
   "cell_type": "code",
   "execution_count": 22,
   "metadata": {},
   "outputs": [
    {
     "name": "stdout",
     "output_type": "stream",
     "text": [
      "1/1 [==============================] - 1s 1s/step\n",
      "[[8.1023183e-03 4.2709389e-06 9.9105388e-01 8.3935406e-04 1.7643238e-07]] Suggestion\n"
     ]
    }
   ],
   "source": [
    "new_intent = ['Maliif nurraa turtan garuu?']\n",
    "seq = tokenizer.texts_to_sequences(new_intent)\n",
    "padded = pad_sequences(seq, maxlen=6000)\n",
    "pred = model.predict(padded)\n",
    "Intent = ['Positive', 'Negative', 'Suggestion', 'Question', 'Wish']\n",
    "print(pred, Intent[np.argmax(pred)])"
   ]
  },
  {
   "cell_type": "code",
   "execution_count": 23,
   "metadata": {},
   "outputs": [
    {
     "name": "stdout",
     "output_type": "stream",
     "text": [
      "Kiyyoo dirama oso  eguti jirun na darbe tari ayaana moo sababa godhatu moyuu [7.1028699e-05 9.9935061e-01 3.2442644e-05 5.4524088e-04 5.3716559e-07] [0 1 0 0 0]\n",
      "Meeti ree kuta 28ffaa [9.9812025e-01 4.1222316e-05 1.8323354e-03 6.0471157e-06 1.1469401e-07] [1 0 0 0 0]\n",
      "Kutaa digdami sadetaffa isiin egee dadhabee. [1.0568609e-02 4.7284004e-04 1.7753853e-05 6.0676700e-03 9.8287314e-01] [0 0 0 0 1]\n",
      "Kutaa digdami sadetaffaa fiidagaa maali nuuraa tuursiftaani bar ani 1faa haanga 27faa haarfoofan tuuree [3.2955353e-04 9.9790120e-01 7.9127360e-04 6.4224715e-04 3.3575515e-04] [0 1 0 0 0]\n",
      "Nuuf jabbadhakaa warii Akka kotti kiyyoo jaalatan  [9.99460518e-01 3.96978983e-04 1.10353154e-04 3.12595403e-05\n",
      " 8.98853557e-07] [1 0 0 0 0]\n",
      "Bayyee namatti tola itti fufa gariidha  [3.3374510e-03 1.9495687e-05 9.9145234e-01 5.1902505e-03 4.8977904e-07] [0 0 1 0 0]\n",
      "Diraamichi torbetti yeroo lamaa nuuf dhiyaachuu qaba [9.5326695e-06 9.9997187e-01 1.8341759e-06 1.2345759e-05 4.4259345e-06] [0 1 0 0 0]\n",
      "Ani dhugaa dubbachuuf baayyeen diraamaa kana jaalladhee ilaalaa jira [9.9910539e-01 6.3401465e-05 1.6575363e-04 6.6517515e-04 2.5591791e-07] [1 0 0 0 0]\n",
      "Maliif nurraa turtan garuu? [2.0566490e-04 9.9972647e-01 2.4078980e-05 3.9753097e-05 3.9918714e-06] [0 1 0 0 0]\n",
      "Waan ajaaibatti [4.6551446e-05 9.9990869e-01 1.0838736e-05 2.9425082e-05 4.5604784e-06] [0 1 0 0 0]\n",
      "Namati toltuu [9.9946553e-01 9.0160625e-05 2.9624312e-06 4.3298549e-04 8.3149298e-06] [0 0 0 0 0]\n",
      "Torbeetti al tokko waan taheef osoo sa'ati isaa dheeratee xiqqooshe nutti tola   [3.3054836e-05 2.8369721e-05 1.1096713e-06 9.9993706e-01 3.5907553e-07] [0 0 0 1 0]\n",
      "Rabbi isinirraa haa jaalatu   [0.39082286 0.5088386  0.01609441 0.08067838 0.00356579] [1 0 0 0 0]\n",
      "Namni akka koo dirama kiyoo jaalatan essa jirtu [1.4198318e-02 9.8201317e-01 3.6726499e-04 4.2484626e-05 3.3786753e-03] [0 1 0 0 0]\n",
      "Nurraa turtan  [1.3229971e-05 1.3068963e-04 8.3385812e-06 9.9984622e-01 1.5809418e-06] [0 0 0 1 0]\n",
      "Baayee isiin jaaladha [9.9996912e-01 1.1089415e-05 3.2958515e-06 1.6423639e-05 2.5244153e-08] [1 0 0 0 0]\n",
      "Baayee namatti tolaa waan ta'ef nuuf jabaadhaa  [2.0787554e-02 3.4381221e-06 9.7392571e-01 5.2809585e-03 2.3324947e-06] [0 0 1 0 0]\n",
      "Baayyee gariidha itti nuf fufa [2.6805217e-06 9.9997246e-01 1.9670999e-06 2.2773138e-05 8.1296434e-08] [0 1 0 0 0]\n",
      "Sinan dhabuun dhukuba guddaa dha [9.9998760e-01 1.0297454e-05 6.4971766e-07 1.5568149e-06 3.6282133e-09] [1 0 0 0 0]\n",
      "Jiradhaa [9.9974626e-01 2.3546086e-04 1.0110182e-05 7.9772381e-06 7.3937201e-08] [1 0 0 0 0]\n",
      "Diraamaa akana namaa galu haaruman argee [9.9998844e-01 8.9132836e-06 1.0923267e-06 1.6076923e-06 6.6664412e-09] [1 0 0 0 0]\n",
      "Baayee natti toleeraa kiyyoon [1.2512439e-05 9.9994898e-01 2.0610625e-05 1.5907697e-05 2.0468174e-06] [0 1 0 0 0]\n",
      "Adaan hin murinaa [2.1016262e-05 6.2302686e-05 1.6406933e-06 9.9991417e-01 8.6350349e-07] [0 0 0 1 0]\n",
      "Isini yaddee maaf turtanii  [3.0415281e-04 9.9387169e-01 7.4362856e-06 5.8094389e-03 7.2066982e-06] [0 1 0 0 0]\n",
      "Baayee sin jaladhaa  [9.9994588e-01 3.2118031e-05 1.9714638e-05 2.3220782e-06 3.7008068e-08] [1 0 0 0 0]\n",
      "Baga Nagaan nuuf dhuftan ebbiffama  [9.8952216e-01 2.3485655e-04 9.5152380e-03 7.2705955e-04 5.6500596e-07] [1 0 0 0 0]\n",
      "Anaa dhufuu jeneraa diramaa kiyyoo  [4.2934673e-05 9.9961299e-01 1.0130062e-04 1.6168460e-04 8.1203885e-05] [0 1 0 0 0]\n",
      "Bayye nama tolaa itti fufaa [2.5017001e-05 9.9994564e-01 1.2925295e-06 2.7751734e-05 1.9859083e-07] [0 1 0 0 0]\n",
      "Matii Kiyyoo bagaa nuf debitaan  [0.92864054 0.01372157 0.02398943 0.03198046 0.00166795] [1 0 0 0 0]\n",
      "Jabaadhaa yeroo hunda isin daawwataa jirra [3.9686059e-04 5.1928087e-06 9.9619436e-01 3.4031717e-03 3.5410207e-07] [0 0 1 0 0]\n",
      "Dhugaa fira'oliin garaa na nyaatee  [6.0962833e-04 3.9576939e-06 9.9885321e-01 5.3291779e-04 2.5460830e-07] [0 0 1 0 0]\n",
      "Kunis diramadhamoo maaf gabaabsitanii [0.46738636 0.477681   0.02251939 0.03026448 0.00214868] [0 1 0 0 0]\n",
      "Taatowan diraamaa kanaa nama ogummaa cimaa qabudha [5.17510518e-04 3.06053367e-03 1.06109226e-04 9.96249974e-01\n",
      " 6.59537473e-05] [0 0 0 1 0]\n",
      "Utumaan eguu argadhee   [9.9995840e-01 2.3588946e-05 2.0431758e-06 1.5932445e-05 4.6354860e-08] [1 0 0 0 0]\n",
      "Kutaan Wal jala fuudhamee jira sirreeffadhaa [9.9999166e-01 4.5335928e-06 1.0086384e-06 2.8231150e-06 5.0072173e-09] [1 0 0 0 0]\n",
      "Maatiin diraamaa kiyyoo hedduu namatti toltu [0.7494725  0.0390939  0.18383352 0.02161788 0.0059822 ] [1 0 0 0 0]\n",
      "Seenaa Artii Oromoo Kesssaatti kan akka diraamaa Kiyyoo bayee namaatti tolu bifa kaaminu baareeda taee hin argine [9.9988937e-01 7.8072379e-05 1.2044363e-05 2.0496633e-05 2.2233790e-08] [1 0 0 0 0]\n",
      "Kana caalaa Jabaadha  [9.2012495e-05 5.0126907e-04 2.0811241e-05 1.4797975e-04 9.9923790e-01] [0 0 0 0 1]\n",
      " Maaloo itti nuu fufa akka hin xumuramne [2.9676197e-05 9.9991500e-01 8.3680261e-06 4.5781580e-05 1.1953999e-06] [0 1 0 0 0]\n",
      " Nu jalaa baddan maal rakkoo maaliitu isin mudateee [2.9339251e-06 9.9997580e-01 4.2075598e-07 2.0790472e-05 1.6531564e-07] [0 1 0 0 0]\n",
      "Anaa dhufuu maalif nu jalaa turtani [2.0356639e-04 1.7147649e-04 3.0031472e-06 9.9962151e-01 4.1707511e-07] [0 0 0 1 0]\n",
      " Ana dhufuu diraamaa kiyyoo baayeen sin egaa turee  [9.9992418e-01 4.6542806e-05 2.0381054e-05 8.9056330e-06 5.1925188e-08] [1 0 0 0 0]\n",
      " Dafaa itti fufaa [5.7292418e-05 4.2548021e-05 1.7682767e-06 9.9989629e-01 2.1256487e-06] [0 0 0 1 0]\n",
      " Kiyyoo torbee kanaa maliif aftaan? [2.1073149e-05 9.9996889e-01 2.9335786e-07 9.6158119e-06 1.6828430e-07] [0 1 0 0 0]\n",
      "wagaa kuma tokko nuuf jiradhaa [9.9953043e-01 2.1699443e-04 8.8603912e-05 1.6385036e-04 1.4262777e-07] [1 0 0 0 0]\n",
      "Monet Wani Rakko tokko illee kan qabdu natti hin Fakkaatu turee Garuu hardhaa irratti  bare  [2.8086712e-05 9.9993050e-01 1.3404290e-06 3.9756771e-05 1.8650476e-07] [0 1 0 0 0]\n",
      "Torbee tokko irraa torbee lama ma nurraa gootan jalallaa keessan torbee lama miti guyyan lama nuti gudatee [3.0193515e-03 1.0494683e-05 9.8964149e-01 7.3268469e-03 1.8825799e-06] [0 0 1 0 0]\n",
      "Ani Obsaa dhabban jiraam ummata koo [9.99943376e-01 4.77426984e-05 6.53546476e-06 2.35133166e-06\n",
      " 1.21982096e-08] [1 0 0 0 0]\n",
      "Maaliif beeksisaa baayiftuu [3.0654462e-02 9.6915227e-01 1.4136669e-04 3.7264079e-05 1.4604098e-05] [0 1 0 0 0]\n",
      "Jabaadhaa bayyee namati tolaa [2.5742584e-06 1.1251413e-04 2.2340091e-06 9.9988198e-01 6.7450907e-07] [0 0 0 1 0]\n",
      "Baga nagaan fuftan hundi kesanu [9.99982238e-01 1.37714933e-05 7.95985670e-07 3.11148347e-06\n",
      " 1.04516955e-08] [1 0 0 0 0]\n",
      "Haawwidhaan isiin egnaa nagaan kotaa [1.5013233e-04 2.0184237e-04 2.4334836e-04 9.9940383e-01 8.1116303e-07] [0 0 0 1 0]\n",
      "Osoon isin eeguu  ijji koo cuummaa na yaase [1.4480923e-05 3.1373270e-06 2.1699210e-05 9.9996066e-01 2.9238219e-08] [0 0 0 1 0]\n",
      "Baga nagaan dhuftan drama kiyyoo [1.0348623e-05 4.6949589e-01 1.6166372e-04 5.3016669e-01 1.6540814e-04] [0 0 0 1 0]\n",
      "Baayeen jaaladhaa diramaa kana itti fufaa [1.28246065e-05 9.99978065e-01 2.43418958e-06 5.82696794e-06\n",
      " 8.91349998e-07] [0 1 0 0 0]\n",
      "Jabadhaa itii nuu fufaa Bayee isin jalanaa [5.0401904e-05 9.9988222e-01 3.5427183e-05 3.0346870e-05 1.5334675e-06] [0 1 0 0 0]\n",
      "Maaloo nuuf dheresaa osso qufin dhumaa [1.4497233e-04 6.4998399e-03 8.4442014e-05 9.9287355e-01 3.9725204e-04] [0 0 0 1 0]\n",
      "Nagaan kotuu lubuko [9.9759066e-01 3.4651943e-04 1.3459884e-05 2.0489288e-03 4.4626111e-07] [1 0 0 0 0]\n",
      "Torbaniti si'a lamaa nuuf godhaa [3.7131224e-05 6.9797426e-01 1.3393873e-03 3.0011427e-01 5.3488830e-04] [0 1 0 0 0]\n",
      "Baga Nagaan Dhuftan Garuu Torbee Darbe Maaf Baddani [9.9995625e-01 2.0642710e-06 1.8506769e-05 2.3257939e-05 5.7172049e-09] [1 0 0 0 0]\n",
      "nurraa hin turiinaa umata koo [1.4445905e-03 9.6410108e-01 3.3221330e-02 8.9808065e-04 3.3488439e-04] [0 1 0 0 0]\n",
      "Diraamaa afaan Oromo kessaa kiyyoo fi hiree heddu jaaladhera  [0.00675892 0.0285924  0.00368579 0.9565681  0.00439465] [0 0 0 1 0]\n",
      "Yaa umatakoo mee wali haa jajabeesinuu mati kiyyaa naafi ta'a [2.4299767e-05 9.9994087e-01 2.9952827e-07 3.4157456e-05 3.5892009e-07] [0 1 0 0 0]\n",
      "Baga nagaan dhuftan [1.1713751e-05 9.9995100e-01 6.2568733e-06 2.8839564e-05 2.1695221e-06] [0 1 0 0 0]\n",
      "Bagaa nagadhaan dhuftan maati koo [1.0986472e-04 9.6026069e-01 2.0009149e-05 3.4488872e-02 5.1204837e-03] [0 1 0 0 0]\n",
      "Bagaa nagaan dhuftaan  [1.6444084e-05 8.4699583e-05 9.6505869e-07 9.9989522e-01 2.6216060e-06] [0 0 0 1 0]\n",
      " Jaalatamtotaa koo torben lama waggaa lama nati ta'ee  [9.9988961e-01 9.6471977e-06 1.3230558e-05 8.7445937e-05 5.2874121e-08] [1 0 0 0 0]\n",
      "Jabaadha oromoo koo [2.32181672e-04 6.51156083e-02 2.25009443e-03 9.32290077e-01\n",
      " 1.12046495e-04] [0 0 0 1 0]\n",
      "Baga nagaan dhuftanii garuu diraamaa keessan bicuu nuuf dheresaa malee [9.9999297e-01 2.9311675e-06 2.6343262e-06 1.5338670e-06 2.6411693e-09] [1 0 0 0 0]\n",
      " Anaa dhufuu  kiyyoo bayee isin yadee  [2.3071049e-04 9.9975854e-01 9.0947606e-06 1.0034436e-06 7.6283737e-07] [0 1 0 0 0]\n",
      "Hojiin meelaalaa natti tolaa hin jiru  [2.0566490e-04 9.9972647e-01 2.4078980e-05 3.9753097e-05 3.9918714e-06] [0 1 0 0 0]\n",
      "Baga nagaan dhuftanii  ijolle kenyaa [2.1339052e-05 9.9996638e-01 1.9341639e-06 1.0109631e-05 1.8648336e-07] [0 1 0 0 0]\n",
      "Baga nagaan dhuftan bayyen isiin yadee [2.5915091e-05 9.9964631e-01 2.5043057e-04 6.2063882e-05 1.5264539e-05] [0 1 0 0 0]\n",
      "Kutaa 27 malif lakofsa irranfatani [9.9998856e-01 8.6235586e-06 1.0263282e-06 1.7483753e-06 3.7914107e-09] [1 0 0 0 0]\n",
      "Baga nagaan dhuftani akka itti isin yadee anatu bekaa [1.0935544e-05 1.8291573e-04 1.5696551e-05 9.9978858e-01 1.8572021e-06] [0 0 0 1 0]\n",
      "Baga nagaa dhufnii [1.2155914e-04 9.9984968e-01 2.4468323e-05 3.1479503e-06 1.1994088e-06] [0 1 0 0 0]\n",
      "Diraamaa midhagaa dha nuuf jabaadhaa [9.9993348e-01 3.6317804e-05 2.7882472e-05 2.2560616e-06 2.7437901e-08] [1 0 0 0 0]\n",
      "Diraama kana  irraa wan bayyee irraa baradhe jabaadha  ittii fufaa [1.6196747e-05 9.9997473e-01 2.1146923e-06 6.6999878e-06 2.2233601e-07] [0 1 0 0 0]\n",
      "Diraamaa kiyooo anaa dhufuuu [9.99914765e-01 5.92621946e-05 1.19651695e-05 1.37715488e-05\n",
      " 2.81919711e-07] [1 0 0 0 0]\n",
      "Jabaadhaa [1.1428703e-05 9.9949896e-01 1.0562824e-04 3.5778448e-04 2.6240245e-05] [0 1 0 0 0]\n",
      "Torbee nuraa hin dabarsiinaa [2.43305876e-05 9.99858022e-01 6.61472939e-07 1.16601295e-04\n",
      " 3.80792045e-07] [0 1 0 0 0]\n",
      "Maalif nuraa turtaan [1.1219209e-05 9.1236805e-05 2.9351737e-05 9.9986768e-01 5.6134627e-07] [0 0 0 1 0]\n",
      "Ana dhufuu jaalatamtoota keenyaa  [1.3633094e-04 4.5239354e-05 1.2597751e-05 9.9980515e-01 5.9612159e-07] [0 0 0 1 0]\n",
      "Kijibanii akka robsan kanaa hin jiruu [1.48236165e-02 8.87741189e-05 9.79671061e-01 5.40585024e-03\n",
      " 1.06741127e-05] [0 0 1 0 0]\n",
      "Jabaadhaa [0.5620192  0.04986854 0.11358929 0.21626814 0.05825485] [1 0 0 0 0]\n",
      "Baga nagaan dhuftan [0.05641802 0.0038349  0.03597347 0.01243753 0.8913361 ] [0 0 0 0 1]\n",
      "Torbee osso hin dhufin haafe garuu maal taatan [9.9998319e-01 6.1585756e-06 1.7373959e-06 8.8824845e-06 4.7686122e-09] [1 0 0 0 0]\n",
      "Baayyee isiin yaadne [8.2926417e-06 9.9998283e-01 6.4700879e-07 8.0641776e-06 1.0586673e-07] [0 1 0 0 0]\n",
      " isiin hordofuun keenyaa guddina aartii fi artistoota keenyaaf jajabinaa jedheen yaada  [4.6439916e-03 4.2631735e-05 9.8823315e-01 7.0640990e-03 1.6287342e-05] [0 0 1 0 0]\n",
      "Baga naga dhuftaan [0.00477294 0.10891496 0.03955455 0.84406435 0.00269322] [0 0 0 1 0]\n",
      "Sinaan mucatii lafaa raa ishee kasee akkam baredi [2.9312772e-05 9.9994886e-01 1.3101846e-05 7.4833970e-06 1.1983579e-06] [0 1 0 0 0]\n",
      "Nuuf Jiraadhaa  [1.2485707e-03 9.8652786e-01 1.4602625e-03 1.0680249e-02 8.3066356e-05] [0 1 0 0 0]\n",
      "Ni turtanii maal rakoon jira moo [6.1410537e-05 4.2785192e-07 9.9981612e-01 1.2207621e-04 1.2803215e-08] [0 0 1 0 0]\n",
      "Baga nagaa dhuftan  [2.1716022e-04 9.8020703e-01 3.0524316e-03 1.6181238e-02 3.4209157e-04] [0 1 0 0 0]\n",
      "Maloo maaf nuraa  turtani  bayyee isin yadee bar [9.98454332e-01 1.11894966e-04 1.42395718e-03 9.62547892e-06\n",
      " 9.63804396e-08] [1 0 0 0 0]\n",
      "Waali xaaxxeraa dubiin gaariimaa haa ta.uu malee fuuldurii isaa [0.9831941  0.00356468 0.00216849 0.00910685 0.00196595] [1 0 0 0 0]\n",
      "Robsan baguma mana san hin seenin male si jala dhiphataa ture  [2.8847248e-04 9.9970108e-01 2.2073889e-06 7.5133612e-06 6.8717088e-07] [0 1 0 0 0]\n",
      "Mee namnii akaa kooo dirmaaa kiyyoo arguuf arifatuu essa jirtuu [9.9998641e-01 1.7951836e-06 1.1232173e-06 1.0778676e-05 6.9624386e-09] [1 0 0 0 0]\n",
      "Baga nagaan dhuftan   baayee isiin yaadee [1.2697440e-04 9.9981791e-01 2.3549053e-06 5.1607858e-05 1.2425821e-06] [0 1 0 0 0]\n",
      "Maaliif akka fincaan aduree gootu dheressa male [3.4370350e-05 4.0631150e-03 5.7079415e-06 9.9584693e-01 4.9864691e-05] [0 0 0 1 0]\n",
      "Kutaa 27ffaa moo 28tii kuni garuu [1.4436790e-05 9.9982661e-01 3.9448889e-05 1.0606418e-04 1.3495817e-05] [0 1 0 0 0]\n",
      "Diraamaan keessan  akkuma tapha ijollee tahaa jiraa sirressa [3.4509008e-05 7.9433639e-06 3.3263527e-06 9.9995410e-01 6.3057072e-08] [0 0 0 1 0]\n",
      "Hin gabaabbatee xiqqoo yeroo itti dabalaa [3.5200133e-03 6.3318769e-03 1.1878962e-03 6.4878899e-04 9.8831147e-01] [0 0 0 0 1]\n",
      "Ana dhufuu heduu isin yaadnee jiraa [5.1135558e-01 2.0766245e-04 8.8925464e-03 4.7849572e-01 1.0485583e-03] [0 0 0 1 0]\n",
      " baayyee namatti tola garuu beeksiisa hin dheeressina malee [9.9994195e-01 3.1765376e-05 2.4787856e-05 1.4422827e-06 1.9755484e-08] [1 0 0 0 0]\n",
      "Diramaa akkaa  bishani dhebonuu Diraamaan kun [6.9491043e-06 9.9998283e-01 7.9996619e-07 9.2581449e-06 1.2391484e-07] [0 1 0 0 0]\n",
      "Torbee taa'en issin eegaan bule [1.0200296e-01 8.8885415e-01 7.8163687e-03 8.3791721e-04 4.8856868e-04] [0 1 0 0 0]\n",
      "Baayee namatti toltuu [0.7198313  0.02708043 0.04762337 0.09981499 0.10564987] [0 0 0 0 0]\n",
      "Hawwi gudaan isin egga turee bagaa nagaan dhuftan [9.9995863e-01 2.9337447e-05 5.6942292e-07 1.1388155e-05 8.2541316e-09] [1 0 0 0 0]\n",
      "Baayee issin jaaladhaa  oromoo koo [3.29717458e-03 1.02485836e-01 7.20344298e-03 8.86301517e-01\n",
      " 7.11978879e-04] [0 0 0 1 0]\n",
      "Diraamaan kunii heduu  namatii  tolaa  jabbesa  itti  fufa  [6.9897249e-04 9.9923968e-01 4.8201623e-06 5.5882316e-05 7.2702949e-07] [0 1 0 0 0]\n",
      "Baayee namatti toltuu dhugaa [2.9827410e-05 2.2496142e-04 6.4834903e-06 9.9973518e-01 3.4612099e-06] [0 0 0 1 0]\n",
      "Baga Nagaan dhuftan torbee maa Nuraa haftaan [9.9999237e-01 2.9020605e-06 1.8981640e-06 2.8135407e-06 3.7801753e-09] [1 0 0 0 0]\n",
      "Baga nagan dhuftanii garuu nuraa turtanii  [0.0518745  0.4338044  0.0899786  0.40241602 0.02192657] [0 1 0 0 0]\n",
      "Xiqqoo otoo akkanatti addaan turuu baattanii namatti tola [7.5906202e-02 8.3131628e-04 1.4519313e-03 1.9072238e-02 9.0273827e-01] [0 0 0 0 1]\n",
      "Baayee namati tola dhugaa [9.9984765e-01 7.6529555e-05 6.9141861e-05 6.5810323e-06 1.5315942e-07] [1 0 0 0 0]\n",
      "Galatomaa  waan bohasitanfi itti fufa [7.6946996e-02 1.4084505e-01 6.6836149e-01 1.1346238e-01 3.8415100e-04] [0 1 0 0 0]\n",
      "Dhugaa hedduu isin eegaa turree  [9.9998713e-01 6.2226327e-06 1.5167690e-06 5.0836925e-06 6.6705028e-09] [1 0 0 0 0]\n",
      "Baga nagaan dhuftaan kabajamoo keenyaa  siin yaaderaa  [9.99969959e-01 4.56348153e-06 3.72749014e-06 2.17239267e-05\n",
      " 1.01556195e-08] [1 0 0 0 0]\n",
      "Baayee Namati toltuu baaye sin jaladha [9.9997723e-01 7.5162393e-06 5.7798311e-06 9.5772430e-06 5.5725717e-09] [1 0 0 0 0]\n",
      "Yeroon beksisumaan dhume [9.9997246e-01 2.3466857e-05 1.4522603e-06 2.4619535e-06 6.3798865e-08] [1 0 0 0 0]\n",
      "Bayyee isinii jaladhaa diraamaa kiyyoo kesatuu meluu [9.9967563e-01 1.4653380e-05 2.9505958e-04 1.4708587e-05 4.9975096e-08] [1 0 0 0 0]\n",
      "Anaa dhufu baayeen isiin yaadee [9.9997842e-01 1.8021001e-05 1.7974169e-06 1.7323778e-06 3.3747993e-09] [1 0 0 0 0]\n",
      "Baga nagaan dhuftan [1.1053574e-03 8.2503902e-05 8.9919406e-05 9.9871731e-01 4.8870961e-06] [0 0 0 1 0]\n",
      "Baayee namatii tolaa jajabadhaa ittii fufaa [9.99926567e-01 4.68146864e-05 1.64728535e-05 1.01471305e-05\n",
      " 1.80582145e-08] [1 0 0 0 0]\n",
      "Essatti badan kana hundaa obsa na ficisistan   [4.7391426e-05 9.9894208e-01 3.3959004e-04 5.4073025e-04 1.3018127e-04] [0 1 0 0 0]\n",
      "Maatii kiyyoo dhugaa fuundura saa tilmaamuun ni ulfaata [8.5734891e-06 5.1225829e-01 2.7903015e-04 4.8726299e-01 1.9104096e-04] [0 1 0 0 0]\n",
      "Baga nagaan dhuftan maatii kiyyoo  [3.2206338e-03 9.9497789e-01 4.8736716e-04 1.3126364e-03 1.4590663e-06] [0 1 0 0 0]\n",
      "Kana caalaa jabaadhaa oromoo koo [2.6157512e-03 3.3075681e-01 2.8156352e-03 6.6378027e-01 3.1529391e-05] [0 1 0 0 0]\n",
      "Diramaan kuni akkumaa maqaasaa kiyyoodha  [1.7804086e-02 8.4677589e-04 1.7525493e-04 2.1148028e-04 9.8096246e-01] [0 0 0 0 1]\n",
      " Ana haa dhufuu baga nagaan dhuftan [8.4589547e-06 9.9997377e-01 1.3701214e-05 3.4164980e-06 6.4166557e-07] [0 1 0 0 0]\n",
      "Yeroo hin gabaabsinaa  [9.0325344e-04 3.4147713e-04 9.9827325e-01 4.8142608e-04 5.8469311e-07] [0 0 1 0 0]\n",
      "Melaalaa irraa Anuu qabdaa [3.7110064e-04 1.5527708e-05 2.0631119e-04 9.9940610e-01 9.6359270e-07] [0 0 0 1 0]\n",
      "Namicha Diaspora  Kana osoo kessa baafatanii nati tola  [5.3496169e-06 9.9997926e-01 7.1311013e-07 1.4368074e-05 2.6332589e-07] [0 1 0 0 0]\n",
      "Barreeffama 28 gara 27 jijjiiraa [5.1646741e-05 1.0297201e-04 2.3391360e-06 9.9984145e-01 1.5015323e-06] [0 0 0 1 0]\n",
      "Heddu isini egaa turre [9.9987733e-01 1.1306692e-04 5.6304461e-06 3.8924195e-06 8.8269694e-08] [1 0 0 0 0]\n",
      "Waantii sinaanitii demaa jiruu ammaale garaa nama nyaata [1.9694180e-05 9.9988604e-01 6.8128771e-05 1.0494771e-05 1.5630261e-05] [0 1 0 0 0]\n",
      "Jabadhaa [7.7822784e-05 2.2690634e-07 9.9982208e-01 9.9893274e-05 7.9009794e-09] [0 0 1 0 0]\n",
      "Torbban tokkoo waggaa natti ta'e [3.6952126e-06 9.9998951e-01 8.5234046e-07 5.8882993e-06 1.6617844e-07] [0 1 0 0 0]\n",
      "29ffa itti nu arifadhaa [0.02421561 0.9373311  0.01440028 0.01891699 0.00513608] [0 1 0 0 0]\n",
      "Akka hadha gaba dhaqxee isiin egnee dadhabne  [1.3501263e-04 1.8451839e-04 7.2802947e-04 9.9895120e-01 1.3125205e-06] [0 0 0 1 0]\n",
      "Baayee nama dhibduu [1.1255571e-05 9.9997926e-01 6.5938696e-07 8.2569359e-06 5.5004858e-07] [0 1 0 0 0]\n",
      "Taatonni diraamaa kanaa hedduu galatoomaa   [1.44047635e-05 7.01879480e-06 8.51969980e-06 9.99969959e-01\n",
      " 1.42090556e-07] [0 0 0 1 0]\n",
      " Torbee darbee maaf nuu jalaa haftaan [4.8332781e-06 9.9997604e-01 2.4154513e-06 1.6246086e-05 4.7118672e-07] [0 1 0 0 0]\n",
      "Dhugaa dubbachuuf diraaman kiyyo kun diraamaa addaati [5.8695114e-06 5.6529754e-01 2.2084008e-04 4.3418720e-01 2.8855685e-04] [0 0 0 1 0]\n",
      " bayyee midhagaa waan isaa hundii [1.7833197e-04 1.5141334e-03 1.8901452e-03 9.9641377e-01 3.7056755e-06] [0 0 0 1 0]\n",
      "galatooma jechaa isinis jajjabeesuun nura jirra [1.1635264e-03 9.9691123e-01 6.2427035e-04 7.5990614e-04 5.4105034e-04] [0 1 0 0 0]\n",
      "Yaroo diraamaa itti nuuf dheerressa beeksiisa irraa dhimma hin qabnu [3.7814074e-03 3.0951032e-06 1.7741550e-03 9.9443901e-01 2.3383930e-06] [0 0 0 1 0]\n",
      "Baga nagaan  dhuftan torbe issiin egaan dhabe   [1.3657352e-02 2.7540904e-02 2.0865953e-02 9.3788791e-01 4.7819598e-05] [0 0 0 1 0]\n",
      "jabadhaa hojii kesani hedduu nama bonsaa [9.9764699e-01 2.3187161e-03 7.4349778e-06 2.6622989e-05 1.5297731e-07] [1 0 0 0 0]\n",
      " torbee lama Booda nuf deebitan isin yaadeem  [2.6569848e-03 4.1973422e-06 9.9261791e-01 4.7205044e-03 5.0392151e-07] [0 0 1 0 0]\n",
      "Bonan bilisee sinan irraa fudhatuf dema moo [1.8697021e-05 9.9997103e-01 6.7384294e-06 2.8440077e-06 7.1735849e-07] [0 1 0 0 0]\n",
      "Baayee namattii toltuu nuuf jiradhaa    [9.9967563e-01 1.4653380e-05 2.9505958e-04 1.4708587e-05 4.9975096e-08] [1 0 0 0 0]\n",
      "Isin yaddee dhugaa baga nagaan dhuftan [1.20079996e-04 1.77265465e-04 9.08163111e-06 9.99689102e-01\n",
      " 4.55796817e-06] [0 0 0 1 0]\n",
      "Maloo qalbi nu raraftani torbe addan kutani  [2.0099141e-02 9.7780573e-01 1.4596848e-03 6.0523744e-04 3.0332691e-05] [0 1 0 0 0]\n",
      "Baga Nagan na dhuftaan bayyeen sin jalladhaa [3.8169933e-04 1.8068585e-04 2.0706659e-05 3.5312006e-04 9.9906379e-01] [0 0 0 0 1]\n",
      "Akkuman ittii isiin yadee yoo bektan [4.7120673e-04 1.5668707e-01 3.2762293e-02 8.0978280e-01 2.9667464e-04] [0 0 0 1 0]\n",
      "Baga nagaan dhuftan Garuu  nurraa hin turinaa [9.9999189e-01 2.1552905e-06 5.5908060e-07 5.3585891e-06 4.3818922e-09] [1 0 0 0 0]\n",
      "Garuu of nu barsiistanii maalif akkana baddan [8.2305469e-06 5.4827452e-01 5.6067214e-04 4.5102197e-01 1.3468045e-04] [0 1 0 0 0]\n",
      "Diraamaa kana komeentii barreessuu qofa osoo hin taane hanga xumurraati lamuu dhan haa jajjabeessinu. [1.7780732e-05 9.9997711e-01 1.6837100e-06 2.8997863e-06 6.5113136e-07] [0 1 0 0 0]\n",
      "Dhugaa beyee tokkoo namatii totuu itti fufaa  [5.2883050e-05 2.6846714e-05 5.1179882e-06 9.9991477e-01 3.4560244e-07] [0 0 0 1 0]\n",
      "Anaa dhufu kiyyoo koo sin yaade dhugaa [6.8565914e-06 9.9997389e-01 6.7090195e-07 1.8476128e-05 1.6697840e-07] [0 1 0 0 0]\n",
      "Wal baqachuun kun hanga yoomitti garuu [1.04891615e-05 9.99979854e-01 4.13452995e-07 9.16686167e-06\n",
      " 8.62646985e-08] [0 1 0 0 0]\n",
      "Baga bara haraa gessan ijoollee oromoo  [8.73180106e-03 3.98397606e-06 9.91038740e-01 2.12880725e-04\n",
      " 1.25674815e-05] [0 0 1 0 0]\n",
      "Beeksisa nuttii hin bayyisinaa [2.6593803e-04 5.4773351e-04 1.8147604e-05 9.9905449e-01 1.1377201e-04] [0 0 0 1 0]\n",
      " kiyyoo akkan sin jaaladhuu  [9.9998915e-01 5.9069080e-06 1.7643558e-06 3.1530169e-06 5.5317297e-09] [1 0 0 0 0]\n",
      "Nuraa turtan garuu jabaadhaa namaatii tolaa [3.9168857e-03 1.2624589e-03 7.5640657e-04 9.9404550e-01 1.8755865e-05] [0 0 0 1 0]\n",
      " Natuu duraa lallee jiraa    [1.9088013e-03 1.4423305e-02 6.8159075e-05 3.1732936e-05 9.8356807e-01] [0 0 0 0 1]\n",
      "Kiyyoon kan duraa irraa amma caalatti bareeda jira jabaadha [4.9099686e-05 9.9993479e-01 9.7215332e-07 1.5056811e-05 9.8468412e-08] [0 1 0 0 0]\n",
      "Anatuu jalqabaa lallee  [9.9996698e-01 2.1448820e-06 2.6903515e-06 2.8097811e-05 1.0284614e-08] [1 0 0 0 0]\n",
      "Torbee darbee essatii haaftan [1.3332634e-04 3.1391703e-04 2.1973802e-03 9.9735379e-01 1.7176758e-06] [0 0 0 1 0]\n",
      "malif hin dhufin sanbata taree [2.3135141e-02 4.9741939e-04 1.3339621e-01 8.4296757e-01 3.6633708e-06] [0 0 0 1 0]\n",
      "Mee namnii akka koo hawwiidhan eegata turtan essa jirtuu [0.08218425 0.02222881 0.49473664 0.39847055 0.00237968] [1 0 0 0 0]\n",
      "Haaradha Namni tokko nan Dursinee [9.9991632e-01 4.8191570e-05 3.0159686e-06 3.2445412e-05 8.3947732e-08] [1 0 0 0 0]\n",
      " Anaa dhufuu  Diramaa kiyyoo  [1.2013759e-05 9.9996400e-01 1.9560071e-06 2.1666527e-05 4.0582296e-07] [0 1 0 0 0]\n",
      "An dhufuu kabajamoota keenyaa matii kiyyoo [9.9993420e-01 4.7278023e-05 8.3844825e-06 1.0121606e-05 1.9522197e-08] [1 0 0 0 0]\n",
      "Anaa dhufuu qopheesitoota diraama Kiyyoo [1.9154266e-05 2.1421198e-05 8.2063425e-06 9.9995089e-01 1.8429631e-07] [0 0 0 1 0]\n",
      "Maaf torbee Darbee nuraa haftanii osso isinii egnuu [9.9957377e-01 3.6077344e-04 4.5546334e-05 1.9585425e-05 3.8022660e-07] [1 0 0 0 0]\n",
      "Sin eegaa jirra dheebun [8.8344932e-05 2.0023415e-07 9.9979991e-01 1.1155594e-04 1.1373685e-08] [0 0 1 0 0]\n",
      "Heddu na arsitanii  [1.7459472e-04 4.9199402e-02 8.5294119e-04 9.4968891e-01 8.4158310e-05] [0 0 0 1 0]\n",
      "Anatu tokofaa lalee [7.1377591e-03 1.9188376e-05 9.9248683e-01 3.5247332e-04 3.7815730e-06] [0 0 1 0 0]\n",
      "Baga nagaan dhuftan garuu hin tursiisinaa [4.181726e-03 9.820092e-02 6.247268e-02 8.343663e-01 7.783325e-04] [0 0 0 1 0]\n",
      "Maatiin diraamaa kiyyoo suusii natti taatan hojii keessan nyaadhaa [9.9998355e-01 1.0691027e-06 6.0475409e-06 9.2708478e-06 2.2905207e-09] [1 0 0 0 0]\n",
      "Diramaan kiyyoo bayee  namatii tolaa [4.2336047e-04 9.9956685e-01 6.3474158e-06 2.8890754e-06 6.0812260e-07] [0 1 0 0 0]\n",
      "Issa darbe Kutaa 28 keessatti nan dhabe [1.9217710e-01 4.8805604e-04 8.0198365e-01 5.0255680e-03 3.2555230e-04] [1 0 0 0 0]\n",
      "Baayee namatti tolaa [6.56276383e-03 1.21838915e-04 9.90258217e-01 3.00824922e-03\n",
      " 4.90060920e-05] [0 0 1 0 0]\n",
      "Nujalaa gabaabsitan san gubbaan torbetti al tokko [0.0232956  0.0101021  0.00067671 0.3806818  0.5852438 ] [0 0 0 1 0]\n",
      "Diramaa kiyoo bayyee isin jaaladhaa [0.00353945 0.52771497 0.00401836 0.00090502 0.46382222] [0 0 0 0 1]\n",
      "Baga dhuftan  [9.9849010e-01 1.6778140e-04 5.1776704e-04 8.2375942e-04 6.1921480e-07] [1 0 0 0 0]\n",
      "Akka isiin jaaladhuu [1.7014556e-02 2.6782270e-04 8.0721927e-01 1.7548141e-01 1.6981016e-05] [0 0 1 0 0]\n",
      "Sagaleen babbadaa jira akka duraati deebisaa [9.9991632e-01 4.8191570e-05 3.0159686e-06 3.2445412e-05 8.3947569e-08] [1 0 0 0 0]\n",
      "Baayee Namatti Tola Galatoma  [7.1919443e-05 3.3665579e-03 4.5633460e-03 9.9199545e-01 2.7667102e-06] [0 0 0 1 0]\n",
      "Siifoo xiqooman argee [9.7269394e-06 9.9704415e-01 3.4047349e-04 2.5945110e-03 1.1173026e-05] [0 1 0 0 0]\n",
      "Bekisisaa xiqqessaa maali kuni hundii [2.09141745e-05 9.99830365e-01 8.37794869e-05 5.26203658e-05\n",
      " 1.24107055e-05] [0 1 0 0 0]\n",
      "Maaf garuu diramaa yeroo hojjatan ni gababataa mafi dheresitan hin hojjatinaa  [9.9998486e-01 3.1402947e-06 4.3038060e-07 1.1536617e-05 7.0617987e-09] [1 0 0 0 0]\n",
      "Isin Jalanaa jajabaadha [9.9122143e-01 6.0450565e-03 5.4295518e-04 2.0551065e-03 1.3539115e-04] [1 0 0 0 0]\n",
      "Dafaa nuf dabalaa diramaan kun bayyee namaa hawataa dhugaa  [9.9984932e-01 1.4520995e-04 3.6174322e-06 1.9287161e-06 3.2770537e-08] [1 0 0 0 0]\n",
      "Hedduu namatti tola [9.9998653e-01 4.6326913e-06 4.1472836e-06 4.6218574e-06 3.3916172e-09] [1 0 0 0 0]\n",
      "Maaloo ni gabaabsitani yokin immoo torbeetti yeroo 2 nuuf godhaa  [1.2698757e-05 4.6094251e-01 3.0420249e-04 5.3852677e-01 2.1375046e-04] [0 0 0 1 0]\n",
      "Maal taatanii [9.99957800e-01 2.56371131e-05 4.20615834e-06 1.23930658e-05\n",
      " 1.48642405e-08] [1 0 0 0 0]\n"
     ]
    },
    {
     "data": {
      "text/plain": [
       "[None,\n",
       " None,\n",
       " None,\n",
       " None,\n",
       " None,\n",
       " None,\n",
       " None,\n",
       " None,\n",
       " None,\n",
       " None,\n",
       " None,\n",
       " None,\n",
       " None,\n",
       " None,\n",
       " None,\n",
       " None,\n",
       " None,\n",
       " None,\n",
       " None,\n",
       " None,\n",
       " None,\n",
       " None,\n",
       " None,\n",
       " None,\n",
       " None,\n",
       " None,\n",
       " None,\n",
       " None,\n",
       " None,\n",
       " None,\n",
       " None,\n",
       " None,\n",
       " None,\n",
       " None,\n",
       " None,\n",
       " None,\n",
       " None,\n",
       " None,\n",
       " None,\n",
       " None,\n",
       " None,\n",
       " None,\n",
       " None,\n",
       " None,\n",
       " None,\n",
       " None,\n",
       " None,\n",
       " None,\n",
       " None,\n",
       " None,\n",
       " None,\n",
       " None,\n",
       " None,\n",
       " None,\n",
       " None,\n",
       " None,\n",
       " None,\n",
       " None,\n",
       " None,\n",
       " None,\n",
       " None,\n",
       " None,\n",
       " None,\n",
       " None,\n",
       " None,\n",
       " None,\n",
       " None,\n",
       " None,\n",
       " None,\n",
       " None,\n",
       " None,\n",
       " None,\n",
       " None,\n",
       " None,\n",
       " None,\n",
       " None,\n",
       " None,\n",
       " None,\n",
       " None,\n",
       " None,\n",
       " None,\n",
       " None,\n",
       " None,\n",
       " None,\n",
       " None,\n",
       " None,\n",
       " None,\n",
       " None,\n",
       " None,\n",
       " None,\n",
       " None,\n",
       " None,\n",
       " None,\n",
       " None,\n",
       " None,\n",
       " None,\n",
       " None,\n",
       " None,\n",
       " None,\n",
       " None,\n",
       " None,\n",
       " None,\n",
       " None,\n",
       " None,\n",
       " None,\n",
       " None,\n",
       " None,\n",
       " None,\n",
       " None,\n",
       " None,\n",
       " None,\n",
       " None,\n",
       " None,\n",
       " None,\n",
       " None,\n",
       " None,\n",
       " None,\n",
       " None,\n",
       " None,\n",
       " None,\n",
       " None,\n",
       " None,\n",
       " None,\n",
       " None,\n",
       " None,\n",
       " None,\n",
       " None,\n",
       " None,\n",
       " None,\n",
       " None,\n",
       " None,\n",
       " None,\n",
       " None,\n",
       " None,\n",
       " None,\n",
       " None,\n",
       " None,\n",
       " None,\n",
       " None,\n",
       " None,\n",
       " None,\n",
       " None,\n",
       " None,\n",
       " None,\n",
       " None,\n",
       " None,\n",
       " None,\n",
       " None,\n",
       " None,\n",
       " None,\n",
       " None,\n",
       " None,\n",
       " None,\n",
       " None,\n",
       " None,\n",
       " None,\n",
       " None,\n",
       " None,\n",
       " None,\n",
       " None,\n",
       " None,\n",
       " None,\n",
       " None,\n",
       " None,\n",
       " None,\n",
       " None,\n",
       " None,\n",
       " None,\n",
       " None,\n",
       " None,\n",
       " None,\n",
       " None,\n",
       " None,\n",
       " None,\n",
       " None,\n",
       " None,\n",
       " None,\n",
       " None,\n",
       " None,\n",
       " None,\n",
       " None,\n",
       " None,\n",
       " None,\n",
       " None,\n",
       " None,\n",
       " None,\n",
       " None,\n",
       " None,\n",
       " None,\n",
       " None,\n",
       " None,\n",
       " None,\n",
       " None,\n",
       " None,\n",
       " None,\n",
       " None,\n",
       " None,\n",
       " None,\n",
       " None,\n",
       " None]"
      ]
     },
     "execution_count": 23,
     "metadata": {},
     "output_type": "execute_result"
    }
   ],
   "source": [
    "[print (data['Text'][i], predictions[i], y_test[i]) for i in range(0, 200)]"
   ]
  },
  {
   "cell_type": "code",
   "execution_count": 24,
   "metadata": {},
   "outputs": [],
   "source": [
    "cm=metrics.confusion_matrix(y_test.argmax(axis=1), predictions.argmax(axis=1))"
   ]
  },
  {
   "cell_type": "code",
   "execution_count": 25,
   "metadata": {},
   "outputs": [],
   "source": [
    "FP = cm.sum(axis=0) - np.diag(cm)  \n",
    "FN = cm.sum(axis=1) - np.diag(cm)\n",
    "TP = np.diag(cm)\n",
    "TN = cm.sum() - (FP + FN + TP)"
   ]
  },
  {
   "cell_type": "code",
   "execution_count": 26,
   "metadata": {},
   "outputs": [],
   "source": [
    "FP = FP.astype(float)\n",
    "FN = FN.astype(float)\n",
    "TP = TP.astype(float)\n",
    "TN = TN.astype(float)"
   ]
  },
  {
   "cell_type": "code",
   "execution_count": 27,
   "metadata": {},
   "outputs": [
    {
     "name": "stdout",
     "output_type": "stream",
     "text": [
      "[28. 22. 38. 41.  3.]\n",
      "[27. 70.  3. 22. 10.]\n",
      "[628. 766. 171. 328.  88.]\n",
      "[1430. 1255. 1901. 1722. 2012.]\n"
     ]
    }
   ],
   "source": [
    "print(FP)\n",
    "print(FN)\n",
    "print(TP)\n",
    "print(TN)"
   ]
  },
  {
   "cell_type": "code",
   "execution_count": 28,
   "metadata": {},
   "outputs": [],
   "source": [
    "accuracy=(TP+TN)/(TP+TN+FP+FN)\n",
    "precision = TP/(TP+FP)\n",
    "recall = TP/(TP+FN)\n",
    "f1_score = 2*precision*recall/(precision+recall)"
   ]
  },
  {
   "cell_type": "code",
   "execution_count": 29,
   "metadata": {},
   "outputs": [
    {
     "name": "stdout",
     "output_type": "stream",
     "text": [
      "recall   [0.95877863 0.91626794 0.98275862 0.93714286 0.89795918]\n",
      "precision [0.95731707 0.97208122 0.81818182 0.88888889 0.96703297]\n",
      "f1_score [0.95804729 0.94334975 0.89295039 0.9123783  0.93121693]\n"
     ]
    }
   ],
   "source": [
    "print(\"recall  \", recall)\n",
    "print(\"precision\",precision)\n",
    "print(\"f1_score\",f1_score)"
   ]
  },
  {
   "cell_type": "code",
   "execution_count": 30,
   "metadata": {},
   "outputs": [],
   "source": [
    "def accuracy(confusion_matrix):\n",
    "    diagonal_sum = confusion_matrix.trace()\n",
    "    sum_of_all_elements = confusion_matrix.sum()\n",
    "    return diagonal_sum / sum_of_all_elements "
   ]
  },
  {
   "cell_type": "code",
   "execution_count": 31,
   "metadata": {},
   "outputs": [
    {
     "data": {
      "text/plain": [
       "0.9375295787979177"
      ]
     },
     "execution_count": 31,
     "metadata": {},
     "output_type": "execute_result"
    }
   ],
   "source": [
    "accuracy(cm)"
   ]
  },
  {
   "cell_type": "code",
   "execution_count": 32,
   "metadata": {},
   "outputs": [],
   "source": [
    "def precision(label, confusion_matrix):\n",
    "    col = confusion_matrix[:, label]\n",
    "    return confusion_matrix[label, label] / col.sum()\n",
    "    \n",
    "def recall(label, confusion_matrix):\n",
    "    row = confusion_matrix[label, :]\n",
    "    return confusion_matrix[label, label] / row.sum()\n",
    "\n",
    "def precision_macro_average(confusion_matrix):\n",
    "    rows, columns = confusion_matrix.shape\n",
    "    sum_of_precisions = 0\n",
    "    for label in range(rows):\n",
    "        sum_of_precisions += precision(label, confusion_matrix)\n",
    "    return sum_of_precisions / rows\n",
    "\n",
    "def recall_macro_average(confusion_matrix):\n",
    "    rows, columns = confusion_matrix.shape\n",
    "    sum_of_recalls = 0\n",
    "    for label in range(columns):\n",
    "        sum_of_recalls += recall(label, confusion_matrix)\n",
    "    return sum_of_recalls / columns"
   ]
  },
  {
   "cell_type": "code",
   "execution_count": 33,
   "metadata": {},
   "outputs": [
    {
     "name": "stdout",
     "output_type": "stream",
     "text": [
      "label precision recall\n",
      "    0     0.957  0.959\n",
      "    1     0.972  0.916\n",
      "    2     0.818  0.983\n",
      "    3     0.889  0.937\n"
     ]
    }
   ],
   "source": [
    "print(\"label precision recall\")\n",
    "for label in range(4):\n",
    "    print(f\"{label:5d} {precision(label, cm):9.3f} {recall(label, cm):6.3f}\")"
   ]
  },
  {
   "cell_type": "code",
   "execution_count": 34,
   "metadata": {},
   "outputs": [
    {
     "name": "stdout",
     "output_type": "stream",
     "text": [
      "precision total: 0.9207003931097034\n",
      "recall total: 0.9385814460087823\n"
     ]
    }
   ],
   "source": [
    "print(\"precision total:\", precision_macro_average(cm))\n",
    "\n",
    "print(\"recall total:\", recall_macro_average(cm))"
   ]
  },
  {
   "cell_type": "code",
   "execution_count": 35,
   "metadata": {},
   "outputs": [],
   "source": [
    "def accuracy(confusion_matrix):\n",
    "    diagonal_sum = confusion_matrix.trace()\n",
    "    sum_of_all_elements = confusion_matrix.sum()\n",
    "    return diagonal_sum / sum_of_all_elements "
   ]
  },
  {
   "cell_type": "code",
   "execution_count": 36,
   "metadata": {},
   "outputs": [
    {
     "data": {
      "text/plain": [
       "0.9375295787979177"
      ]
     },
     "execution_count": 36,
     "metadata": {},
     "output_type": "execute_result"
    }
   ],
   "source": [
    "accuracy(cm)"
   ]
  },
  {
   "cell_type": "code",
   "execution_count": null,
   "metadata": {},
   "outputs": [],
   "source": []
  },
  {
   "cell_type": "code",
   "execution_count": null,
   "metadata": {},
   "outputs": [],
   "source": []
  },
  {
   "cell_type": "code",
   "execution_count": null,
   "metadata": {},
   "outputs": [],
   "source": []
  }
 ],
 "metadata": {
  "kernelspec": {
   "display_name": "Python 3 (ipykernel)",
   "language": "python",
   "name": "python3"
  },
  "language_info": {
   "codemirror_mode": {
    "name": "ipython",
    "version": 3
   },
   "file_extension": ".py",
   "mimetype": "text/x-python",
   "name": "python",
   "nbconvert_exporter": "python",
   "pygments_lexer": "ipython3",
   "version": "3.9.12"
  }
 },
 "nbformat": 4,
 "nbformat_minor": 2
}
