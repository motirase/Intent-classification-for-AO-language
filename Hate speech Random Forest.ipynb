{
 "cells": [
  {
   "cell_type": "code",
   "execution_count": 1,
   "id": "d462613e",
   "metadata": {},
   "outputs": [],
   "source": [
    "import numpy as np # linear algebra\n",
    "import pandas as pd # data processing, CSV file I/O (e.g. pd.read_csv)\n",
    "import matplotlib.pyplot as plt\n",
    "#from wordcloud import WordCloud\n",
    "from sklearn.pipeline import Pipeline\n",
    "#to data preprocessing\n",
    "from sklearn.compose import ColumnTransformer\n",
    "from sklearn.preprocessing import OneHotEncoder\n",
    "#NLP tools\n",
    "import re\n",
    "#import nltk\n",
    "#nltk.download('stopwords')\n",
    "#from nltk.corpus import stopwords\n",
    "#from nltk.stem.porter import PorterStemmer\n",
    "from sklearn.feature_extraction.text import CountVectorizer\n",
    "\n",
    "#train split and fit models\n",
    "from sklearn.model_selection import train_test_split\n",
    "from sklearn.ensemble import RandomForestClassifier\n",
    "from sklearn.linear_model import LogisticRegression\n",
    "from sklearn.neighbors import KNeighborsClassifier\n",
    "from sklearn.tree import DecisionTreeClassifier\n",
    "#from nltk.tokenize import TweetTokenizer\n",
    "\n",
    "#model selection\n",
    "from sklearn.metrics import classification_report, confusion_matrix, accuracy_score\n",
    "# Input data files are available in the read-only \"../input/\" directory\n",
    "# For example, running this (by clicking run or pressing Shift+Enter) will list all files under the input directory"
   ]
  },
  {
   "cell_type": "code",
   "execution_count": 2,
   "id": "414115e0",
   "metadata": {},
   "outputs": [],
   "source": [
    "# Load data\n",
    "df = pd.read_csv('hate-by-Kabada.csv',delimiter = ';', names=['Text','label'],encoding=\"utf-8\")\n",
    "#,count,hate_speech,offensive_language,neither,class,tweet\n",
    "# Preprocess data"
   ]
  },
  {
   "cell_type": "code",
   "execution_count": 3,
   "id": "972ebc10",
   "metadata": {},
   "outputs": [],
   "source": [
    "df = df.dropna()"
   ]
  },
  {
   "cell_type": "code",
   "execution_count": 4,
   "id": "c0bbfe2d",
   "metadata": {},
   "outputs": [
    {
     "name": "stdout",
     "output_type": "stream",
     "text": [
      "<class 'pandas.core.frame.DataFrame'>\n",
      "Index: 10036 entries, 0 to 10036\n",
      "Data columns (total 2 columns):\n",
      " #   Column  Non-Null Count  Dtype  \n",
      "---  ------  --------------  -----  \n",
      " 0   Text    10036 non-null  object \n",
      " 1   label   10036 non-null  float64\n",
      "dtypes: float64(1), object(1)\n",
      "memory usage: 235.2+ KB\n"
     ]
    }
   ],
   "source": [
    "df.info()"
   ]
  },
  {
   "cell_type": "code",
   "execution_count": 5,
   "id": "2f9efafa",
   "metadata": {},
   "outputs": [
    {
     "data": {
      "text/html": [
       "<div>\n",
       "<style scoped>\n",
       "    .dataframe tbody tr th:only-of-type {\n",
       "        vertical-align: middle;\n",
       "    }\n",
       "\n",
       "    .dataframe tbody tr th {\n",
       "        vertical-align: top;\n",
       "    }\n",
       "\n",
       "    .dataframe thead th {\n",
       "        text-align: right;\n",
       "    }\n",
       "</style>\n",
       "<table border=\"1\" class=\"dataframe\">\n",
       "  <thead>\n",
       "    <tr style=\"text-align: right;\">\n",
       "      <th></th>\n",
       "      <th>count</th>\n",
       "      <th>mean</th>\n",
       "      <th>std</th>\n",
       "      <th>min</th>\n",
       "      <th>25%</th>\n",
       "      <th>50%</th>\n",
       "      <th>75%</th>\n",
       "      <th>max</th>\n",
       "    </tr>\n",
       "  </thead>\n",
       "  <tbody>\n",
       "    <tr>\n",
       "      <th>label</th>\n",
       "      <td>10036.0</td>\n",
       "      <td>1.901156</td>\n",
       "      <td>1.210482</td>\n",
       "      <td>0.0</td>\n",
       "      <td>1.0</td>\n",
       "      <td>2.0</td>\n",
       "      <td>3.0</td>\n",
       "      <td>4.0</td>\n",
       "    </tr>\n",
       "  </tbody>\n",
       "</table>\n",
       "</div>"
      ],
      "text/plain": [
       "         count      mean       std  min  25%  50%  75%  max\n",
       "label  10036.0  1.901156  1.210482  0.0  1.0  2.0  3.0  4.0"
      ]
     },
     "execution_count": 5,
     "metadata": {},
     "output_type": "execute_result"
    }
   ],
   "source": [
    "df.describe().T"
   ]
  },
  {
   "cell_type": "code",
   "execution_count": 6,
   "id": "80d01a98",
   "metadata": {},
   "outputs": [],
   "source": [
    "dt_transformed = df[['Text', 'label']]"
   ]
  },
  {
   "cell_type": "code",
   "execution_count": 7,
   "id": "4115deb4",
   "metadata": {},
   "outputs": [],
   "source": [
    "x = df['Text']"
   ]
  },
  {
   "cell_type": "code",
   "execution_count": 8,
   "id": "e8ea85cc",
   "metadata": {},
   "outputs": [],
   "source": [
    "y = df['label']"
   ]
  },
  {
   "cell_type": "code",
   "execution_count": 9,
   "id": "5ca18cf7",
   "metadata": {},
   "outputs": [
    {
     "data": {
      "text/html": [
       "<div>\n",
       "<style scoped>\n",
       "    .dataframe tbody tr th:only-of-type {\n",
       "        vertical-align: middle;\n",
       "    }\n",
       "\n",
       "    .dataframe tbody tr th {\n",
       "        vertical-align: top;\n",
       "    }\n",
       "\n",
       "    .dataframe thead th {\n",
       "        text-align: right;\n",
       "    }\n",
       "</style>\n",
       "<table border=\"1\" class=\"dataframe\">\n",
       "  <thead>\n",
       "    <tr style=\"text-align: right;\">\n",
       "      <th></th>\n",
       "      <th>Text</th>\n",
       "      <th>label</th>\n",
       "    </tr>\n",
       "  </thead>\n",
       "  <tbody>\n",
       "    <tr>\n",
       "      <th>0</th>\n",
       "      <td>Namni waan itti kenname hojjechuuf gahumsa hin...</td>\n",
       "      <td>4.0</td>\n",
       "    </tr>\n",
       "    <tr>\n",
       "      <th>1</th>\n",
       "      <td>ANI TPLF DEGEERA EEGA YOO AFUUFTUN KUN HUNDI P...</td>\n",
       "      <td>3.0</td>\n",
       "    </tr>\n",
       "    <tr>\n",
       "      <th>2</th>\n",
       "      <td>Bara Kana bittaa boondii fi arjooma garaagaraa...</td>\n",
       "      <td>0.0</td>\n",
       "    </tr>\n",
       "    <tr>\n",
       "      <th>3</th>\n",
       "      <td>Akka Aadde Adaanach jedhanitti Sagantaan maall...</td>\n",
       "      <td>0.0</td>\n",
       "    </tr>\n",
       "    <tr>\n",
       "      <th>4</th>\n",
       "      <td>afaa isin abbaan page kana maqaa hinjirre ykn ...</td>\n",
       "      <td>3.0</td>\n",
       "    </tr>\n",
       "    <tr>\n",
       "      <th>...</th>\n",
       "      <td>...</td>\n",
       "      <td>...</td>\n",
       "    </tr>\n",
       "    <tr>\n",
       "      <th>10032</th>\n",
       "      <td>Namoonni kun bineensa fucking yoomiyyuu hin ji...</td>\n",
       "      <td>4.0</td>\n",
       "    </tr>\n",
       "    <tr>\n",
       "      <th>10033</th>\n",
       "      <td>Qur'aana keessatti ifatti barreeffame jira Nam...</td>\n",
       "      <td>4.0</td>\n",
       "    </tr>\n",
       "    <tr>\n",
       "      <th>10034</th>\n",
       "      <td>Deeggarsa Chaayinaa irraa , amantii kaansarii ...</td>\n",
       "      <td>4.0</td>\n",
       "    </tr>\n",
       "    <tr>\n",
       "      <th>10035</th>\n",
       "      <td>Muslimoonni waraana barbaadu! Kanaaf dursa gar...</td>\n",
       "      <td>4.0</td>\n",
       "    </tr>\n",
       "    <tr>\n",
       "      <th>10036</th>\n",
       "      <td>Cc to Anwar Kelil \"\"Hojjattoota OBN Zaalimun S...</td>\n",
       "      <td>4.0</td>\n",
       "    </tr>\n",
       "  </tbody>\n",
       "</table>\n",
       "<p>10036 rows × 2 columns</p>\n",
       "</div>"
      ],
      "text/plain": [
       "                                                    Text  label\n",
       "0      Namni waan itti kenname hojjechuuf gahumsa hin...    4.0\n",
       "1      ANI TPLF DEGEERA EEGA YOO AFUUFTUN KUN HUNDI P...    3.0\n",
       "2      Bara Kana bittaa boondii fi arjooma garaagaraa...    0.0\n",
       "3      Akka Aadde Adaanach jedhanitti Sagantaan maall...    0.0\n",
       "4      afaa isin abbaan page kana maqaa hinjirre ykn ...    3.0\n",
       "...                                                  ...    ...\n",
       "10032  Namoonni kun bineensa fucking yoomiyyuu hin ji...    4.0\n",
       "10033  Qur'aana keessatti ifatti barreeffame jira Nam...    4.0\n",
       "10034  Deeggarsa Chaayinaa irraa , amantii kaansarii ...    4.0\n",
       "10035  Muslimoonni waraana barbaadu! Kanaaf dursa gar...    4.0\n",
       "10036  Cc to Anwar Kelil \"\"Hojjattoota OBN Zaalimun S...    4.0\n",
       "\n",
       "[10036 rows x 2 columns]"
      ]
     },
     "execution_count": 9,
     "metadata": {},
     "output_type": "execute_result"
    }
   ],
   "source": [
    "dt_transformed"
   ]
  },
  {
   "cell_type": "code",
   "execution_count": 10,
   "id": "15ad5f01",
   "metadata": {},
   "outputs": [],
   "source": [
    "#dt_transformed = dt_transformed['label']"
   ]
  },
  {
   "cell_type": "code",
   "execution_count": 11,
   "id": "c5025131",
   "metadata": {},
   "outputs": [],
   "source": [
    "# Dividindo o df em treino e teste\n",
    "#df_train, df_test = train_test_split(dt_transformed, test_size = 0.10, random_state = 42, stratify=dt_transformed)\n",
    "#df_train.shape, df_test.shape"
   ]
  },
  {
   "cell_type": "code",
   "execution_count": 12,
   "id": "410ce04a",
   "metadata": {},
   "outputs": [],
   "source": [
    "#dt_transformed.value_counts().plot(kind='bar')"
   ]
  },
  {
   "cell_type": "code",
   "execution_count": 13,
   "id": "3e9e3228",
   "metadata": {},
   "outputs": [],
   "source": [
    "def preprocessing(data):\n",
    "    #stemmer = nltk.stem.RSLPStemmer()\n",
    "    #all_stopwords = stopwords.words('english')\n",
    "    #all_stopwords.remove('not')\n",
    "    corpus = []\n",
    "    for tweet in data:\n",
    "        review = re.sub(r\"@[A-Za-z0-9_]+\", \" \", tweet)\n",
    "        review = re.sub('RT', ' ', review)\n",
    "        review = re.sub(r\"https?://[A-Za-z0-9./]+\", \" \", review)\n",
    "        review = re.sub(r\"https?\", \" \", review)\n",
    "        review = re.sub('[^a-zA-Z]', ' ', review)\n",
    "        review = review.lower()\n",
    "        review = review.split()\n",
    "        #ps = PorterStemmer()\n",
    "        #review = [ps.stem(word) for word in review if not word in set(all_stopwords) if len(word) > 2]\n",
    "        review = ' '.join(review)\n",
    "        corpus.append(review)\n",
    "    return np.array(corpus)"
   ]
  },
  {
   "cell_type": "code",
   "execution_count": 14,
   "id": "e8cdd05e",
   "metadata": {},
   "outputs": [],
   "source": [
    "# nltk.download('rslp')"
   ]
  },
  {
   "cell_type": "code",
   "execution_count": 15,
   "id": "d96f048c",
   "metadata": {},
   "outputs": [
    {
     "data": {
      "text/plain": [
       "(10036,)"
      ]
     },
     "execution_count": 15,
     "metadata": {},
     "output_type": "execute_result"
    }
   ],
   "source": [
    "corpus = preprocessing(x.values)\n",
    "corpus.shape"
   ]
  },
  {
   "cell_type": "code",
   "execution_count": 16,
   "id": "7b2c3a51",
   "metadata": {},
   "outputs": [
    {
     "data": {
      "text/plain": [
       "(10036,)"
      ]
     },
     "execution_count": 16,
     "metadata": {},
     "output_type": "execute_result"
    }
   ],
   "source": [
    "corpus.shape"
   ]
  },
  {
   "cell_type": "code",
   "execution_count": 17,
   "id": "9b6596d1",
   "metadata": {},
   "outputs": [
    {
     "data": {
      "text/plain": [
       "(10036,)"
      ]
     },
     "execution_count": 17,
     "metadata": {},
     "output_type": "execute_result"
    }
   ],
   "source": [
    "y.shape"
   ]
  },
  {
   "cell_type": "code",
   "execution_count": 18,
   "id": "a6cf2393",
   "metadata": {},
   "outputs": [
    {
     "data": {
      "text/plain": [
       "((9032,), (1004,))"
      ]
     },
     "execution_count": 18,
     "metadata": {},
     "output_type": "execute_result"
    }
   ],
   "source": [
    "# treino e validação do corpus\n",
    "x_train, x_vad, y_train, y_vad = train_test_split(corpus, y, test_size = 0.10, random_state = 42)\n",
    "x_train.shape, x_vad.shape"
   ]
  },
  {
   "cell_type": "code",
   "execution_count": 19,
   "id": "32ab2616-3132-4186-b097-b7781fc7d2b3",
   "metadata": {},
   "outputs": [],
   "source": [
    "from sklearn.feature_extraction.text import CountVectorizer\n",
    "from sklearn.feature_extraction.text import TfidfVectorizer, CountVectorizer\n",
    "from sklearn import model_selection, preprocessing, linear_model, naive_bayes, metrics, svm"
   ]
  },
  {
   "cell_type": "code",
   "execution_count": 44,
   "id": "106f13d9",
   "metadata": {},
   "outputs": [],
   "source": [
    "tfidf_vect_unbgram = TfidfVectorizer(analyzer='word', token_pattern=r'\\w{1,}', ngram_range=(1,3), max_features=50000)\n",
    "tfidf_vect_unbgram.fit(x)\n",
    "xtrain =  tfidf_vect_unbgram.transform(x_train)\n",
    "xvalid =  tfidf_vect_unbgram.transform(x_vad)"
   ]
  },
  {
   "cell_type": "code",
   "execution_count": 45,
   "id": "dab2c646",
   "metadata": {},
   "outputs": [],
   "source": [
    "#accuracy_of_unigram_and_bigram = train_model(naive_bayes.MultinomialNB(), xtrain_tfidf_unbgram, y_train, xvalid_tfidf_unbgram)"
   ]
  },
  {
   "cell_type": "code",
   "execution_count": 46,
   "id": "e37bf385",
   "metadata": {},
   "outputs": [],
   "source": [
    "# Logistic Regression\n",
    "#model = LogisticRegression(multi_class='ovr', solver='liblinear', random_state = 0)\n",
    "model = RandomForestClassifier(n_estimators=100, random_state=1000)\n",
    "#rf_classifier.fit(X_train, y_train)\n",
    "model.fit(xtrain, y_train.ravel())\n",
    "y_pred = model.predict(xvalid)"
   ]
  },
  {
   "cell_type": "code",
   "execution_count": 47,
   "id": "d96c99a0-faaa-465e-b611-c2ae7161f938",
   "metadata": {},
   "outputs": [],
   "source": [
    "#rf_classifier = RandomForestClassifier(n_estimators=100, random_state=42)\n",
    "#rf_classifier.fit(X_train, y_train)"
   ]
  },
  {
   "cell_type": "code",
   "execution_count": 48,
   "id": "be814cf5",
   "metadata": {},
   "outputs": [],
   "source": [
    "def set_confusion_matrix(clf, X, y, title):\n",
    "    plot_confusion_matrix(clf, X, y)\n",
    "    plt.title(title)\n",
    "    plt.show()"
   ]
  },
  {
   "cell_type": "code",
   "execution_count": 49,
   "id": "fbababca",
   "metadata": {},
   "outputs": [],
   "source": [
    "from sklearn.metrics import ConfusionMatrixDisplay"
   ]
  },
  {
   "cell_type": "code",
   "execution_count": 50,
   "id": "4dab58ac",
   "metadata": {},
   "outputs": [],
   "source": [
    " from sklearn.metrics import classification_report"
   ]
  },
  {
   "cell_type": "code",
   "execution_count": 51,
   "id": "8a8cf5dc",
   "metadata": {},
   "outputs": [],
   "source": [
    "target_names = ['Free', 'Offensive', ' Race','Politics', 'Religion']"
   ]
  },
  {
   "cell_type": "code",
   "execution_count": 52,
   "id": "e56eee57",
   "metadata": {},
   "outputs": [
    {
     "data": {
      "image/png": "[encoded data removed]",
      "text/plain": [
       "<Figure size 640x480 with 2 Axes>"
      ]
     },
     "metadata": {},
     "output_type": "display_data"
    }
   ],
   "source": [
    "predictions = model.predict(xvalid)\n",
    "cm = confusion_matrix(y_vad, predictions, labels=model.classes_)\n",
    "disp = ConfusionMatrixDisplay(confusion_matrix=cm, display_labels=model.classes_)\n",
    "disp.plot()\n",
    "plt.show()"
   ]
  },
  {
   "cell_type": "code",
   "execution_count": 53,
   "id": "c6b96a42",
   "metadata": {},
   "outputs": [
    {
     "name": "stdout",
     "output_type": "stream",
     "text": [
      "              precision    recall  f1-score   support\n",
      "\n",
      "        Free       0.63      0.49      0.55       150\n",
      "   Offensive       0.54      0.51      0.52       252\n",
      "        Race       0.52      0.33      0.40       138\n",
      "    Politics       0.58      0.77      0.66       419\n",
      "    Religion       1.00      0.18      0.30        45\n",
      "\n",
      "    accuracy                           0.57      1004\n",
      "   macro avg       0.65      0.45      0.49      1004\n",
      "weighted avg       0.59      0.57      0.56      1004\n",
      "\n"
     ]
    }
   ],
   "source": [
    "target_names = ['Free', 'Offensive', ' Race','Politics', 'Religion']\n",
    "print(classification_report(y_vad, y_pred, target_names=target_names))"
   ]
  },
  {
   "cell_type": "code",
   "execution_count": 54,
   "id": "c86e5461",
   "metadata": {},
   "outputs": [],
   "source": [
    "import matplotlib.pyplot as plt\n",
    "def plot_confusion_matrix(cm, classes,\n",
    "                        normalize=False,\n",
    "                        title='Confusion matrix',\n",
    "                        cmap=plt.cm.Blues):\n",
    "    \"\"\"\n",
    "    This function prints and plots the confusion matrix.\n",
    "    Normalization can be applied by setting `normalize=True`.\n",
    "    \"\"\"\n",
    "    plt.imshow(cm, interpolation='nearest', cmap=cmap)\n",
    "    plt.title(title)\n",
    "    plt.colorbar()\n",
    "    tick_marks = np.arange(len(classes))\n",
    "    plt.xticks(tick_marks, classes, rotation=90)\n",
    "    plt.yticks(tick_marks, classes)\n",
    "\n",
    "    if normalize:\n",
    "        cm = cm.astype('float') / cm.sum(axis=1)[:, np.newaxis]\n",
    "        print(\"Normalized confusion matrix\")\n",
    "    else:\n",
    "        print('Confusion matrix, without normalization')\n",
    "\n",
    "    #print(cm)\n",
    "\n",
    "    plt.ylabel('True label')\n",
    "    plt.xlabel('Predicted label')"
   ]
  },
  {
   "cell_type": "code",
   "execution_count": 55,
   "id": "784d1754-3a42-4e25-bbd1-62802e4dbd09",
   "metadata": {},
   "outputs": [
    {
     "name": "stdout",
     "output_type": "stream",
     "text": [
      "Normalized confusion matrix\n"
     ]
    },
    {
     "data": {
      "image/png": "[encoded data removed]",
      "text/plain": [
       "<Figure size 640x480 with 2 Axes>"
      ]
     },
     "metadata": {},
     "output_type": "display_data"
    }
   ],
   "source": [
    "#y_pred = model.predict(x_test).argmax(axis=-1)\n",
    "#matrix = metrics.confusion_matrix(y_test.argmax(axis=-1), y_pred)\n",
    "matrix= metrics.confusion_matrix(y_vad, y_pred)\n",
    "plot_confusion_matrix(cm=matrix, normalize=True, classes=target_names, title='Confusion Matrix')"
   ]
  },
  {
   "cell_type": "code",
   "execution_count": 56,
   "id": "3d30b250",
   "metadata": {},
   "outputs": [],
   "source": [
    "#cm = confusion_matrix(y_test.argmax(axis=-1), y_pred)\n",
    "df_cm = pd.DataFrame(matrix, index=target_names, columns=target_names)\n",
    "import seaborn as sns"
   ]
  },
  {
   "cell_type": "code",
   "execution_count": 57,
   "id": "d48edc8b-26d9-4871-8806-4f1ee08bd55f",
   "metadata": {},
   "outputs": [
    {
     "data": {
      "image/png": "[encoded data removed]",
      "text/plain": [
       "<Figure size 640x480 with 2 Axes>"
      ]
     },
     "metadata": {},
     "output_type": "display_data"
    }
   ],
   "source": [
    "hmap = sns.heatmap(df_cm, annot=True, fmt=\"d\")\n",
    "hmap.yaxis.set_ticklabels(hmap.yaxis.get_ticklabels(), rotation=0, ha='right')\n",
    "hmap.xaxis.set_ticklabels(hmap.xaxis.get_ticklabels(), rotation=30, ha='right')\n",
    "plt.ylabel('True label')\n",
    "plt.xlabel('Predicted label');"
   ]
  },
  {
   "cell_type": "code",
   "execution_count": null,
   "id": "a5de6a83-0fb4-4b38-b09c-464a253b443b",
   "metadata": {},
   "outputs": [],
   "source": []
  }
 ],
 "metadata": {
  "kernelspec": {
   "display_name": "Python 3 (ipykernel)",
   "language": "python",
   "name": "python3"
  },
  "language_info": {
   "codemirror_mode": {
    "name": "ipython",
    "version": 3
   },
   "file_extension": ".py",
   "mimetype": "text/x-python",
   "name": "python",
   "nbconvert_exporter": "python",
   "pygments_lexer": "ipython3",
   "version": "3.11.5"
  }
 },
 "nbformat": 4,
 "nbformat_minor": 5
}
