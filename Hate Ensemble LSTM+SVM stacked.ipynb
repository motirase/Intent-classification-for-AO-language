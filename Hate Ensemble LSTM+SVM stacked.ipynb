{
 "cells": [
  {
   "cell_type": "code",
   "execution_count": 5,
   "id": "26a1fcef",
   "metadata": {},
   "outputs": [],
   "source": [
    "#python\n",
    "import numpy as np\n",
    "import pandas as pd\n",
    "import tensorflow as tf\n",
    "from tensorflow.keras.preprocessing.text import Tokenizer\n",
    "from tensorflow.keras.preprocessing.sequence import pad_sequences\n",
    "from tensorflow.keras.layers import Bidirectional,LSTM, Input, Embedding, Conv1D, GlobalMaxPooling1D, Dense, Dropout, concatenate\n",
    "from tensorflow.keras.models import Model\n",
    "from sklearn.linear_model import LogisticRegression\n",
    "from sklearn.metrics import accuracy_score, classification_report\n",
    "from keras.models import Sequential,load_model\n",
    "from sklearn.model_selection import train_test_split\n",
    "import matplotlib.pyplot as plt\n",
    "import seaborn as sns\n",
    "from pylab import rcParams"
   ]
  },
  {
   "cell_type": "code",
   "execution_count": 6,
   "id": "6f081da9-c5a3-4ddc-a561-9238d13732ee",
   "metadata": {},
   "outputs": [],
   "source": [
    "\n",
    "tf.get_logger().setLevel('ERROR')\n",
    "\n",
    "sns.set(style='whitegrid', palette='muted', font_scale=1.2)\n",
    "HAPPY_COLORS_PALETTE = [\"#01BEFE\", \"#FFDD00\", \"#FF7D00\", \"#FF006D\", \"#ADFF02\", \"#8F00FF\"]\n",
    "sns.set_palette(sns.color_palette(HAPPY_COLORS_PALETTE))\n",
    "rcParams['figure.figsize'] = 12, 8\n",
    "import warnings\n",
    "warnings.filterwarnings(\"ignore\")"
   ]
  },
  {
   "cell_type": "code",
   "execution_count": 7,
   "id": "6d471f5f-cf2f-46b0-8242-71bd757fb6b6",
   "metadata": {},
   "outputs": [
    {
     "name": "stdout",
     "output_type": "stream",
     "text": [
      "(10561, 2)\n"
     ]
    },
    {
     "data": {
      "text/html": [
       "<div>\n",
       "<style scoped>\n",
       "    .dataframe tbody tr th:only-of-type {\n",
       "        vertical-align: middle;\n",
       "    }\n",
       "\n",
       "    .dataframe tbody tr th {\n",
       "        vertical-align: top;\n",
       "    }\n",
       "\n",
       "    .dataframe thead th {\n",
       "        text-align: right;\n",
       "    }\n",
       "</style>\n",
       "<table border=\"1\" class=\"dataframe\">\n",
       "  <thead>\n",
       "    <tr style=\"text-align: right;\">\n",
       "      <th></th>\n",
       "      <th>Text</th>\n",
       "      <th>Intent</th>\n",
       "    </tr>\n",
       "  </thead>\n",
       "  <tbody>\n",
       "    <tr>\n",
       "      <th>0</th>\n",
       "      <td>Kiyyoo dirama oso  eguti jirun na darbe tari a...</td>\n",
       "      <td>Question</td>\n",
       "    </tr>\n",
       "    <tr>\n",
       "      <th>1</th>\n",
       "      <td>Meeti ree kuta 28ffaa</td>\n",
       "      <td>Question</td>\n",
       "    </tr>\n",
       "    <tr>\n",
       "      <th>2</th>\n",
       "      <td>Kutaa digdami sadetaffa isiin egee dadhabee.</td>\n",
       "      <td>Negative</td>\n",
       "    </tr>\n",
       "    <tr>\n",
       "      <th>3</th>\n",
       "      <td>Kutaa digdami sadetaffaa fiidagaa maali nuuraa...</td>\n",
       "      <td>Negative</td>\n",
       "    </tr>\n",
       "    <tr>\n",
       "      <th>4</th>\n",
       "      <td>Nuuf jabbadhakaa warii Akka kotti kiyyoo jaala...</td>\n",
       "      <td>Positive</td>\n",
       "    </tr>\n",
       "  </tbody>\n",
       "</table>\n",
       "</div>"
      ],
      "text/plain": [
       "                                                Text     Intent\n",
       "0  Kiyyoo dirama oso  eguti jirun na darbe tari a...  Question \n",
       "1                              Meeti ree kuta 28ffaa  Question \n",
       "2       Kutaa digdami sadetaffa isiin egee dadhabee.   Negative\n",
       "3  Kutaa digdami sadetaffaa fiidagaa maali nuuraa...   Negative\n",
       "4  Nuuf jabbadhakaa warii Akka kotti kiyyoo jaala...   Positive"
      ]
     },
     "execution_count": 7,
     "metadata": {},
     "output_type": "execute_result"
    }
   ],
   "source": [
    "df=data=pd.read_csv('bertdata.csv',names=['Text','Intent'],encoding=\"utf-8\")\n",
    "df.sample(frac=1).reset_index(drop=True)\n",
    "print(data.shape)\n",
    "df.head()"
   ]
  },
  {
   "cell_type": "code",
   "execution_count": 8,
   "id": "f976f87b",
   "metadata": {},
   "outputs": [],
   "source": [
    "#python\n",
    "data = pd.read_csv('hate-by-Kabada.csv',delimiter = ';', names=['Text','label'],encoding=\"utf-8\")"
   ]
  },
  {
   "cell_type": "code",
   "execution_count": 9,
   "id": "4166e290",
   "metadata": {},
   "outputs": [
    {
     "data": {
      "text/html": [
       "<div>\n",
       "<style scoped>\n",
       "    .dataframe tbody tr th:only-of-type {\n",
       "        vertical-align: middle;\n",
       "    }\n",
       "\n",
       "    .dataframe tbody tr th {\n",
       "        vertical-align: top;\n",
       "    }\n",
       "\n",
       "    .dataframe thead th {\n",
       "        text-align: right;\n",
       "    }\n",
       "</style>\n",
       "<table border=\"1\" class=\"dataframe\">\n",
       "  <thead>\n",
       "    <tr style=\"text-align: right;\">\n",
       "      <th></th>\n",
       "      <th>Text</th>\n",
       "      <th>label</th>\n",
       "    </tr>\n",
       "  </thead>\n",
       "  <tbody>\n",
       "    <tr>\n",
       "      <th>0</th>\n",
       "      <td>Namni waan itti kenname hojjechuuf gahumsa hin...</td>\n",
       "      <td>4.0</td>\n",
       "    </tr>\n",
       "    <tr>\n",
       "      <th>1</th>\n",
       "      <td>ANI TPLF DEGEERA EEGA YOO AFUUFTUN KUN HUNDI P...</td>\n",
       "      <td>3.0</td>\n",
       "    </tr>\n",
       "    <tr>\n",
       "      <th>2</th>\n",
       "      <td>Bara Kana bittaa boondii fi arjooma garaagaraa...</td>\n",
       "      <td>0.0</td>\n",
       "    </tr>\n",
       "    <tr>\n",
       "      <th>3</th>\n",
       "      <td>Akka Aadde Adaanach jedhanitti Sagantaan maall...</td>\n",
       "      <td>0.0</td>\n",
       "    </tr>\n",
       "    <tr>\n",
       "      <th>4</th>\n",
       "      <td>afaa isin abbaan page kana maqaa hinjirre ykn ...</td>\n",
       "      <td>3.0</td>\n",
       "    </tr>\n",
       "  </tbody>\n",
       "</table>\n",
       "</div>"
      ],
      "text/plain": [
       "                                                Text  label\n",
       "0  Namni waan itti kenname hojjechuuf gahumsa hin...    4.0\n",
       "1  ANI TPLF DEGEERA EEGA YOO AFUUFTUN KUN HUNDI P...    3.0\n",
       "2  Bara Kana bittaa boondii fi arjooma garaagaraa...    0.0\n",
       "3  Akka Aadde Adaanach jedhanitti Sagantaan maall...    0.0\n",
       "4  afaa isin abbaan page kana maqaa hinjirre ykn ...    3.0"
      ]
     },
     "execution_count": 9,
     "metadata": {},
     "output_type": "execute_result"
    }
   ],
   "source": [
    "data.head()"
   ]
  },
  {
   "cell_type": "code",
   "execution_count": 10,
   "id": "d18c7816",
   "metadata": {},
   "outputs": [],
   "source": [
    "data = data.dropna()"
   ]
  },
  {
   "cell_type": "code",
   "execution_count": 11,
   "id": "fbccc8f9",
   "metadata": {},
   "outputs": [
    {
     "name": "stdout",
     "output_type": "stream",
     "text": [
      "                                                Text  label\n",
      "0  Namni waan itti kenname hojjechuuf gahumsa hin...    4.0\n",
      "1  ANI TPLF DEGEERA EEGA YOO AFUUFTUN KUN HUNDI P...    3.0\n",
      "2  Bara Kana bittaa boondii fi arjooma garaagaraa...    0.0\n",
      "3  Akka Aadde Adaanach jedhanitti Sagantaan maall...    0.0\n",
      "4  afaa isin abbaan page kana maqaa hinjirre ykn ...    3.0\n"
     ]
    }
   ],
   "source": [
    "Number_of_words = data[\"Text\"].apply(lambda n: len(n.split()))\n",
    "print(data.head())"
   ]
  },
  {
   "cell_type": "code",
   "execution_count": 12,
   "id": "30410a47",
   "metadata": {},
   "outputs": [],
   "source": [
    "#python\n",
    "#data = pd.read_csv('labeled_data.csv')\n",
    "train_data = data.sample(frac=0.8, random_state=42)\n",
    "test_data = data.drop(train_data.index)"
   ]
  },
  {
   "cell_type": "code",
   "execution_count": 13,
   "id": "99df68bc",
   "metadata": {},
   "outputs": [],
   "source": [
    "tokenizer = Tokenizer(num_words=5000)\n",
    "tokenizer.fit_on_texts(train_data['Text'])\n",
    "\n",
    "train_sequences = tokenizer.texts_to_sequences(train_data['Text'])\n",
    "train_padded = pad_sequences(train_sequences, maxlen=100)\n",
    "\n",
    "test_sequences = tokenizer.texts_to_sequences(test_data['Text'])\n",
    "test_padded = pad_sequences(test_sequences, maxlen=100)"
   ]
  },
  {
   "cell_type": "code",
   "execution_count": 14,
   "id": "8e8a3372-fcb8-43bf-892a-e9d8e34b895c",
   "metadata": {},
   "outputs": [],
   "source": [
    "import pickle\n",
    "with open('FastText_new_data_300d.pkl', 'rb') as f:\n",
    "    word2vec_model = pickle.load(f)\n",
    "# Get the dimensionality of the word vectors"
   ]
  },
  {
   "cell_type": "code",
   "execution_count": 15,
   "id": "ed825dd2-1dde-4040-819c-9273d89add9c",
   "metadata": {},
   "outputs": [],
   "source": [
    "\n",
    "# Get the dimensionality of the word vectors\n",
    "embedding_dim = word2vec_model[list(word2vec_model.keys())[0]].shape[0]\n",
    "\n",
    "# Create an embedding matrix from the Word2Vec model\n",
    "embedding_matrix = np.zeros((len(tokenizer.word_index) + 1, embedding_dim))\n",
    "for word, index in tokenizer.word_index.items():\n",
    "    if word in word2vec_model:\n",
    "        embedding_matrix[index] = word2vec_model[word]"
   ]
  },
  {
   "cell_type": "code",
   "execution_count": 16,
   "id": "af4aaaa5",
   "metadata": {},
   "outputs": [],
   "source": [
    "model = Sequential()\n",
    "model.add(Embedding(input_dim=43475, weights=[embedding_matrix],output_dim=300))\n",
    "model.add(Dropout(0.3))\n",
    "model.add(Bidirectional(LSTM(100, return_sequences=True, dropout=0.2, recurrent_dropout=0.2)))\n",
    "model.add(Bidirectional(LSTM(100, dropout=0.3, recurrent_dropout=0.2)))\n",
    "#model.add(LSTM(128, dropout=0.2, recurrent_dropout=0.3))\n",
    "model.add(Dense(5, activation = 'softmax'))"
   ]
  },
  {
   "cell_type": "code",
   "execution_count": 18,
   "id": "e38d2bb2",
   "metadata": {},
   "outputs": [
    {
     "name": "stdout",
     "output_type": "stream",
     "text": [
      "Model: \"sequential\"\n",
      "_________________________________________________________________\n",
      " Layer (type)                Output Shape              Param #   \n",
      "=================================================================\n",
      " embedding (Embedding)       (None, None, 300)         13042500  \n",
      "                                                                 \n",
      " dropout (Dropout)           (None, None, 300)         0         \n",
      "                                                                 \n",
      " bidirectional (Bidirection  (None, None, 200)         320800    \n",
      " al)                                                             \n",
      "                                                                 \n",
      " bidirectional_1 (Bidirecti  (None, 200)               240800    \n",
      " onal)                                                           \n",
      "                                                                 \n",
      " dense (Dense)               (None, 5)                 1005      \n",
      "                                                                 \n",
      "=================================================================\n",
      "Total params: 13605105 (51.90 MB)\n",
      "Trainable params: 13605105 (51.90 MB)\n",
      "Non-trainable params: 0 (0.00 Byte)\n",
      "_________________________________________________________________\n"
     ]
    }
   ],
   "source": [
    "model.summary()"
   ]
  },
  {
   "cell_type": "code",
   "execution_count": 21,
   "id": "28e0162b",
   "metadata": {},
   "outputs": [],
   "source": [
    "model.compile(loss='categorical_crossentropy', optimizer='adam',metrics=['accuracy'])"
   ]
  },
  {
   "cell_type": "code",
   "execution_count": 22,
   "id": "d7f12415",
   "metadata": {},
   "outputs": [
    {
     "name": "stdout",
     "output_type": "stream",
     "text": [
      "Epoch 1/25\n",
      "51/51 [==============================] - 412s 8s/step - loss: 1.2541 - accuracy: 0.4873 - val_loss: 1.1395 - val_accuracy: 0.5417\n",
      "Epoch 2/25\n",
      "51/51 [==============================] - 595s 12s/step - loss: 1.0698 - accuracy: 0.5757 - val_loss: 1.0641 - val_accuracy: 0.5716\n",
      "Epoch 3/25\n",
      "51/51 [==============================] - 641s 13s/step - loss: 0.9383 - accuracy: 0.6344 - val_loss: 1.0371 - val_accuracy: 0.5990\n",
      "Epoch 4/25\n",
      "51/51 [==============================] - 644s 13s/step - loss: 0.8082 - accuracy: 0.6911 - val_loss: 0.9778 - val_accuracy: 0.6308\n",
      "Epoch 5/25\n",
      "51/51 [==============================] - 731s 14s/step - loss: 0.7003 - accuracy: 0.7347 - val_loss: 1.0139 - val_accuracy: 0.6258\n",
      "Epoch 6/25\n",
      "51/51 [==============================] - 722s 14s/step - loss: 0.6099 - accuracy: 0.7736 - val_loss: 1.0224 - val_accuracy: 0.6326\n",
      "Epoch 7/25\n",
      "51/51 [==============================] - 541s 11s/step - loss: 0.5210 - accuracy: 0.8054 - val_loss: 1.0864 - val_accuracy: 0.6264\n",
      "Epoch 8/25\n",
      "51/51 [==============================] - 387s 8s/step - loss: 0.4688 - accuracy: 0.8291 - val_loss: 1.1681 - val_accuracy: 0.6245\n",
      "Epoch 9/25\n",
      "51/51 [==============================] - 383s 8s/step - loss: 0.3941 - accuracy: 0.8630 - val_loss: 1.2167 - val_accuracy: 0.6245\n",
      "Epoch 10/25\n",
      "51/51 [==============================] - 409s 8s/step - loss: 0.3701 - accuracy: 0.8652 - val_loss: 1.3319 - val_accuracy: 0.6245\n",
      "Epoch 11/25\n",
      "51/51 [==============================] - 397s 8s/step - loss: 0.3013 - accuracy: 0.8929 - val_loss: 1.4099 - val_accuracy: 0.6102\n",
      "Epoch 12/25\n",
      "51/51 [==============================] - 393s 8s/step - loss: 0.2638 - accuracy: 0.9095 - val_loss: 1.4598 - val_accuracy: 0.6071\n",
      "Epoch 13/25\n",
      "51/51 [==============================] - 394s 8s/step - loss: 0.2524 - accuracy: 0.9067 - val_loss: 1.4545 - val_accuracy: 0.6139\n",
      "Epoch 14/25\n",
      "51/51 [==============================] - 458s 9s/step - loss: 0.2246 - accuracy: 0.9198 - val_loss: 1.5302 - val_accuracy: 0.6171\n",
      "Epoch 15/25\n",
      "51/51 [==============================] - 405s 8s/step - loss: 0.1999 - accuracy: 0.9309 - val_loss: 1.6566 - val_accuracy: 0.6102\n",
      "Epoch 16/25\n",
      "51/51 [==============================] - 408s 8s/step - loss: 0.1936 - accuracy: 0.9324 - val_loss: 1.6169 - val_accuracy: 0.6177\n",
      "Epoch 17/25\n",
      "51/51 [==============================] - 400s 8s/step - loss: 0.1773 - accuracy: 0.9351 - val_loss: 1.7238 - val_accuracy: 0.6108\n",
      "Epoch 18/25\n",
      "51/51 [==============================] - 407s 8s/step - loss: 0.1630 - accuracy: 0.9419 - val_loss: 1.7626 - val_accuracy: 0.6090\n",
      "Epoch 19/25\n",
      "51/51 [==============================] - 390s 8s/step - loss: 0.1470 - accuracy: 0.9486 - val_loss: 1.8364 - val_accuracy: 0.5971\n",
      "Epoch 20/25\n",
      "51/51 [==============================] - 399s 8s/step - loss: 0.1557 - accuracy: 0.9457 - val_loss: 1.8189 - val_accuracy: 0.5959\n",
      "Epoch 21/25\n",
      "51/51 [==============================] - 428s 8s/step - loss: 0.1361 - accuracy: 0.9511 - val_loss: 1.9167 - val_accuracy: 0.6027\n",
      "Epoch 22/25\n",
      "51/51 [==============================] - 454s 9s/step - loss: 0.1294 - accuracy: 0.9550 - val_loss: 1.9303 - val_accuracy: 0.6002\n",
      "Epoch 23/25\n",
      "51/51 [==============================] - 487s 10s/step - loss: 0.1170 - accuracy: 0.9566 - val_loss: 2.0074 - val_accuracy: 0.5965\n",
      "Epoch 24/25\n",
      "51/51 [==============================] - 479s 9s/step - loss: 0.1143 - accuracy: 0.9597 - val_loss: 2.0133 - val_accuracy: 0.5946\n",
      "Epoch 25/25\n",
      "51/51 [==============================] - 488s 10s/step - loss: 0.1031 - accuracy: 0.9619 - val_loss: 2.0919 - val_accuracy: 0.5853\n"
     ]
    }
   ],
   "source": [
    "history = model.fit(train_padded, pd.get_dummies(train_data['label']), epochs=25, batch_size=128, validation_split=0.2)"
   ]
  },
  {
   "cell_type": "code",
   "execution_count": 23,
   "id": "62bf6d84",
   "metadata": {},
   "outputs": [
    {
     "name": "stdout",
     "output_type": "stream",
     "text": [
      "63/63 [==============================] - 30s 402ms/step\n"
     ]
    }
   ],
   "source": [
    "cnn_preds = model.predict(test_padded)\n",
    "cnn_preds = np.argmax(cnn_preds, axis=1)"
   ]
  },
  {
   "cell_type": "code",
   "execution_count": 24,
   "id": "21131421",
   "metadata": {},
   "outputs": [
    {
     "name": "stdout",
     "output_type": "stream",
     "text": [
      "251/251 [==============================] - 95s 371ms/step\n",
      "63/63 [==============================] - 22s 355ms/step\n"
     ]
    }
   ],
   "source": [
    "feature_extractor = Model(inputs=model.input, outputs=model.get_layer(index=3).output)\n",
    "train_features = feature_extractor.predict(train_padded)\n",
    "test_features = feature_extractor.predict(test_padded)"
   ]
  },
  {
   "cell_type": "code",
   "execution_count": 25,
   "id": "982a4306",
   "metadata": {},
   "outputs": [
    {
     "data": {
      "text/plain": [
       "array([[ 0.2900232 , -0.53335685, -0.32920343, ...,  0.07120581,\n",
       "        -0.03293486,  0.05702687],\n",
       "       [-0.728005  ,  0.15798661, -0.7546812 , ...,  0.07237426,\n",
       "        -0.03337263,  0.05532848],\n",
       "       [ 0.8313971 , -0.6565044 ,  0.09158021, ...,  0.0728155 ,\n",
       "        -0.0332353 ,  0.05439421],\n",
       "       ...,\n",
       "       [ 0.8302548 , -0.65785944, -0.14480573, ...,  0.0721646 ,\n",
       "        -0.03290168,  0.05415346],\n",
       "       [ 0.61680204, -0.532531  ,  0.36507747, ...,  0.07317656,\n",
       "        -0.03349662,  0.05477737],\n",
       "       [ 0.8167311 , -0.6774097 , -0.28034124, ...,  0.07161239,\n",
       "        -0.03246232,  0.05361589]], dtype=float32)"
      ]
     },
     "execution_count": 25,
     "metadata": {},
     "output_type": "execute_result"
    }
   ],
   "source": [
    "train_features"
   ]
  },
  {
   "cell_type": "code",
   "execution_count": 32,
   "id": "3f36a4a2-2e2e-4ec4-8c1b-4109e9848b95",
   "metadata": {},
   "outputs": [],
   "source": [
    "from sklearn import svm"
   ]
  },
  {
   "cell_type": "code",
   "execution_count": 37,
   "id": "18fe2acc-9d74-424e-ad8a-42aa80d54c05",
   "metadata": {},
   "outputs": [],
   "source": [
    "model_svm = svm.SVC()"
   ]
  },
  {
   "cell_type": "code",
   "execution_count": 38,
   "id": "bd7e1f75",
   "metadata": {},
   "outputs": [],
   "source": [
    "# Define SVM model\n",
    "#model_svm = SVC(kernel='linear')\n",
    "\n",
    "history_LR = model_svm.fit(train_features, train_data['label'])"
   ]
  },
  {
   "cell_type": "code",
   "execution_count": 39,
   "id": "a0ac4f29",
   "metadata": {},
   "outputs": [],
   "source": [
    "history_LR  = model_svm.predict(test_features)"
   ]
  },
  {
   "cell_type": "code",
   "execution_count": 40,
   "id": "ce76283a",
   "metadata": {},
   "outputs": [],
   "source": [
    "test_data =  test_data['label']\n",
    "train_data = train_data['label']"
   ]
  },
  {
   "cell_type": "code",
   "execution_count": 41,
   "id": "37f5b01b",
   "metadata": {},
   "outputs": [],
   "source": [
    "cnn_lr_preds = model_svm.predict(train_features)"
   ]
  },
  {
   "cell_type": "code",
   "execution_count": 42,
   "id": "9e6e1d6b",
   "metadata": {},
   "outputs": [],
   "source": [
    "lr_preds = model_svm.predict(test_features)"
   ]
  },
  {
   "cell_type": "code",
   "execution_count": 43,
   "id": "2233fb9d",
   "metadata": {},
   "outputs": [
    {
     "name": "stdout",
     "output_type": "stream",
     "text": [
      "LSTM Model:\n",
      "              precision    recall  f1-score   support\n",
      "\n",
      "         0.0       0.55      0.56      0.55       335\n",
      "         1.0       0.53      0.54      0.53       507\n",
      "         2.0       0.53      0.50      0.51       305\n",
      "         3.0       0.63      0.65      0.64       772\n",
      "         4.0       0.47      0.38      0.42        88\n",
      "\n",
      "    accuracy                           0.57      2007\n",
      "   macro avg       0.54      0.52      0.53      2007\n",
      "weighted avg       0.57      0.57      0.57      2007\n",
      "\n",
      "Support Vector Model:\n",
      "              precision    recall  f1-score   support\n",
      "\n",
      "         0.0       0.58      0.53      0.55       335\n",
      "         1.0       0.53      0.54      0.54       507\n",
      "         2.0       0.57      0.47      0.52       305\n",
      "         3.0       0.63      0.71      0.66       772\n",
      "         4.0       0.52      0.39      0.44        88\n",
      "\n",
      "    accuracy                           0.58      2007\n",
      "   macro avg       0.56      0.53      0.54      2007\n",
      "weighted avg       0.58      0.58      0.58      2007\n",
      "\n",
      "LSTM+SVM Stacked Ensemble:\n",
      "              precision    recall  f1-score   support\n",
      "\n",
      "         0.0       0.88      0.91      0.90      1298\n",
      "         1.0       0.90      0.88      0.89      2064\n",
      "         2.0       0.90      0.88      0.89      1109\n",
      "         3.0       0.92      0.94      0.93      3219\n",
      "         4.0       0.93      0.84      0.88       339\n",
      "\n",
      "    accuracy                           0.91      8029\n",
      "   macro avg       0.91      0.89      0.90      8029\n",
      "weighted avg       0.91      0.91      0.91      8029\n",
      "\n"
     ]
    }
   ],
   "source": [
    "cnn_lr_preds = model_svm.predict(train_features)\n",
    "\n",
    "print('LSTM Model:')\n",
    "print(classification_report(test_data, cnn_preds))\n",
    "\n",
    "print('Support Vector Model:')\n",
    "print(classification_report(test_data, lr_preds))\n",
    "\n",
    "print('LSTM+SVM Stacked Ensemble:')\n",
    "print(classification_report(train_data, cnn_lr_preds))"
   ]
  },
  {
   "cell_type": "code",
   "execution_count": 44,
   "id": "e67bc425",
   "metadata": {},
   "outputs": [
    {
     "data": {
      "image/png": "[encoded data removed]",
      "text/plain": [
       "<Figure size 1200x800 with 1 Axes>"
      ]
     },
     "metadata": {},
     "output_type": "display_data"
    },
    {
     "data": {
      "image/png": "[encoded data removed]",
      "text/plain": [
       "<Figure size 1200x800 with 1 Axes>"
      ]
     },
     "metadata": {},
     "output_type": "display_data"
    }
   ],
   "source": [
    "import matplotlib.pyplot as plt\n",
    "def plot_graphs(history, string):\n",
    "    plt.plot(history.history[string])\n",
    "    plt.plot(history.history['val_'+string])\n",
    "    plt.xlabel(\"epochs\")\n",
    "    plt.ylabel(string)\n",
    "    plt.legend([string, 'val_'+string])\n",
    "    plt.show()\n",
    "plot_graphs(history, \"accuracy\")\n",
    "plot_graphs(history, \"loss\")"
   ]
  },
  {
   "cell_type": "code",
   "execution_count": null,
   "id": "719f1562-778d-4f28-acbc-d173c5e9b578",
   "metadata": {},
   "outputs": [],
   "source": []
  }
 ],
 "metadata": {
  "kernelspec": {
   "display_name": "Python 3 (ipykernel)",
   "language": "python",
   "name": "python3"
  },
  "language_info": {
   "codemirror_mode": {
    "name": "ipython",
    "version": 3
   },
   "file_extension": ".py",
   "mimetype": "text/x-python",
   "name": "python",
   "nbconvert_exporter": "python",
   "pygments_lexer": "ipython3",
   "version": "3.11.5"
  }
 },
 "nbformat": 4,
 "nbformat_minor": 5
}
