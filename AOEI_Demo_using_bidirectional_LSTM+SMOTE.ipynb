{
 "cells": [
  {
   "cell_type": "markdown",
   "metadata": {},
   "source": [
    "# importing important librarys "
   ]
  },
  {
   "cell_type": "code",
   "execution_count": 1,
   "metadata": {},
   "outputs": [],
   "source": [
    "import numpy as np\n",
    "import pandas as pd\n",
    "from sklearn.model_selection import train_test_split\n",
    "import matplotlib.pyplot as plt\n",
    "from keras.models import Sequential,load_model\n",
    "from keras.layers import Dense,LSTM,Bidirectional,Embedding,Dropout\n",
    "from keras.preprocessing.text import Tokenizer\n",
    "from tensorflow.keras.preprocessing import sequence\n",
    "from tensorflow.keras.preprocessing.sequence import pad_sequences\n",
    "from sklearn import metrics\n",
    "from sklearn.metrics import accuracy_score, confusion_matrix, precision_recall_fscore_support\n",
    "import seaborn as sns\n",
    "import re\n",
    "from imblearn.over_sampling import SMOTE"
   ]
  },
  {
   "cell_type": "code",
   "execution_count": 2,
   "metadata": {},
   "outputs": [
    {
     "name": "stdout",
     "output_type": "stream",
     "text": [
      "(10561, 2)\n"
     ]
    },
    {
     "data": {
      "text/html": [
       "<div>\n",
       "<style scoped>\n",
       "    .dataframe tbody tr th:only-of-type {\n",
       "        vertical-align: middle;\n",
       "    }\n",
       "\n",
       "    .dataframe tbody tr th {\n",
       "        vertical-align: top;\n",
       "    }\n",
       "\n",
       "    .dataframe thead th {\n",
       "        text-align: right;\n",
       "    }\n",
       "</style>\n",
       "<table border=\"1\" class=\"dataframe\">\n",
       "  <thead>\n",
       "    <tr style=\"text-align: right;\">\n",
       "      <th></th>\n",
       "      <th>Text</th>\n",
       "      <th>Intent</th>\n",
       "    </tr>\n",
       "  </thead>\n",
       "  <tbody>\n",
       "    <tr>\n",
       "      <th>0</th>\n",
       "      <td>Kiyyoo dirama oso  eguti jirun na darbe tari a...</td>\n",
       "      <td>Question</td>\n",
       "    </tr>\n",
       "    <tr>\n",
       "      <th>1</th>\n",
       "      <td>Meeti ree kuta 28ffaa</td>\n",
       "      <td>Question</td>\n",
       "    </tr>\n",
       "    <tr>\n",
       "      <th>2</th>\n",
       "      <td>Kutaa digdami sadetaffa isiin egee dadhabee.</td>\n",
       "      <td>Negative</td>\n",
       "    </tr>\n",
       "    <tr>\n",
       "      <th>3</th>\n",
       "      <td>Kutaa digdami sadetaffaa fiidagaa maali nuuraa...</td>\n",
       "      <td>Negative</td>\n",
       "    </tr>\n",
       "    <tr>\n",
       "      <th>4</th>\n",
       "      <td>Nuuf jabbadhakaa warii Akka kotti kiyyoo jaala...</td>\n",
       "      <td>Positive</td>\n",
       "    </tr>\n",
       "  </tbody>\n",
       "</table>\n",
       "</div>"
      ],
      "text/plain": [
       "                                                Text     Intent\n",
       "0  Kiyyoo dirama oso  eguti jirun na darbe tari a...  Question \n",
       "1                              Meeti ree kuta 28ffaa  Question \n",
       "2       Kutaa digdami sadetaffa isiin egee dadhabee.   Negative\n",
       "3  Kutaa digdami sadetaffaa fiidagaa maali nuuraa...   Negative\n",
       "4  Nuuf jabbadhakaa warii Akka kotti kiyyoo jaala...   Positive"
      ]
     },
     "execution_count": 2,
     "metadata": {},
     "output_type": "execute_result"
    }
   ],
   "source": [
    "path = \"C:\\\\Users\\\\Moti\\Desktop\\\\Intent\\\\Meliha Research\\\\maliha_dataset_researchs.xlsx\"\n",
    "data=pd.read_excel(path, names=['Text','Intent'])\n",
    "data.sample(frac=1).reset_index(drop=True)\n",
    "print(data.shape)\n",
    "data.head()"
   ]
  },
  {
   "cell_type": "code",
   "execution_count": 3,
   "metadata": {
    "scrolled": true
   },
   "outputs": [
    {
     "name": "stderr",
     "output_type": "stream",
     "text": [
      "C:\\ProgramData\\Anaconda3\\lib\\site-packages\\seaborn\\_decorators.py:36: FutureWarning: Pass the following variable as a keyword arg: x. From version 0.12, the only valid positional argument will be `data`, and passing other arguments without an explicit keyword will result in an error or misinterpretation.\n",
      "  warnings.warn(\n"
     ]
    },
    {
     "data": {
      "image/png": "[encoded data removed]",
      "text/plain": [
       "<Figure size 432x288 with 1 Axes>"
      ]
     },
     "metadata": {
      "needs_background": "light"
     },
     "output_type": "display_data"
    }
   ],
   "source": [
    "#sns.countplot(x='Intent', data=data)\n",
    "chart = sns.countplot(data.Intent)\n",
    "plt.title(\"Number of texts per intent\")\n",
    "chart.set_xticklabels(chart.get_xticklabels(), rotation=30, horizontalalignment='right');"
   ]
  },
  {
   "cell_type": "code",
   "execution_count": 4,
   "metadata": {},
   "outputs": [
    {
     "data": {
      "text/plain": [
       "Positive       4320\n",
       "Negative       3271\n",
       "Suggestion     1686\n",
       "Question        736\n",
       "Wish            546\n",
       "Name: Intent, dtype: int64"
      ]
     },
     "execution_count": 4,
     "metadata": {},
     "output_type": "execute_result"
    }
   ],
   "source": [
    "data[\"Intent\"].value_counts()\n",
    "#print(len('Gosa_miira'))\n",
    "#print(len('jechoota'))"
   ]
  },
  {
   "cell_type": "markdown",
   "metadata": {},
   "source": [
    "# data preprocessing  "
   ]
  },
  {
   "cell_type": "code",
   "execution_count": 5,
   "metadata": {},
   "outputs": [],
   "source": [
    "def preprocess_text(sen):\n",
    "    # Removing html tags\n",
    "    sentence = remove_tags(sen)\n",
    "    # Remove punctuations and numbers\n",
    "    sentence = re.sub('[^a-zA-Z]', ' ', sentence)\n",
    "    # Single character removal\n",
    "    sentence = re.sub(r\"\\s+[a-zA-Z]\\s+\", ' ', sentence)\n",
    "    # Removing multiple spaces\n",
    "    sentence = re.sub(r'\\s+', ' ', sentence)\n",
    "    sentence = sen.lower()\n",
    "    return sentence\n",
    "TAG_RE = re.compile(r'<[^>]+>')\n",
    "def remove_tags(Text):\n",
    "    return TAG_RE.sub('', Text)"
   ]
  },
  {
   "cell_type": "code",
   "execution_count": 6,
   "metadata": {},
   "outputs": [],
   "source": [
    "def remove_stopwords(review_words):\n",
    "    with open('stopwords.txt')as stopfile:\n",
    "        stopwords=stopfile.read()\n",
    "        list=stopwords.split()\n",
    "        print(list)\n",
    "        with open(\"intent1.csv\") as workfile:\n",
    "            read_data=workfile.read()\n",
    "            data=read_data.split()\n",
    "            print(data)\n",
    "            for word1 in list:\n",
    "                for word2 in data:\n",
    "                    if word1==word2:\n",
    "                        return data.remove(list)\n",
    "                        print(remove_stopwords)"
   ]
  },
  {
   "cell_type": "code",
   "execution_count": 7,
   "metadata": {},
   "outputs": [
    {
     "data": {
      "text/plain": [
       "0        kiyyoo dirama oso  eguti jirun na darbe tari a...\n",
       "1                                    meeti ree kuta 28ffaa\n",
       "2             kutaa digdami sadetaffa isiin egee dadhabee.\n",
       "3        kutaa digdami sadetaffaa fiidagaa maali nuuraa...\n",
       "4        nuuf jabbadhakaa warii akka kotti kiyyoo jaala...\n",
       "                               ...                        \n",
       "10556    isheenis namoota dogoggoraa waliin lafa dogogg...\n",
       "10557    vidiyichis battalumatti qoodamuun marsariitiiw...\n",
       "10558    gochiwwan qaamaa warraabbicha irratti ture bah...\n",
       "10559              jechi gurbbichaa altokkicha dhagahame. \n",
       "10560                           viidiyoo waraabaa jirtaa? \n",
       "Name: Text, Length: 10561, dtype: object"
      ]
     },
     "execution_count": 7,
     "metadata": {},
     "output_type": "execute_result"
    }
   ],
   "source": [
    "data['Text'].apply(lambda x: x.lower())"
   ]
  },
  {
   "cell_type": "code",
   "execution_count": 8,
   "metadata": {},
   "outputs": [
    {
     "name": "stdout",
     "output_type": "stream",
     "text": [
      "                                                Text     Intent\n",
      "0  Kiyyoo dirama oso  eguti jirun na darbe tari a...  Question \n",
      "1                              Meeti ree kuta 28ffaa  Question \n",
      "2       Kutaa digdami sadetaffa isiin egee dadhabee.   Negative\n",
      "3  Kutaa digdami sadetaffaa fiidagaa maali nuuraa...   Negative\n",
      "4  Nuuf jabbadhakaa warii Akka kotti kiyyoo jaala...   Positive\n"
     ]
    }
   ],
   "source": [
    "Number_of_words = data[\"Text\"].apply(lambda n: len(n.split()))\n",
    "print(data.head())"
   ]
  },
  {
   "cell_type": "code",
   "execution_count": 9,
   "metadata": {},
   "outputs": [
    {
     "name": "stdout",
     "output_type": "stream",
     "text": [
      "75837\n"
     ]
    }
   ],
   "source": [
    "print(sum(Number_of_words))\n",
    "#print(total_words)"
   ]
  },
  {
   "cell_type": "markdown",
   "metadata": {},
   "source": [
    "# Feature Extraction"
   ]
  },
  {
   "cell_type": "code",
   "execution_count": 10,
   "metadata": {},
   "outputs": [
    {
     "data": {
      "text/plain": [
       "array([[   0,    0,    0,    0,    0,    0,    0,    0,    0,    0,    0,\n",
       "           0,    0,    0,    0,    0,    0,    0,    0,    0,    0,    0,\n",
       "           0,    0,    0,    0,  200, 3024, 3025,   37,  192,  140,  325],\n",
       "       [   0,    0,    0,    0,    0,    0,    0,    0,    0,    0,    0,\n",
       "           0,    0,    0,    0,    0,    0,    0,    0,    0,    0,    0,\n",
       "           0,    0,    0,    0,    0,    0,    0,    0,    0,  438, 3332],\n",
       "       [   0,    0,    0,    0,    0,    0,    0,    0,    0,    0,    0,\n",
       "           0,    0,    0,    0,    0,    0,    0,    0,    0,    0,    0,\n",
       "           0,    0,    0,    0,    0,    0,    0,  162, 3333,  326,  422],\n",
       "       [   0,    0,    0,    0,    0,    0,    0,    0,    0,    0,    0,\n",
       "           0,    0,    0,    0,    0,    0,    0,    0,    0,    0,    0,\n",
       "           0,    0,    0,    0,    0,    0,  162, 3333,  157, 3115,   47],\n",
       "       [   0,    0,    0,    0,    0,    0,    0,    0,    0,    0,    0,\n",
       "           0,    0,    0,    0,    0,    0,    0,    0,    0,    0,    0,\n",
       "           0,    0,    0,    0,    0,   78, 3334,    4, 3116,  200, 3335]])"
      ]
     },
     "execution_count": 10,
     "metadata": {},
     "output_type": "execute_result"
    }
   ],
   "source": [
    "tokenizer=Tokenizer(num_words=4000,split=\" \")\n",
    "tokenizer.fit_on_texts(data['Text'].values)\n",
    "x=tokenizer.texts_to_sequences(data['Text'].values)\n",
    "x=pad_sequences(x)\n",
    "x[:5]"
   ]
  },
  {
   "cell_type": "code",
   "execution_count": 39,
   "metadata": {},
   "outputs": [],
   "source": [
    "model = Sequential()\n",
    "model.add(Embedding(10000, 64, input_length=x.shape[1]))\n",
    "model.add(Dropout(0.3))\n",
    "model.add(Bidirectional(LSTM(150, return_sequences=True, dropout=0.3, recurrent_dropout=0.2)))\n",
    "model.add(Bidirectional(LSTM(100, dropout=0.5, recurrent_dropout=0.3)))\n",
    "#model.add(LSTM(128, dropout=0.2, recurrent_dropout=0.3))\n",
    "model.add(Dense(5, activation = 'softmax'))"
   ]
  },
  {
   "cell_type": "code",
   "execution_count": 40,
   "metadata": {},
   "outputs": [],
   "source": [
    "model.compile(loss='categorical_crossentropy', optimizer='adam',metrics=['accuracy'])"
   ]
  },
  {
   "cell_type": "code",
   "execution_count": 41,
   "metadata": {},
   "outputs": [
    {
     "name": "stdout",
     "output_type": "stream",
     "text": [
      "Question  [0 0 1 0 0]\n",
      "Question  [0 0 1 0 0]\n",
      "Negative [1 0 0 0 0]\n",
      "Negative [1 0 0 0 0]\n",
      "Positive [0 1 0 0 0]\n",
      "Positive [0 1 0 0 0]\n",
      "Suggestion  [0 0 0 1 0]\n",
      "Positive [0 1 0 0 0]\n",
      "Question  [0 0 1 0 0]\n",
      "Positive [0 1 0 0 0]\n",
      "Positive [0 1 0 0 0]\n"
     ]
    },
    {
     "data": {
      "text/plain": [
       "[None, None, None, None, None, None, None, None, None, None, None]"
      ]
     },
     "execution_count": 41,
     "metadata": {},
     "output_type": "execute_result"
    }
   ],
   "source": [
    "y=pd.get_dummies(data['Intent']).values\n",
    "[print(data['Intent'][i],y[i]) for i in range(0,11)]"
   ]
  },
  {
   "cell_type": "markdown",
   "metadata": {},
   "source": [
    "# Training and Testing dataset Splitting "
   ]
  },
  {
   "cell_type": "code",
   "execution_count": 42,
   "metadata": {},
   "outputs": [],
   "source": [
    "x_train, x_test, y_train, y_test = train_test_split(x, y, test_size = 0.1, random_state=0)"
   ]
  },
  {
   "cell_type": "code",
   "execution_count": 43,
   "metadata": {},
   "outputs": [],
   "source": [
    "ros = SMOTE(random_state=100)\n",
    "X_train_ros, y_train_ros = ros.fit_resample(x, y)"
   ]
  },
  {
   "cell_type": "markdown",
   "metadata": {},
   "source": [
    "# Train the Model"
   ]
  },
  {
   "cell_type": "code",
   "execution_count": 44,
   "metadata": {},
   "outputs": [
    {
     "name": "stdout",
     "output_type": "stream",
     "text": [
      "Epoch 1/30\n",
      "43/43 - 549s - loss: 1.5482 - accuracy: 0.2979 - val_loss: 1.2594 - val_accuracy: 0.4144 - 549s/epoch - 13s/step\n",
      "Epoch 2/30\n",
      "43/43 - 540s - loss: 1.1797 - accuracy: 0.5272 - val_loss: 0.9669 - val_accuracy: 0.6831 - 540s/epoch - 13s/step\n",
      "Epoch 3/30\n",
      "43/43 - 549s - loss: 0.9408 - accuracy: 0.6494 - val_loss: 0.5689 - val_accuracy: 0.8136 - 549s/epoch - 13s/step\n",
      "Epoch 4/30\n",
      "43/43 - 13239s - loss: 0.8065 - accuracy: 0.7095 - val_loss: 0.5122 - val_accuracy: 0.8411 - 13239s/epoch - 308s/step\n",
      "Epoch 5/30\n",
      "43/43 - 604s - loss: 0.7141 - accuracy: 0.7413 - val_loss: 0.4137 - val_accuracy: 0.8751 - 604s/epoch - 14s/step\n",
      "Epoch 6/30\n",
      "43/43 - 637s - loss: 0.6667 - accuracy: 0.7603 - val_loss: 0.3941 - val_accuracy: 0.8723 - 637s/epoch - 15s/step\n",
      "Epoch 7/30\n",
      "43/43 - 633s - loss: 0.6287 - accuracy: 0.7706 - val_loss: 0.3522 - val_accuracy: 0.8846 - 633s/epoch - 15s/step\n",
      "Epoch 8/30\n",
      "43/43 - 640s - loss: 0.6002 - accuracy: 0.7807 - val_loss: 0.3368 - val_accuracy: 0.8940 - 640s/epoch - 15s/step\n",
      "Epoch 9/30\n",
      "43/43 - 535s - loss: 0.5727 - accuracy: 0.7884 - val_loss: 0.3223 - val_accuracy: 0.8874 - 535s/epoch - 12s/step\n",
      "Epoch 10/30\n",
      "43/43 - 371s - loss: 0.5480 - accuracy: 0.7979 - val_loss: 0.3256 - val_accuracy: 0.8921 - 371s/epoch - 9s/step\n",
      "Epoch 11/30\n",
      "43/43 - 377s - loss: 0.5278 - accuracy: 0.8038 - val_loss: 0.2932 - val_accuracy: 0.8940 - 377s/epoch - 9s/step\n",
      "Epoch 12/30\n",
      "43/43 - 371s - loss: 0.5106 - accuracy: 0.8114 - val_loss: 0.2815 - val_accuracy: 0.8997 - 371s/epoch - 9s/step\n",
      "Epoch 13/30\n",
      "43/43 - 371s - loss: 0.4879 - accuracy: 0.8198 - val_loss: 0.2468 - val_accuracy: 0.9158 - 371s/epoch - 9s/step\n",
      "Epoch 14/30\n",
      "43/43 - 382s - loss: 0.4760 - accuracy: 0.8209 - val_loss: 0.2513 - val_accuracy: 0.9092 - 382s/epoch - 9s/step\n",
      "Epoch 15/30\n",
      "43/43 - 491s - loss: 0.4708 - accuracy: 0.8276 - val_loss: 0.2476 - val_accuracy: 0.9139 - 491s/epoch - 11s/step\n",
      "Epoch 16/30\n",
      "43/43 - 534s - loss: 0.4523 - accuracy: 0.8308 - val_loss: 0.2578 - val_accuracy: 0.9111 - 534s/epoch - 12s/step\n",
      "Epoch 17/30\n",
      "43/43 - 474s - loss: 0.4438 - accuracy: 0.8353 - val_loss: 0.2628 - val_accuracy: 0.9073 - 474s/epoch - 11s/step\n",
      "Epoch 18/30\n",
      "43/43 - 519s - loss: 0.4266 - accuracy: 0.8403 - val_loss: 0.2250 - val_accuracy: 0.9149 - 519s/epoch - 12s/step\n",
      "Epoch 19/30\n",
      "43/43 - 581s - loss: 0.4245 - accuracy: 0.8424 - val_loss: 0.2352 - val_accuracy: 0.9224 - 581s/epoch - 14s/step\n",
      "Epoch 20/30\n",
      "43/43 - 608s - loss: 0.4063 - accuracy: 0.8470 - val_loss: 0.2116 - val_accuracy: 0.9196 - 608s/epoch - 14s/step\n",
      "Epoch 21/30\n",
      "43/43 - 544s - loss: 0.3989 - accuracy: 0.8492 - val_loss: 0.2184 - val_accuracy: 0.9177 - 544s/epoch - 13s/step\n",
      "Epoch 22/30\n",
      "43/43 - 555s - loss: 0.3926 - accuracy: 0.8527 - val_loss: 0.2169 - val_accuracy: 0.9196 - 555s/epoch - 13s/step\n",
      "Epoch 23/30\n",
      "43/43 - 500s - loss: 0.3871 - accuracy: 0.8531 - val_loss: 0.2090 - val_accuracy: 0.9186 - 500s/epoch - 12s/step\n",
      "Epoch 24/30\n",
      "43/43 - 620s - loss: 0.3790 - accuracy: 0.8560 - val_loss: 0.2202 - val_accuracy: 0.9196 - 620s/epoch - 14s/step\n",
      "Epoch 25/30\n",
      "43/43 - 613s - loss: 0.3720 - accuracy: 0.8602 - val_loss: 0.2127 - val_accuracy: 0.9262 - 613s/epoch - 14s/step\n",
      "Epoch 26/30\n",
      "43/43 - 624s - loss: 0.3638 - accuracy: 0.8599 - val_loss: 0.2038 - val_accuracy: 0.9253 - 624s/epoch - 15s/step\n",
      "Epoch 27/30\n",
      "43/43 - 630s - loss: 0.3595 - accuracy: 0.8652 - val_loss: 0.1868 - val_accuracy: 0.9253 - 630s/epoch - 15s/step\n",
      "Epoch 28/30\n",
      "43/43 - 622s - loss: 0.3547 - accuracy: 0.8655 - val_loss: 0.1905 - val_accuracy: 0.9290 - 622s/epoch - 14s/step\n",
      "Epoch 29/30\n",
      "43/43 - 622s - loss: 0.3470 - accuracy: 0.8696 - val_loss: 0.1801 - val_accuracy: 0.9272 - 622s/epoch - 14s/step\n",
      "Epoch 30/30\n",
      "43/43 - 627s - loss: 0.3472 - accuracy: 0.8675 - val_loss: 0.1817 - val_accuracy: 0.9224 - 627s/epoch - 15s/step\n"
     ]
    }
   ],
   "source": [
    "batch_size = 512\n",
    "epochs = 30\n",
    "history = model.fit(X_train_ros, y_train_ros, epochs=epochs, batch_size=batch_size,validation_data=(x_test, y_test), verbose=2)"
   ]
  },
  {
   "cell_type": "markdown",
   "metadata": {},
   "source": [
    "# Test the Model "
   ]
  },
  {
   "cell_type": "code",
   "execution_count": 52,
   "metadata": {},
   "outputs": [
    {
     "name": "stdout",
     "output_type": "stream",
     "text": [
      "34/34 [==============================] - 15s 447ms/step\n"
     ]
    }
   ],
   "source": [
    "predictions = model.predict(x_test)"
   ]
  },
  {
   "cell_type": "code",
   "execution_count": 53,
   "metadata": {},
   "outputs": [
    {
     "name": "stdout",
     "output_type": "stream",
     "text": [
      "34/34 - 16s - loss: 0.1817 - accuracy: 0.9224 - 16s/epoch - 479ms/step\n",
      "[0.18167628347873688, 0.922421932220459]\n"
     ]
    }
   ],
   "source": [
    "scores = model.evaluate(x_test, y_test,verbose=2)\n",
    "\n",
    "print(scores)"
   ]
  },
  {
   "cell_type": "code",
   "execution_count": 54,
   "metadata": {},
   "outputs": [],
   "source": [
    "model.save(\"using_bidirectional_LSTM+SMOTE_Intent_Classification.h5\")"
   ]
  },
  {
   "cell_type": "code",
   "execution_count": 55,
   "metadata": {},
   "outputs": [
    {
     "name": "stdout",
     "output_type": "stream",
     "text": [
      "1/1 [==============================] - 32s 32s/step\n",
      "[[4.0507438e-03 3.0224957e-05 9.5830005e-01 1.6294967e-02 2.1323957e-02]] Question\n"
     ]
    }
   ],
   "source": [
    "new_intent = ['Kiyyoo dirama oso  eguti jirun na darbe tari ayaana moo sababa godhatu moyuu']\n",
    "seq = tokenizer.texts_to_sequences(new_intent)\n",
    "padded = pad_sequences(seq, maxlen=6000)\n",
    "pred = model.predict(padded)\n",
    "#Intent = ['Question', 'Negative', 'Positive', 'Suggestion', 'Wish']\n",
    "classes = ['Positive','Negative','Question','Suggestion','Wish']\n",
    "print(pred, classes[np.argmax(pred)])"
   ]
  },
  {
   "cell_type": "code",
   "execution_count": 56,
   "metadata": {},
   "outputs": [
    {
     "name": "stdout",
     "output_type": "stream",
     "text": [
      "Kiyyoo dirama oso  eguti jirun na darbe tari ayaana moo sababa godhatu moyuu [9.9493009e-01 2.0897083e-03 1.6906755e-03 9.3086745e-04 3.5850631e-04] [1 0 0 0 0]\n",
      "Meeti ree kuta 28ffaa [0.00813861 0.02648788 0.9335225  0.00450524 0.02734581] [0 0 1 0 0]\n",
      "Kutaa digdami sadetaffa isiin egee dadhabee. [4.1253170e-05 9.9764204e-01 2.9043988e-06 2.3079715e-03 5.9979889e-06] [0 1 0 0 0]\n",
      "Kutaa digdami sadetaffaa fiidagaa maali nuuraa tuursiftaani bar ani 1faa haanga 27faa haarfoofan tuuree [0.24610403 0.52497673 0.11825496 0.02508159 0.08558271] [0 1 0 0 0]\n",
      "Nuuf jabbadhakaa warii Akka kotti kiyyoo jaalatan  [9.9948478e-01 1.1586775e-04 1.7625901e-04 1.6749461e-04 5.5590666e-05] [1 0 0 0 0]\n",
      "Bayyee namatti tola itti fufa gariidha  [5.5823140e-03 9.8725873e-01 2.0822675e-03 5.2782521e-04 4.5488928e-03] [0 1 0 0 0]\n",
      "Diraamichi torbetti yeroo lamaa nuuf dhiyaachuu qaba [0.00432952 0.90249026 0.02045685 0.01664567 0.05607769] [0 1 0 0 0]\n",
      "Ani dhugaa dubbachuuf baayyeen diraamaa kana jaalladhee ilaalaa jira [1.2458860e-06 9.9982005e-01 1.3643324e-06 1.7060240e-04 6.8476043e-06] [0 1 0 0 0]\n",
      "Maliif nurraa turtan garuu? [4.3664812e-05 9.9978453e-01 1.0101582e-04 4.5470646e-05 2.5307407e-05] [0 1 0 0 0]\n",
      "Waan ajaaibatti [5.29663885e-05 6.11987198e-04 1.48528425e-05 9.99306679e-01\n",
      " 1.36357539e-05] [0 0 0 1 0]\n",
      "Namati toltuu [1.8198599e-04 6.4384319e-02 1.4874229e-04 9.3424630e-01 1.0385168e-03] [0 0 0 1 0]\n",
      "Torbeetti al tokko waan taheef osoo sa'ati isaa dheeratee xiqqooshe nutti tola   [8.3914138e-02 5.9958887e-03 3.9435225e-03 3.0449781e-04 9.0584195e-01] [1 0 0 0 0]\n",
      "Rabbi isinirraa haa jaalatu   [9.9986541e-01 8.5601918e-05 1.4970564e-05 3.0676852e-05 3.2767471e-06] [1 0 0 0 0]\n",
      "Namni akka koo dirama kiyoo jaalatan essa jirtu [6.5106242e-03 9.8925108e-01 1.8328663e-03 2.1406026e-03 2.6472364e-04] [0 1 0 0 0]\n",
      "Nurraa turtan  [0.00826352 0.8355225  0.03096364 0.09613159 0.02911871] [0 1 0 0 0]\n",
      "Baayee isiin jaaladha [0.00122404 0.40655947 0.00117456 0.589777   0.00126497] [0 1 0 0 0]\n",
      "Baayee namatti tolaa waan ta'ef nuuf jabaadhaa  [0.94744575 0.00338778 0.03080133 0.01695785 0.00140734] [1 0 0 0 0]\n",
      "Baayyee gariidha itti nuf fufa [8.7473691e-06 9.9984694e-01 1.3448194e-05 1.2692311e-04 3.9718757e-06] [0 1 0 0 0]\n",
      "Sinan dhabuun dhukuba guddaa dha [9.2211741e-01 7.2841905e-02 2.7541565e-03 1.7663486e-03 5.2013173e-04] [1 0 0 0 0]\n",
      "Jiradhaa [1.5740642e-04 9.9857450e-01 1.0963582e-03 7.4934411e-05 9.6933596e-05] [0 1 0 0 0]\n",
      "Diraamaa akana namaa galu haaruman argee [0.6841969  0.08766351 0.0982831  0.07335765 0.05649881] [1 0 0 0 0]\n",
      "Baayee natti toleeraa kiyyoon [1.5123413e-04 4.7812381e-01 3.9515979e-04 5.1893514e-01 2.3947491e-03] [0 0 0 1 0]\n",
      "Adaan hin murinaa [2.9764304e-04 1.2715778e-05 9.9659353e-01 9.4198727e-04 2.1541503e-03] [0 0 1 0 0]\n",
      "Isini yaddee maaf turtanii  [1.7719019e-03 9.3793649e-05 9.3681198e-01 7.5672413e-03 5.3755146e-02] [0 0 1 0 0]\n",
      "Baayee sin jaladhaa  [1.8828051e-04 2.5569956e-04 1.6548614e-03 1.8265287e-03 9.9607468e-01] [0 0 0 0 1]\n",
      "Baga Nagaan nuuf dhuftan ebbiffama  [9.983425e-01 3.074082e-04 3.560759e-04 8.256293e-04 1.683589e-04] [1 0 0 0 0]\n",
      "Anaa dhufuu jeneraa diramaa kiyyoo  [8.3914138e-02 5.9958887e-03 3.9435225e-03 3.0449781e-04 9.0584195e-01] [1 0 0 0 0]\n",
      "Bayye nama tolaa itti fufaa [1.4776917e-05 9.9990547e-01 7.1723380e-06 6.6265791e-05 6.2647086e-06] [0 1 0 0 0]\n",
      "Matii Kiyyoo bagaa nuf debitaan  [1.6672927e-04 9.9960750e-01 3.2022093e-05 1.8016888e-04 1.3575725e-05] [0 1 0 0 0]\n",
      "Jabaadhaa yeroo hunda isin daawwataa jirra [0.01640224 0.00226132 0.83606184 0.03545485 0.10981972] [0 0 1 0 0]\n",
      "Dhugaa fira'oliin garaa na nyaatee  [9.9894375e-01 1.0314264e-03 1.0837347e-05 5.2772498e-06 8.7293465e-06] [1 0 0 0 0]\n",
      "Kunis dramadhamoo maaf gabaabsitanii [3.7191592e-05 9.9993205e-01 5.4251046e-07 2.6721709e-05 3.4783654e-06] [0 1 0 0 0]\n",
      "Taatowan diraamaa kanaa nama ogummaa cimaa qabudha [0.06680345 0.00719879 0.41274306 0.4927182  0.02053647] [0 0 1 0 0]\n",
      "Utumaan eguu argadhee   [1.7991675e-05 9.9997187e-01 3.3519127e-06 5.1915245e-06 1.4989566e-06] [0 1 0 0 0]\n",
      "Kutaan Wal jala fuudhamee jira sirreeffadhaa [8.5514141e-03 8.6024468e-04 8.8524321e-05 9.9026030e-01 2.3955696e-04] [0 0 0 1 0]\n",
      "Maatiin diraamaa kiyyoo hedduu namatti toltu [1.4548765e-04 8.0732105e-05 5.9292652e-05 9.9959320e-01 1.2114309e-04] [0 0 0 1 0]\n",
      "Seenaa Artii Oromoo Kesssaatti kan akka diraamaa Kiyyoo bayee namaatti tolu bifa kaaminu baareeda taee hin argine [7.6448414e-06 2.7504610e-04 7.3601227e-06 9.9970180e-01 8.0913887e-06] [0 0 0 1 0]\n",
      "Kana caalaa Jabaadha  [9.9957389e-01 2.2243785e-04 1.4873620e-04 3.2682605e-05 2.2252792e-05] [1 0 0 0 0]\n",
      " Maaloo itti nuu fufa akka hin xumuramne [9.9993432e-01 5.9617421e-05 7.3224942e-07 3.6881856e-06 1.7078810e-06] [1 0 0 0 0]\n",
      " Nu jalaa baddan maal rakkoo maaliitu isin mudateee [9.84168589e-01 1.46985045e-02 3.02464003e-04 3.58226040e-04\n",
      " 4.72191867e-04] [1 0 0 0 0]\n",
      "Anaa dhufuu maalif nu jalaa turtani [0.00117364 0.9788737  0.01354016 0.00252573 0.00388671] [0 1 0 0 0]\n",
      " Ana dhufuu diraamaa kiyyoo baayeen sin egaa turee  [0.94897306 0.02782003 0.01280173 0.00915486 0.00125028] [1 0 0 0 0]\n",
      " Dafaa itti fufaa [0.03669487 0.00796478 0.33620566 0.30282918 0.31630558] [0 0 0 1 0]\n",
      " Kiyyoo torbee kanaa maliif aftaan? [9.8204041e-01 1.7380863e-02 1.3417934e-04 4.9625200e-05 3.9488004e-04] [1 0 0 0 0]\n",
      "wagaa kuma tokko nuuf jiradhaa [9.8637331e-01 1.2724352e-02 4.0481659e-04 1.8652889e-04 3.1089704e-04] [1 0 0 0 0]\n",
      "Monet Wani Rakko tokko illee kan qabdu natti hin Fakkaatu turee Garuu hardhaa irratti  bare  [2.7111232e-06 9.9996579e-01 2.7506505e-07 3.5953524e-06 2.7636241e-05] [0 1 0 0 0]\n",
      "Torbee tokko irraa torbee lama ma nurraa gootan jalallaa keessan torbee lama miti guyyan lama nuti gudatee [0.01657275 0.11490259 0.08840675 0.739273   0.04084487] [0 0 0 1 0]\n",
      "Ani Obsaa dhabban jiraam ummata koo [9.9998224e-01 1.5526572e-05 5.1334187e-08 1.3851941e-06 8.6957942e-07] [1 0 0 0 0]\n",
      "Maaliif beeksisaa baayiftuu [9.9891412e-01 4.9100211e-04 2.4404675e-04 2.5661025e-04 9.4304371e-05] [1 0 0 0 0]\n",
      "Jabaadhaa bayyee namati tolaa [9.9627578e-01 3.8688423e-04 5.0741131e-04 1.6354923e-03 1.1945496e-03] [1 0 0 0 0]\n",
      "Baga nagaan fuftan hundi kesanu [0.01847929 0.95299447 0.02229911 0.0023952  0.00383189] [0 1 0 0 0]\n",
      "Haawwidhaan isiin egnaa nagaan kotaa [0.97587377 0.00428272 0.00783763 0.00958695 0.00241888] [1 0 0 0 0]\n",
      "Osoon isin eeguu  ijji koo cuummaa na yaase [3.4230920e-03 2.3639025e-01 1.0707190e-02 2.0849278e-04 7.4927098e-01] [0 1 0 0 0]\n",
      "Baga nagaan dhuftan drama kiyyoo [9.9966383e-01 2.9788286e-04 7.3310034e-06 2.8887180e-05 1.9954653e-06] [1 0 0 0 0]\n",
      "Baayeen jaaladhaa diramaa kana itti fufaa [0.02151926 0.01691216 0.10465614 0.8397516  0.01716083] [0 0 0 1 0]\n",
      "Jabadhaa itii nuu fufaa Bayee isin jalanaa [6.6421446e-05 9.9975973e-01 2.0423502e-05 1.4470179e-04 8.6747250e-06] [0 1 0 0 0]\n",
      "Maaloo nuuf dheresaa osso qufin dhumaa [0.5429047  0.00440945 0.1720216  0.2413442  0.03932008] [0 0 0 1 0]\n",
      "Nagaan kotuu lubuko [3.8679904e-05 9.9989152e-01 2.1053076e-05 4.0146202e-05 8.5789798e-06] [0 1 0 0 0]\n",
      "Torbaniti si'a lamaa nuuf godhaa [9.9977881e-01 1.4496312e-04 1.0042657e-05 6.3119332e-05 3.0459134e-06] [1 0 0 0 0]\n",
      "Baga Nagaan Dhuftan Garuu Torbee Darbe Maaf Baddani [3.9083383e-04 1.4168298e-03 1.5427013e-02 9.8190510e-01 8.6016080e-04] [0 0 0 1 0]\n",
      "nurraa hin turiinaa umata koo [9.9741626e-01 8.3227118e-04 1.3974714e-04 1.3045422e-03 3.0729728e-04] [1 0 0 0 0]\n",
      "Diraamaa afaan Oromo kessaa kiyyoo fi hiree heddu jaaladhera  [9.6231612e-05 9.9966812e-01 8.8348324e-06 2.2298581e-04 3.8500939e-06] [0 1 0 0 0]\n",
      "Yaa umatakoo mee wali haa jajabeesinuu mati kiyyaa naafi ta'a [1.1055096e-03 9.9695045e-01 1.1280526e-03 7.0661138e-04 1.0930338e-04] [0 1 0 0 0]\n",
      "Baga nagaan dhuftan [0.98680264 0.00346824 0.00374808 0.00486421 0.00111685] [1 0 0 0 0]\n",
      "Bagaa nagadhaan dhuftan maati koo [1.6195109e-04 7.0836999e-05 6.6639923e-06 9.9975294e-01 7.6616543e-06] [0 0 0 1 0]\n",
      "Bagaa nagaan dhuftaan  [9.8300630e-01 3.9045189e-03 1.1347869e-02 1.1255357e-03 6.1585690e-04] [1 0 0 0 0]\n",
      " Jaalatamtotaa koo torben lama waggaa lama nati ta'ee  [0.00396285 0.00245352 0.97360194 0.00210225 0.01787939] [0 0 1 0 0]\n",
      "Jabaadha oromoo koo [0.9894076  0.00323124 0.00347136 0.00241003 0.00147972] [1 0 0 0 0]\n",
      "Baga nagaan dhuftanii garuu diraamaa keessan bicuu nuuf dheresaa malee [3.16437770e-04 1.98549285e-04 1.06082475e-02 1.40715484e-03\n",
      " 9.87469673e-01] [0 0 0 0 1]\n",
      " Anaa dhufuu  kiyyoo bayee isin yadee  [9.9652821e-01 7.2645483e-04 1.4729135e-03 9.6434908e-04 3.0807371e-04] [1 0 0 0 0]\n",
      "Hojiin meelaalaa natti tolaa hin jiru  [1.8973106e-04 9.9776840e-01 1.0731184e-03 6.9711381e-04 2.7163207e-04] [0 1 0 0 0]\n",
      "Baga nagaan dhuftanii  ijolle kenyaa [0.06770841 0.00288231 0.8101949  0.06859391 0.05062046] [0 0 1 0 0]\n",
      "Baga nagaan dhuftan bayyen isiin yadee [3.1689587e-03 1.5165475e-04 9.2331219e-01 5.9727323e-03 6.7394532e-02] [0 0 1 0 0]\n",
      "Kutaa 27 malif lakofsa irranfatani [2.0564639e-03 9.9101758e-01 5.2426551e-03 1.3328738e-03 3.5055401e-04] [0 1 0 0 0]\n",
      "Baga nagaan dhuftani akka itti isin yadee anatu bekaa [0.0141082  0.9310449  0.01767221 0.02327309 0.01390158] [0 1 0 0 0]\n",
      "Baga nagaa dhufnii [9.9980551e-01 6.8587033e-05 2.2115253e-05 9.3164832e-05 1.0666207e-05] [1 0 0 0 0]\n",
      "Diraamaa midhagaa dha nuuf jabaadhaa [2.34800228e-03 1.08284396e-04 9.90305662e-01 1.52296363e-03\n",
      " 5.71514573e-03] [0 0 1 0 0]\n",
      "Diraama kana  irraa wan bayyee irraa baradhe jabaadha  ittii fufaa [3.7126443e-05 9.9994123e-01 7.7702753e-06 8.5025395e-06 5.3898989e-06] [0 1 0 0 0]\n",
      "Diraamaa kiyooo anaa dhufuuu [7.5875089e-04 4.9192335e-02 9.6709555e-04 9.4852144e-01 5.6038063e-04] [0 0 0 1 0]\n",
      "Jabaadhaa [0.01241733 0.00291808 0.03221948 0.22217248 0.7302726 ] [0 0 0 1 0]\n",
      "Torbee nuraa hin dabarsiinaa [5.0141731e-05 9.9951828e-01 4.9899114e-05 3.5245941e-04 2.9166720e-05] [0 1 0 0 0]\n",
      "Maalif nuraa turtaan [2.3296927e-04 9.9774325e-01 1.6228907e-04 1.6337750e-03 2.2775275e-04] [0 1 0 0 0]\n",
      "Ana dhufuu jaalatamtoota keenyaa  [9.9943000e-01 5.1694241e-04 2.8417749e-06 3.1563038e-06 4.7018228e-05] [1 0 0 0 0]\n",
      "Kijibanii akka robsan kanaa hin jiruu [9.9988663e-01 1.7362270e-05 1.4018634e-05 7.4005475e-05 7.8477615e-06] [1 0 0 0 0]\n",
      "Jabaadhaa [9.8097089e-06 9.9989879e-01 7.0220312e-06 2.8719713e-05 5.5653487e-05] [0 1 0 0 0]\n",
      "Baga nagaan dhuftan [9.9986243e-01 1.3485989e-04 2.2277051e-07 1.7488336e-06 7.0671797e-07] [1 0 0 0 0]\n",
      "Torbee osso hin dhufin haafe garuu maal taatan [6.1041228e-06 9.9996746e-01 1.1989415e-06 2.4264773e-05 9.8690828e-07] [0 1 0 0 0]\n",
      "Baayyee isiin yaadne [2.7111232e-06 9.9996579e-01 2.7506505e-07 3.5953524e-06 2.7636241e-05] [0 1 0 0 0]\n",
      " isiin hordofuun keenyaa guddina aartii fi artistoota keenyaaf jajabinaa jedheen yaada  [9.9847716e-01 8.8661007e-04 2.7867378e-04 2.3099322e-04 1.2663470e-04] [1 0 0 0 0]\n",
      "Baga naga dhuftaan [1.69225654e-03 9.85203147e-01 1.22128185e-02 6.39313221e-05\n",
      " 8.27925280e-04] [0 1 0 0 0]\n",
      "Sinaan mucatii lafaa raa ishee kasee akkam baredi [9.9993432e-01 5.9617421e-05 7.3224942e-07 3.6881856e-06 1.7078810e-06] [1 0 0 0 0]\n",
      "Nuuf Jiraadhaa  [2.2694105e-04 4.2295411e-02 7.4178031e-05 9.5693803e-01 4.6528102e-04] [0 0 0 1 0]\n",
      "Ni turtanii maal rakoon jira moo [7.4345211e-05 7.7538416e-02 2.5845633e-03 9.1635972e-01 3.4429554e-03] [0 0 0 1 0]\n",
      "Baga nagaa dhuftan  [9.9638522e-01 3.9989973e-05 2.9564572e-03 5.4350117e-04 7.4797514e-05] [1 0 0 0 0]\n",
      "Maloo maaf nuraa  turtani  bayyee isin yadee bar [6.1942351e-06 9.9995458e-01 1.7399726e-06 3.0266659e-05 7.1176460e-06] [0 1 0 0 0]\n",
      "Waali xaaxxeraa dubiin gaariimaa haa ta.uu malee fuuldurii isaa [1.3894272e-04 9.9820864e-01 1.1993756e-05 1.6300281e-03 1.0458936e-05] [0 1 0 0 0]\n",
      "Robsan baguma mana san hin seenin male si jala dhiphataa ture  [9.9614418e-01 2.5353004e-04 2.4950042e-04 3.2549959e-03 9.7761789e-05] [1 0 0 0 0]\n",
      "Mee namnii akaa kooo dirmaaa kiyyoo arguuf arifatuu essa jirtuu [2.9872801e-05 9.9993396e-01 8.1207639e-07 3.2587730e-05 2.8057855e-06] [0 1 0 0 0]\n",
      "Baga nagaan dhuftan   baayee isiin yaadee [5.4247415e-04 9.9685115e-01 6.4333866e-04 1.7492794e-03 2.1377995e-04] [0 1 0 0 0]\n",
      "Maaliif akka fincaan aduree gootu dheressa male [1.5251380e-03 7.8545796e-05 9.7018874e-01 4.6890033e-03 2.3518514e-02] [0 0 1 0 0]\n",
      "Kutaa 27ffaa moo 28tii kuni garuu [9.6977556e-01 2.9218653e-02 2.5481678e-04 6.8472989e-04 6.6287132e-05] [1 0 0 0 0]\n",
      "Diraamaan keessan  akkuma tapha ijollee tahaa jiraa sirressa [4.9965224e-06 9.9969733e-01 2.1389660e-05 2.3228677e-04 4.4131619e-05] [0 1 0 0 0]\n",
      "Hin gabaabbatee xiqqoo yeroo itti dabalaa [9.9994063e-01 5.2767540e-05 1.0627848e-06 5.0235949e-06 5.3204019e-07] [1 0 0 0 0]\n",
      "Ana dhufuu heduu isin yaadnee jiraa [9.9560946e-01 3.8789909e-03 7.2544455e-05 3.4077888e-04 9.8323348e-05] [1 0 0 0 0]\n",
      " baayyee namatti tola garuu beeksiisa hin dheeressina malee [0.06014932 0.61077195 0.22193506 0.04869508 0.05844864] [0 1 0 0 0]\n",
      "Diramaa akkaa  bishani dhebonuu Diraamaan kun [4.4500762e-01 5.5186635e-01 4.7203247e-04 3.8813650e-05 2.6152011e-03] [1 0 0 0 0]\n",
      "Torbee taa'en issin eegaan bule [9.9940097e-01 5.7740934e-04 5.3974209e-06 5.1404018e-06 1.1082554e-05] [1 0 0 0 0]\n",
      "Baayee namatti toltuu [0.04117807 0.0711618  0.07124799 0.73281217 0.08359992] [0 0 0 1 0]\n",
      "Hawwi gudaan isin egga turee bagaa nagaan dhuftan [1.0170534e-05 9.9995482e-01 9.9955942e-06 2.1028865e-05 4.0755858e-06] [0 1 0 0 0]\n",
      "Baayee issin jaaladhaa  oromoo koo [0.4486474  0.18464108 0.16736296 0.16099274 0.0383558 ] [1 0 0 0 0]\n",
      "Diraamaan kunii heduu  namatii  tolaa  jabbesa  itti  fufa  [9.9989378e-01 1.0041672e-04 7.8283182e-07 2.3338725e-06 2.6756959e-06] [1 0 0 0 0]\n",
      "Baayee namatti toltuu dhugaa [1.6018715e-04 9.9972671e-01 2.4904679e-05 6.3505780e-05 2.4638273e-05] [0 1 0 0 0]\n",
      "Baga Nagaan dhuftan torbee maa Nuraa haftaan [0.20872475 0.18493293 0.24294916 0.23787056 0.12552254] [1 0 0 0 0]\n",
      "Baga nagan dhuftanii garuu nuraa turtanii  [9.9997520e-01 2.2706601e-05 1.3137513e-07 1.1879200e-06 8.1110136e-07] [1 0 0 0 0]\n",
      "Xiqqoo otoo akkanatti addaan turuu baattanii namatti tola [9.6231612e-05 9.9966812e-01 8.8348324e-06 2.2298581e-04 3.8500939e-06] [0 1 0 0 0]\n",
      "Baayee namati tola dhugaa [1.7509493e-03 1.4031673e-04 9.8586106e-01 9.1388784e-03 3.1087953e-03] [0 0 1 0 0]\n",
      "Galatomaa  waan bohasitanfi itti fufa [9.998646e-01 8.752727e-05 6.663808e-06 3.735825e-05 3.754954e-06] [1 0 0 0 0]\n",
      "Dhugaa hedduu isin eegaa turree  [4.3546455e-04 5.1127899e-01 1.0553203e-03 4.8425207e-01 2.9781512e-03] [0 0 0 1 0]\n",
      "Baga nagaan dhuftaan kabajamoo keenyaa  siin yaaderaa  [3.3681488e-04 9.8611522e-01 7.5288815e-04 1.2485705e-02 3.0939854e-04] [0 1 0 0 0]\n",
      "Baayee Namati toltuu baaye sin jaladha [1.6923425e-03 9.9825507e-01 1.2752512e-05 2.0355652e-05 1.9549609e-05] [0 1 0 0 0]\n",
      "Yeroon beksisumaan dhume [4.2979239e-04 9.9397141e-01 1.8889579e-03 2.2749170e-03 1.4348906e-03] [0 1 0 0 0]\n",
      "Bayyee isinii jaladhaa diraamaa kiyyoo kesatuu meluu [9.9989414e-01 1.9626372e-05 5.6404247e-06 6.7520792e-05 1.3140369e-05] [1 0 0 0 0]\n",
      "Anaa dhufu baayeen isiin yaadee [1.1883857e-04 2.9401528e-04 1.1624227e-05 9.9948895e-01 8.6488239e-05] [0 0 0 1 0]\n",
      "Baga nagaan dhuftan [0.00192089 0.1622744  0.8059477  0.01650553 0.01335149] [0 0 1 0 0]\n",
      "Baayee namatii tolaa jajabadhaa ittii fufaa [0.75933224 0.21356443 0.00519484 0.01722431 0.00468423] [1 0 0 0 0]\n",
      "Essatti badan kana hundaa obsa na ficisistan   [1.2519919e-04 1.9380424e-05 9.9920565e-01 2.3967729e-04 4.1009681e-04] [0 0 1 0 0]\n",
      "Maatii kiyyoo dhugaa fuundura saa tilmaamuun ni ulfaata [9.9998200e-01 1.2831654e-05 4.8792327e-07 4.2048487e-06 4.7330172e-07] [1 0 0 0 0]\n",
      "Baga nagaan dhuftan maatii kiyyoo  [9.9613887e-01 4.3257629e-04 1.1784086e-03 1.5692834e-03 6.8081653e-04] [1 0 0 0 0]\n",
      "Kana caalaa jabaadhaa oromoo koo [9.9911982e-01 7.8632170e-04 2.2459782e-05 5.0648378e-05 2.0745951e-05] [1 0 0 0 0]\n",
      "Diramaan kuni akkumaa maqaasaa kiyyoodha  [7.6237740e-04 3.9460688e-04 3.6309267e-04 9.9816316e-01 3.1672072e-04] [0 0 0 1 0]\n",
      " Ana haa dhufuu baga nagaan dhuftan [9.2437358e-06 3.7539419e-05 4.9847932e-07 9.9994826e-01 4.3600944e-06] [0 0 0 1 0]\n",
      "Yeroo hin gabaabsinaa  [9.9294561e-01 5.9859329e-03 3.2270196e-04 5.5554003e-04 1.9022738e-04] [1 0 0 0 0]\n",
      "Melaalaa irraa Anuu qabdaa [9.9722999e-01 2.7234803e-03 1.1013560e-05 2.3764800e-05 1.1700886e-05] [1 0 0 0 0]\n",
      "Namicha Diaspora  Kana osoo kessa baafatanii nati tola  [9.9967694e-01 2.2036403e-04 1.7520453e-05 6.9938607e-05 1.5262356e-05] [1 0 0 0 0]\n",
      "Barreeffama 28 gara 27 jijjiiraa [6.8797055e-04 9.9858141e-01 7.2106835e-05 2.7128961e-04 3.8729634e-04] [0 1 0 0 0]\n",
      "Heddu isini egaa turre [3.7084520e-01 6.2845320e-01 1.7351750e-04 3.9535546e-05 4.8859918e-04] [0 1 0 0 0]\n",
      "Waantii sinaanitii demaa jiruu ammaale garaa nama nyaata [4.7604372e-05 9.9763024e-01 5.4916542e-05 2.2511603e-03 1.6113547e-05] [0 1 0 0 0]\n",
      "Jabadhaa [0.01250701 0.8435478  0.09519915 0.03559684 0.01314916] [0 1 0 0 0]\n",
      "Torbban tokkoo waggaa natti ta'e [9.9859005e-01 4.7019726e-04 4.9128605e-04 3.5482351e-04 9.3569746e-05] [1 0 0 0 0]\n",
      "29ffa itti nu arifadhaa [8.88999462e-01 1.07922874e-01 1.44029444e-03 5.65700582e-04\n",
      " 1.07159931e-03] [1 0 0 0 0]\n",
      "Akka hadha gaba dhaqxee isiin egnee dadhabne  [0.11625224 0.44320887 0.26556927 0.15482698 0.02014262] [0 0 1 0 0]\n",
      "Baayee nama dhibduu [0.04793349 0.0034254  0.9389301  0.00116256 0.00854849] [1 0 0 0 0]\n",
      "Taatonni diraamaa kanaa hedduu galatoomaa   [0.00351579 0.99145824 0.00120712 0.0027914  0.00102744] [0 1 0 0 0]\n",
      " Torbee darbee maaf nuu jalaa haftaan [0.00454169 0.00211531 0.01122248 0.271654   0.7104665 ] [0 0 0 0 1]\n",
      "Dhugaa dubbachuuf diraaman kiyyo kun diraamaa addatii [4.9513963e-04 9.9922609e-01 1.6153157e-04 7.5060147e-05 4.2156516e-05] [0 1 0 0 0]\n",
      " bayyee midhagaa waan isaa hundii [0.04323339 0.8958653  0.0235742  0.02486418 0.0124628 ] [0 1 0 0 0]\n",
      "galatooma jechaa isinis jajjabeesuun nura jirra [0.00801524 0.28702828 0.00667964 0.36657542 0.33170134] [0 1 0 0 0]\n",
      "Yaroo diraamaa itti nuuf dheerressa beeksiisa irraa dhimma hin qabnu [6.1942415e-06 9.9995458e-01 1.7399743e-06 3.0266659e-05 7.1176528e-06] [0 1 0 0 0]\n",
      "Baga nagaan  dhuftan torbe issiin egaan dhabe   [7.0797773e-06 9.9988425e-01 4.2117695e-06 6.6467990e-05 3.7863691e-05] [0 1 0 0 0]\n",
      "jabadhaa hojii kesani hedduu nama bonsaa [4.7274572e-03 9.9079329e-01 1.7176510e-03 1.9662762e-03 7.9527177e-04] [0 1 0 0 0]\n",
      " torbee lama Booda nuf deebitan isin yaadeem  [0.00661699 0.00337574 0.97215366 0.00158079 0.0162729 ] [0 0 1 0 0]\n",
      "Bonan bilisee sinan irraa fudhatuf dema moo [3.4481898e-05 9.9983871e-01 2.1332544e-05 8.7221277e-05 1.8290526e-05] [0 1 0 0 0]\n",
      "Baayee namattii toltuu nuuf jiradhaa    [1.8511465e-04 9.9979562e-01 2.3477578e-06 1.4772660e-05 2.2006316e-06] [0 1 0 0 0]\n",
      "Isin yaddee dhugaa baga nagaan dhuftan [1.2046059e-04 4.8551527e-01 2.4645060e-04 5.1374322e-01 3.7464846e-04] [0 1 0 0 0]\n",
      "Maloo qalbi nu raraftani torbe addan kutani  [0.00740932 0.05520902 0.00989442 0.8871195  0.0403678 ] [0 1 0 0 0]\n",
      "Baga Nagan na dhuftaan bayyeen sin jalladhaa [9.9895418e-01 1.0031461e-03 8.2445476e-06 9.8480832e-06 2.4480796e-05] [1 0 0 0 0]\n",
      "Akkuman ittii isiin yadee yoo bektan [2.4326971e-05 9.9984109e-01 3.2538992e-05 7.2905132e-05 2.9091982e-05] [0 1 0 0 0]\n",
      "Baga nagaan dhuftan Garuu  nurraa hin turinaa [9.9993205e-01 3.0900384e-05 1.5748429e-06 2.5628544e-06 3.2855256e-05] [1 0 0 0 0]\n",
      "Garuu of nu barsiistanii maalif akkana baddan [7.6212001e-04 1.4149343e-02 1.3563085e-03 9.8316276e-01 5.6944980e-04] [0 0 0 1 0]\n",
      "Diraamaa kana komeentii barreessuu qofa osoo hin taane hanga xumurraati lamuu dhan haa jajjabeessinu. [0.0038248  0.00281714 0.0485392  0.03771304 0.9071058 ] [0 0 0 0 1]\n",
      "Dhugaa beyee tokkoo namatii totuu itti fufaa  [0.5787696  0.19382492 0.09649595 0.1054496  0.02545988] [1 0 0 0 0]\n",
      "Anaa dhufu kiyyoo koo sin yaade dhugaa [0.05917241 0.01883681 0.45033187 0.41568184 0.05597708] [0 0 1 0 0]\n",
      "Wal baqachuun kun hanga yoomitti garuu [0.00549642 0.8293202  0.01220639 0.12769625 0.02528064] [0 1 0 0 0]\n",
      "Baga bara haraa gessan ijoollee oromoo  [8.0971175e-01 1.8812722e-01 6.4060558e-04 1.1386799e-03 3.8175244e-04] [0 1 0 0 0]\n",
      "Beeksisa nuttii hin bayyisinaa [7.0797773e-06 9.9988425e-01 4.2117695e-06 6.6467990e-05 3.7863691e-05] [0 1 0 0 0]\n",
      " kiyyoo akkan sin jaaladhuu  [1.1267557e-04 1.5020642e-05 9.9858737e-01 4.0679460e-04 8.7814272e-04] [0 0 1 0 0]\n",
      "Nuraa turtan garuu jabaadhaa namaatii tolaa [9.9977881e-01 1.4496312e-04 1.0042657e-05 6.3119332e-05 3.0459134e-06] [1 0 0 0 0]\n",
      " Natuu duraa lallee jiraa    [9.9981350e-01 1.7002695e-04 2.9826433e-06 1.1108582e-05 2.3383836e-06] [1 0 0 0 0]\n",
      "Kiyyoon kan duraa irraa amma caalatti bareeda jira jabaadha [7.1983651e-04 9.7915274e-01 1.5939871e-02 7.1278668e-04 3.4747380e-03] [0 1 0 0 0]\n",
      "Anatuu jalqabaa lallee  [0.8907651  0.01665661 0.04279537 0.03925854 0.01052442] [1 0 0 0 0]\n",
      "Torbee darbee essatii haaftan [0.3830721  0.1179618  0.25599074 0.14296737 0.10000799] [1 0 0 0 0]\n",
      "malif hin dhufin sanbata taree [5.1990086e-05 9.9992335e-01 3.9260967e-06 1.7427010e-05 3.3882916e-06] [0 1 0 0 0]\n",
      "Mee namnii akka koo hawwiidhan eegata turtan essa jirtuu [0.06379412 0.90437794 0.01060139 0.00248132 0.01874519] [0 1 0 0 0]\n",
      "Haaradha Namni tokko nan Dursinee [9.3755504e-04 4.9067108e-05 9.8333251e-01 1.8184436e-03 1.3862509e-02] [0 0 1 0 0]\n"
     ]
    },
    {
     "name": "stdout",
     "output_type": "stream",
     "text": [
      " Anaa dhufuu  Diramaa kiyyoo  [0.52674234 0.00925027 0.3657248  0.06438459 0.03389797] [1 0 0 0 0]\n",
      "An dhufuu kabajamoota keenyaa matii kiyyoo [9.9980229e-01 4.1127507e-05 1.0352799e-05 1.4139517e-04 4.8512966e-06] [1 0 0 0 0]\n",
      "Anaa dhufuu qopheesitoota diraama Kiyyoo [3.8934984e-05 1.6054940e-01 3.2939766e-05 8.3924031e-01 1.3850542e-04] [0 0 0 1 0]\n",
      "Maaf torbee Darbee nuraa haftanii osso isinii egnuu [1.2263885e-05 9.9995553e-01 3.9361503e-06 2.3885039e-05 4.3854602e-06] [0 1 0 0 0]\n",
      "Sin eegaa jirra dheebun [1.0721824e-05 4.9957353e-06 9.9988496e-01 4.8727801e-05 5.0562121e-05] [0 0 1 0 0]\n",
      "Heddu na arsitanii  [1.1103568e-05 9.9986839e-01 9.3167091e-06 1.0422042e-04 7.0576884e-06] [0 1 0 0 0]\n",
      "Anatu tokofaa lalee [5.0549756e-05 1.9209300e-01 6.2427280e-05 8.0744857e-01 3.4549923e-04] [0 0 0 1 0]\n",
      "Baga nagaan dhuftan garuu hin tursiisinaa [5.1907733e-05 9.9895179e-01 6.5869506e-04 1.4689592e-04 1.9066627e-04] [0 1 0 0 0]\n",
      "Maatiin diraamaa kiyyoo suusii natti taatan hojii keessan nyaadhaa [9.9463039e-05 1.0935797e-05 9.9937123e-01 2.0584863e-04 3.1247106e-04] [0 0 1 0 0]\n",
      "Diramaan kiyyoo bayee  namatii tolaa [1.20242854e-04 9.97834742e-01 6.70199443e-05 1.90311903e-03\n",
      " 7.49815881e-05] [0 1 0 0 0]\n",
      "Issa darbe Kutaa 28 keessatti nan dhabe [9.9226367e-01 2.2026384e-03 9.6894929e-04 4.3677548e-03 1.9698338e-04] [1 0 0 0 0]\n",
      "Baayee namatti tolaa [2.2861655e-03 2.3169191e-04 9.9393576e-01 1.8880769e-03 1.6583093e-03] [0 0 1 0 0]\n",
      "Nujalaa gabaabsitan san gubbaan torbetti al tokko [1.0927128e-04 9.9900621e-01 6.1391867e-05 4.2175383e-05 7.8105700e-04] [0 1 0 0 0]\n",
      "Diramaa kiyoo bayyee isin jaaladhaa [4.0698631e-04 9.9919468e-01 4.6361340e-05 3.0978722e-04 4.2141004e-05] [0 1 0 0 0]\n",
      "Baga dhuftan  [6.4977404e-04 9.9835134e-01 6.0298329e-04 1.5554065e-04 2.4039955e-04] [0 1 0 0 0]\n",
      "Akka isiin jaaladhuu [1.0023114e-05 2.4042549e-05 8.0550996e-07 9.9995565e-01 9.4728302e-06] [0 0 0 1 0]\n",
      "Sagaleen babbadaa jira akka duraati deebisaa [3.6601548e-04 9.9884546e-01 5.4989959e-04 9.4141440e-05 1.4447795e-04] [0 1 0 0 0]\n",
      "Baayee Namatti Tola Galatoma  [6.1229104e-04 9.9707150e-01 4.3701689e-04 3.6559024e-04 1.5136237e-03] [0 1 0 0 0]\n",
      "Siifoo xiqooman argee [2.9015035e-04 9.9805993e-01 4.4298248e-04 9.0598821e-04 3.0093963e-04] [0 1 0 0 0]\n",
      "Bekisisaa xiqqessaa maali kuni hundii [0.72249013 0.05310125 0.05099139 0.12564918 0.04776804] [1 0 0 0 0]\n",
      "Maaf garuu diramaa yeroo hojjatan ni gababataa mafi dheresitan hin hojjatinaa  [9.9660623e-01 3.0120225e-03 1.5807377e-04 7.1057257e-05 1.5259981e-04] [1 0 0 0 0]\n",
      "Isin Jalanaa jajabaadha [1.3751467e-04 4.9105301e-01 6.6247536e-04 5.0745285e-01 6.9416722e-04] [0 0 0 1 0]\n",
      "Dafaa nuf dabalaa diramaan kun bayyee namaa hawataa dhugaa  [1.2440898e-05 9.9991798e-01 2.1111064e-06 6.6155990e-05 1.2522120e-06] [0 1 0 0 0]\n",
      "Hedduu namatti tola [3.9376257e-05 9.9976236e-01 2.0478497e-05 1.7013602e-04 7.5891357e-06] [0 1 0 0 0]\n",
      "Maaloo ni gabaabsitani yokin immoo torbeetti yeroo 2 nuuf godhaa  [6.8483886e-04 4.8482936e-05 9.9704117e-01 1.4065723e-03 8.1886310e-04] [0 0 1 0 0]\n",
      "Maal taatanii [9.9998224e-01 1.5526572e-05 5.1334187e-08 1.3851941e-06 8.6957942e-07] [1 0 0 0 0]\n",
      "Nujalaa gabaabbate xiqqoo [4.8040348e-04 5.8975926e-05 9.9276990e-01 1.9549367e-03 4.7357948e-03] [0 0 1 0 0]\n",
      "Maaf adaan kutanii nagadhaa mitii [9.9946505e-01 4.9277727e-04 5.7027878e-06 3.1580781e-05 4.8270649e-06] [1 0 0 0 0]\n",
      "Sa'atii xiqqoo itti dabalaa   [0.00960192 0.00110531 0.1506707  0.07930263 0.7593194 ] [0 0 0 0 1]\n",
      "Bayyee tokko sii jaaladhaa dhugaa [9.9963284e-01 1.9261021e-04 1.2201624e-04 4.1273564e-05 1.1251812e-05] [1 0 0 0 0]\n",
      "Nuuf jiraadhaa [9.9969172e-01 1.4098610e-04 9.9920740e-05 5.6886012e-05 1.0578950e-05] [1 0 0 0 0]\n",
      "Beeksisni baayyate [3.6804682e-05 9.9920219e-01 5.5976788e-04 1.1197632e-04 8.9350942e-05] [0 1 0 0 0]\n",
      "Fiilmii afaan oromo akkana laaluu kiyyati baayeen gammada galatooma [5.8977516e-06 9.9997985e-01 1.2364068e-06 1.1778972e-05 1.1834466e-06] [0 1 0 0 0]\n",
      "Addeemsii keessaan baredadhaa garuu wa'ee bankii gogaa hoolaa ufataa kanaa osoo dubachuu bataanii garii natii fakkataa [3.9376257e-05 9.9976236e-01 2.0478497e-05 1.7013602e-04 7.5891357e-06] [0 1 0 0 0]\n",
      "Jabaadha [3.0716186e-05 9.9986696e-01 4.1099051e-06 9.5446369e-05 2.7909600e-06] [0 1 0 0 0]\n",
      "Maaliidha haraa akka itti eega ture miti garuu wanti namati tolu mooneet milkaa'uf deemti nati fakkaata [2.6620897e-03 9.9710864e-01 4.1027186e-05 1.6865818e-04 1.9658701e-05] [0 1 0 0 0]\n",
      "Diraamaa bayyee jaladhuu [1.2732178e-03 9.9330384e-01 3.4696020e-03 7.7798561e-04 1.1753244e-03] [0 1 0 0 0]\n",
      "Gaalatomaa Ammayyu ittuuma fufa isiin waallin jira [7.7219919e-04 9.9563771e-01 1.7767814e-03 7.7118800e-04 1.0420495e-03] [0 1 0 0 0]\n",
      "Dhugaa dha namaa jalaatan dagachuun salphaa mitii [3.1351297e-05 9.9995768e-01 1.0025940e-06 4.6801833e-06 5.4072816e-06] [0 1 0 0 0]\n",
      "Baga nagaan dhuftan isin jaalanaa  [9.9991930e-01 5.3491811e-05 1.9062754e-06 2.0854650e-05 4.4373364e-06] [1 0 0 0 0]\n",
      "Baayee baredaadha garuu beksissa xiqqesaa yookiin yaroo itti dabalaa [5.3036277e-04 9.9067199e-01 1.3637773e-03 6.9490517e-03 4.8480311e-04] [0 1 0 0 0]\n",
      "Maloo osoo xiqumaa ittii nuuf dheressitani  [9.8722009e-04 9.3646077e-03 3.1154912e-03 9.8611408e-01 4.1857059e-04] [0 0 0 1 0]\n",
      "Diraamaa jaallatamaadha jabaadhaa [9.063760e-05 9.997502e-01 3.450161e-05 8.123866e-05 4.340938e-05] [0 1 0 0 0]\n",
      "Meelu mucaa Oromoo jabaadhuu [4.2917378e-02 3.8033767e-04 6.1165774e-04 1.9699901e-02 9.3639076e-01] [0 0 0 0 1]\n",
      "Hedduu galatooma [0.970249   0.0084769  0.00853377 0.01081927 0.00192121] [1 0 0 0 0]\n",
      "dadafaa kotaa [0.001807   0.93606824 0.00854189 0.01656298 0.03701985] [0 1 0 0 0]\n",
      "Baayee  nammtti tala  [7.18485098e-05 9.99816000e-01 4.00047065e-05 5.73375510e-05\n",
      " 1.48989675e-05] [0 1 0 0 0]\n",
      "Diraamaa kuni baredadha garu bayye gababadha sanifi ilalunu heddu nama jibisisaa  [1.9410472e-04 9.9297208e-01 6.5023976e-04 3.6129648e-05 6.1475518e-03] [0 1 0 0 0]\n",
      " Ni gabaabate [2.5809723e-05 9.9941933e-01 4.3328974e-04 4.2148269e-05 7.9493853e-05] [0 1 0 0 0]\n",
      "Maalif yeroo gabaabsitu garu [0.00509249 0.9787587  0.00126946 0.01039619 0.00448317] [0 1 0 0 0]\n",
      "Jajjabaadha [8.9611620e-01 1.0374250e-01 3.6725010e-05 1.9949455e-05 8.4558560e-05] [1 0 0 0 0]\n",
      "Baayee gaariidha garuu baayyee gababbate [4.6630512e-06 9.9995255e-01 3.9706492e-07 4.1502906e-05 1.0057021e-06] [0 1 0 0 0]\n",
      "Jabaadha itti fufaa haala gaarii irrati jirtani akkuma kanatti kan biraa ille nuuf dalagaa  [9.9894220e-01 6.4107246e-04 2.2092923e-04 1.5921390e-04 3.6734134e-05] [1 0 0 0 0]\n",
      "Beeksisaa baayistan xiqqeessaa  [7.4540621e-05 4.1196346e-01 1.4403640e-04 5.8735031e-01 4.6762516e-04] [0 1 0 0 0]\n",
      "Jabaadhaa iti fufi namati tolaa [2.2861655e-03 2.3169191e-04 9.9393576e-01 1.8880769e-03 1.6583093e-03] [0 0 1 0 0]\n",
      "Osoon isiin eguu ijii koo na gogee [0.1416522  0.8187294  0.01893367 0.01669228 0.00399242] [0 1 0 0 0]\n",
      "Torbee guutuu isin egnee beksiisa irra hedduudha Maaliif garuu  [3.5201584e-04 4.9500573e-05 9.7828680e-01 5.7302712e-04 2.0738723e-02] [0 0 1 0 0]\n",
      "Baayee nurraa tursiisaa jirtuu maaloo saffisaan nuuf hojjadhaa [0.908689   0.02586902 0.03188041 0.01725088 0.01631054] [1 0 0 0 0]\n",
      "Waaqayyoo isiin haa Ebbisuu jabaadha  [5.6539685e-04 1.0495191e-03 6.2486666e-05 9.9798584e-01 3.3662433e-04] [0 0 0 1 0]\n",
      "Nuuf jiraadhaa hedduu isiin jaalanaa  [0.15590848 0.01665866 0.10008401 0.62730855 0.1000402 ] [0 0 0 1 0]\n",
      "Diraamaan keessan beeksisaa qofatuu baayetaa yokiin yeroo itti nuuf dabalaa [1.1214935e-04 9.9843544e-01 9.0755208e-04 3.8113218e-04 1.6382062e-04] [0 1 0 0 0]\n",
      "Maaloo yaroo xiqqoo dheressaa [2.4075065e-05 9.9832267e-01 2.5001922e-05 1.5951453e-03 3.3108427e-05] [0 1 0 0 0]\n",
      "Yeromaa hojii kenyaa taa'en lalaa kaa [1.4548765e-04 8.0732105e-05 5.9292652e-05 9.9959320e-01 1.2114309e-04] [0 0 0 1 0]\n",
      " Bekisisaan fixani hoo maal taatan [1.2492939e-03 2.3617798e-04 9.7803247e-01 3.2429942e-03 1.7239081e-02] [0 0 1 0 0]\n",
      "Baayee isin jaaladhaa dhugaa jabaadha  [8.9183396e-01 1.0767719e-01 1.5899249e-04 1.5051484e-04 1.7938476e-04] [1 0 0 0 0]\n",
      "Guyaan nuraa fagaatee [6.8483886e-04 4.8482936e-05 9.9704117e-01 1.4065723e-03 8.1886310e-04] [0 0 1 0 0]\n",
      "Torbee dhufuu nagan kootaa yoo danda'ame yaroo nuuf dabalaa  [1.1744294e-03 9.9747473e-01 1.8009917e-04 8.6196314e-04 3.0876303e-04] [0 1 0 0 0]\n",
      "Torbeen tokkoo hanga gahuutti baayeen arifadhaa  [1.4102518e-05 1.3146051e-06 6.9111571e-05 2.4749123e-04 9.9966800e-01] [0 0 0 0 1]\n",
      "Baga nagaan dhuftan onee keenyaa futan jaalalaan nu bojitan [4.6433895e-05 9.9992561e-01 1.5651650e-06 2.5466252e-05 8.2432706e-07] [0 1 0 0 0]\n",
      "Fiilmii afaan oromoo keessaa Kan akkanaa daawwadhee hin beekuu  [4.8086287e-05 1.1850742e-04 3.9227330e-06 9.9978918e-01 4.0413976e-05] [0 0 0 1 0]\n",
      "Baayee natti tole dhugaa kutaa dhufuratti meelu garraa gubbuu qabdaa sinaan [2.0273325e-03 5.4217229e-04 9.4347596e-01 8.5511627e-03 4.5403428e-02] [0 0 1 0 0]\n",
      "Diraamaa bareedadha garuu hin xiqqaate [0.5524146  0.12151035 0.16450742 0.08864793 0.07291968] [1 0 0 0 0]\n",
      "Oromoon kiyaa bareduu dha [2.4984934e-04 2.4446399e-05 5.2282191e-03 1.2596014e-02 9.8190147e-01] [0 0 0 0 1]\n",
      "Ijoollee maati naa ta'aa  [2.4341723e-04 1.0710732e-03 6.6962348e-05 9.9857759e-01 4.0893381e-05] [0 0 0 1 0]\n",
      "Heduu namattii toltanii. garuu yeroo nujalaa gabasitanii malee  [2.1998663e-04 1.2196760e-04 9.9517347e-04 2.1341052e-03 9.9652880e-01] [0 0 0 0 1]\n",
      "Baga nagaan dhuftan  [9.98251617e-01 1.48981588e-03 4.70767336e-05 1.02451617e-04\n",
      " 1.09039414e-04] [1 0 0 0 0]\n",
      "Jabaadha isin ija keenya nu barbaachiiftuu [4.2815940e-05 3.5332690e-04 2.1578171e-05 9.9956459e-01 1.7779721e-05] [0 0 0 1 0]\n",
      "Maaloo xiqoo sa'ati itti nuuf dabalaa  [0.00899116 0.00094225 0.23156178 0.04073416 0.7177706 ] [0 0 0 1 0]\n",
      "Rakkon keessan yaroo baayee filmiin hin gabaabataa malif garuu [9.9263072e-01 1.3784736e-03 1.3264301e-03 4.3737041e-03 2.9056359e-04] [1 0 0 0 0]\n",
      "Yaroo isaa baayee gabaabataa maalif itti hin dabalee [9.9995732e-01 3.9175022e-05 1.4209506e-06 1.8721448e-06 2.7015804e-07] [1 0 0 0 0]\n",
      "Hara moo beeksisaa qofaatii yeroo xumuurtaan  [0.9190344  0.06159229 0.0103966  0.00595598 0.00302068] [1 0 0 0 0]\n",
      "Biliseenis qabamtemmoo [4.7940408e-05 9.9947852e-01 2.6522996e-05 4.0070957e-04 4.6400652e-05] [0 1 0 0 0]\n",
      "Baayeen jaaladhaa diraamaa kana [0.01054983 0.01589842 0.05493831 0.09580764 0.8228058 ] [0 0 0 1 0]\n",
      "Diraamaan kuni suusii nati ta'e jira garuu gababaate malee [0.43821812 0.2189043  0.10804891 0.16393106 0.07089758] [1 0 0 0 0]\n",
      "Baayee siin jaaladhaa jabaadhaa  [1.1269930e-05 3.1109693e-04 5.4670645e-06 9.9966729e-01 4.8335555e-06] [0 0 0 1 0]\n",
      "Beeksisa itti baayyistanii [3.0360991e-04 9.4160414e-01 1.1339704e-02 4.5824595e-02 9.2794740e-04] [0 1 0 0 0]\n",
      "Diraamaa baayee namati toludhaa [9.9829835e-01 1.1488891e-03 2.6866770e-04 2.2205233e-04 6.1992905e-05] [1 0 0 0 0]\n",
      "Ijollee oromoo jabaadha wal jajjabeessa ammallee dhalloonnii dhufu wan heduu nurraa eega waanta'efi. [1.0539674e-05 9.9996126e-01 5.5242822e-06 1.9553499e-05 3.0905571e-06] [0 1 0 0 0]\n",
      "Melu jabaadhu maaf turtee [9.9777704e-01 1.9215521e-03 1.6164734e-06 2.1964295e-06 2.9753338e-04] [1 0 0 0 0]\n",
      "Diramaan keesaan baayee namati tolaa garuu beksiisa hin baayisinaa [9.1965091e-01 7.9958320e-02 1.2397331e-04 2.0107509e-04 6.5696157e-05] [1 0 0 0 0]\n",
      " Baayee isiin egaa turee akka male garaa nu seentani jirtuu [8.8300218e-04 9.7856027e-01 5.6399987e-04 1.1934652e-04 1.9873472e-02] [0 1 0 0 0]\n",
      "Namatii tolaa  [1.7137586e-06 9.9993849e-01 3.0875364e-07 5.0927647e-05 8.6394102e-06] [0 1 0 0 0]\n",
      "Baga nagaan nu dhuftan [0.05133236 0.57550186 0.057623   0.28663495 0.02890776] [0 1 0 0 0]\n",
      "Kiyyoon diraamaa qofa miti jiruuf jireenya hawaasummaa isa qabatamaadha [1.9212352e-04 9.9963582e-01 8.9018722e-05 3.2366599e-05 5.0674244e-05] [0 1 0 0 0]\n",
      "Diraamaa oromoo dinqisiisaa kan ta'edha dhugaa [1.7137586e-06 9.9993849e-01 3.0875364e-07 5.0927647e-05 8.6394102e-06] [0 1 0 0 0]\n",
      "Baga nagaan dhuftan garuu hamma kana hin tursinaa male [1.9223138e-05 3.5268211e-04 2.6849566e-05 6.1347568e-04 9.9898773e-01] [0 0 0 0 1]\n",
      "Baga nagaan dhuftan  diraamaa kiyyoo   [0.00549642 0.8293202  0.01220639 0.12769625 0.02528064] [0 1 0 0 0]\n",
      "Baga nagaan dhuftan jalatamoo kabajamoo keenyaa [9.9091512e-01 4.9470095e-03 1.6059800e-03 1.9155057e-03 6.1640108e-04] [1 0 0 0 0]\n",
      "Jabaadha [2.0868683e-05 2.0936609e-06 1.3607475e-03 9.3590299e-04 9.9768031e-01] [0 0 0 0 1]\n",
      "Anii akkaa dhunfaa kotii jabaadhaa isin jachuu barbaadaa [9.3880162e-06 9.9990070e-01 5.3310664e-06 3.5168770e-05 4.9495458e-05] [0 1 0 0 0]\n",
      "Diaramaa kiyyoo lalufiii guyaa gutuu yadaa olee [2.7111232e-06 9.9996579e-01 2.7506505e-07 3.5953524e-06 2.7636241e-05] [0 1 0 0 0]\n",
      "Diraamaa heduu namatii tolludhaa kesaa fuu sadarkaa isaa kan egateedhaa [9.9576002e-01 2.5388137e-03 7.6548778e-05 1.5858752e-03 3.8669812e-05] [1 0 0 0 0]\n",
      "Maaloo garuu Dureen maalif badde [2.8778510e-05 9.9980491e-01 5.7467700e-05 2.0738367e-05 8.8128276e-05] [0 1 0 0 0]\n",
      "Baayyee bareedduu dha [8.9302118e-04 9.9894625e-01 1.5467665e-05 1.3736611e-04 7.8638641e-06] [0 1 0 0 0]\n",
      "Anaa dhufu jaalleewwan koo isin egaan ture [0.06189361 0.00283978 0.68118435 0.16660643 0.08747579] [1 0 0 0 0]\n",
      "Baga nagaan dhuftan [1.7122210e-03 9.9791378e-01 8.1899096e-05 2.1092898e-04 8.1165563e-05] [0 1 0 0 0]\n",
      "Bagaa dhuftan oromo koo [0.18361649 0.4387708  0.11728521 0.19988665 0.06044088] [1 0 0 0 0]\n",
      "Oromo koo mee artii oromo kan haa gudifnuu  [6.3089986e-04 4.0192776e-03 3.2995496e-04 9.9484199e-01 1.7788925e-04] [0 0 0 1 0]\n",
      "Maali torbanitti tokko innu walakkaan beeksisaa  [2.05357856e-06 9.99993920e-01 1.11328696e-07 3.14612953e-06\n",
      " 8.79799813e-07] [0 1 0 0 0]\n",
      "��𝐚𝐥𝐨 𝐧𝐮uf 𝐝𝐡𝐞𝐫𝐞𝐬a𝐚 𝐝𝐢𝐫a𝐚𝐦𝐚a kana [9.9956828e-01 2.7940568e-04 2.1365024e-05 9.3638635e-05 3.7351314e-05] [1 0 0 0 0]\n",
      "Beksisaa hin bayisinaa [0.041219   0.0105795  0.08735052 0.67407066 0.18678029] [0 0 0 1 0]\n",
      "Yaroon maaf gabaabatee  [0.00234188 0.00868898 0.00679324 0.00570787 0.97646797] [0 0 0 0 1]\n",
      "Baayee na boharsitani [5.8116209e-05 9.9984086e-01 4.6342811e-05 1.2546823e-05 4.2189331e-05] [0 1 0 0 0]\n",
      "Diraaman kun baayee nama jibisisaa [4.0595238e-03 2.0274054e-04 1.1454994e-04 9.9482298e-01 8.0018106e-04] [0 0 0 1 0]\n",
      "Yaroo isaa oso nuuf dheeressitanii gaariidha  [0.00621293 0.02417197 0.06269433 0.89956033 0.00736047] [0 0 0 1 0]\n",
      "Jabadhaa hojadhaa [3.1216983e-05 9.9979371e-01 3.6505509e-05 7.5294840e-05 6.3312109e-05] [0 1 0 0 0]\n",
      "Baayee isin jaalanaa [1.1955643e-03 9.9856710e-01 2.1485786e-05 1.9491641e-04 2.0997559e-05] [0 1 0 0 0]\n",
      "Siritti hin hojataminee siresaa [8.3603874e-05 9.8497242e-01 1.1396143e-03 1.3564227e-02 2.4017705e-04] [0 1 0 0 0]\n",
      "Sifaan bayyee na maraartii wantii hunduu ishee iftoomina fi dhugaa dubbachudhaa [0.00876798 0.00311098 0.9096878  0.06701532 0.01141783] [0 0 1 0 0]\n",
      "Baga Nagaan dhuftan [5.4020528e-04 9.9903738e-01 4.8741640e-05 3.3104763e-04 4.2669759e-05] [0 1 0 0 0]\n",
      "Maali beksisaa nutti bayyiftan haraa [9.9126846e-05 9.9740571e-01 7.2261369e-05 2.2987316e-03 1.2430007e-04] [0 1 0 0 0]\n",
      "Baga nagaan dhuftan diraamaa kiyyoo [3.8514791e-05 4.4073933e-04 2.1225005e-05 9.9946278e-01 3.6859634e-05] [0 0 0 1 0]\n",
      "Hojii kee nyaadhuu yaa Waqqoo  [2.7111232e-06 9.9996579e-01 2.7506505e-07 3.5953524e-06 2.7636241e-05] [0 1 0 0 0]\n",
      "baga jiraattan [5.7785159e-01 4.2136532e-01 4.6248120e-04 3.9102302e-05 2.8149225e-04] [0 1 0 0 0]\n",
      "hunddi keesanu jabadha nuf jiraadha [6.2784064e-05 9.9967349e-01 6.9816473e-05 1.2973466e-04 6.4141110e-05] [0 1 0 0 0]\n",
      "Baga nagaan dhuftan [3.1465996e-05 9.9991870e-01 8.1157204e-06 2.7120392e-05 1.4554940e-05] [0 1 0 0 0]\n",
      "Yaroon keessan baayyee xiqaate maaloo itti nuuf dabalaa  [3.4235402e-06 9.9931419e-01 7.5445378e-06 6.6409388e-04 1.0724107e-05] [0 1 0 0 0]\n",
      "Jaalallaa dhugaa dha [1.0822878e-03 9.8949742e-01 6.1119851e-03 7.7482843e-04 2.5335348e-03] [0 1 0 0 0]\n",
      "Yeroon kessan heddu gabaabaa dha xiqoo foyyesaa  [1.7717000e-04 2.8879667e-04 1.4148520e-04 9.9933380e-01 5.8782429e-05] [0 0 0 1 0]\n",
      "Baga nagaan dhuftanii ijoolle kenyaa  [6.3060238e-03 9.9002868e-01 1.1831408e-03 1.9075377e-03 5.7464791e-04] [0 1 0 0 0]\n",
      "Maaf yeroo qabdan seeraan hin fayyadamtan  [9.8234177e-06 9.9990392e-01 4.7170774e-06 7.6810189e-05 4.7879762e-06] [0 1 0 0 0]\n",
      "Akkam namati tolaa nuu jiradhaa  [9.9975842e-01 2.0945794e-04 1.1836185e-05 1.5733620e-05 4.5378729e-06] [1 0 0 0 0]\n",
      "Bayee namtii toltuu  [6.8201381e-04 1.5856652e-04 2.1548632e-03 3.1843811e-02 9.6516079e-01] [0 0 0 0 1]\n",
      "Jabaadhaa  [2.3763276e-04 9.9831307e-01 1.0746847e-03 3.2466985e-04 4.9973543e-05] [0 1 0 0 0]\n",
      "Dheeresaa mee  [9.7635314e-03 9.2339522e-01 2.4916541e-03 6.3766345e-02 5.8313855e-04] [0 1 0 0 0]\n",
      "Malo xiqo dheeresaa baayee gabaabatee  jira [0.0028892  0.01970901 0.03209847 0.94090265 0.00440062] [0 0 0 1 0]\n",
      "Baga nagaan dhuftan [0.53256977 0.03181879 0.20971587 0.18391554 0.04197999] [1 0 0 0 0]\n",
      "Baga nagaan dhuftan [0.9765537  0.01503589 0.00103868 0.00595603 0.00141577] [1 0 0 0 0]\n",
      "Barsiisichi baayyee dheeressee  [5.7785159e-01 4.2136532e-01 4.6248120e-04 3.9102302e-05 2.8149225e-04] [1 0 0 0 0]\n",
      "Anaa dhufu kiyyoo koo [0.8254401  0.16273482 0.00529373 0.00206248 0.0044688 ] [1 0 0 0 0]\n",
      "Oduu hin dheeresinaa bakka sani diraamaan osoo nu dheerate oduu san gabaabsitani bareeda jadhen yaadaa  [1.8360610e-05 9.9910116e-01 6.3442288e-04 4.4594399e-05 2.0155121e-04] [0 1 0 0 0]\n",
      "Malo hadha yaroon bayyee xiqaata  [0.02480926 0.78069556 0.07062126 0.0826448  0.04122915] [0 1 0 0 0]\n",
      "Beksisumaa qofaa gadii dhisuu didaan [5.92531942e-05 9.99583662e-01 1.03494485e-05 3.32739175e-04\n",
      " 1.40186112e-05] [0 1 0 0 0]\n",
      "Baga nagaan nuf dhuftan diraamaa kiyoo qaqaliiwan kenyaa [6.2618084e-05 3.4003720e-01 7.4740543e-05 6.5960318e-01 2.2229677e-04] [0 1 0 0 0]\n"
     ]
    },
    {
     "name": "stdout",
     "output_type": "stream",
     "text": [
      "Eebbifamaa obbolootaa [2.5999696e-05 5.6550762e-05 4.4441308e-06 9.9990344e-01 9.6097474e-06] [0 0 0 1 0]\n",
      "Beeksisa dheeressaa jirtu diraamaa moo beeksisa ilaallaa fooyyessaa [9.9991119e-01 4.9421877e-05 2.0163008e-05 1.6310496e-05 3.0155331e-06] [1 0 0 0 0]\n",
      "diraamaa kiyyoo kanaa baayyeen jaaladhaa garuu osoo torbeeti yeroo lamaa nuuf ta'e gariidhaa [9.9707437e-01 2.1929631e-03 1.3812610e-04 5.1421963e-04 8.0401442e-05] [1 0 0 0 0]\n",
      "Maal gocha jirtaa akka jalqabaa sanitti natti tola hin jiru  [2.4552151e-04 8.8359418e-05 2.8108498e-03 6.4126435e-03 9.9044257e-01] [0 0 0 0 1]\n",
      " jabaadhaa ittii fufaa [3.1689587e-03 1.5165475e-04 9.2331219e-01 5.9727323e-03 6.7394532e-02] [0 0 1 0 0]\n",
      "Baga nagaan dhuftan maatii jaalalaa [9.9996483e-01 3.3648750e-05 2.3983065e-07 9.8465318e-07 2.1523842e-07] [1 0 0 0 0]\n",
      "Maaloo torbeetti lama sadii utuu gootanii maal qabaa [0.30822772 0.5007567  0.04615677 0.09251884 0.05233997] [1 0 0 0 0]\n",
      "Hojii boonssaa hojadhaa maalii kun gadii buhaa torbee torbeen [2.4410194e-05 9.9962842e-01 1.3621134e-04 1.7221714e-04 3.8734022e-05] [0 1 0 0 0]\n",
      "Dhugaan hin qalatii malee hin cittu [9.9993610e-01 5.7848072e-05 4.0682414e-07 4.5081288e-06 1.1861539e-06] [1 0 0 0 0]\n",
      "Haara yaroon keessan bayeen hiratee maalif garu hundaafu jabaadha [9.9969220e-01 2.6883560e-04 8.7069338e-06 2.5332451e-05 4.9791156e-06] [1 0 0 0 0]\n",
      "Baga nagaan dhufan [9.9068356e-01 9.2590451e-03 1.0943765e-05 3.2633401e-05 1.3872674e-05] [1 0 0 0 0]\n",
      "Firoo Nama gaarii tate diraamaa kana irratii [2.6197927e-03 3.3948643e-04 1.8143386e-02 1.7285530e-02 9.6161181e-01] [0 0 0 0 1]\n",
      "Torbee dhufu abdiidhaan isin eginaa  [3.7126443e-05 9.9994123e-01 7.7702753e-06 8.5025395e-06 5.3898989e-06] [0 1 0 0 0]\n",
      "Baga nagaan dhuftan [0.08531437 0.8913171  0.00936631 0.01123718 0.00276502] [0 1 0 0 0]\n",
      "Galaatoma  [0.2403123  0.22329524 0.1728828  0.28697565 0.07653398] [0 1 0 0 0]\n",
      "Diramaa kessaan daqiqaa digdamaa hin gutuu beekesisaa qofaa [4.4545268e-05 9.9954730e-01 6.1316168e-06 3.9630628e-04 5.7719822e-06] [0 1 0 0 0]\n",
      "Jabadhaa  [0.00098856 0.08683082 0.00686691 0.9036385  0.0016753 ] [0 0 0 1 0]\n",
      "Baga nagaan nuuf dhuftan  jaalatamitotaa koo [9.9971002e-01 1.8149894e-04 2.1563121e-05 6.5335691e-05 2.1623935e-05] [1 0 0 0 0]\n",
      "Baayee namatti bareedu garuu sa'aatin gahaa miti ossoo nuuf dabaaltani gaariidha [1.0416827e-02 9.8919046e-01 8.3709419e-05 9.4789451e-05 2.1424644e-04] [0 1 0 0 0]\n",
      "Galatoomaa baayyee namatti tola [0.00208283 0.9643693  0.01965291 0.00864578 0.00524917] [0 1 0 0 0]\n",
      "Matii kiyyoo baayee siin jaaladhaa  [1.3880742e-04 4.7344633e-04 4.2380689e-05 9.9897277e-01 3.7268005e-04] [0 0 0 1 0]\n",
      "Baga nagaan dhuftani maatii jaalalaa  [0.00853371 0.00305831 0.8297169  0.05304332 0.10564768] [0 0 1 0 0]\n",
      "Baga nagaan dhuftan diraamaa kiyyoo  [0.79596406 0.0953097  0.04667766 0.05125166 0.01079689] [1 0 0 0 0]\n",
      "Baga nagaan dhuftan maatii diraamaa kiyyoo [9.9893910e-01 9.9947886e-04 2.2131224e-05 3.0083425e-05 9.2024329e-06] [1 0 0 0 0]\n",
      "Torbee dhufu wal nu haa deebisuu  [2.5233196e-05 5.9291087e-05 1.1512470e-06 9.9981755e-01 9.6869779e-05] [0 0 0 1 0]\n",
      "Torbeeti guyyaa lamaa osoo tahe bareeda [9.9951506e-01 1.0458756e-04 2.5465120e-05 3.4453499e-04 1.0344447e-05] [1 0 0 0 0]\n",
      "Maloo Daqiqaa itii dabalaa Bayyee xiqaatee [4.32424604e-05 9.99937296e-01 4.33360265e-06 1.04899955e-05\n",
      " 4.65425910e-06] [0 1 0 0 0]\n",
      "Sabbontoota oromoo jabaadha. [8.2494531e-05 9.9847633e-01 6.2003659e-05 1.1707123e-03 2.0844156e-04] [0 1 0 0 0]\n",
      "Baayee kan nama bohaarsuudha [7.1339884e-05 9.9950099e-01 3.4466801e-05 3.7924983e-04 1.3979484e-05] [0 1 0 0 0]\n",
      "Galatoomaa [3.2143304e-03 9.9435776e-01 1.0125602e-03 9.8975678e-04 4.2558537e-04] [0 1 0 0 0]\n",
      "Yaroo kana hundaa beksisa qofa ta'e maal taatan [4.0762123e-05 9.9989343e-01 1.7496528e-05 3.3469623e-05 1.4787411e-05] [0 1 0 0 0]\n",
      "Haarmeen siinan akkam namatti toltii [2.6018251e-04 9.9921191e-01 1.3245539e-04 3.5346489e-04 4.2103005e-05] [0 1 0 0 0]\n",
      "Baga nagaan dhuftan  [3.5633910e-03 9.9237871e-01 2.1292202e-03 1.0054529e-03 9.2324126e-04] [0 1 0 0 0]\n",
      "Sa'attin baayee xiqqaatee  [1.3221707e-03 1.8667855e-03 4.3907301e-03 9.9175721e-01 6.6302624e-04] [0 0 0 1 0]\n",
      "yaroo hundaa hawwiidhan isin eegganna isinis nu kabajani sa'ati keessan osoo hin dabarsin waanta nuuf gad dhiiftanif ulfaadha [1.8514706e-05 9.9966884e-01 4.6099121e-05 3.3507455e-05 2.3313813e-04] [0 1 0 0 0]\n",
      "jabadhaa [9.9836737e-01 7.6723687e-04 4.1840540e-04 3.7402211e-04 7.2963085e-05] [1 0 0 0 0]\n",
      "Baayee nama gamachisaa [3.1745043e-05 9.9987483e-01 3.2348908e-05 4.0010113e-05 2.1002532e-05] [0 1 0 0 0]\n",
      "Warii diraamaa kiyyoo jaalatani marti akaa koo nagenyi isinif haa baayatu [4.1085007e-04 3.7675196e-01 7.5444655e-04 6.2071812e-01 1.3646431e-03] [0 0 0 1 0]\n",
      "Jabadhaa [4.5672086e-06 9.9997103e-01 2.0706425e-06 2.0824584e-05 1.4888444e-06] [0 1 0 0 0]\n",
      "Ittii fufaa [9.9997461e-01 1.8607596e-05 1.3292828e-06 5.1071388e-06 3.4136724e-07] [1 0 0 0 0]\n",
      "Kiyyoon seennaa oromotti [2.2964433e-03 1.6529575e-03 6.5436424e-04 9.9511802e-01 2.7817098e-04] [0 0 0 1 0]\n",
      "Baga nagaan dhufatani guyyaa gutu isin egaa olee  [2.2768494e-04 9.9495900e-01 2.2923164e-03 7.9330645e-04 1.7278115e-03] [0 1 0 0 0]\n",
      "Galatomaa [9.9996519e-01 2.2529608e-05 4.1808344e-06 7.5332132e-06 5.3719566e-07] [1 0 0 0 0]\n",
      "Ani kanan jedhu beeksisa qofarratti hundaa'aa jirtu natti fakkaataa maaloo xiqqeessaa [6.9426442e-06 9.9997592e-01 1.4005086e-06 1.2790013e-05 2.9981468e-06] [0 1 0 0 0]\n",
      "Matii naaf ta'aa mee obbooleyyaan kiyyaa [0.93105346 0.0153607  0.04086176 0.00789322 0.00483095] [1 0 0 0 0]\n",
      "Hedduu isin jaaladhaa   [0.92676234 0.03569769 0.00772798 0.02580239 0.00400965] [1 0 0 0 0]\n",
      "Akka ko sifuu kan jaalatu jira [9.9961615e-01 2.9345456e-04 2.9575433e-05 5.0914630e-05 9.8646515e-06] [1 0 0 0 0]\n",
      "Diraamaa kiyyoo baga nagaa nuuf dhuftan torbee tokko ji'a tokko nattii ta'ee dhugaa  [0.00356307 0.90482205 0.07643379 0.01120245 0.00397868] [0 1 0 0 0]\n",
      "Woyii obolesaa koo dharii kee akumaa yaroo ijolumatii jiraa [8.684944e-02 9.112829e-01 5.500859e-04 8.074034e-04 5.101331e-04] [0 1 0 0 0]\n",
      "Baayyee natti tolee dhugaa [1.8413324e-05 9.9992585e-01 1.0895851e-05 4.3021981e-05 1.7913145e-06] [0 1 0 0 0]\n",
      "Isiin Egaan turre dhuga maalif turtanii [9.9126846e-05 9.9740571e-01 7.2261369e-05 2.2987316e-03 1.2430007e-04] [0 1 0 0 0]\n",
      "Isiin Egan turre dhuga rabbii akkan isiin jaalladhu rabbiin ragaa qaba [8.4196450e-04 9.4061279e-01 3.0627552e-02 1.2674160e-02 1.5243508e-02] [0 1 0 0 0]\n",
      "Baga nagaan dhuftan matii diraamaa kiyyoo  [0.16193654 0.5771469  0.18470602 0.03204499 0.04416554] [0 0 0 0 1]\n",
      "hedduu namatii tolaa  [3.5227558e-03 9.8965001e-01 4.0958030e-03 2.0177693e-03 7.1379938e-04] [0 1 0 0 0]\n",
      "Dafaa kotaa male [9.9294561e-01 5.9859329e-03 3.2270196e-04 5.5554003e-04 1.9022738e-04] [1 0 0 0 0]\n",
      "Akka yaada kotti waan baayee sireesuu qabdu [9.2692744e-06 9.9996448e-01 1.2304904e-05 9.7771217e-06 4.1518579e-06] [0 1 0 0 0]\n",
      "Akkam namatti tolaa [1.5947960e-05 9.9997914e-01 1.6248985e-07 4.4070721e-06 3.7483230e-07] [0 1 0 0 0]\n",
      "Bagaa nagaan dhuftaan anatuu tokkoffaa ilaalee [1.5740642e-04 9.9857450e-01 1.0963582e-03 7.4934411e-05 9.6933596e-05] [0 1 0 0 0]\n",
      "Baga nagaan dhuftan isin egaan turre [9.9723405e-01 1.8513399e-03 3.4540758e-04 3.4626279e-04 2.2285372e-04] [1 0 0 0 0]\n",
      "Haadhallee tatuu anaatu duraa laale  [2.0716933e-04 3.5305145e-01 2.1701555e-04 6.4552206e-01 1.0023679e-03] [0 0 0 1 0]\n",
      "Anaa dhufu  [9.9992812e-01 6.7864981e-05 1.7492178e-07 9.4531612e-07 3.0016970e-06] [1 0 0 0 0]\n",
      "wagaa dheeraa jiradhaa [5.7576306e-04 9.9756038e-01 9.2433009e-05 1.7134249e-03 5.7986588e-05] [0 1 0 0 0]\n",
      "Anaa dhufu issin egaa jirra  [2.4551488e-04 9.9641573e-01 1.1635094e-03 1.1723398e-03 1.0029118e-03] [0 1 0 0 0]\n",
      "Dursa kan ilaale ana [3.6246071e-04 9.9877340e-01 5.0425081e-04 2.3698129e-04 1.2300338e-04] [0 1 0 0 0]\n",
      "Baga nagaan dhuftan [2.5522473e-05 4.2255947e-04 8.6826356e-07 9.9951506e-01 3.6153455e-05] [0 0 0 1 0]\n",
      "Jalqabaa natu ilalee [6.5667037e-04 9.9646169e-01 4.2690948e-04 1.3389064e-03 1.1158377e-03] [0 1 0 0 0]\n",
      "Bagaa nagaan dhuftan isin egaan jira  [0.00986014 0.67939484 0.01238753 0.29202706 0.00633032] [0 0 0 1 0]\n",
      "Harra isin eegaan turre garu sodomi tokkoffaa hin arganne maali [3.2738419e-05 1.7829419e-05 1.6578877e-05 3.6548686e-04 9.9956733e-01] [0 0 0 0 1]\n",
      "Dubiin jabbatte assirratti [9.9932706e-01 6.5976405e-04 2.6757407e-06 9.0844305e-06 1.5707757e-06] [1 0 0 0 0]\n",
      "Gidduutti addaan kutuu jirtan maalif ta'ee [3.7847090e-06 9.9996698e-01 3.7156744e-06 2.1998811e-05 3.5042983e-06] [0 1 0 0 0]\n",
      "Maloo nuraa badanii jirtan nuuf kotaa saganta itti anuu egachaa jiraa [9.9610138e-01 7.7435089e-04 1.7850701e-03 7.4915536e-04 5.9002248e-04] [1 0 0 0 0]\n",
      "Diraamaa kana hanga  1000 itti fufaa [9.6991950e-01 1.6329395e-02 8.2289735e-03 5.0298846e-03 4.9233937e-04] [1 0 0 0 0]\n",
      "Kiyyoo kutaa sodoomii tokkoffaa maaf haambifatan [1.8357056e-03 6.8441778e-04 9.8013228e-01 1.9827718e-03 1.5364796e-02] [0 0 1 0 0]\n",
      "Kiyyoo hara hin jiru moo [9.7635287e-01 2.0221002e-02 2.9212099e-03 9.2083232e-05 4.1278364e-04] [1 0 0 0 0]\n",
      "Diraamaa kiyyoo Baayee sin jaalanaa dhugaa iti fufaa  [9.99621749e-01 1.19314995e-04 1.09388355e-04 1.28069310e-04\n",
      " 2.14802731e-05] [1 0 0 0 0]\n",
      "Baayee namatii tolaa [0.0074691  0.8798041  0.03007465 0.00840065 0.07425149] [0 1 0 0 0]\n",
      "Akkatti nama Arsanii garu danda'u dhaa [9.9132216e-01 8.4822485e-03 6.3144485e-05 2.7144692e-05 1.0530964e-04] [1 0 0 0 0]\n",
      "Diraamaan kiyyoo baayee  baredaa akumati itti haa fufu [9.90872979e-01 8.82606395e-03 1.62035241e-04 3.62758983e-05\n",
      " 1.02664206e-04] [1 0 0 0 0]\n",
      "Ani dhuma diraamaa kana ilaluf jarjareraa  [2.0769974e-05 9.9996305e-01 7.0906672e-06 6.5663371e-06 2.4849053e-06] [0 1 0 0 0]\n",
      "minxaafiin kun maali isheen addee meeluu [1.0171994e-05 9.9989533e-01 5.6467984e-06 8.4156913e-05 4.5903021e-06] [0 1 0 0 0]\n",
      "Monetiin garaa na nyaatii  [1.1865605e-04 3.5149336e-04 2.5794156e-05 9.9948919e-01 1.4881703e-05] [0 0 0 1 0]\n",
      "Maattii diraamaa kiyyoo baga nagaan dhuftan [8.9474179e-06 9.9993312e-01 1.9520678e-05 2.7758108e-05 1.0577591e-05] [0 1 0 0 0]\n"
     ]
    },
    {
     "data": {
      "text/plain": [
       "[None,\n",
       " None,\n",
       " None,\n",
       " None,\n",
       " None,\n",
       " None,\n",
       " None,\n",
       " None,\n",
       " None,\n",
       " None,\n",
       " None,\n",
       " None,\n",
       " None,\n",
       " None,\n",
       " None,\n",
       " None,\n",
       " None,\n",
       " None,\n",
       " None,\n",
       " None,\n",
       " None,\n",
       " None,\n",
       " None,\n",
       " None,\n",
       " None,\n",
       " None,\n",
       " None,\n",
       " None,\n",
       " None,\n",
       " None,\n",
       " None,\n",
       " None,\n",
       " None,\n",
       " None,\n",
       " None,\n",
       " None,\n",
       " None,\n",
       " None,\n",
       " None,\n",
       " None,\n",
       " None,\n",
       " None,\n",
       " None,\n",
       " None,\n",
       " None,\n",
       " None,\n",
       " None,\n",
       " None,\n",
       " None,\n",
       " None,\n",
       " None,\n",
       " None,\n",
       " None,\n",
       " None,\n",
       " None,\n",
       " None,\n",
       " None,\n",
       " None,\n",
       " None,\n",
       " None,\n",
       " None,\n",
       " None,\n",
       " None,\n",
       " None,\n",
       " None,\n",
       " None,\n",
       " None,\n",
       " None,\n",
       " None,\n",
       " None,\n",
       " None,\n",
       " None,\n",
       " None,\n",
       " None,\n",
       " None,\n",
       " None,\n",
       " None,\n",
       " None,\n",
       " None,\n",
       " None,\n",
       " None,\n",
       " None,\n",
       " None,\n",
       " None,\n",
       " None,\n",
       " None,\n",
       " None,\n",
       " None,\n",
       " None,\n",
       " None,\n",
       " None,\n",
       " None,\n",
       " None,\n",
       " None,\n",
       " None,\n",
       " None,\n",
       " None,\n",
       " None,\n",
       " None,\n",
       " None,\n",
       " None,\n",
       " None,\n",
       " None,\n",
       " None,\n",
       " None,\n",
       " None,\n",
       " None,\n",
       " None,\n",
       " None,\n",
       " None,\n",
       " None,\n",
       " None,\n",
       " None,\n",
       " None,\n",
       " None,\n",
       " None,\n",
       " None,\n",
       " None,\n",
       " None,\n",
       " None,\n",
       " None,\n",
       " None,\n",
       " None,\n",
       " None,\n",
       " None,\n",
       " None,\n",
       " None,\n",
       " None,\n",
       " None,\n",
       " None,\n",
       " None,\n",
       " None,\n",
       " None,\n",
       " None,\n",
       " None,\n",
       " None,\n",
       " None,\n",
       " None,\n",
       " None,\n",
       " None,\n",
       " None,\n",
       " None,\n",
       " None,\n",
       " None,\n",
       " None,\n",
       " None,\n",
       " None,\n",
       " None,\n",
       " None,\n",
       " None,\n",
       " None,\n",
       " None,\n",
       " None,\n",
       " None,\n",
       " None,\n",
       " None,\n",
       " None,\n",
       " None,\n",
       " None,\n",
       " None,\n",
       " None,\n",
       " None,\n",
       " None,\n",
       " None,\n",
       " None,\n",
       " None,\n",
       " None,\n",
       " None,\n",
       " None,\n",
       " None,\n",
       " None,\n",
       " None,\n",
       " None,\n",
       " None,\n",
       " None,\n",
       " None,\n",
       " None,\n",
       " None,\n",
       " None,\n",
       " None,\n",
       " None,\n",
       " None,\n",
       " None,\n",
       " None,\n",
       " None,\n",
       " None,\n",
       " None,\n",
       " None,\n",
       " None,\n",
       " None,\n",
       " None,\n",
       " None,\n",
       " None,\n",
       " None,\n",
       " None,\n",
       " None,\n",
       " None,\n",
       " None,\n",
       " None,\n",
       " None,\n",
       " None,\n",
       " None,\n",
       " None,\n",
       " None,\n",
       " None,\n",
       " None,\n",
       " None,\n",
       " None,\n",
       " None,\n",
       " None,\n",
       " None,\n",
       " None,\n",
       " None,\n",
       " None,\n",
       " None,\n",
       " None,\n",
       " None,\n",
       " None,\n",
       " None,\n",
       " None,\n",
       " None,\n",
       " None,\n",
       " None,\n",
       " None,\n",
       " None,\n",
       " None,\n",
       " None,\n",
       " None,\n",
       " None,\n",
       " None,\n",
       " None,\n",
       " None,\n",
       " None,\n",
       " None,\n",
       " None,\n",
       " None,\n",
       " None,\n",
       " None,\n",
       " None,\n",
       " None,\n",
       " None,\n",
       " None,\n",
       " None,\n",
       " None,\n",
       " None,\n",
       " None,\n",
       " None,\n",
       " None,\n",
       " None,\n",
       " None,\n",
       " None,\n",
       " None,\n",
       " None,\n",
       " None,\n",
       " None,\n",
       " None,\n",
       " None,\n",
       " None,\n",
       " None,\n",
       " None,\n",
       " None,\n",
       " None,\n",
       " None,\n",
       " None,\n",
       " None,\n",
       " None,\n",
       " None,\n",
       " None,\n",
       " None,\n",
       " None,\n",
       " None,\n",
       " None,\n",
       " None,\n",
       " None,\n",
       " None,\n",
       " None,\n",
       " None,\n",
       " None,\n",
       " None,\n",
       " None,\n",
       " None,\n",
       " None,\n",
       " None,\n",
       " None,\n",
       " None,\n",
       " None,\n",
       " None,\n",
       " None,\n",
       " None,\n",
       " None,\n",
       " None,\n",
       " None,\n",
       " None,\n",
       " None,\n",
       " None,\n",
       " None,\n",
       " None,\n",
       " None,\n",
       " None,\n",
       " None,\n",
       " None,\n",
       " None,\n",
       " None,\n",
       " None,\n",
       " None,\n",
       " None,\n",
       " None,\n",
       " None,\n",
       " None,\n",
       " None,\n",
       " None,\n",
       " None,\n",
       " None,\n",
       " None,\n",
       " None,\n",
       " None,\n",
       " None,\n",
       " None,\n",
       " None,\n",
       " None,\n",
       " None,\n",
       " None,\n",
       " None,\n",
       " None,\n",
       " None,\n",
       " None,\n",
       " None,\n",
       " None,\n",
       " None,\n",
       " None,\n",
       " None,\n",
       " None,\n",
       " None,\n",
       " None,\n",
       " None,\n",
       " None,\n",
       " None,\n",
       " None,\n",
       " None,\n",
       " None,\n",
       " None,\n",
       " None,\n",
       " None,\n",
       " None,\n",
       " None,\n",
       " None,\n",
       " None,\n",
       " None,\n",
       " None,\n",
       " None,\n",
       " None,\n",
       " None,\n",
       " None,\n",
       " None,\n",
       " None,\n",
       " None,\n",
       " None,\n",
       " None,\n",
       " None,\n",
       " None,\n",
       " None,\n",
       " None,\n",
       " None,\n",
       " None,\n",
       " None,\n",
       " None,\n",
       " None,\n",
       " None,\n",
       " None,\n",
       " None,\n",
       " None,\n",
       " None,\n",
       " None,\n",
       " None,\n",
       " None,\n",
       " None,\n",
       " None,\n",
       " None,\n",
       " None,\n",
       " None,\n",
       " None,\n",
       " None,\n",
       " None,\n",
       " None,\n",
       " None,\n",
       " None,\n",
       " None,\n",
       " None,\n",
       " None,\n",
       " None,\n",
       " None,\n",
       " None,\n",
       " None,\n",
       " None,\n",
       " None,\n",
       " None,\n",
       " None,\n",
       " None,\n",
       " None,\n",
       " None]"
      ]
     },
     "execution_count": 56,
     "metadata": {},
     "output_type": "execute_result"
    }
   ],
   "source": [
    "[print (data['Text'][i], predictions[i], y_test[i]) for i in range(0, 400)]"
   ]
  },
  {
   "cell_type": "code",
   "execution_count": 57,
   "metadata": {},
   "outputs": [
    {
     "data": {
      "image/png": "[encoded data removed]",
      "text/plain": [
       "<Figure size 432x288 with 1 Axes>"
      ]
     },
     "metadata": {
      "needs_background": "light"
     },
     "output_type": "display_data"
    },
    {
     "data": {
      "image/png": "[encoded data removed]",
      "text/plain": [
       "<Figure size 432x288 with 1 Axes>"
      ]
     },
     "metadata": {
      "needs_background": "light"
     },
     "output_type": "display_data"
    }
   ],
   "source": [
    "def plot_graphs(history, string):\n",
    "    plt.plot(history.history[string])\n",
    "    plt.plot(history.history['val_'+string])\n",
    "    plt.xlabel(\"epochs\")\n",
    "    plt.ylabel(string)\n",
    "    plt.legend([string, 'val_'+string])\n",
    "    plt.show()\n",
    "plot_graphs(history, \"accuracy\")\n",
    "plot_graphs(history, \"loss\")"
   ]
  },
  {
   "cell_type": "code",
   "execution_count": 58,
   "metadata": {},
   "outputs": [],
   "source": [
    "cm=metrics.confusion_matrix(y_test.argmax(axis=1), predictions.argmax(axis=1))"
   ]
  },
  {
   "cell_type": "code",
   "execution_count": 59,
   "metadata": {},
   "outputs": [],
   "source": [
    "class_names = data.Intent"
   ]
  },
  {
   "cell_type": "code",
   "execution_count": 60,
   "metadata": {},
   "outputs": [],
   "source": [
    "FP = cm.sum(axis=0) - np.diag(cm)  \n",
    "FN = cm.sum(axis=1) - np.diag(cm)\n",
    "TP = np.diag(cm)\n",
    "TN = cm.sum() - (FP + FN + TP)"
   ]
  },
  {
   "cell_type": "code",
   "execution_count": 61,
   "metadata": {},
   "outputs": [],
   "source": [
    "FP = FP.astype(float)\n",
    "FN = FN.astype(float)\n",
    "TP = TP.astype(float)\n",
    "TN = TN.astype(float)"
   ]
  },
  {
   "cell_type": "code",
   "execution_count": 62,
   "metadata": {},
   "outputs": [
    {
     "name": "stdout",
     "output_type": "stream",
     "text": [
      "[11. 17. 19. 24. 11.]\n",
      "[17. 40.  3. 19.  3.]\n",
      "[332. 389.  79. 128.  47.]\n",
      "[697. 611. 956. 886. 996.]\n"
     ]
    }
   ],
   "source": [
    "print(FP)\n",
    "print(FN)\n",
    "print(TP)\n",
    "print(TN)"
   ]
  },
  {
   "cell_type": "code",
   "execution_count": 63,
   "metadata": {},
   "outputs": [],
   "source": [
    "precision = TP/(TP+FP)\n",
    "recall = TP/(TP+FN)\n",
    "f1_score = 2*precision*recall/(precision+recall)"
   ]
  },
  {
   "cell_type": "code",
   "execution_count": 64,
   "metadata": {},
   "outputs": [
    {
     "name": "stdout",
     "output_type": "stream",
     "text": [
      "precision [0.96793003 0.95812808 0.80612245 0.84210526 0.81034483]\n",
      "recall   [0.9512894  0.90675991 0.96341463 0.8707483  0.94      ]\n",
      "f1_score [0.95953757 0.93173653 0.87777778 0.85618729 0.87037037]\n"
     ]
    }
   ],
   "source": [
    "print(\"precision\",precision)\n",
    "print(\"recall  \", recall)\n",
    "print(\"f1_score\",f1_score)"
   ]
  },
  {
   "cell_type": "code",
   "execution_count": 65,
   "metadata": {},
   "outputs": [],
   "source": [
    "def accuracy(confusion_matrix):\n",
    "    diagonal_sum = confusion_matrix.trace()\n",
    "    sum_of_all_elements = confusion_matrix.sum()\n",
    "    return diagonal_sum / sum_of_all_elements "
   ]
  },
  {
   "cell_type": "code",
   "execution_count": 87,
   "metadata": {},
   "outputs": [
    {
     "data": {
      "text/plain": [
       "0.9224219489120151"
      ]
     },
     "execution_count": 87,
     "metadata": {},
     "output_type": "execute_result"
    }
   ],
   "source": [
    "accuracy(cm)"
   ]
  },
  {
   "cell_type": "code",
   "execution_count": 67,
   "metadata": {},
   "outputs": [],
   "source": [
    "# Make predictions with your BiLSTM model\n",
    "from sklearn.metrics import classification_report\n",
    "#y_pred = model.predict(x_test)\n",
    "y_pred_classes = predictions.argmax(axis=1)  # Assuming you have a multi-class classification problem\n",
    "\n",
    "# Convert true labels to classes (if they are in one-hot encoded format)\n",
    "y_true_classes = y_test.argmax(axis=1)\n",
    "\n"
   ]
  },
  {
   "cell_type": "code",
   "execution_count": 68,
   "metadata": {},
   "outputs": [],
   "source": [
    "#intent_small = [\"Positive\", \"Negative\", \"Suggestion\", \"Question\", \"Wish \"]\n",
    "classes = ['Positive','Negative','Question','Suggestion','Wish']"
   ]
  },
  {
   "cell_type": "code",
   "execution_count": 69,
   "metadata": {},
   "outputs": [
    {
     "name": "stdout",
     "output_type": "stream",
     "text": [
      "              precision    recall  f1-score   support\n",
      "\n",
      "    Positive       0.97      0.95      0.96       349\n",
      "    Negative       0.96      0.91      0.93       429\n",
      "    Question       0.81      0.96      0.88        82\n",
      "  Suggestion       0.84      0.87      0.86       147\n",
      "        Wish       0.81      0.94      0.87        50\n",
      "\n",
      "    accuracy                           0.92      1057\n",
      "   macro avg       0.88      0.93      0.90      1057\n",
      "weighted avg       0.93      0.92      0.92      1057\n",
      "\n"
     ]
    }
   ],
   "source": [
    "# Generate the classification report\n",
    "report = classification_report(y_true_classes, y_pred_classes, target_names = classes)\n",
    "\n",
    "# Print the classification report\n",
    "print(report)"
   ]
  },
  {
   "cell_type": "code",
   "execution_count": 70,
   "metadata": {},
   "outputs": [],
   "source": [
    "import matplotlib.pyplot as plt\n",
    "def plot_confusion_matrix(cm, classes,\n",
    "                        normalize=False,\n",
    "                        title='Confusion matrix',\n",
    "                        cmap=plt.cm.Blues):\n",
    "    \"\"\"\n",
    "    This function prints and plots the confusion matrix.\n",
    "    Normalization can be applied by setting `normalize=True`.\n",
    "    \"\"\"\n",
    "    plt.imshow(cm, interpolation='nearest', cmap=cmap)\n",
    "    plt.title(title)\n",
    "    plt.colorbar()\n",
    "    tick_marks = np.arange(len(classes))\n",
    "    plt.xticks(tick_marks, classes, rotation=90)\n",
    "    plt.yticks(tick_marks, classes)\n",
    "\n",
    "    if normalize:\n",
    "        cm = cm.astype('float') / cm.sum(axis=1)[:, np.newaxis]\n",
    "        print(\"Normalized confusion matrix\")\n",
    "    else:\n",
    "        print('Confusion matrix, without normalization')\n",
    "\n",
    "    #print(cm)\n",
    "\n",
    "    plt.ylabel('True label')\n",
    "    plt.xlabel('Predicted label')"
   ]
  },
  {
   "cell_type": "code",
   "execution_count": 71,
   "metadata": {},
   "outputs": [
    {
     "name": "stdout",
     "output_type": "stream",
     "text": [
      "34/34 [==============================] - 23s 677ms/step\n",
      "Normalized confusion matrix\n"
     ]
    },
    {
     "data": {
      "image/png": "[encoded data removed]",
      "text/plain": [
       "<Figure size 432x288 with 2 Axes>"
      ]
     },
     "metadata": {
      "needs_background": "light"
     },
     "output_type": "display_data"
    }
   ],
   "source": [
    "y_pred = model.predict(x_test).argmax(axis=-1)\n",
    "matrix = metrics.confusion_matrix(y_test.argmax(axis=-1), y_pred)\n",
    "plot_confusion_matrix(cm=matrix, normalize=True, classes=classes, title='Confusion Matrix')"
   ]
  },
  {
   "cell_type": "code",
   "execution_count": 79,
   "metadata": {},
   "outputs": [
    {
     "name": "stdout",
     "output_type": "stream",
     "text": [
      "34/34 [==============================] - 18s 520ms/step\n"
     ]
    }
   ],
   "source": [
    "y_pred = model.predict(x_test).argmax(axis=-1)"
   ]
  },
  {
   "cell_type": "code",
   "execution_count": 80,
   "metadata": {},
   "outputs": [],
   "source": [
    "report = classification_report(y_true_classes, y_pred_classes, target_names = classes)"
   ]
  },
  {
   "cell_type": "code",
   "execution_count": null,
   "metadata": {},
   "outputs": [],
   "source": [
    "print(classification_report(data.test_y, y_pred, target_names=classes))"
   ]
  },
  {
   "cell_type": "code",
   "execution_count": null,
   "metadata": {},
   "outputs": [],
   "source": [
    "y_pred = model.predict(x_test).argmax(axis=-1)\n",
    "matrix = metrics.confusion_matrix(y_test.argmax(axis=-1), y_pred)\n",
    "plot_confusion_matrix(cm=matrix, normalize=True, classes=classes, title='Confusion Matrix')"
   ]
  },
  {
   "cell_type": "code",
   "execution_count": 85,
   "metadata": {},
   "outputs": [],
   "source": [
    "cm = confusion_matrix(y_test.argmax(axis=-1), y_pred)\n",
    "df_cm = pd.DataFrame(cm, index=classes, columns=classes)"
   ]
  },
  {
   "cell_type": "code",
   "execution_count": 86,
   "metadata": {},
   "outputs": [
    {
     "data": {
      "image/png": "[encoded data removed]",
      "text/plain": [
       "<Figure size 432x288 with 2 Axes>"
      ]
     },
     "metadata": {
      "needs_background": "light"
     },
     "output_type": "display_data"
    }
   ],
   "source": [
    "hmap = sns.heatmap(df_cm, annot=True, fmt=\"d\")\n",
    "hmap.yaxis.set_ticklabels(hmap.yaxis.get_ticklabels(), rotation=0, ha='right')\n",
    "hmap.xaxis.set_ticklabels(hmap.xaxis.get_ticklabels(), rotation=30, ha='right')\n",
    "plt.ylabel('True label')\n",
    "plt.xlabel('Predicted label');"
   ]
  },
  {
   "cell_type": "code",
   "execution_count": null,
   "metadata": {},
   "outputs": [],
   "source": []
  },
  {
   "cell_type": "code",
   "execution_count": null,
   "metadata": {},
   "outputs": [],
   "source": []
  }
 ],
 "metadata": {
  "kernelspec": {
   "display_name": "Python 3 (ipykernel)",
   "language": "python",
   "name": "python3"
  },
  "language_info": {
   "codemirror_mode": {
    "name": "ipython",
    "version": 3
   },
   "file_extension": ".py",
   "mimetype": "text/x-python",
   "name": "python",
   "nbconvert_exporter": "python",
   "pygments_lexer": "ipython3",
   "version": "3.11.5"
  }
 },
 "nbformat": 4,
 "nbformat_minor": 4
}
