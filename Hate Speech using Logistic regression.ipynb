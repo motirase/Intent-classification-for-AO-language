{
 "cells": [
  {
   "cell_type": "code",
   "execution_count": 92,
   "id": "d462613e",
   "metadata": {},
   "outputs": [
    {
     "name": "stderr",
     "output_type": "stream",
     "text": [
      "[nltk_data] Downloading package stopwords to\n",
      "[nltk_data]     C:\\Users\\Moti\\AppData\\Roaming\\nltk_data...\n",
      "[nltk_data]   Package stopwords is already up-to-date!\n"
     ]
    }
   ],
   "source": [
    "import numpy as np # linear algebra\n",
    "import pandas as pd # data processing, CSV file I/O (e.g. pd.read_csv)\n",
    "import matplotlib.pyplot as plt\n",
    "from wordcloud import WordCloud\n",
    "from sklearn.pipeline import Pipeline\n",
    "#to data preprocessing\n",
    "from sklearn.compose import ColumnTransformer\n",
    "from sklearn.preprocessing import OneHotEncoder\n",
    "#NLP tools\n",
    "import re\n",
    "import nltk\n",
    "nltk.download('stopwords')\n",
    "from nltk.corpus import stopwords\n",
    "from nltk.stem.porter import PorterStemmer\n",
    "from sklearn.feature_extraction.text import CountVectorizer\n",
    "\n",
    "#train split and fit models\n",
    "from sklearn.model_selection import train_test_split\n",
    "from sklearn.ensemble import RandomForestClassifier\n",
    "from sklearn.linear_model import LogisticRegression\n",
    "from sklearn.neighbors import KNeighborsClassifier\n",
    "from sklearn.tree import DecisionTreeClassifier\n",
    "from nltk.tokenize import TweetTokenizer\n",
    "\n",
    "#model selection\n",
    "from sklearn.metrics import classification_report, confusion_matrix, accuracy_score\n",
    "# Input data files are available in the read-only \"../input/\" directory\n",
    "# For example, running this (by clicking run or pressing Shift+Enter) will list all files under the input directory"
   ]
  },
  {
   "cell_type": "code",
   "execution_count": 93,
   "id": "414115e0",
   "metadata": {},
   "outputs": [],
   "source": [
    "# Load data\n",
    "df = pd.read_csv('hate-by-Kabada.csv',delimiter = ';', names=['Text','label'],encoding=\"utf-8\")\n",
    "#,count,hate_speech,offensive_language,neither,class,tweet\n",
    "# Preprocess data"
   ]
  },
  {
   "cell_type": "code",
   "execution_count": 94,
   "id": "972ebc10",
   "metadata": {},
   "outputs": [],
   "source": [
    "df = df.dropna()"
   ]
  },
  {
   "cell_type": "code",
   "execution_count": 95,
   "id": "c0bbfe2d",
   "metadata": {},
   "outputs": [
    {
     "name": "stdout",
     "output_type": "stream",
     "text": [
      "<class 'pandas.core.frame.DataFrame'>\n",
      "Int64Index: 10036 entries, 0 to 10036\n",
      "Data columns (total 2 columns):\n",
      " #   Column  Non-Null Count  Dtype \n",
      "---  ------  --------------  ----- \n",
      " 0   Text    10036 non-null  object\n",
      " 1   label   10036 non-null  object\n",
      "dtypes: object(2)\n",
      "memory usage: 235.2+ KB\n"
     ]
    }
   ],
   "source": [
    "df.info()"
   ]
  },
  {
   "cell_type": "code",
   "execution_count": 96,
   "id": "2f9efafa",
   "metadata": {},
   "outputs": [
    {
     "data": {
      "text/html": [
       "<div>\n",
       "<style scoped>\n",
       "    .dataframe tbody tr th:only-of-type {\n",
       "        vertical-align: middle;\n",
       "    }\n",
       "\n",
       "    .dataframe tbody tr th {\n",
       "        vertical-align: top;\n",
       "    }\n",
       "\n",
       "    .dataframe thead th {\n",
       "        text-align: right;\n",
       "    }\n",
       "</style>\n",
       "<table border=\"1\" class=\"dataframe\">\n",
       "  <thead>\n",
       "    <tr style=\"text-align: right;\">\n",
       "      <th></th>\n",
       "      <th>count</th>\n",
       "      <th>unique</th>\n",
       "      <th>top</th>\n",
       "      <th>freq</th>\n",
       "    </tr>\n",
       "  </thead>\n",
       "  <tbody>\n",
       "    <tr>\n",
       "      <th>Text</th>\n",
       "      <td>10036</td>\n",
       "      <td>9860</td>\n",
       "      <td>abiy ajjeefamuu qaba</td>\n",
       "      <td>4</td>\n",
       "    </tr>\n",
       "    <tr>\n",
       "      <th>label</th>\n",
       "      <td>10036</td>\n",
       "      <td>5</td>\n",
       "      <td>politics</td>\n",
       "      <td>3991</td>\n",
       "    </tr>\n",
       "  </tbody>\n",
       "</table>\n",
       "</div>"
      ],
      "text/plain": [
       "       count unique                   top  freq\n",
       "Text   10036   9860  abiy ajjeefamuu qaba     4\n",
       "label  10036      5              politics  3991"
      ]
     },
     "execution_count": 96,
     "metadata": {},
     "output_type": "execute_result"
    }
   ],
   "source": [
    "df.describe().T"
   ]
  },
  {
   "cell_type": "code",
   "execution_count": 114,
   "id": "80d01a98",
   "metadata": {},
   "outputs": [],
   "source": [
    "dt_transformed = df[['Text', 'label']]"
   ]
  },
  {
   "cell_type": "code",
   "execution_count": 115,
   "id": "4115deb4",
   "metadata": {},
   "outputs": [],
   "source": [
    "x = df['Text']"
   ]
  },
  {
   "cell_type": "code",
   "execution_count": 116,
   "id": "e8ea85cc",
   "metadata": {},
   "outputs": [],
   "source": [
    "y = df['label']"
   ]
  },
  {
   "cell_type": "code",
   "execution_count": 117,
   "id": "5ca18cf7",
   "metadata": {},
   "outputs": [
    {
     "data": {
      "text/html": [
       "<div>\n",
       "<style scoped>\n",
       "    .dataframe tbody tr th:only-of-type {\n",
       "        vertical-align: middle;\n",
       "    }\n",
       "\n",
       "    .dataframe tbody tr th {\n",
       "        vertical-align: top;\n",
       "    }\n",
       "\n",
       "    .dataframe thead th {\n",
       "        text-align: right;\n",
       "    }\n",
       "</style>\n",
       "<table border=\"1\" class=\"dataframe\">\n",
       "  <thead>\n",
       "    <tr style=\"text-align: right;\">\n",
       "      <th></th>\n",
       "      <th>Text</th>\n",
       "      <th>label</th>\n",
       "    </tr>\n",
       "  </thead>\n",
       "  <tbody>\n",
       "    <tr>\n",
       "      <th>0</th>\n",
       "      <td>Namni waan itti kenname hojjechuuf gahumsa hin...</td>\n",
       "      <td>offensive</td>\n",
       "    </tr>\n",
       "    <tr>\n",
       "      <th>1</th>\n",
       "      <td>ANI TPLF DEGEERA EEGA YOO AFUUFTUN KUN HUNDI P...</td>\n",
       "      <td>politics</td>\n",
       "    </tr>\n",
       "    <tr>\n",
       "      <th>2</th>\n",
       "      <td>Bara Kana bittaa boondii fi arjooma garaagaraa...</td>\n",
       "      <td>free</td>\n",
       "    </tr>\n",
       "    <tr>\n",
       "      <th>3</th>\n",
       "      <td>Akka Aadde Adaanach jedhanitti Sagantaan maall...</td>\n",
       "      <td>free</td>\n",
       "    </tr>\n",
       "    <tr>\n",
       "      <th>4</th>\n",
       "      <td>afaa isin abbaan page kana maqaa hinjirre ykn ...</td>\n",
       "      <td>politics</td>\n",
       "    </tr>\n",
       "    <tr>\n",
       "      <th>...</th>\n",
       "      <td>...</td>\n",
       "      <td>...</td>\n",
       "    </tr>\n",
       "    <tr>\n",
       "      <th>10032</th>\n",
       "      <td>Namoonni kun bineensa fucking yoomiyyuu hin ji...</td>\n",
       "      <td>religion</td>\n",
       "    </tr>\n",
       "    <tr>\n",
       "      <th>10033</th>\n",
       "      <td>Qur'aana keessatti ifatti barreeffame jira Nam...</td>\n",
       "      <td>religion</td>\n",
       "    </tr>\n",
       "    <tr>\n",
       "      <th>10034</th>\n",
       "      <td>Deeggarsa Chaayinaa irraa , amantii kaansarii ...</td>\n",
       "      <td>religion</td>\n",
       "    </tr>\n",
       "    <tr>\n",
       "      <th>10035</th>\n",
       "      <td>Muslimoonni waraana barbaadu! Kanaaf dursa gar...</td>\n",
       "      <td>religion</td>\n",
       "    </tr>\n",
       "    <tr>\n",
       "      <th>10036</th>\n",
       "      <td>Cc to Anwar Kelil \"\"Hojjattoota OBN Zaalimun S...</td>\n",
       "      <td>religion</td>\n",
       "    </tr>\n",
       "  </tbody>\n",
       "</table>\n",
       "<p>10036 rows × 2 columns</p>\n",
       "</div>"
      ],
      "text/plain": [
       "                                                    Text      label\n",
       "0      Namni waan itti kenname hojjechuuf gahumsa hin...  offensive\n",
       "1      ANI TPLF DEGEERA EEGA YOO AFUUFTUN KUN HUNDI P...   politics\n",
       "2      Bara Kana bittaa boondii fi arjooma garaagaraa...       free\n",
       "3      Akka Aadde Adaanach jedhanitti Sagantaan maall...       free\n",
       "4      afaa isin abbaan page kana maqaa hinjirre ykn ...   politics\n",
       "...                                                  ...        ...\n",
       "10032  Namoonni kun bineensa fucking yoomiyyuu hin ji...   religion\n",
       "10033  Qur'aana keessatti ifatti barreeffame jira Nam...   religion\n",
       "10034  Deeggarsa Chaayinaa irraa , amantii kaansarii ...   religion\n",
       "10035  Muslimoonni waraana barbaadu! Kanaaf dursa gar...   religion\n",
       "10036  Cc to Anwar Kelil \"\"Hojjattoota OBN Zaalimun S...   religion\n",
       "\n",
       "[10036 rows x 2 columns]"
      ]
     },
     "execution_count": 117,
     "metadata": {},
     "output_type": "execute_result"
    }
   ],
   "source": [
    "dt_transformed"
   ]
  },
  {
   "cell_type": "code",
   "execution_count": 101,
   "id": "15ad5f01",
   "metadata": {},
   "outputs": [],
   "source": [
    "#dt_transformed = dt_transformed['label']"
   ]
  },
  {
   "cell_type": "code",
   "execution_count": 102,
   "id": "c5025131",
   "metadata": {},
   "outputs": [],
   "source": [
    "# Dividindo o df em treino e teste\n",
    "#df_train, df_test = train_test_split(dt_transformed, test_size = 0.10, random_state = 42, stratify=dt_transformed)\n",
    "#df_train.shape, df_test.shape"
   ]
  },
  {
   "cell_type": "code",
   "execution_count": 103,
   "id": "410ce04a",
   "metadata": {},
   "outputs": [
    {
     "data": {
      "text/plain": [
       "<AxesSubplot:>"
      ]
     },
     "execution_count": 103,
     "metadata": {},
     "output_type": "execute_result"
    },
    {
     "data": {
      "image/png": "[encoded data removed]",
      "text/plain": [
       "<Figure size 432x288 with 1 Axes>"
      ]
     },
     "metadata": {
      "needs_background": "light"
     },
     "output_type": "display_data"
    }
   ],
   "source": [
    "dt_transformed.value_counts().plot(kind='bar')"
   ]
  },
  {
   "cell_type": "code",
   "execution_count": 118,
   "id": "3e9e3228",
   "metadata": {},
   "outputs": [],
   "source": [
    "def preprocessing(data):\n",
    "    stemmer = nltk.stem.RSLPStemmer()\n",
    "    all_stopwords = stopwords.words('english')\n",
    "    all_stopwords.remove('not')\n",
    "    corpus = []\n",
    "    for tweet in data:\n",
    "        review = re.sub(r\"@[A-Za-z0-9_]+\", \" \", tweet)\n",
    "        review = re.sub('RT', ' ', review)\n",
    "        review = re.sub(r\"https?://[A-Za-z0-9./]+\", \" \", review)\n",
    "        review = re.sub(r\"https?\", \" \", review)\n",
    "        review = re.sub('[^a-zA-Z]', ' ', review)\n",
    "        review = review.lower()\n",
    "        review = review.split()\n",
    "        ps = PorterStemmer()\n",
    "        review = [ps.stem(word) for word in review if not word in set(all_stopwords) if len(word) > 2]\n",
    "        review = ' '.join(review)\n",
    "        corpus.append(review)\n",
    "    return np.array(corpus)"
   ]
  },
  {
   "cell_type": "code",
   "execution_count": 119,
   "id": "e8cdd05e",
   "metadata": {},
   "outputs": [
    {
     "name": "stderr",
     "output_type": "stream",
     "text": [
      "[nltk_data] Downloading package rslp to\n",
      "[nltk_data]     C:\\Users\\Moti\\AppData\\Roaming\\nltk_data...\n",
      "[nltk_data]   Package rslp is already up-to-date!\n"
     ]
    },
    {
     "data": {
      "text/plain": [
       "True"
      ]
     },
     "execution_count": 119,
     "metadata": {},
     "output_type": "execute_result"
    }
   ],
   "source": [
    " nltk.download('rslp')"
   ]
  },
  {
   "cell_type": "code",
   "execution_count": 124,
   "id": "d96f048c",
   "metadata": {},
   "outputs": [
    {
     "data": {
      "text/plain": [
       "(10036,)"
      ]
     },
     "execution_count": 124,
     "metadata": {},
     "output_type": "execute_result"
    }
   ],
   "source": [
    "corpus = preprocessing(x.values)\n",
    "corpus.shape"
   ]
  },
  {
   "cell_type": "code",
   "execution_count": 125,
   "id": "7b2c3a51",
   "metadata": {},
   "outputs": [
    {
     "data": {
      "text/plain": [
       "(10036,)"
      ]
     },
     "execution_count": 125,
     "metadata": {},
     "output_type": "execute_result"
    }
   ],
   "source": [
    "corpus.shape"
   ]
  },
  {
   "cell_type": "code",
   "execution_count": 126,
   "id": "9b6596d1",
   "metadata": {},
   "outputs": [
    {
     "data": {
      "text/plain": [
       "(10036,)"
      ]
     },
     "execution_count": 126,
     "metadata": {},
     "output_type": "execute_result"
    }
   ],
   "source": [
    "y.shape"
   ]
  },
  {
   "cell_type": "code",
   "execution_count": 127,
   "id": "a6cf2393",
   "metadata": {},
   "outputs": [
    {
     "data": {
      "text/plain": [
       "((9032,), (1004,))"
      ]
     },
     "execution_count": 127,
     "metadata": {},
     "output_type": "execute_result"
    }
   ],
   "source": [
    "# treino e validação do corpus\n",
    "c_train, c_vad, y_train, y_vad = train_test_split(corpus, y, test_size = 0.10, random_state = 42)\n",
    "c_train.shape, c_vad.shape"
   ]
  },
  {
   "cell_type": "code",
   "execution_count": 128,
   "id": "106f13d9",
   "metadata": {},
   "outputs": [],
   "source": [
    "def tokenize(c_train, c_vad):\n",
    "    tweet_tokenizer = TweetTokenizer() \n",
    "    vectorizer = CountVectorizer(analyzer=\"word\", tokenizer=tweet_tokenizer.tokenize, max_features = 1010)\n",
    "    X_train = vectorizer.fit_transform(c_train).toarray()\n",
    "    X_vad = vectorizer.transform(c_vad).toarray()\n",
    "    return X_train, X_vad"
   ]
  },
  {
   "cell_type": "code",
   "execution_count": 129,
   "id": "dab2c646",
   "metadata": {},
   "outputs": [
    {
     "name": "stderr",
     "output_type": "stream",
     "text": [
      "C:\\ProgramData\\Anaconda3\\lib\\site-packages\\sklearn\\feature_extraction\\text.py:528: UserWarning: The parameter 'token_pattern' will not be used since 'tokenizer' is not None'\n",
      "  warnings.warn(\n"
     ]
    },
    {
     "data": {
      "text/plain": [
       "((9032, 1010), (1004, 1010))"
      ]
     },
     "execution_count": 129,
     "metadata": {},
     "output_type": "execute_result"
    }
   ],
   "source": [
    "X_train, X_vad = tokenize(c_train, c_vad)\n",
    "X_train.shape, X_vad.shape"
   ]
  },
  {
   "cell_type": "code",
   "execution_count": 130,
   "id": "e37bf385",
   "metadata": {},
   "outputs": [],
   "source": [
    "# Logistic Regression\n",
    "model = LogisticRegression(multi_class='ovr', solver='liblinear', random_state = 0)\n",
    "model.fit(X_train, y_train.ravel())\n",
    "y_pred = model.predict(X_vad)"
   ]
  },
  {
   "cell_type": "code",
   "execution_count": 131,
   "id": "be814cf5",
   "metadata": {},
   "outputs": [],
   "source": [
    "def set_confusion_matrix(clf, X, y, title):\n",
    "    plot_confusion_matrix(clf, X, y)\n",
    "    plt.title(title)\n",
    "    plt.show()"
   ]
  },
  {
   "cell_type": "code",
   "execution_count": 132,
   "id": "fbababca",
   "metadata": {},
   "outputs": [],
   "source": [
    "from sklearn.metrics import ConfusionMatrixDisplay"
   ]
  },
  {
   "cell_type": "code",
   "execution_count": 133,
   "id": "4dab58ac",
   "metadata": {},
   "outputs": [],
   "source": [
    " from sklearn.metrics import classification_report"
   ]
  },
  {
   "cell_type": "code",
   "execution_count": 139,
   "id": "8a8cf5dc",
   "metadata": {},
   "outputs": [],
   "source": [
    "target_names = ['class 0', 'class 1', 'class 2','class 3', 'class 4']"
   ]
  },
  {
   "cell_type": "code",
   "execution_count": 140,
   "id": "e56eee57",
   "metadata": {},
   "outputs": [
    {
     "data": {
      "image/png": "[encoded data removed]",
      "text/plain": [
       "<Figure size 432x288 with 2 Axes>"
      ]
     },
     "metadata": {
      "needs_background": "light"
     },
     "output_type": "display_data"
    }
   ],
   "source": [
    "predictions = model.predict(X_vad)\n",
    "cm = confusion_matrix(y_vad, predictions, labels=model.classes_)\n",
    "disp = ConfusionMatrixDisplay(confusion_matrix=cm, display_labels=model.classes_)\n",
    "disp.plot()\n",
    "plt.show()"
   ]
  },
  {
   "cell_type": "code",
   "execution_count": 141,
   "id": "c6b96a42",
   "metadata": {},
   "outputs": [
    {
     "name": "stdout",
     "output_type": "stream",
     "text": [
      "              precision    recall  f1-score   support\n",
      "\n",
      "     class 0       0.48      0.37      0.42       150\n",
      "     class 1       0.49      0.59      0.54       253\n",
      "     class 2       0.60      0.66      0.63       419\n",
      "     class 3       0.51      0.42      0.46       138\n",
      "     class 4       0.67      0.18      0.29        44\n",
      "\n",
      "    accuracy                           0.55      1004\n",
      "   macro avg       0.55      0.45      0.47      1004\n",
      "weighted avg       0.55      0.55      0.54      1004\n",
      "\n"
     ]
    }
   ],
   "source": [
    "target_names = ['class 0', 'class 1', 'class 2','class 3', 'class 4']\n",
    "print(classification_report(y_vad, y_pred, target_names=target_names))"
   ]
  },
  {
   "cell_type": "code",
   "execution_count": null,
   "id": "c86e5461",
   "metadata": {},
   "outputs": [],
   "source": []
  },
  {
   "cell_type": "code",
   "execution_count": null,
   "id": "3d30b250",
   "metadata": {},
   "outputs": [],
   "source": []
  }
 ],
 "metadata": {
  "kernelspec": {
   "display_name": "Python 3 (ipykernel)",
   "language": "python",
   "name": "python3"
  },
  "language_info": {
   "codemirror_mode": {
    "name": "ipython",
    "version": 3
   },
   "file_extension": ".py",
   "mimetype": "text/x-python",
   "name": "python",
   "nbconvert_exporter": "python",
   "pygments_lexer": "ipython3",
   "version": "3.11.5"
  }
 },
 "nbformat": 4,
 "nbformat_minor": 5
}
