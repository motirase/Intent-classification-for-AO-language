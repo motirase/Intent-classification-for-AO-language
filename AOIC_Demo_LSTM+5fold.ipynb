{
 "cells": [
  {
   "cell_type": "code",
   "execution_count": 7,
   "metadata": {},
   "outputs": [],
   "source": [
    "import numpy as np\n",
    "import pandas as pd\n",
    "from sklearn.model_selection import train_test_split\n",
    "import matplotlib.pyplot as plt\n",
    "from keras.models import Sequential,load_model\n",
    "from keras.layers import Dense,LSTM,Embedding,Dropout\n",
    "from keras.preprocessing.text import Tokenizer\n",
    "from tensorflow.keras.preprocessing.sequence import pad_sequences\n",
    "import seaborn as sns\n",
    "from sklearn import metrics\n",
    "from sklearn.metrics import accuracy_score, confusion_matrix, precision_recall_fscore_support\n",
    "import re\n",
    "from sklearn.model_selection import KFold"
   ]
  },
  {
   "cell_type": "code",
   "execution_count": 8,
   "metadata": {},
   "outputs": [],
   "source": [
    "# Reading Intent Dataset"
   ]
  },
  {
   "cell_type": "code",
   "execution_count": 9,
   "metadata": {},
   "outputs": [
    {
     "name": "stdout",
     "output_type": "stream",
     "text": [
      "(10561, 2)\n"
     ]
    },
    {
     "data": {
      "text/html": [
       "<div>\n",
       "<style scoped>\n",
       "    .dataframe tbody tr th:only-of-type {\n",
       "        vertical-align: middle;\n",
       "    }\n",
       "\n",
       "    .dataframe tbody tr th {\n",
       "        vertical-align: top;\n",
       "    }\n",
       "\n",
       "    .dataframe thead th {\n",
       "        text-align: right;\n",
       "    }\n",
       "</style>\n",
       "<table border=\"1\" class=\"dataframe\">\n",
       "  <thead>\n",
       "    <tr style=\"text-align: right;\">\n",
       "      <th></th>\n",
       "      <th>Text</th>\n",
       "      <th>Intent</th>\n",
       "    </tr>\n",
       "  </thead>\n",
       "  <tbody>\n",
       "    <tr>\n",
       "      <th>0</th>\n",
       "      <td>Kiyyoo dirama oso  eguti jirun na darbe tari a...</td>\n",
       "      <td>Question</td>\n",
       "    </tr>\n",
       "    <tr>\n",
       "      <th>1</th>\n",
       "      <td>Meeti ree kuta 28ffaa</td>\n",
       "      <td>Question</td>\n",
       "    </tr>\n",
       "    <tr>\n",
       "      <th>2</th>\n",
       "      <td>Kutaa digdami sadetaffa isiin egee dadhabee.</td>\n",
       "      <td>Negative</td>\n",
       "    </tr>\n",
       "    <tr>\n",
       "      <th>3</th>\n",
       "      <td>Kutaa digdami sadetaffaa fiidagaa maali nuuraa...</td>\n",
       "      <td>Negative</td>\n",
       "    </tr>\n",
       "    <tr>\n",
       "      <th>4</th>\n",
       "      <td>Nuuf jabbadhakaa warii Akka kotti kiyyoo jaala...</td>\n",
       "      <td>Positive</td>\n",
       "    </tr>\n",
       "  </tbody>\n",
       "</table>\n",
       "</div>"
      ],
      "text/plain": [
       "                                                Text     Intent\n",
       "0  Kiyyoo dirama oso  eguti jirun na darbe tari a...  Question \n",
       "1                              Meeti ree kuta 28ffaa  Question \n",
       "2       Kutaa digdami sadetaffa isiin egee dadhabee.   Negative\n",
       "3  Kutaa digdami sadetaffaa fiidagaa maali nuuraa...   Negative\n",
       "4  Nuuf jabbadhakaa warii Akka kotti kiyyoo jaala...   Positive"
      ]
     },
     "execution_count": 9,
     "metadata": {},
     "output_type": "execute_result"
    }
   ],
   "source": [
    "data=pd.read_csv('intent1-corrected.csv',names=['Text','Intent'],encoding=\"utf-8\")\n",
    "data.sample(frac=1).reset_index(drop=True)\n",
    "print(data.shape)\n",
    "data.head()"
   ]
  },
  {
   "cell_type": "code",
   "execution_count": 10,
   "metadata": {},
   "outputs": [
    {
     "data": {
      "text/plain": [
       "Positive       4320\n",
       "Negative       3271\n",
       "Suggestion     1686\n",
       "Question        736\n",
       "Wish            546\n",
       "Name: Intent, dtype: int64"
      ]
     },
     "execution_count": 10,
     "metadata": {},
     "output_type": "execute_result"
    }
   ],
   "source": [
    "data[\"Intent\"].value_counts()"
   ]
  },
  {
   "cell_type": "code",
   "execution_count": 4,
   "metadata": {},
   "outputs": [
    {
     "data": {
      "text/plain": [
       "<AxesSubplot:xlabel='Intent', ylabel='count'>"
      ]
     },
     "execution_count": 4,
     "metadata": {},
     "output_type": "execute_result"
    },
    {
     "data": {
      "image/png": "[encoded data removed]",
      "text/plain": [
       "<Figure size 432x288 with 1 Axes>"
      ]
     },
     "metadata": {
      "needs_background": "light"
     },
     "output_type": "display_data"
    }
   ],
   "source": [
    "sns.countplot(x='Intent', data=data)"
   ]
  },
  {
   "cell_type": "markdown",
   "metadata": {},
   "source": [
    "# Data Preprocessing"
   ]
  },
  {
   "cell_type": "code",
   "execution_count": 5,
   "metadata": {},
   "outputs": [],
   "source": [
    "def preprocess_text(sen):\n",
    "    # Removing html tags\n",
    "    sentence = remove_tags(sen)\n",
    "    # Remove punctuations and numbers\n",
    "    sentence = re.sub('[^a-zA-Z]', ' ', sentence)\n",
    "    # Single character removal\n",
    "    sentence = re.sub(r\"\\s+[a-zA-Z]\\s+\", ' ', sentence)\n",
    "    # Removing multiple spaces\n",
    "    sentence = re.sub(r'\\s+', ' ', sentence)\n",
    "    sentence = sen.lower()\n",
    "    sentence = re.sub(r'wo*w','wow', sentence)\n",
    "    sentence = re.sub(r'uu*f','uff', sentence)\n",
    "    return sentence\n",
    "TAG_RE = re.compile(r'<[^>]+>')\n",
    "def remove_tags(Text):\n",
    "    return TAG_RE.sub('', Text)"
   ]
  },
  {
   "cell_type": "code",
   "execution_count": 7,
   "metadata": {},
   "outputs": [],
   "source": [
    "def remove_stopwords(review_words):\n",
    "    with open('stopwords.txt')as stopfile:\n",
    "        stopwords=stopfile.read()\n",
    "        list=stopwords.split()\n",
    "        print(list)\n",
    "        with open(\"intent1.csv\") as workfile:\n",
    "            read_data=workfile.read()\n",
    "            data=read_data.split()\n",
    "            print(data)\n",
    "            for word1 in list:\n",
    "                for word2 in data:\n",
    "                    if word1==word2:\n",
    "                        return data.remove(list)\n",
    "                        print(remove_stopwords)"
   ]
  },
  {
   "cell_type": "code",
   "execution_count": 8,
   "metadata": {},
   "outputs": [
    {
     "data": {
      "text/plain": [
       "0        kiyyoo dirama oso  eguti jirun na darbe tari a...\n",
       "1                                    meeti ree kuta 28ffaa\n",
       "2             kutaa digdami sadetaffa isiin egee dadhabee.\n",
       "3        kutaa digdami sadetaffaa fiidagaa maali nuuraa...\n",
       "4        nuuf jabbadhakaa warii akka kotti kiyyoo jaala...\n",
       "                               ...                        \n",
       "10556    isheenis namoota dogoggoraa waliin lafa dogogg...\n",
       "10557    vidiyichis battalumatti qoodamuun marsariitiiw...\n",
       "10558    gochiwwan qaamaa warraabbicha irratti ture bah...\n",
       "10559              jechi gurbbichaa altokkicha dhagahame. \n",
       "10560                           viidiyoo waraabaa jirtaa? \n",
       "Name: Text, Length: 10561, dtype: object"
      ]
     },
     "execution_count": 8,
     "metadata": {},
     "output_type": "execute_result"
    }
   ],
   "source": [
    "data['Text'].apply(lambda x: x.lower())"
   ]
  },
  {
   "cell_type": "markdown",
   "metadata": {},
   "source": [
    "# Feature Extraction"
   ]
  },
  {
   "cell_type": "code",
   "execution_count": 9,
   "metadata": {},
   "outputs": [
    {
     "data": {
      "text/plain": [
       "array([[   0,    0,    0,    0,    0,    0,    0,    0,    0,    0,    0,\n",
       "           0,    0,    0,    0,    0,    0,    0,    0,    0,    0,    0,\n",
       "           0,    0,    0,    0,  200, 3022, 3023,   37,  193,  140,  325],\n",
       "       [   0,    0,    0,    0,    0,    0,    0,    0,    0,    0,    0,\n",
       "           0,    0,    0,    0,    0,    0,    0,    0,    0,    0,    0,\n",
       "           0,    0,    0,    0,    0,    0,    0,    0,    0,  439, 3332],\n",
       "       [   0,    0,    0,    0,    0,    0,    0,    0,    0,    0,    0,\n",
       "           0,    0,    0,    0,    0,    0,    0,    0,    0,    0,    0,\n",
       "           0,    0,    0,    0,    0,    0,    0,  162, 3333,  326,  423],\n",
       "       [   0,    0,    0,    0,    0,    0,    0,    0,    0,    0,    0,\n",
       "           0,    0,    0,    0,    0,    0,    0,    0,    0,    0,    0,\n",
       "           0,    0,    0,    0,    0,    0,  162, 3333,  157, 3113,   47],\n",
       "       [   0,    0,    0,    0,    0,    0,    0,    0,    0,    0,    0,\n",
       "           0,    0,    0,    0,    0,    0,    0,    0,    0,    0,    0,\n",
       "           0,    0,    0,    0,    0,   79, 3334,    4, 3114,  200, 3335]])"
      ]
     },
     "execution_count": 9,
     "metadata": {},
     "output_type": "execute_result"
    }
   ],
   "source": [
    "tokenizer=Tokenizer(num_words=4000,split=\" \")\n",
    "tokenizer.fit_on_texts(data['Text'].values)\n",
    "x=tokenizer.texts_to_sequences(data['Text'].values)\n",
    "x=pad_sequences(x)\n",
    "x[:5]"
   ]
  },
  {
   "cell_type": "code",
   "execution_count": 10,
   "metadata": {},
   "outputs": [
    {
     "name": "stdout",
     "output_type": "stream",
     "text": [
      "Question  [0 0 1 0 0]\n",
      "Question  [0 0 1 0 0]\n",
      "Negative [1 0 0 0 0]\n",
      "Negative [1 0 0 0 0]\n",
      "Positive [0 1 0 0 0]\n"
     ]
    },
    {
     "data": {
      "text/plain": [
       "[None, None, None, None, None]"
      ]
     },
     "execution_count": 10,
     "metadata": {},
     "output_type": "execute_result"
    }
   ],
   "source": [
    "y=pd.get_dummies(data['Intent']).values\n",
    "[print(data['Intent'][i],y[i]) for i in range(0,5)]"
   ]
  },
  {
   "cell_type": "code",
   "execution_count": null,
   "metadata": {},
   "outputs": [],
   "source": [
    "num_folds = 5\n",
    "acc_per_fold = []\n",
    "loss_per_fold = []\n",
    "kfold = KFold(n_splits=num_folds, shuffle=True)"
   ]
  },
  {
   "cell_type": "code",
   "execution_count": null,
   "metadata": {},
   "outputs": [],
   "source": [
    "fold_no = 1\n",
    "for train, test in kfold.split(x, y):\n",
    "    model = Sequential()\n",
    "    model.add(Embedding(4000, 64, input_length=x.shape[1]))\n",
    "    model.add(Dropout(0.6))\n",
    "    model.add(LSTM(64, return_sequences=True, dropout=0.2, recurrent_dropout=0.2))\n",
    "    model.add(LSTM(64, dropout=0.3, recurrent_dropout=0.2))\n",
    "    #model.add(LSTM(128, dropout=0.2, recurrent_dropout=0.3))\n",
    "    model.add(Dense(5, activation = 'softmax'))\n",
    "    model.compile(loss='categorical_crossentropy', optimizer='adam',metrics=['accuracy'])\n",
    "    # Generate a print\n",
    "    print('------------------------------------------------------------------------')\n",
    "    print(f'Training for fold {fold_no} ...')\n",
    "    # Fit data to model\n",
    "    history = model.fit(x[train], y[train], epochs=25, batch_size=50,validation_data=(x[test], y[test]), verbose=2)\n",
    "    # Generate generalization metrics\n",
    "    scores = model.evaluate(x[test], y[test], verbose=0)\n",
    "    print(f'Score for fold {fold_no}: {model.metrics_names[0]} of {scores[0]}; {model.metrics_names[1]} of {scores[1]*100}%')\n",
    "    acc_per_fold.append(scores[1] * 100)\n",
    "    loss_per_fold.append(scores[0])\n",
    "    # Increase fold number\n",
    "    fold_no = fold_no + 1\n",
    "    # == Provide average scores ==\n",
    "    print('------------------------------------------------------------------------')\n",
    "    print('Score per fold')\n",
    "    for i in range(0, len(acc_per_fold)):\n",
    "        print('------------------------------------------------------------------------')\n",
    "        print(f'> Fold {i+1} - Loss: {loss_per_fold[i]} - Accuracy: {acc_per_fold[i]}%')\n",
    "    print('------------------------------------------------------------------------')\n",
    "    print('Average scores for all folds:')\n",
    "    print(f'> Accuracy: {np.mean(acc_per_fold)} (+- {np.std(acc_per_fold)})')\n",
    "    print(f'> Loss: {np.mean(loss_per_fold)}')\n",
    "    print('------------------------------------------------------------------------')"
   ]
  },
  {
   "cell_type": "code",
   "execution_count": null,
   "metadata": {},
   "outputs": [],
   "source": [
    "scores = model.evaluate(x[test], y[test], verbose=1)"
   ]
  },
  {
   "cell_type": "code",
   "execution_count": null,
   "metadata": {},
   "outputs": [],
   "source": [
    "model.compile(loss='categorical_crossentropy', optimizer='adam',metrics=['accuracy'])"
   ]
  },
  {
   "cell_type": "code",
   "execution_count": null,
   "metadata": {},
   "outputs": [],
   "source": [
    "model.summary()"
   ]
  },
  {
   "cell_type": "markdown",
   "metadata": {},
   "source": [
    "# Splitting Traing and Testing Dataset"
   ]
  },
  {
   "cell_type": "code",
   "execution_count": null,
   "metadata": {},
   "outputs": [],
   "source": [
    "x_train, x_test, y_train, y_test = train_test_split(x, y, test_size = 0.1, random_state=0)"
   ]
  },
  {
   "cell_type": "markdown",
   "metadata": {},
   "source": [
    "# Training the Model"
   ]
  },
  {
   "cell_type": "code",
   "execution_count": null,
   "metadata": {},
   "outputs": [],
   "source": [
    "batch_size = 64\n",
    "epochs = 30\n",
    "history = model.fit(x_train, y_train, epochs=epochs, batch_size=batch_size,validation_data=(x_test, y_test), verbose=2)"
   ]
  },
  {
   "cell_type": "markdown",
   "metadata": {},
   "source": [
    "# Testing The model"
   ]
  },
  {
   "cell_type": "code",
   "execution_count": null,
   "metadata": {},
   "outputs": [],
   "source": [
    "predictions = model.predict(x_test)"
   ]
  },
  {
   "cell_type": "code",
   "execution_count": null,
   "metadata": {},
   "outputs": [],
   "source": [
    "scores = model.evaluate(x_test, y_test,verbose=2)\n",
    "\n",
    "print(scores)"
   ]
  },
  {
   "cell_type": "code",
   "execution_count": null,
   "metadata": {},
   "outputs": [],
   "source": [
    "from sklearn.model_selection import KFold as kf\n",
    "from sklearn.model_selection import StratifiedKFold\n",
    "from sklearn import metrics"
   ]
  },
  {
   "cell_type": "code",
   "execution_count": null,
   "metadata": {},
   "outputs": [],
   "source": [
    "from sklearn.model_selection import cross_validate\n",
    "def cross_validation(history, _X, _y, _cv=5):\n",
    "      '''Function to perform 5 Folds Cross-Validation\n",
    "       Parameters\n",
    "       ----------\n",
    "      model: Python Class, default=None\n",
    "              This is the machine learning algorithm to be used for training.\n",
    "      _X: array\n",
    "           This is the matrix of features.\n",
    "      _y: array\n",
    "           This is the target variable.\n",
    "      _cv: int, default=5\n",
    "          Determines the number of folds for cross-validation.\n",
    "       Returns\n",
    "       -------\n",
    "       The function returns a dictionary containing the metrics 'accuracy', 'precision',\n",
    "       'recall', 'f1' for both training set and validation set.\n",
    "      '''\n",
    "      _scoring = ['accuracy', 'precision', 'recall', 'f1']\n",
    "      results = cross_validate(estimator=history,\n",
    "                               x_tarin=_X,\n",
    "                               y_train=_y,\n",
    "                               cv=_cv,\n",
    "                               scoring=_scoring,\n",
    "                               return_train_score=True)\n",
    "      \n",
    "      return {\"Training Accuracy scores\": results['train_accuracy'],\n",
    "              \"Mean Training Accuracy\": results['train_accuracy'].mean()*100,\n",
    "              \"Training Precision scores\": results['train_precision'],\n",
    "              \"Mean Training Precision\": results['train_precision'].mean(),\n",
    "              \"Training Recall scores\": results['train_recall'],\n",
    "              \"Mean Training Recall\": results['train_recall'].mean(),\n",
    "              \"Training F1 scores\": results['train_f1'],\n",
    "              \"Mean Training F1 Score\": results['train_f1'].mean(),\n",
    "              \"Validation Accuracy scores\": results['test_accuracy'],\n",
    "              \"Mean Validation Accuracy\": results['test_accuracy'].mean()*100,\n",
    "              \"Validation Precision scores\": results['test_precision'],\n",
    "              \"Mean Validation Precision\": results['test_precision'].mean(),\n",
    "              \"Validation Recall scores\": results['test_recall'],\n",
    "              \"Mean Validation Recall\": results['test_recall'].mean(),\n",
    "              \"Validation F1 scores\": results['test_f1'],\n",
    "              \"Mean Validation F1 Score\": results['test_f1'].mean()\n",
    "              }"
   ]
  },
  {
   "cell_type": "code",
   "execution_count": null,
   "metadata": {},
   "outputs": [],
   "source": []
  },
  {
   "cell_type": "code",
   "execution_count": 42,
   "metadata": {},
   "outputs": [],
   "source": [
    "# Grouped Bar Chart for both training and validation data\n",
    "def plot_result(x_label, y_label, plot_title, train_data, val_data):\n",
    "        '''Function to plot a grouped bar chart showing the training and validation\n",
    "          results of the ML model in each fold after applying K-fold cross-validation.\n",
    "         Parameters\n",
    "         ----------\n",
    "         x_label: str, \n",
    "            Name of the algorithm used for training e.g 'Decision Tree'\n",
    "          \n",
    "         y_label: str, \n",
    "            Name of metric being visualized e.g 'Accuracy'\n",
    "         plot_title: str, \n",
    "            This is the title of the plot e.g 'Accuracy Plot'\n",
    "         \n",
    "         train_result: list, array\n",
    "            This is the list containing either training precision, accuracy, or f1 score.\n",
    "        \n",
    "         val_result: list, array\n",
    "            This is the list containing either validation precision, accuracy, or f1 score.\n",
    "         Returns\n",
    "         -------\n",
    "         The function returns a Grouped Barchart showing the training and validation result\n",
    "         in each fold.\n",
    "        '''\n",
    "        \n",
    "        # Set size of plot\n",
    "        plt.figure(figsize=(12,6))\n",
    "        labels = [\"1st Fold\", \"2nd Fold\", \"3rd Fold\", \"4th Fold\", \"5th Fold\"]\n",
    "        X_axis = np.arange(len(labels))\n",
    "        ax = plt.gca()\n",
    "        plt.ylim(0.40000, 1)\n",
    "        plt.bar(X_axis-0.2, train_data, 0.4, color='blue', label='Training')\n",
    "        plt.bar(X_axis+0.2, val_data, 0.4, color='red', label='Validation')\n",
    "        plt.title(plot_title, fontsize=30)\n",
    "        plt.xticks(X_axis, labels)\n",
    "        plt.xlabel(x_label, fontsize=14)\n",
    "        plt.ylabel(y_label, fontsize=14)\n",
    "        plt.legend()\n",
    "        plt.grid(True)\n",
    "        plt.show()"
   ]
  },
  {
   "cell_type": "code",
   "execution_count": 23,
   "metadata": {},
   "outputs": [
    {
     "data": {
      "image/png": "[encoded data removed]",
      "text/plain": [
       "<Figure size 640x480 with 1 Axes>"
      ]
     },
     "metadata": {},
     "output_type": "display_data"
    },
    {
     "data": {
      "image/png": "[encoded data removed]",
      "text/plain": [
       "<Figure size 640x480 with 1 Axes>"
      ]
     },
     "metadata": {},
     "output_type": "display_data"
    }
   ],
   "source": [
    "def plot_graphs(history, string):\n",
    "  plt.plot(history.history[string])\n",
    "  plt.plot(history.history['val_'+string])\n",
    "  plt.xlabel(\"epochs\")\n",
    "  plt.ylabel(string)\n",
    "  plt.legend([string, 'val_'+string])\n",
    "  plt.show()\n",
    "  \n",
    "plot_graphs(history, \"accuracy\")\n",
    "plot_graphs(history, \"loss\")"
   ]
  },
  {
   "cell_type": "code",
   "execution_count": 24,
   "metadata": {},
   "outputs": [],
   "source": [
    "model.save(\"Intent_Classification_using_LSTM.h5\")"
   ]
  },
  {
   "cell_type": "code",
   "execution_count": null,
   "metadata": {},
   "outputs": [],
   "source": [
    "new_intent = ['Kiyyoo dirama oso  eguti jirun na darbe tari ayaana moo sababa godhatu moyuu']\n",
    "seq = tokenizer.texts_to_sequences(new_intent)\n",
    "padded = pad_sequences(seq, maxlen=6000)\n",
    "pred = model.predict(padded)\n",
    "Intent = ['Question', 'Negative', 'Positive', 'Suggestion', 'Wish']\n",
    "print(pred, Intent[np.argmax(pred)])"
   ]
  },
  {
   "cell_type": "code",
   "execution_count": 85,
   "metadata": {},
   "outputs": [
    {
     "name": "stdout",
     "output_type": "stream",
     "text": [
      "wanti baayee nama aarsu sababa adda citiinsa sararaatiin Googlen yeroodhaaf tajaajilasa adda kute [0.03210237 0.8104334  0.05371366 0.00187894 0.10187158] [0 0 1 0 0]\n",
      "baayee wan nama aarsu sababa adda citinsa sararaatiin haaraa qorumsi online tokko na darbee [0.00139441 0.00096279 0.03851677 0.95609117 0.00303491] [0 0 0 1 0]\n",
      "haaraa baayee aarerraa sababi internetin adda citeef qorumsi na darbee [5.6905192e-05 6.2806945e-04 9.9857640e-01 6.3605839e-04 1.0260015e-04] [0 0 1 0 0]\n",
      "akkam nama aarsa mucaan harreen kun guddatee maal haa ta'uuf? abboo safuu qabaadhaa jarana me rabin saalfadhu gurbaa osoo gubatee  [0.10637587 0.48355708 0.02002932 0.00427413 0.38576362] [0 1 0 0 0]\n",
      "kijiba ragaankee maali waan haasoftu kana?sobdu hadhakee akkam nama aarsitti [4.4067498e-04 3.1396668e-04 1.4114568e-01 8.5759109e-01 5.0862337e-04] [0 0 0 1 0]\n",
      "dubartoni asi jala safuu qabadhaa yoofetan godhadha malee afaan keessan hin banina balagewochi  [0.01000901 0.10112458 0.8067853  0.06758294 0.01449824] [0 0 0 0 1]\n",
      "kijiba keessan dhiisaa abboo nu hin aarsina akkuma warra sana [9.8863322e-01 1.0336913e-02 3.1040261e-05 2.8479978e-04 7.1406021e-04] [1 0 0 0 0]\n",
      "sobaa keessan nu dhisaa abboo nuti aarii isaa kanu dadhabnerra [0.00222735 0.0018574  0.05069833 0.94302213 0.00219483] [0 0 0 1 0]\n",
      "kijibduu wayii mee mal qaba of keessaa wanti kuni qaama saalaa guddisuufi?????? me na hin aarsiin dhisi [1.4074247e-04 9.9720736e-04 9.8993838e-01 8.6653791e-03 2.5827691e-04] [0 0 1 0 0]\n",
      "me mal qaba yoo dhiistee amma nu aarsu ? [1.22568272e-02 9.76410925e-01 7.49937491e-03 1.20653225e-04\n",
      " 3.71211977e-03] [0 1 0 0 0]\n",
      "Ufffff garaan nama gubatee kijibakee kana [1.9353523e-04 2.0203783e-04 6.2018722e-01 3.7908798e-01 3.2921074e-04] [0 0 1 0 0]\n",
      "warruma stage gubbaatti yaada namaa danqisiisan kun akkamitti nama aarsu heech kun aadaa malitti? [1.8423767e-01 3.0127186e-03 7.3696923e-04 5.1203491e-03 8.0689228e-01] [0 0 0 0 1]\n",
      "heech warruma stage gubbaatti yaada namaa danqaan kanatu na aarsa [2.5248218e-03 7.6290296e-04 8.5160579e-04 3.4358667e-04 9.9551708e-01] [0 0 0 0 1]\n",
      "heech akkamitti nama aarsu warri yaada namaa stage gubbaatti danqisiisan kun [5.1697862e-04 2.0559557e-04 2.2511590e-02 9.7634476e-01 4.2104642e-04] [0 0 0 1 0]\n",
      "mal sii gotee kosii hadhakee ? [4.4209755e-04 1.2416829e-04 2.1896626e-04 2.9825182e-05 9.9918491e-01] [0 0 0 0 1]\n",
      "namittin kosiin kun mal hadhasheef mucaa keenyaa arraabsitii?  [9.9281037e-01 1.7383441e-03 4.2966571e-05 2.1792608e-03 3.2291119e-03] [1 0 0 0 0]\n",
      "kosii hadhakee mal sii gotee kan mucaa arraabsituu ? [1.3587087e-04 4.1676460e-05 6.0514542e-03 9.9365449e-01 1.1656815e-04] [0 0 0 1 0]\n",
      "lakkoofsa hin beeku jechuunkee akka hoogganaatti si madaalsisa [0.20770045 0.11855423 0.01627686 0.01220471 0.6452638 ] [1 0 0 0 0]\n",
      "akkam nama aarsa hoogganaa ta'ee yeroo lakkoofsa hin beeku jedhu [9.8923457e-01 8.4326407e-03 3.6510788e-05 6.6670025e-04 1.6295291e-03] [1 0 0 0 0]\n",
      "namichi harreen kun akkam nama aarsa yeroo lakkoofsa hin beeku jedhu garuu maqan isaa hoogganadha [8.8695347e-01 8.5197762e-02 7.1318983e-04 3.2272802e-03 2.3908323e-02] [1 0 0 0 0]\n",
      "Abiyiffaa warra hudduu Mallasaa jala gangalata guddatteyyuu ni kabajja jaarsa gaafa xiiqi kanatti arraba kee xaragachuu hin dandeessuu [0.18251175 0.19444498 0.06693201 0.16965105 0.3864602 ] [1 0 0 0 0]\n",
      "saree hadhakee malee Abiyiffaa warra hudduu Mallasaa jala gangalata guddatteyyuu ni kabajja yoo Dawwidin kabajje mal hadhakee tata [0.16448675 0.2743805  0.39927015 0.12258246 0.03928014] [0 0 1 0 0]\n",
      "Dawwidi gaafa xiiqitti arraba kee xaragachuu hin dandeessuu [0.00206037 0.00116251 0.44260147 0.55211085 0.0020649 ] [0 0 1 0 0]\n",
      "saree hadhakee malee arraba kee Dawwiditti xaragachuu hin dandeessuu [0.02438066 0.20141213 0.618417   0.11141939 0.0443708 ] [0 0 1 0 0]\n",
      "saree Mallasaayyu ni kabajja mal hadhakee hayyuu duree keenya tuqu barbada saree [1.3861883e-03 7.3395931e-04 5.9174950e-04 1.2487669e-04 9.9716324e-01] [0 0 0 0 1]\n",
      "ciraa diqaala isheen akka keeti silaa eessatti goota kana dura dhaabatti isin warri dur H/sillaaseen daqqalee sokke kun uuuuuuus mirga hin qabdaan ququllaa'uuf jirtu [0.24770309 0.38027245 0.08387703 0.05306197 0.2350854 ] [0 0 0 0 1]\n",
      "ciraa diqaala uuuuuuus nurra [9.9677390e-01 2.4516718e-03 1.6038935e-05 2.2069601e-04 5.3768017e-04] [1 0 0 0 0]\n",
      "diqaala warra H/sillaaseen daqqalee sokke caal jedha nurra [0.29259792 0.40913665 0.07138873 0.14299941 0.08387729] [1 0 0 0 0]\n",
      "diqaala isheen akka keeti silaa eessatti goota beekti [0.047802   0.92551094 0.01038221 0.00162093 0.0146839 ] [0 1 0 0 0]\n",
      "qoyyaa ququllaa'uuf jirtu diqaalonni H/sillaaseen daqqaleee [9.9228972e-01 3.7514765e-03 4.5791356e-05 6.6094153e-04 3.2521700e-03] [1 0 0 0 0]\n",
      "isheen akka keeti silaa eessatti goota beekti diqaalonni [2.075142e-03 9.972459e-01 5.527090e-04 5.395807e-06 1.209354e-04] [0 1 0 0 0]\n",
      "maalumaa seeta shammaran???? harree akka keetu biyyaa balleessa jira [0.00970625 0.0164293  0.9009377  0.04913776 0.02378913] [0 0 1 0 0]\n",
      "mukaa nu setee moo namaam abbo nuti warri shamaraanis. [2.8274342e-04 1.2709654e-04 3.1172000e-02 9.6806395e-01 3.5421044e-04] [0 0 0 1 0]\n",
      "Ufffff waay qabso oromoo dhiraa meqaaf meqaa galafatee [0.27221346 0.39259523 0.04544776 0.10115261 0.18859099] [0 1 0 0 0]\n",
      "waay qabso oromoo dhiraa meqaaf meqaa galafatee Ufffff [2.2584223e-04 8.6655619e-04 9.9247897e-01 5.5041937e-03 9.2444778e-04] [0 0 1 0 0]\n",
      "dhiraa meqaaf meqaa galafatee Ufffff waay qabso oromoo [0.14581099 0.06506376 0.00840587 0.0080801  0.7726393 ] [0 0 0 0 1]\n",
      "akumma biyyen na hin nyaatin hangan bilisuma argutti jette biyyeen si nyaate aahh  [0.0488252  0.22007358 0.13545431 0.01930271 0.57634425] [0 1 0 0 0]\n",
      "Ufffff waay qabso biyyen na hin nyaatin hangan bilisuma argutti osoo jetu biyyeen si nyaate ebokoo aahh  [9.2489725e-01 7.1579695e-02 2.3156159e-04 8.1183156e-04 2.4796920e-03] [0 1 0 0 0]\n",
      "aahh biyyen na hin nyaatin hangan bilisuma argutti osoo jetu biyyeen si nyaate ebokoo Ufffff [0.07118497 0.22653005 0.2214182  0.05259217 0.4282746 ] [0 0 0 0 1]\n",
      "Ufffff wayoo osoo biyyen na hin nyaatin hangan bilisuma argutti jetu biyyeen si nyaate ebokoo [0.00129369 0.00171136 0.3417027  0.65141475 0.00387743] [0 0 0 1 0]\n",
      "Ebboo garaatu nu gubate [1.17030693e-04 3.89310881e-05 2.49329046e-03 9.97232974e-01\n",
      " 1.17826814e-04] [0 0 0 1 0]\n",
      "garaatu nu gubate ebokoo [0.12458017 0.17668693 0.07999145 0.10840452 0.51033694] [0 0 0 0 1]\n",
      "guyyaa guyyaan natti dabalaa aariin duu'aa keeti Ufffff ebokoo sibiraa hin hafiin warri si galafatani [0.01664176 0.00869408 0.01694945 0.9518495  0.00586528] [0 0 0 1 0]\n",
      "ebokoo sibiraa hin hafiin warri si galafatani malee guyyaa guyyaan natti dabalaa aariin duu'aa keeti Ufffff [0.10199962 0.74831194 0.08049802 0.02593124 0.04325921] [0 1 0 0 0]\n",
      "Ufffff warri si galafatani sibiraa hin hafiin ebokoo aariin duu'aa keeti guyyaa guyyaan natti dabalaa [0.00268187 0.00142783 0.02908653 0.963612   0.00319174] [0 0 0 1 0]\n",
      "wanti jedhaan hin jiru garaatu nu gubate ebokoo gumaakee rabi haa barbaadu oromoo bira seenaa qabda. [0.04453599 0.2196462  0.01750019 0.00193251 0.7163851 ] [0 0 0 0 1]\n",
      "Ufffff gubanee kaa eebbukoo biyyoon sitta saalphattu gumaan kee hin hafu [1.0334053e-03 2.1138834e-04 1.3187621e-04 1.8262959e-05 9.9860507e-01] [0 0 0 0 1]\n",
      "gumaan kee hin hafu eebbukoo biyyoon sitta saalphattu [0.7758016  0.20328091 0.00199433 0.0061086  0.01281461] [1 0 0 0 0]\n",
      "eebbukoo biyyoon sitta saalphattu gumaan kee hin hafu [0.0013462  0.00359584 0.96527404 0.02823378 0.00155005] [0 0 1 0 0]\n",
      "eebbukoo gumaan kee hin hafu [0.08999532 0.8267084  0.02393633 0.00266165 0.05669839] [0 0 1 0 0]\n",
      "Ayyyyiiiiii Ayyyyiiiiii Ufffff uttu tookkitimaa ol jeetee argitee [8.870425e-03 9.827771e-01 4.202253e-03 9.982763e-05 4.050373e-03] [0 1 0 0 0]\n",
      "eebbukoo Ayyyyiiiiii ol jeetee uttu tookkitimaa argitee wayoo [8.9833062e-05 5.8876525e-04 9.9488127e-01 4.1402499e-03 2.9981503e-04] [0 0 1 0 0]\n",
      "Ayyyyiiiiii yaa gootaa koo osoo hardhaa argittee gafaa oromoo mirgaa argatte kana Ufffff [0.00309448 0.00273746 0.03303136 0.9536428  0.00749392] [0 0 0 1 0]\n",
      "Ayyyyiiiiii garaa koo na gubateeka [0.03531592 0.8904589  0.02126653 0.00097954 0.05197915] [0 1 0 0 0]\n",
      "gumaa kee rabi haa basuu [0.01886538 0.02365187 0.01932819 0.00350916 0.9346454 ] [0 0 0 0 1]\n",
      "ana nyaatuu lammiikoo Ufffff garaan nu gubatee mal gonaare si nyatee yeyiin ana nyatuu leencaa koo biiyyee si haa lafisuu [0.01668476 0.1590698  0.7006315  0.05279754 0.07081639] [0 1 0 0 0]\n",
      "Ufffff ana nyaatuu lammiikoo garaan nu gubatee mal gonaare [0.00423073 0.09683601 0.887666   0.00644405 0.00482327] [0 0 1 0 0]\n",
      "Ayyyyiiiiii yeyiin nyatee tesee ebokoo [0.04246046 0.33414987 0.44517022 0.09593371 0.08228582] [0 0 1 0 0]\n",
      "maaloo garaan nu gubatee si dhabuu keenyaf [6.9356011e-04 7.4244221e-04 2.5426945e-01 7.4337292e-01 9.2157483e-04] [0 0 1 0 0]\n",
      "ebokoo siyyuu galafatanii ani imimaniifuu dhageefachuun dadhabee ebokoo wayoo luubbuu koo [0.0036197  0.02596125 0.7995607  0.16490623 0.0059521 ] [0 0 1 0 0]\n",
      "kan isaa galafatef rabin duu'aa haa keenuf [1.4535294e-04 5.6433109e-05 5.1969881e-03 9.9445456e-01 1.4663623e-04] [0 0 0 1 0]\n",
      "gotaa keenyaa atti nu walin dhibdus kayyoon kee galman ni geenyaa atti oromoof jeechaa dutee leencaa koo dhignikee lafati hin hafu [0.02284573 0.00589675 0.00275669 0.0026069  0.9658939 ] [0 0 0 0 1]\n",
      "safuu biyyoon si nyaatee mal qaba yoo si dhiftee leencaa keenyaa [0.03837299 0.839583   0.09644869 0.00625382 0.01934158] [1 0 0 0 0]\n",
      "wayii wayii leencaa koo guyyan nama irraa hin darbuu [6.3995598e-05 2.3055560e-05 1.2819888e-03 9.9856395e-01 6.6974135e-05] [0 0 0 1 0]\n",
      "WBO gumaa isaa malif hin baafnee? Ufffff leencaa koo mal sif gonaare gumaa kee rabi haa basuu [0.01627922 0.03144994 0.00661077 0.00110537 0.9445547 ] [0 0 0 0 1]\n",
      "si nyaate kaa adurren Ayyyyiiiiii [9.9790049e-01 1.5826261e-03 8.2790202e-06 1.4852459e-04 3.5995265e-04] [1 0 0 0 0]\n",
      "Ufffff yaa gadhee ishee si galafatef maloo utumaa jirate haraa geessaa ta'e maloo [5.7995890e-04 3.1884736e-04 3.5916183e-02 9.6259201e-01 5.9297716e-04] [0 0 0 1 0]\n",
      "Ayyyyiiiiii wayii garaa koo gubatee [8.8540319e-04 5.2625110e-04 1.2116063e-02 9.8511881e-01 1.3534239e-03] [0 0 0 1 0]\n",
      "edaa biiyyeen nama hin didu egaa Ebisaa Adunyaatttim nyaate Ufffff [0.01077563 0.0208985  0.5886354  0.35800382 0.02168667] [0 0 0 1 0]\n",
      "isinuma hordofuf qarshiin kiyyaa youtube keessaatti dhumtee amma baayee na aarsitanitu [7.9331789e-03 9.8584032e-01 4.6822717e-03 9.0419031e-05 1.4538440e-03] [0 1 0 0 0]\n",
      "baayee na aarsitanitu isinuma hordofuf jechaa qarshiin kiyyaa youtube irraatti dhumtee [1.2032451e-01 8.7431252e-01 1.9813837e-03 4.2661675e-04 2.9549738e-03] [0 1 0 0 0]\n",
      "qarshiin kiyyaa youtube irraatti isinuman hordofuf jechaa dhumtee baayee na aarsitanitu [0.00142616 0.03313334 0.9510435  0.01179186 0.00260514] [0 0 1 0 0]\n",
      "nuti oromoon uttu kan ofii qabnu kan namaa wantii nu ilaalchiseef hirmanna dhabuu keessaniif [0.02105564 0.03482416 0.5554827  0.3821453  0.00649214] [0 0 0 1 0]\n",
      "wanti baayee aarsu sababi hirmanna dhabuu keessaniif kan nama ilale [4.2752142e-04 1.3950153e-04 5.4040216e-03 9.9346656e-01 5.6244293e-04] [0 0 0 1 0]\n",
      "Ufffff baayee namaa aarsa malif abbootti qabeenya hin hirmachistani [0.2477092  0.6903971  0.02907168 0.00812696 0.0246951 ] [0 1 0 0 0]\n",
      "aahh garaan keenyaa gubachaa jira yaa gochaa wayaane nu keessati galtee muunjalee wayaane hin dagadhu Ufffff [0.06787001 0.5405656  0.07152607 0.01658201 0.3034563 ] [0 1 0 0 0]\n",
      "Ufffff yoomi lata boqonnan keenyaa lammikoo [0.8365239  0.01023357 0.00088684 0.0100008  0.14235495] [0 0 0 0 1]\n",
      "yoomi lata boqonnan keenyaa lammikoo Ufffff [0.02338204 0.13519074 0.8364304  0.00269236 0.00230437] [0 0 1 0 0]\n",
      "wayoo yaa garaa jaabbummaaa si nyaatani [0.00147056 0.00216091 0.31068948 0.6820322  0.00364694] [0 0 0 1 0]\n",
      "ana nyaatu obbooleesa kiiyaa baayee garaa nama nyaata akka hojii isaniti yaa keenufii waaqayyoo namoni isaa galafatani nama osoon tane isani bineensota [0.12053911 0.76183444 0.02861936 0.00638824 0.08261878] [0 0 1 0 0]\n",
      "guba gara keenyaa keessaa yommitu hin daganu [0.0008435  0.00085769 0.154428   0.84298605 0.00088474] [0 0 0 1 0]\n",
      "Ufffff eenyuu sii galaftee ree? garaan qurxii hin beeknee xilatta jedhee Oromoon mal gonaree garan nu gubatee [0.2146925  0.15546235 0.28619313 0.04907225 0.29457974] [0 0 1 0 0]\n",
      "liikii liikii isaani itti himi hin sodatin [4.3833416e-04 1.1753492e-04 1.4526297e-04 2.5590869e-05 9.9927324e-01] [0 0 0 0 1]\n",
      "akkam nama aarsiiti waraqataa irraa dubbisaa kan oromoo arraabsituu nitin warra sammuu domaa kuni [1.0456195e-02 1.2625324e-02 7.8054066e-03 8.6688000e-04 9.6824616e-01] [0 0 0 0 1]\n",
      "Abiyi mal akkas namaa aarsa warrabessa wayii barcuma sana irraa osoo darbatani ishee kufisani warri ABO fi KFO. [0.01414424 0.03086206 0.02232707 0.00284757 0.92981905] [0 0 0 0 1]\n",
      "nu bar garbuuma lama bachaa jira tokko kan biyya tokko kan araboota malo yoom nurraa bu'aa ba'an kun?? [0.1089429  0.5808664  0.0262059  0.0108243  0.27316037] [0 1 0 0 0]\n",
      "malif Sobdee of irratti albaata?? [9.6244103e-04 5.0745433e-04 2.8030980e-02 9.6961278e-01 8.8635058e-04] [0 0 0 1 0]\n",
      "waanti guddaan atti beekuu qabdu otuu atti achi teessee xibaartuu ummatni Oromoo bilisummaa goonfachaa jirachuu hin dagatin. [4.4772658e-04 2.7029889e-04 1.1667264e-01 8.8211256e-01 4.9680291e-04] [0 0 0 1 0]\n",
      "atti gadhooftuu dhiiga oromoo gubbaa dhaabbattee udaan ishee hagdu akka tates of hin dagatin. [4.2449329e-03 9.8759460e-01 6.2341332e-03 1.2321654e-04 1.8029989e-03] [0 1 0 0 0]\n",
      "luubuu ilmaan nama baduuf mootummaan fediraala malif akkaa salphaatti ilaala? [0.04164204 0.3464539  0.4064148  0.01819848 0.1872907 ] [0 0 0 0 1]\n",
      "Ufffff garaan na gubatee mal naf wayyaa yaa fira? [0.00158487 0.03998941 0.9492946  0.00615259 0.00297858] [0 0 1 0 0]\n",
      "akkamitti hanga ammaa calliftan ? kun baayee namaa aarsa [0.1079243  0.25183198 0.13925639 0.08639273 0.41459456] [0 0 1 0 0]\n",
      "oromoo gubanee malumaa nu wayyaa ? [0.07929126 0.4443189  0.16526307 0.0219153  0.28921157] [0 0 0 0 1]\n",
      "mal gona garaan nu gubatee [1.7877542e-04 4.8040459e-03 9.9374264e-01 7.3433272e-04 5.4019649e-04] [0 0 1 0 0]\n",
      "wayii Naadhii kooo wal dhabnee ree? [1.0113626e-04 2.9651745e-05 2.4675550e-03 9.9731284e-01 8.8852852e-05] [0 0 0 1 0]\n",
      "garaan nu gubatee Naadhii kooo [0.00189725 0.00304285 0.3042232  0.6868244  0.00401235] [0 0 1 0 0]\n",
      "yaa dhugaa nuuf baasi amma yommiti gubana??? [0.02003821 0.01932746 0.05176765 0.87688804 0.03197866] [0 0 0 1 0]\n",
      "gubanee Ufffff [0.50855637 0.4166906  0.00735471 0.00953886 0.05785939] [1 0 0 0 0]\n",
      "yaa rabi yaa Alhaa dhugaa isaa baasi [0.01542713 0.24458328 0.68685734 0.0284302  0.02470209] [0 0 1 0 0]\n",
      "biiyyee haa nyaatu yoo argataan galafadha diqaala akkana kanatuu nu nyaata biiyyee haa nyaatu malee [0.00636816 0.00208056 0.00181364 0.00145135 0.9882863 ] [0 0 0 0 1]\n",
      "namitti mujriima kana irraa guumaa fudhachuun osoo hafee bakka kumatti ciciruu turee akkuma inni dhugaa wakkaacha jiru [0.04516549 0.9163308  0.01643896 0.00151707 0.02054783] [0 1 0 0 0]\n"
     ]
    },
    {
     "ename": "IndexError",
     "evalue": "index 101 is out of bounds for axis 0 with size 101",
     "output_type": "error",
     "traceback": [
      "\u001b[1;31m---------------------------------------------------------------------------\u001b[0m",
      "\u001b[1;31mIndexError\u001b[0m                                Traceback (most recent call last)",
      "\u001b[1;32m<ipython-input-85-27a376daf6c5>\u001b[0m in \u001b[0;36m<module>\u001b[1;34m\u001b[0m\n\u001b[1;32m----> 1\u001b[1;33m \u001b[1;33m[\u001b[0m\u001b[0mprint\u001b[0m \u001b[1;33m(\u001b[0m\u001b[0mdata\u001b[0m\u001b[1;33m[\u001b[0m\u001b[1;34m'text'\u001b[0m\u001b[1;33m]\u001b[0m\u001b[1;33m[\u001b[0m\u001b[0mi\u001b[0m\u001b[1;33m]\u001b[0m\u001b[1;33m,\u001b[0m \u001b[0mpredictions\u001b[0m\u001b[1;33m[\u001b[0m\u001b[0mi\u001b[0m\u001b[1;33m]\u001b[0m\u001b[1;33m,\u001b[0m \u001b[0my_test\u001b[0m\u001b[1;33m[\u001b[0m\u001b[0mi\u001b[0m\u001b[1;33m]\u001b[0m\u001b[1;33m)\u001b[0m \u001b[1;32mfor\u001b[0m \u001b[0mi\u001b[0m \u001b[1;32min\u001b[0m \u001b[0mrange\u001b[0m\u001b[1;33m(\u001b[0m\u001b[1;36m0\u001b[0m\u001b[1;33m,\u001b[0m \u001b[1;36m200\u001b[0m\u001b[1;33m)\u001b[0m\u001b[1;33m]\u001b[0m\u001b[1;33m\u001b[0m\u001b[1;33m\u001b[0m\u001b[0m\n\u001b[0m",
      "\u001b[1;32m<ipython-input-85-27a376daf6c5>\u001b[0m in \u001b[0;36m<listcomp>\u001b[1;34m(.0)\u001b[0m\n\u001b[1;32m----> 1\u001b[1;33m \u001b[1;33m[\u001b[0m\u001b[0mprint\u001b[0m \u001b[1;33m(\u001b[0m\u001b[0mdata\u001b[0m\u001b[1;33m[\u001b[0m\u001b[1;34m'text'\u001b[0m\u001b[1;33m]\u001b[0m\u001b[1;33m[\u001b[0m\u001b[0mi\u001b[0m\u001b[1;33m]\u001b[0m\u001b[1;33m,\u001b[0m \u001b[0mpredictions\u001b[0m\u001b[1;33m[\u001b[0m\u001b[0mi\u001b[0m\u001b[1;33m]\u001b[0m\u001b[1;33m,\u001b[0m \u001b[0my_test\u001b[0m\u001b[1;33m[\u001b[0m\u001b[0mi\u001b[0m\u001b[1;33m]\u001b[0m\u001b[1;33m)\u001b[0m \u001b[1;32mfor\u001b[0m \u001b[0mi\u001b[0m \u001b[1;32min\u001b[0m \u001b[0mrange\u001b[0m\u001b[1;33m(\u001b[0m\u001b[1;36m0\u001b[0m\u001b[1;33m,\u001b[0m \u001b[1;36m200\u001b[0m\u001b[1;33m)\u001b[0m\u001b[1;33m]\u001b[0m\u001b[1;33m\u001b[0m\u001b[1;33m\u001b[0m\u001b[0m\n\u001b[0m",
      "\u001b[1;31mIndexError\u001b[0m: index 101 is out of bounds for axis 0 with size 101"
     ]
    }
   ],
   "source": [
    "[print (data['text'][i], predictions[i], y_test[i]) for i in range(0, 200)]"
   ]
  },
  {
   "cell_type": "code",
   "execution_count": 86,
   "metadata": {},
   "outputs": [],
   "source": [
    "cm=metrics.confusion_matrix(y_test.argmax(axis=1), predictions.argmax(axis=1))"
   ]
  },
  {
   "cell_type": "code",
   "execution_count": 87,
   "metadata": {},
   "outputs": [],
   "source": [
    "FP = cm.sum(axis=0) - np.diag(cm)  \n",
    "FN = cm.sum(axis=1) - np.diag(cm)\n",
    "TP = np.diag(cm)\n",
    "TN = cm.sum() - (FP + FN + TP)"
   ]
  },
  {
   "cell_type": "code",
   "execution_count": 88,
   "metadata": {},
   "outputs": [],
   "source": [
    "FP = FP.astype(float)\n",
    "FN = FN.astype(float)\n",
    "TP = TP.astype(float)\n",
    "TN = TN.astype(float)"
   ]
  },
  {
   "cell_type": "code",
   "execution_count": 89,
   "metadata": {},
   "outputs": [
    {
     "name": "stdout",
     "output_type": "stream",
     "text": [
      "[2. 7. 5. 3. 5.]\n",
      "[4. 3. 8. 2. 5.]\n",
      "[ 9. 15. 17. 22. 16.]\n",
      "[86. 76. 71. 74. 75.]\n"
     ]
    }
   ],
   "source": [
    "print(FP)\n",
    "print(FN)\n",
    "print(TP)\n",
    "print(TN)"
   ]
  },
  {
   "cell_type": "code",
   "execution_count": 90,
   "metadata": {},
   "outputs": [],
   "source": [
    "accuracy=(TP+TN)/(TP+TN+FP+FN)\n",
    "precision = TP/(TP+FP)\n",
    "recall = TP/(TP+FN)\n",
    "f1_score = 2*precision*recall/(precision+recall)"
   ]
  },
  {
   "cell_type": "code",
   "execution_count": 92,
   "metadata": {},
   "outputs": [
    {
     "name": "stdout",
     "output_type": "stream",
     "text": [
      "recall   [0.69230769 0.83333333 0.68       0.91666667 0.76190476]\n",
      "precision [0.81818182 0.68181818 0.77272727 0.88       0.76190476]\n",
      "f1_score [0.75       0.75       0.72340426 0.89795918 0.76190476]\n"
     ]
    }
   ],
   "source": [
    "print(\"recall  \", recall)\n",
    "print(\"precision\",precision)\n",
    "print(\"f1_score\",f1_score)"
   ]
  },
  {
   "cell_type": "code",
   "execution_count": 93,
   "metadata": {},
   "outputs": [],
   "source": [
    "def accuracy(confusion_matrix):\n",
    "    diagonal_sum = confusion_matrix.trace()\n",
    "    sum_of_all_elements = confusion_matrix.sum()\n",
    "    return diagonal_sum / sum_of_all_elements "
   ]
  },
  {
   "cell_type": "code",
   "execution_count": 94,
   "metadata": {},
   "outputs": [
    {
     "data": {
      "text/plain": [
       "0.7821782178217822"
      ]
     },
     "execution_count": 94,
     "metadata": {},
     "output_type": "execute_result"
    }
   ],
   "source": [
    "accuracy(cm)"
   ]
  },
  {
   "cell_type": "code",
   "execution_count": null,
   "metadata": {},
   "outputs": [],
   "source": [
    "def precision(label, confusion_matrix):\n",
    "    col = confusion_matrix[:, label]\n",
    "    return confusion_matrix[label, label] / col.sum()\n",
    "    \n",
    "def recall(label, confusion_matrix):\n",
    "    row = confusion_matrix[label, :]\n",
    "    return confusion_matrix[label, label] / row.sum()\n",
    "\n",
    "def precision_macro_average(confusion_matrix):\n",
    "    rows, columns = confusion_matrix.shape\n",
    "    sum_of_precisions = 0\n",
    "    for label in range(rows):\n",
    "        sum_of_precisions += precision(label, confusion_matrix)\n",
    "    return sum_of_precisions / rows\n",
    "\n",
    "def recall_macro_average(confusion_matrix):\n",
    "    rows, columns = confusion_matrix.shape\n",
    "    sum_of_recalls = 0\n",
    "    for label in range(columns):\n",
    "        sum_of_recalls += recall(label, confusion_matrix)\n",
    "    return sum_of_recalls / columns"
   ]
  },
  {
   "cell_type": "code",
   "execution_count": 54,
   "metadata": {},
   "outputs": [
    {
     "name": "stdout",
     "output_type": "stream",
     "text": [
      "label precision recall\n",
      "    0     0.333  0.545\n",
      "    1     0.714  0.417\n",
      "    2     0.500  0.417\n"
     ]
    },
    {
     "ename": "IndexError",
     "evalue": "index 3 is out of bounds for axis 1 with size 3",
     "output_type": "error",
     "traceback": [
      "\u001b[1;31m---------------------------------------------------------------------------\u001b[0m",
      "\u001b[1;31mIndexError\u001b[0m                                Traceback (most recent call last)",
      "\u001b[1;32m<ipython-input-54-b88b2fab1286>\u001b[0m in \u001b[0;36m<module>\u001b[1;34m\u001b[0m\n\u001b[0;32m      1\u001b[0m \u001b[0mprint\u001b[0m\u001b[1;33m(\u001b[0m\u001b[1;34m\"label precision recall\"\u001b[0m\u001b[1;33m)\u001b[0m\u001b[1;33m\u001b[0m\u001b[1;33m\u001b[0m\u001b[0m\n\u001b[0;32m      2\u001b[0m \u001b[1;32mfor\u001b[0m \u001b[0mlabel\u001b[0m \u001b[1;32min\u001b[0m \u001b[0mrange\u001b[0m\u001b[1;33m(\u001b[0m\u001b[1;36m10\u001b[0m\u001b[1;33m)\u001b[0m\u001b[1;33m:\u001b[0m\u001b[1;33m\u001b[0m\u001b[1;33m\u001b[0m\u001b[0m\n\u001b[1;32m----> 3\u001b[1;33m     \u001b[0mprint\u001b[0m\u001b[1;33m(\u001b[0m\u001b[1;34mf\"{label:5d} {precision(label, cm):9.3f} {recall(label, cm):6.3f}\"\u001b[0m\u001b[1;33m)\u001b[0m\u001b[1;33m\u001b[0m\u001b[1;33m\u001b[0m\u001b[0m\n\u001b[0m",
      "\u001b[1;32m<ipython-input-48-460b1dda9395>\u001b[0m in \u001b[0;36mprecision\u001b[1;34m(label, confusion_matrix)\u001b[0m\n\u001b[0;32m      1\u001b[0m \u001b[1;32mdef\u001b[0m \u001b[0mprecision\u001b[0m\u001b[1;33m(\u001b[0m\u001b[0mlabel\u001b[0m\u001b[1;33m,\u001b[0m \u001b[0mconfusion_matrix\u001b[0m\u001b[1;33m)\u001b[0m\u001b[1;33m:\u001b[0m\u001b[1;33m\u001b[0m\u001b[1;33m\u001b[0m\u001b[0m\n\u001b[1;32m----> 2\u001b[1;33m     \u001b[0mcol\u001b[0m \u001b[1;33m=\u001b[0m \u001b[0mconfusion_matrix\u001b[0m\u001b[1;33m[\u001b[0m\u001b[1;33m:\u001b[0m\u001b[1;33m,\u001b[0m \u001b[0mlabel\u001b[0m\u001b[1;33m]\u001b[0m\u001b[1;33m\u001b[0m\u001b[1;33m\u001b[0m\u001b[0m\n\u001b[0m\u001b[0;32m      3\u001b[0m     \u001b[1;32mreturn\u001b[0m \u001b[0mconfusion_matrix\u001b[0m\u001b[1;33m[\u001b[0m\u001b[0mlabel\u001b[0m\u001b[1;33m,\u001b[0m \u001b[0mlabel\u001b[0m\u001b[1;33m]\u001b[0m \u001b[1;33m/\u001b[0m \u001b[0mcol\u001b[0m\u001b[1;33m.\u001b[0m\u001b[0msum\u001b[0m\u001b[1;33m(\u001b[0m\u001b[1;33m)\u001b[0m\u001b[1;33m\u001b[0m\u001b[1;33m\u001b[0m\u001b[0m\n\u001b[0;32m      4\u001b[0m \u001b[1;33m\u001b[0m\u001b[0m\n\u001b[0;32m      5\u001b[0m \u001b[1;32mdef\u001b[0m \u001b[0mrecall\u001b[0m\u001b[1;33m(\u001b[0m\u001b[0mlabel\u001b[0m\u001b[1;33m,\u001b[0m \u001b[0mconfusion_matrix\u001b[0m\u001b[1;33m)\u001b[0m\u001b[1;33m:\u001b[0m\u001b[1;33m\u001b[0m\u001b[1;33m\u001b[0m\u001b[0m\n",
      "\u001b[1;31mIndexError\u001b[0m: index 3 is out of bounds for axis 1 with size 3"
     ]
    }
   ],
   "source": [
    "print(\"label precision recall\")\n",
    "for label in range(5):\n",
    "    print(f\"{label:5d} {precision(label, cm):9.3f} {recall(label, cm):6.3f}\")"
   ]
  },
  {
   "cell_type": "code",
   "execution_count": 25,
   "metadata": {},
   "outputs": [
    {
     "name": "stdout",
     "output_type": "stream",
     "text": [
      "precision total: 0.5158730158730159\n",
      "recall total: 0.4595959595959596\n"
     ]
    }
   ],
   "source": [
    "print(\"precision total:\", precision_macro_average(cm))\n",
    "\n",
    "print(\"recall total:\", recall_macro_average(cm))"
   ]
  },
  {
   "cell_type": "code",
   "execution_count": 26,
   "metadata": {},
   "outputs": [],
   "source": [
    "def accuracy(confusion_matrix):\n",
    "    diagonal_sum = confusion_matrix.trace()\n",
    "    sum_of_all_elements = confusion_matrix.sum()\n",
    "    return diagonal_sum / sum_of_all_elements "
   ]
  },
  {
   "cell_type": "code",
   "execution_count": 27,
   "metadata": {},
   "outputs": [
    {
     "data": {
      "text/plain": [
       "0.45714285714285713"
      ]
     },
     "execution_count": 27,
     "metadata": {},
     "output_type": "execute_result"
    }
   ],
   "source": [
    "accuracy(cm)"
   ]
  },
  {
   "cell_type": "code",
   "execution_count": null,
   "metadata": {},
   "outputs": [],
   "source": []
  }
 ],
 "metadata": {
  "kernelspec": {
   "display_name": "Python 3 (ipykernel)",
   "language": "python",
   "name": "python3"
  },
  "language_info": {
   "codemirror_mode": {
    "name": "ipython",
    "version": 3
   },
   "file_extension": ".py",
   "mimetype": "text/x-python",
   "name": "python",
   "nbconvert_exporter": "python",
   "pygments_lexer": "ipython3",
   "version": "3.9.12"
  }
 },
 "nbformat": 4,
 "nbformat_minor": 2
}
