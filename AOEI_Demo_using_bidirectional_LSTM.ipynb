{
 "cells": [
  {
   "cell_type": "markdown",
   "metadata": {},
   "source": [
    "# importing important librarys "
   ]
  },
  {
   "cell_type": "code",
   "execution_count": 1,
   "metadata": {},
   "outputs": [],
   "source": [
    "import numpy as np\n",
    "import pandas as pd\n",
    "from sklearn.model_selection import train_test_split\n",
    "import matplotlib.pyplot as plt\n",
    "from keras.models import Sequential,load_model\n",
    "from keras.layers import Dense,LSTM,Bidirectional,Embedding,Dropout\n",
    "from keras.preprocessing.text import Tokenizer\n",
    "from tensorflow.keras.preprocessing import sequence\n",
    "from tensorflow.keras.preprocessing.sequence import pad_sequences\n",
    "from sklearn import metrics\n",
    "from sklearn.metrics import accuracy_score, confusion_matrix, precision_recall_fscore_support\n",
    "import seaborn as sns\n",
    "import re\n",
    "from sklearn.ensemble import RandomForestClassifier"
   ]
  },
  {
   "cell_type": "code",
   "execution_count": 2,
   "metadata": {},
   "outputs": [
    {
     "name": "stdout",
     "output_type": "stream",
     "text": [
      "(10561, 2)\n"
     ]
    },
    {
     "data": {
      "text/html": [
       "<div>\n",
       "<style scoped>\n",
       "    .dataframe tbody tr th:only-of-type {\n",
       "        vertical-align: middle;\n",
       "    }\n",
       "\n",
       "    .dataframe tbody tr th {\n",
       "        vertical-align: top;\n",
       "    }\n",
       "\n",
       "    .dataframe thead th {\n",
       "        text-align: right;\n",
       "    }\n",
       "</style>\n",
       "<table border=\"1\" class=\"dataframe\">\n",
       "  <thead>\n",
       "    <tr style=\"text-align: right;\">\n",
       "      <th></th>\n",
       "      <th>Text</th>\n",
       "      <th>Intent</th>\n",
       "    </tr>\n",
       "  </thead>\n",
       "  <tbody>\n",
       "    <tr>\n",
       "      <th>0</th>\n",
       "      <td>Kiyyoo dirama oso  eguti jirun na darbe tari a...</td>\n",
       "      <td>Question</td>\n",
       "    </tr>\n",
       "    <tr>\n",
       "      <th>1</th>\n",
       "      <td>Meeti ree kuta 28ffaa</td>\n",
       "      <td>Question</td>\n",
       "    </tr>\n",
       "    <tr>\n",
       "      <th>2</th>\n",
       "      <td>Kutaa digdami sadetaffa isiin egee dadhabee.</td>\n",
       "      <td>Negative</td>\n",
       "    </tr>\n",
       "    <tr>\n",
       "      <th>3</th>\n",
       "      <td>Kutaa digdami sadetaffaa fiidagaa maali nuuraa...</td>\n",
       "      <td>Negative</td>\n",
       "    </tr>\n",
       "    <tr>\n",
       "      <th>4</th>\n",
       "      <td>Nuuf jabbadhakaa warii Akka kotti kiyyoo jaala...</td>\n",
       "      <td>Positive</td>\n",
       "    </tr>\n",
       "  </tbody>\n",
       "</table>\n",
       "</div>"
      ],
      "text/plain": [
       "                                                Text     Intent\n",
       "0  Kiyyoo dirama oso  eguti jirun na darbe tari a...  Question \n",
       "1                              Meeti ree kuta 28ffaa  Question \n",
       "2       Kutaa digdami sadetaffa isiin egee dadhabee.   Negative\n",
       "3  Kutaa digdami sadetaffaa fiidagaa maali nuuraa...   Negative\n",
       "4  Nuuf jabbadhakaa warii Akka kotti kiyyoo jaala...   Positive"
      ]
     },
     "execution_count": 2,
     "metadata": {},
     "output_type": "execute_result"
    }
   ],
   "source": [
    "path = \"C:\\\\Users\\\\Moti\\Desktop\\\\Intent\\\\Meliha Research\\\\maliha_dataset_researchs.xlsx\"\n",
    "data=pd.read_excel(path, names=['Text','Intent'])\n",
    "data.sample(frac=1).reset_index(drop=True)\n",
    "print(data.shape)\n",
    "data.head()"
   ]
  },
  {
   "cell_type": "code",
   "execution_count": 3,
   "metadata": {},
   "outputs": [
    {
     "name": "stderr",
     "output_type": "stream",
     "text": [
      "C:\\ProgramData\\Anaconda3\\lib\\site-packages\\seaborn\\_decorators.py:36: FutureWarning: Pass the following variable as a keyword arg: x. From version 0.12, the only valid positional argument will be `data`, and passing other arguments without an explicit keyword will result in an error or misinterpretation.\n",
      "  warnings.warn(\n"
     ]
    },
    {
     "data": {
      "image/png": "[encoded data removed]",
      "text/plain": [
       "<Figure size 432x288 with 1 Axes>"
      ]
     },
     "metadata": {
      "needs_background": "light"
     },
     "output_type": "display_data"
    }
   ],
   "source": [
    "#sns.countplot(x='Intent', data=data)\n",
    "chart = sns.countplot(data.Intent)\n",
    "plt.title(\"Number of texts per intent\")\n",
    "chart.set_xticklabels(chart.get_xticklabels(), rotation=30, horizontalalignment='right');"
   ]
  },
  {
   "cell_type": "code",
   "execution_count": 4,
   "metadata": {},
   "outputs": [
    {
     "data": {
      "text/plain": [
       "Positive       4320\n",
       "Negative       3271\n",
       "Suggestion     1686\n",
       "Question        736\n",
       "Wish            546\n",
       "Name: Intent, dtype: int64"
      ]
     },
     "execution_count": 4,
     "metadata": {},
     "output_type": "execute_result"
    }
   ],
   "source": [
    "data[\"Intent\"].value_counts()\n",
    "#print(len('Gosa_miira'))\n",
    "#print(len('jechoota'))"
   ]
  },
  {
   "cell_type": "markdown",
   "metadata": {},
   "source": [
    "# data preprocessing  "
   ]
  },
  {
   "cell_type": "code",
   "execution_count": 5,
   "metadata": {},
   "outputs": [],
   "source": [
    "def preprocess_text(sen):\n",
    "    # Removing html tags\n",
    "    sentence = remove_tags(sen)\n",
    "    # Remove punctuations and numbers\n",
    "    sentence = re.sub('[^a-zA-Z]', ' ', sentence)\n",
    "    # Single character removal\n",
    "    sentence = re.sub(r\"\\s+[a-zA-Z]\\s+\", ' ', sentence)\n",
    "    # Removing multiple spaces\n",
    "    sentence = re.sub(r'\\s+', ' ', sentence)\n",
    "    sentence = sen.lower()\n",
    "    sentence = re.sub(r'wo*w','wow', sentence)\n",
    "    sentence = re.sub(r'uu*f','uff', sentence)\n",
    "    return sentence\n",
    "TAG_RE = re.compile(r'<[^>]+>')\n",
    "def remove_tags(Text):\n",
    "    return TAG_RE.sub('', Text)"
   ]
  },
  {
   "cell_type": "code",
   "execution_count": 6,
   "metadata": {},
   "outputs": [],
   "source": [
    "def remove_stopwords(review_words):\n",
    "    with open('stopwords.txt')as stopfile:\n",
    "        stopwords=stopfile.read()\n",
    "        list=stopwords.split()\n",
    "        print(list)\n",
    "        with open(\"intent1.csv\") as workfile:\n",
    "            read_data=workfile.read()\n",
    "            data=read_data.split()\n",
    "            print(data)\n",
    "            for word1 in list:\n",
    "                for word2 in data:\n",
    "                    if word1==word2:\n",
    "                        return data.remove(list)\n",
    "                        print(remove_stopwords)"
   ]
  },
  {
   "cell_type": "code",
   "execution_count": 7,
   "metadata": {},
   "outputs": [
    {
     "data": {
      "text/plain": [
       "0        kiyyoo dirama oso  eguti jirun na darbe tari a...\n",
       "1                                    meeti ree kuta 28ffaa\n",
       "2             kutaa digdami sadetaffa isiin egee dadhabee.\n",
       "3        kutaa digdami sadetaffaa fiidagaa maali nuuraa...\n",
       "4        nuuf jabbadhakaa warii akka kotti kiyyoo jaala...\n",
       "                               ...                        \n",
       "10556    isheenis namoota dogoggoraa waliin lafa dogogg...\n",
       "10557    vidiyichis battalumatti qoodamuun marsariitiiw...\n",
       "10558    gochiwwan qaamaa warraabbicha irratti ture bah...\n",
       "10559              jechi gurbbichaa altokkicha dhagahame. \n",
       "10560                           viidiyoo waraabaa jirtaa? \n",
       "Name: Text, Length: 10561, dtype: object"
      ]
     },
     "execution_count": 7,
     "metadata": {},
     "output_type": "execute_result"
    }
   ],
   "source": [
    "data['Text'].apply(lambda x: x.lower())"
   ]
  },
  {
   "cell_type": "code",
   "execution_count": 8,
   "metadata": {},
   "outputs": [
    {
     "name": "stdout",
     "output_type": "stream",
     "text": [
      "                                                Text     Intent\n",
      "0  Kiyyoo dirama oso  eguti jirun na darbe tari a...  Question \n",
      "1                              Meeti ree kuta 28ffaa  Question \n",
      "2       Kutaa digdami sadetaffa isiin egee dadhabee.   Negative\n",
      "3  Kutaa digdami sadetaffaa fiidagaa maali nuuraa...   Negative\n",
      "4  Nuuf jabbadhakaa warii Akka kotti kiyyoo jaala...   Positive\n"
     ]
    }
   ],
   "source": [
    "Number_of_words = data[\"Text\"].apply(lambda n: len(n.split()))\n",
    "print(data.head())"
   ]
  },
  {
   "cell_type": "code",
   "execution_count": 9,
   "metadata": {},
   "outputs": [
    {
     "name": "stdout",
     "output_type": "stream",
     "text": [
      "75837\n"
     ]
    }
   ],
   "source": [
    "print(sum(Number_of_words))\n",
    "#print(total_words)"
   ]
  },
  {
   "cell_type": "markdown",
   "metadata": {},
   "source": [
    "# Feature Extraction"
   ]
  },
  {
   "cell_type": "code",
   "execution_count": 10,
   "metadata": {},
   "outputs": [
    {
     "data": {
      "text/plain": [
       "array([[   0,    0,    0,    0,    0,    0,    0,    0,    0,    0,    0,\n",
       "           0,    0,    0,    0,    0,    0,    0,    0,    0,    0,    0,\n",
       "           0,    0,    0,    0,  200, 3024, 3025,   37,  192,  140,  325],\n",
       "       [   0,    0,    0,    0,    0,    0,    0,    0,    0,    0,    0,\n",
       "           0,    0,    0,    0,    0,    0,    0,    0,    0,    0,    0,\n",
       "           0,    0,    0,    0,    0,    0,    0,    0,    0,  438, 3332],\n",
       "       [   0,    0,    0,    0,    0,    0,    0,    0,    0,    0,    0,\n",
       "           0,    0,    0,    0,    0,    0,    0,    0,    0,    0,    0,\n",
       "           0,    0,    0,    0,    0,    0,    0,  162, 3333,  326,  422],\n",
       "       [   0,    0,    0,    0,    0,    0,    0,    0,    0,    0,    0,\n",
       "           0,    0,    0,    0,    0,    0,    0,    0,    0,    0,    0,\n",
       "           0,    0,    0,    0,    0,    0,  162, 3333,  157, 3115,   47],\n",
       "       [   0,    0,    0,    0,    0,    0,    0,    0,    0,    0,    0,\n",
       "           0,    0,    0,    0,    0,    0,    0,    0,    0,    0,    0,\n",
       "           0,    0,    0,    0,    0,   78, 3334,    4, 3116,  200, 3335]])"
      ]
     },
     "execution_count": 10,
     "metadata": {},
     "output_type": "execute_result"
    }
   ],
   "source": [
    "tokenizer=Tokenizer(num_words=4000,split=\" \")\n",
    "tokenizer.fit_on_texts(data['Text'].values)\n",
    "x=tokenizer.texts_to_sequences(data['Text'].values)\n",
    "x=pad_sequences(x)\n",
    "x[:5]"
   ]
  },
  {
   "cell_type": "code",
   "execution_count": 11,
   "metadata": {},
   "outputs": [],
   "source": [
    "model = Sequential()\n",
    "model.add(Embedding(60000, 8, input_length=x.shape[1]))\n",
    "model.add(Dropout(0.3))\n",
    "model.add(Bidirectional(LSTM(250, return_sequences=True, dropout=0.2, recurrent_dropout=0.2)))\n",
    "model.add(Bidirectional(LSTM(250, dropout=0.3, recurrent_dropout=0.2)))\n",
    "#model.add(LSTM(128, dropout=0.2, recurrent_dropout=0.3))\n",
    "model.add(Dense(5, activation = 'softmax'))"
   ]
  },
  {
   "cell_type": "code",
   "execution_count": 12,
   "metadata": {},
   "outputs": [],
   "source": [
    "model.compile(loss='categorical_crossentropy', optimizer='adam',metrics=['accuracy'])"
   ]
  },
  {
   "cell_type": "code",
   "execution_count": 13,
   "metadata": {},
   "outputs": [
    {
     "name": "stdout",
     "output_type": "stream",
     "text": [
      "Question  [0 0 1 0 0]\n",
      "Question  [0 0 1 0 0]\n",
      "Negative [1 0 0 0 0]\n",
      "Negative [1 0 0 0 0]\n",
      "Positive [0 1 0 0 0]\n"
     ]
    },
    {
     "data": {
      "text/plain": [
       "[None, None, None, None, None]"
      ]
     },
     "execution_count": 13,
     "metadata": {},
     "output_type": "execute_result"
    }
   ],
   "source": [
    "y=pd.get_dummies(data['Intent']).values\n",
    "[print(data['Intent'][i],y[i]) for i in range(0,5)]"
   ]
  },
  {
   "cell_type": "markdown",
   "metadata": {},
   "source": [
    "# Training and Testing dataset Splitting "
   ]
  },
  {
   "cell_type": "code",
   "execution_count": 14,
   "metadata": {},
   "outputs": [],
   "source": [
    "x_train, x_test, y_train, y_test = train_test_split(x, y, test_size = 0.1, random_state=0)"
   ]
  },
  {
   "cell_type": "markdown",
   "metadata": {},
   "source": [
    "# Train the Model"
   ]
  },
  {
   "cell_type": "code",
   "execution_count": 15,
   "metadata": {},
   "outputs": [
    {
     "name": "stdout",
     "output_type": "stream",
     "text": [
      "Epoch 1/25\n",
      "149/149 - 294s - loss: 1.3153 - accuracy: 0.4173 - val_loss: 1.0930 - val_accuracy: 0.4891 - 294s/epoch - 2s/step\n",
      "Epoch 2/25\n",
      "149/149 - 289s - loss: 0.9305 - accuracy: 0.6181 - val_loss: 0.7680 - val_accuracy: 0.7058 - 289s/epoch - 2s/step\n",
      "Epoch 3/25\n",
      "149/149 - 326s - loss: 0.7102 - accuracy: 0.7251 - val_loss: 0.6227 - val_accuracy: 0.7796 - 326s/epoch - 2s/step\n",
      "Epoch 4/25\n",
      "149/149 - 291s - loss: 0.5695 - accuracy: 0.7852 - val_loss: 0.5308 - val_accuracy: 0.8004 - 291s/epoch - 2s/step\n",
      "Epoch 5/25\n",
      "149/149 - 292s - loss: 0.4880 - accuracy: 0.8149 - val_loss: 0.4877 - val_accuracy: 0.8193 - 292s/epoch - 2s/step\n",
      "Epoch 6/25\n",
      "149/149 - 291s - loss: 0.4313 - accuracy: 0.8350 - val_loss: 0.4812 - val_accuracy: 0.8212 - 291s/epoch - 2s/step\n",
      "Epoch 7/25\n",
      "149/149 - 306s - loss: 0.4136 - accuracy: 0.8396 - val_loss: 0.4732 - val_accuracy: 0.8325 - 306s/epoch - 2s/step\n",
      "Epoch 8/25\n",
      "149/149 - 319s - loss: 0.3831 - accuracy: 0.8570 - val_loss: 0.4658 - val_accuracy: 0.8401 - 319s/epoch - 2s/step\n",
      "Epoch 9/25\n",
      "149/149 - 309s - loss: 0.3650 - accuracy: 0.8584 - val_loss: 0.4354 - val_accuracy: 0.8496 - 309s/epoch - 2s/step\n",
      "Epoch 10/25\n",
      "149/149 - 313s - loss: 0.3403 - accuracy: 0.8690 - val_loss: 0.4312 - val_accuracy: 0.8505 - 313s/epoch - 2s/step\n",
      "Epoch 11/25\n",
      "149/149 - 300s - loss: 0.3209 - accuracy: 0.8733 - val_loss: 0.4532 - val_accuracy: 0.8619 - 300s/epoch - 2s/step\n",
      "Epoch 12/25\n",
      "149/149 - 332s - loss: 0.3174 - accuracy: 0.8738 - val_loss: 0.4273 - val_accuracy: 0.8657 - 332s/epoch - 2s/step\n",
      "Epoch 13/25\n",
      "149/149 - 284s - loss: 0.3002 - accuracy: 0.8806 - val_loss: 0.4089 - val_accuracy: 0.8628 - 284s/epoch - 2s/step\n",
      "Epoch 14/25\n",
      "149/149 - 325s - loss: 0.2970 - accuracy: 0.8833 - val_loss: 0.4088 - val_accuracy: 0.8657 - 325s/epoch - 2s/step\n",
      "Epoch 15/25\n",
      "149/149 - 322s - loss: 0.2773 - accuracy: 0.8889 - val_loss: 0.4326 - val_accuracy: 0.8609 - 322s/epoch - 2s/step\n",
      "Epoch 16/25\n",
      "149/149 - 312s - loss: 0.2829 - accuracy: 0.8896 - val_loss: 0.4527 - val_accuracy: 0.8534 - 312s/epoch - 2s/step\n",
      "Epoch 17/25\n",
      "149/149 - 315s - loss: 0.2711 - accuracy: 0.8917 - val_loss: 0.4315 - val_accuracy: 0.8647 - 315s/epoch - 2s/step\n",
      "Epoch 18/25\n",
      "149/149 - 302s - loss: 0.2665 - accuracy: 0.8943 - val_loss: 0.4155 - val_accuracy: 0.8675 - 302s/epoch - 2s/step\n",
      "Epoch 19/25\n",
      "149/149 - 291s - loss: 0.2678 - accuracy: 0.8927 - val_loss: 0.4173 - val_accuracy: 0.8666 - 291s/epoch - 2s/step\n",
      "Epoch 20/25\n",
      "149/149 - 285s - loss: 0.2634 - accuracy: 0.8912 - val_loss: 0.4259 - val_accuracy: 0.8675 - 285s/epoch - 2s/step\n",
      "Epoch 21/25\n",
      "149/149 - 289s - loss: 0.2613 - accuracy: 0.8938 - val_loss: 0.4264 - val_accuracy: 0.8732 - 289s/epoch - 2s/step\n",
      "Epoch 22/25\n",
      "149/149 - 315s - loss: 0.2484 - accuracy: 0.8957 - val_loss: 0.4342 - val_accuracy: 0.8675 - 315s/epoch - 2s/step\n",
      "Epoch 23/25\n",
      "149/149 - 530s - loss: 0.2511 - accuracy: 0.8927 - val_loss: 0.4244 - val_accuracy: 0.8713 - 530s/epoch - 4s/step\n",
      "Epoch 24/25\n",
      "149/149 - 526s - loss: 0.2362 - accuracy: 0.9020 - val_loss: 0.4093 - val_accuracy: 0.8732 - 526s/epoch - 4s/step\n",
      "Epoch 25/25\n",
      "149/149 - 531s - loss: 0.2369 - accuracy: 0.9006 - val_loss: 0.4231 - val_accuracy: 0.8638 - 531s/epoch - 4s/step\n"
     ]
    }
   ],
   "source": [
    "batch_size = 64\n",
    "epochs = 25\n",
    "history = model.fit(x_train, y_train, epochs=epochs, batch_size=batch_size,validation_data=(x_test, y_test), verbose=2)"
   ]
  },
  {
   "cell_type": "markdown",
   "metadata": {},
   "source": [
    "# Test the Model "
   ]
  },
  {
   "cell_type": "code",
   "execution_count": 16,
   "metadata": {},
   "outputs": [
    {
     "name": "stdout",
     "output_type": "stream",
     "text": [
      "34/34 [==============================] - 24s 484ms/step\n"
     ]
    }
   ],
   "source": [
    "predictions = model.predict(x_test)"
   ]
  },
  {
   "cell_type": "code",
   "execution_count": 17,
   "metadata": {},
   "outputs": [
    {
     "name": "stdout",
     "output_type": "stream",
     "text": [
      "34/34 - 20s - loss: 0.4231 - accuracy: 0.8638 - 20s/epoch - 585ms/step\n",
      "[0.42310547828674316, 0.8637653589248657]\n"
     ]
    }
   ],
   "source": [
    "scores = model.evaluate(x_test, y_test,verbose=2)\n",
    "\n",
    "print(scores)"
   ]
  },
  {
   "cell_type": "code",
   "execution_count": 35,
   "metadata": {},
   "outputs": [],
   "source": [
    "model.save(\"Intent_Classification.h5\")"
   ]
  },
  {
   "cell_type": "code",
   "execution_count": 19,
   "metadata": {},
   "outputs": [
    {
     "name": "stdout",
     "output_type": "stream",
     "text": [
      "1/1 [==============================] - 26s 26s/step\n",
      "[[2.8812443e-03 3.7719042e-04 9.9644345e-01 2.9311687e-04 4.9912192e-06]] Positive\n"
     ]
    }
   ],
   "source": [
    "new_intent = ['Kiyyoo dirama oso  eguti jirun na darbe tari ayaana moo sababa godhatu moyuu']\n",
    "seq = tokenizer.texts_to_sequences(new_intent)\n",
    "padded = pad_sequences(seq, maxlen=6000)\n",
    "pred = model.predict(padded)\n",
    "Intent = ['Question', 'Negative', 'Positive', 'Suggestion', 'Wish']\n",
    "print(pred, Intent[np.argmax(pred)])"
   ]
  },
  {
   "cell_type": "code",
   "execution_count": 20,
   "metadata": {},
   "outputs": [
    {
     "name": "stdout",
     "output_type": "stream",
     "text": [
      "Kiyyoo dirama oso  eguti jirun na darbe tari ayaana moo sababa godhatu moyuu [9.9495125e-01 4.9689948e-03 5.7766956e-05 2.1747021e-05 2.2536892e-07] [1 0 0 0 0]\n",
      "Meeti ree kuta 28ffaa [0.15569408 0.11299005 0.28665614 0.40153942 0.04312034] [0 0 1 0 0]\n",
      "Kutaa digdami sadetaffa isiin egee dadhabee. [3.7471273e-05 9.9656749e-01 1.0638368e-05 3.3735954e-03 1.0835989e-05] [0 1 0 0 0]\n",
      "Kutaa digdami sadetaffaa fiidagaa maali nuuraa tuursiftaani bar ani 1faa haanga 27faa haarfoofan tuuree [0.35745662 0.50857973 0.04262635 0.0380943  0.05324299] [0 1 0 0 0]\n",
      "Nuuf jabbadhakaa warii Akka kotti kiyyoo jaalatan  [9.9967957e-01 3.1058583e-04 4.8965239e-06 4.6522478e-06 3.5476424e-07] [1 0 0 0 0]\n",
      "Bayyee namatti tola itti fufa gariidha  [2.5222455e-03 9.9429780e-01 1.1216566e-04 2.9829189e-03 8.4861014e-05] [0 1 0 0 0]\n",
      "Diraamichi torbetti yeroo lamaa nuuf dhiyaachuu qaba [0.00422468 0.9601897  0.00494596 0.02940152 0.00123814] [0 1 0 0 0]\n",
      "Ani dhugaa dubbachuuf baayyeen diraamaa kana jaalladhee ilaalaa jira [2.1453068e-04 9.6062082e-01 6.9532507e-05 3.9018992e-02 7.6008022e-05] [0 1 0 0 0]\n",
      "Maliif nurraa turtan garuu? [2.1683119e-05 9.9984825e-01 2.8858678e-06 1.0367043e-04 2.3487515e-05] [0 1 0 0 0]\n",
      "Waan ajaaibatti [1.2976580e-05 8.2145201e-04 1.1155111e-03 9.9798006e-01 6.9913294e-05] [0 0 0 1 0]\n",
      "Namati toltuu [2.0571858e-04 1.5936751e-02 4.6995954e-04 9.8320794e-01 1.7968984e-04] [0 0 0 1 0]\n",
      "Torbeetti al tokko waan taheef osoo sa'ati isaa dheeratee xiqqooshe nutti tola   [0.05862086 0.02152283 0.03193536 0.00700413 0.88091683] [1 0 0 0 0]\n",
      "Rabbi isinirraa haa jaalatu   [9.9934548e-01 4.4056849e-04 1.3216796e-04 7.9412290e-05 2.4332392e-06] [1 0 0 0 0]\n",
      "Namni akka koo dirama kiyoo jaalatan essa jirtu [8.6152107e-03 9.6470791e-01 1.3192791e-03 2.4515923e-02 8.4169436e-04] [0 1 0 0 0]\n",
      "Nurraa turtan  [0.0091138  0.90175086 0.00362775 0.06797031 0.01753731] [0 1 0 0 0]\n",
      "Baayee isiin jaaladha [7.5323951e-05 2.7548030e-01 1.0871918e-04 7.2421628e-01 1.1940489e-04] [0 1 0 0 0]\n",
      "Baayee namatti tolaa waan ta'ef nuuf jabaadhaa  [9.9139684e-01 5.7765157e-03 1.8848981e-03 8.1178785e-04 1.2995499e-04] [1 0 0 0 0]\n",
      "Baayyee gariidha itti nuf fufa [3.3451015e-05 9.9797171e-01 2.2362245e-05 1.9491821e-03 2.3356492e-05] [0 1 0 0 0]\n",
      "Sinan dhabuun dhukuba guddaa dha [8.73078585e-01 1.18248366e-01 4.44798497e-03 3.99313169e-03\n",
      " 2.31886908e-04] [1 0 0 0 0]\n",
      "Jiradhaa [3.3856759e-05 9.9963892e-01 2.8271379e-06 3.1892734e-04 5.5327127e-06] [0 1 0 0 0]\n",
      "Diraamaa akana namaa galu haaruman argee [2.8712553e-01 7.0722967e-01 1.9372870e-03 3.2509891e-03 4.5650726e-04] [1 0 0 0 0]\n",
      "Baayee natti toleeraa kiyyoon [1.2758424e-04 7.1118134e-01 2.7986645e-04 2.8784701e-01 5.6418456e-04] [0 0 0 1 0]\n",
      "Adaan hin murinaa [3.4498662e-05 7.5024377e-07 9.9995470e-01 8.4778203e-06 1.7049052e-06] [0 0 1 0 0]\n",
      "Isini yaddee maaf turtanii  [0.01912029 0.00721073 0.32377946 0.02636356 0.623526  ] [0 0 1 0 0]\n",
      "Baayee sin jaladhaa  [0.00303813 0.04641806 0.00684392 0.02800515 0.9156947 ] [0 0 0 0 1]\n",
      "Baga Nagaan nuuf dhuftan ebbiffama  [9.9919230e-01 8.0127025e-04 4.8051274e-06 1.6205672e-06 2.1852477e-08] [1 0 0 0 0]\n",
      "Anaa dhufuu jeneraa diramaa kiyyoo  [0.05862086 0.02152283 0.03193536 0.00700413 0.88091683] [1 0 0 0 0]\n",
      "Bayye nama tolaa itti fufaa [1.4287700e-05 9.9990094e-01 1.7334432e-06 7.9164696e-05 3.9164652e-06] [0 1 0 0 0]\n",
      "Matii Kiyyoo bagaa nuf debitaan  [1.5138013e-03 9.9689746e-01 8.0192840e-05 1.4784978e-03 3.0095382e-05] [0 1 0 0 0]\n",
      "Jabaadhaa yeroo hunda isin daawwataa jirra [7.62891024e-04 7.69981307e-06 9.99103367e-01 1.19305565e-04\n",
      " 6.80329003e-06] [0 0 1 0 0]\n",
      "Dhugaa fira'oliin garaa na nyaatee  [9.9991155e-01 8.1417449e-05 5.9463855e-06 9.1906168e-07 7.0741450e-08] [1 0 0 0 0]\n",
      "Kunis dramadhamoo maaf gabaabsitanii [3.1265975e-03 9.9522394e-01 9.7935525e-05 1.5091134e-03 4.2414838e-05] [0 1 0 0 0]\n",
      "Taatowan diraamaa kanaa nama ogummaa cimaa qabudha [2.3194373e-02 2.5769405e-03 9.7228426e-01 1.8370386e-03 1.0736576e-04] [0 0 1 0 0]\n",
      "Utumaan eguu argadhee   [5.5875920e-05 9.9691713e-01 1.9167201e-05 2.9969914e-03 1.0874851e-05] [0 1 0 0 0]\n",
      "Kutaan Wal jala fuudhamee jira sirreeffadhaa [1.0202812e-03 2.2995004e-02 1.9488638e-03 9.7353607e-01 4.9971620e-04] [0 0 0 1 0]\n",
      "Maatiin diraamaa kiyyoo hedduu namatti toltu [9.8262331e-07 5.0590232e-05 1.3434819e-05 9.9992764e-01 7.3341475e-06] [0 0 0 1 0]\n",
      "Seenaa Artii Oromoo Kesssaatti kan akka diraamaa Kiyyoo bayee namaatti tolu bifa kaaminu baareeda taee hin argine [4.1553212e-06 3.7760485e-04 4.7634745e-05 9.9953759e-01 3.2997734e-05] [0 0 0 1 0]\n",
      "Kana caalaa Jabaadha  [9.9580187e-01 3.7193524e-03 7.5484000e-05 3.6496579e-04 3.8353959e-05] [1 0 0 0 0]\n",
      " Maaloo itti nuu fufa akka hin xumuramne [9.9759221e-01 1.6926345e-03 1.4410305e-04 5.5222464e-04 1.8769762e-05] [1 0 0 0 0]\n",
      " Nu jalaa baddan maal rakkoo maaliitu isin mudateee [9.9952221e-01 4.2342959e-04 1.1120840e-05 3.4607387e-05 8.6901500e-06] [1 0 0 0 0]\n",
      "Anaa dhufuu maalif nu jalaa turtani [0.02114869 0.94049627 0.00360638 0.02648985 0.0082588 ] [0 1 0 0 0]\n",
      " Ana dhufuu diraamaa kiyyoo baayeen sin egaa turee  [6.8343133e-01 3.1636712e-01 5.7149129e-05 1.3571033e-04 8.7775361e-06] [1 0 0 0 0]\n",
      " Dafaa itti fufaa [0.07398301 0.02571204 0.37067208 0.49725845 0.03237437] [0 0 0 1 0]\n",
      " Kiyyoo torbee kanaa maliif aftaan? [9.3166852e-01 6.8154395e-02 1.0120257e-04 6.9780333e-05 6.1539863e-06] [1 0 0 0 0]\n",
      "wagaa kuma tokko nuuf jiradhaa [9.5236832e-01 4.1830108e-02 4.2879223e-03 1.4295017e-03 8.4154235e-05] [1 0 0 0 0]\n",
      "Monet Wani Rakko tokko illee kan qabdu natti hin Fakkaatu turee Garuu hardhaa irratti  bare  [6.7902627e-05 9.9827826e-01 1.2409675e-05 1.6277572e-03 1.3667108e-05] [0 1 0 0 0]\n",
      "Torbee tokko irraa torbee lama ma nurraa gootan jalallaa keessan torbee lama miti guyyan lama nuti gudatee [0.01614609 0.13043292 0.02698421 0.79106325 0.03537359] [0 0 0 1 0]\n",
      "Ani Obsaa dhabban jiraam ummata koo [9.9979168e-01 1.8232883e-04 1.2132030e-05 1.3230423e-05 5.5631443e-07] [1 0 0 0 0]\n",
      "Maaliif beeksisaa baayiftuu [9.9977082e-01 1.4351707e-04 6.2240077e-05 2.2671433e-05 8.1079793e-07] [1 0 0 0 0]\n",
      "Jabaadhaa bayyee namati tolaa [9.9936062e-01 5.4477440e-04 2.5527512e-05 6.6295026e-05 2.8680572e-06] [1 0 0 0 0]\n",
      "Baga nagaan fuftan hundi kesanu [1.8638480e-03 9.9568367e-01 3.0537820e-04 1.7655328e-03 3.8145925e-04] [0 1 0 0 0]\n",
      "Haawwidhaan isiin egnaa nagaan kotaa [9.7801775e-01 1.4277005e-02 4.0891059e-03 3.4148316e-03 2.0125575e-04] [1 0 0 0 0]\n",
      "Osoon isin eeguu  ijji koo cuummaa na yaase [3.8237459e-04 7.2242570e-01 3.8830537e-04 1.8813402e-03 2.7492219e-01] [0 1 0 0 0]\n",
      "Baga nagaan dhuftan drama kiyyoo [9.9959916e-01 3.3191429e-04 1.4203692e-05 4.3594020e-05 1.1189316e-05] [1 0 0 0 0]\n",
      "Baayeen jaaladhaa diramaa kana itti fufaa [3.4670689e-04 1.6035701e-01 7.9228834e-04 8.3781707e-01 6.8699120e-04] [0 0 0 1 0]\n",
      "Jabadhaa itii nuu fufaa Bayee isin jalanaa [5.4647036e-05 9.9958962e-01 1.3172422e-05 3.3281508e-04 9.7121510e-06] [0 1 0 0 0]\n",
      "Maaloo nuuf dheresaa osso qufin dhumaa [8.8292974e-01 5.2947975e-03 1.5528512e-02 9.5685966e-02 5.6100619e-04] [0 0 0 1 0]\n",
      "Nagaan kotuu lubuko [2.8289724e-05 9.9947947e-01 3.3260233e-06 4.8665996e-04 2.2630020e-06] [0 1 0 0 0]\n",
      "Torbaniti si'a lamaa nuuf godhaa [9.9842417e-01 1.0992683e-03 1.4481779e-04 3.2113303e-04 1.0640678e-05] [1 0 0 0 0]\n",
      "Baga Nagaan Dhuftan Garuu Torbee Darbe Maaf Baddani [1.2935692e-05 1.4008378e-03 5.4942182e-04 9.9799794e-01 3.8770842e-05] [0 0 0 1 0]\n",
      "nurraa hin turiinaa umata koo [0.944895   0.01985973 0.00889461 0.02486008 0.00149048] [1 0 0 0 0]\n",
      "Diraamaa afaan Oromo kessaa kiyyoo fi hiree heddu jaaladhera  [1.6373547e-04 9.9649280e-01 2.8034765e-05 3.2997874e-03 1.5690124e-05] [0 1 0 0 0]\n",
      "Yaa umatakoo mee wali haa jajabeesinuu mati kiyyaa naafi ta'a [3.6795071e-05 9.9935001e-01 5.9262370e-06 6.0325640e-04 3.9406837e-06] [0 1 0 0 0]\n",
      "Baga nagaan dhuftan [9.9109942e-01 8.7865547e-04 6.5379757e-03 1.4517601e-03 3.2081636e-05] [1 0 0 0 0]\n",
      "Bagaa nagadhaan dhuftan maati koo [1.7812445e-04 9.5465890e-04 7.8149245e-04 9.9798489e-01 1.0083755e-04] [0 0 0 1 0]\n",
      "Bagaa nagaan dhuftaan  [9.8754895e-01 1.1118426e-02 1.1686030e-03 1.5929075e-04 4.7006911e-06] [1 0 0 0 0]\n",
      " Jaalatamtotaa koo torben lama waggaa lama nati ta'ee  [0.02198313 0.9483051  0.01807164 0.01021627 0.00142393] [0 0 1 0 0]\n",
      "Jabaadha oromoo koo [9.94922221e-01 4.74532926e-03 2.28362391e-04 1.01746264e-04\n",
      " 2.41606904e-06] [1 0 0 0 0]\n",
      "Baga nagaan dhuftanii garuu diraamaa keessan bicuu nuuf dheresaa malee [0.00151773 0.16056316 0.00994529 0.01278628 0.8151875 ] [0 0 0 0 1]\n",
      " Anaa dhufuu  kiyyoo bayee isin yadee  [9.9940383e-01 4.5976779e-04 1.2114949e-04 1.4997241e-05 2.5288023e-07] [1 0 0 0 0]\n",
      "Hojiin meelaalaa natti tolaa hin jiru  [1.0127014e-05 9.9982089e-01 1.8054463e-06 1.6356085e-04 3.7115622e-06] [0 1 0 0 0]\n",
      "Baga nagaan dhuftanii  ijolle kenyaa [0.6458399  0.00429899 0.3060268  0.04195862 0.00187574] [0 0 1 0 0]\n",
      "Baga nagaan dhuftan bayyen isiin yadee [6.3546039e-03 2.5725583e-05 9.9353784e-01 7.7863580e-05 3.8771836e-06] [0 0 1 0 0]\n",
      "Kutaa 27 malif lakofsa irranfatani [0.02063271 0.9688477  0.0025814  0.00653711 0.00140099] [0 1 0 0 0]\n",
      "Baga nagaan dhuftani akka itti isin yadee anatu bekaa [0.03338234 0.72671807 0.01449527 0.21995375 0.00545052] [0 1 0 0 0]\n",
      "Baga nagaa dhufnii [9.9928230e-01 6.2601658e-04 3.9925588e-05 5.1179348e-05 5.8795320e-07] [1 0 0 0 0]\n"
     ]
    },
    {
     "name": "stdout",
     "output_type": "stream",
     "text": [
      "Diraamaa midhagaa dha nuuf jabaadhaa [1.2501729e-02 1.5830273e-04 9.8703474e-01 2.9164518e-04 1.3512172e-05] [0 0 1 0 0]\n",
      "Diraama kana  irraa wan bayyee irraa baradhe jabaadha  ittii fufaa [0.0090375  0.9778151  0.00437896 0.00751268 0.00125578] [0 1 0 0 0]\n",
      "Diraamaa kiyooo anaa dhufuuu [0.00115326 0.68642545 0.00139993 0.30946916 0.00155212] [0 0 0 1 0]\n",
      "Jabaadhaa [0.01122195 0.03911102 0.03939525 0.29048446 0.61978734] [0 0 0 1 0]\n",
      "Torbee nuraa hin dabarsiinaa [8.7947544e-04 9.6768188e-01 3.9178148e-04 3.0445091e-02 6.0182769e-04] [0 1 0 0 0]\n",
      "Maalif nuraa turtaan [1.0161691e-03 9.9206793e-01 1.8605460e-04 6.3548679e-03 3.7486033e-04] [0 1 0 0 0]\n",
      "Ana dhufuu jaalatamtoota keenyaa  [9.9961674e-01 2.1712661e-04 7.1129114e-05 8.5453728e-05 9.5155992e-06] [1 0 0 0 0]\n",
      "Kijibanii akka robsan kanaa hin jiruu [9.9998355e-01 1.3325422e-05 1.9592640e-06 1.2277422e-06 3.3348773e-08] [1 0 0 0 0]\n",
      "Jabaadhaa [1.84340952e-05 9.99856353e-01 1.66716382e-06 1.20045705e-04\n",
      " 3.43154761e-06] [0 1 0 0 0]\n",
      "Baga nagaan dhuftan [9.9892861e-01 8.9720829e-04 3.3019387e-05 1.2961871e-04 1.1541754e-05] [1 0 0 0 0]\n",
      "Torbee osso hin dhufin haafe garuu maal taatan [5.7533038e-05 9.9951458e-01 5.2977480e-06 4.1174513e-04 1.0823342e-05] [0 1 0 0 0]\n",
      "Baayyee isiin yaadne [6.7902627e-05 9.9827826e-01 1.2409675e-05 1.6277572e-03 1.3667108e-05] [0 1 0 0 0]\n",
      " isiin hordofuun keenyaa guddina aartii fi artistoota keenyaaf jajabinaa jedheen yaada  [9.9329281e-01 3.3938535e-03 1.8163269e-03 1.4008294e-03 9.6212832e-05] [1 0 0 0 0]\n",
      "Baga naga dhuftaan [9.6404947e-05 9.9963284e-01 9.6725471e-06 2.2986652e-04 3.1201427e-05] [0 1 0 0 0]\n",
      "Sinaan mucatii lafaa raa ishee kasee akkam baredi [9.9759221e-01 1.6926345e-03 1.4410305e-04 5.5222464e-04 1.8769762e-05] [1 0 0 0 0]\n",
      "Nuuf Jiraadhaa  [1.7477553e-04 8.6664245e-02 4.8417950e-04 9.1163456e-01 1.0421996e-03] [0 0 0 1 0]\n",
      "Ni turtanii maal rakoon jira moo [3.9044401e-04 4.6891919e-01 1.0618973e-03 5.2909714e-01 5.3132093e-04] [0 0 0 1 0]\n",
      "Baga nagaa dhuftan  [9.989267e-01 9.993373e-04 4.530171e-05 2.807945e-05 6.518694e-07] [1 0 0 0 0]\n",
      "Maloo maaf nuraa  turtani  bayyee isin yadee bar [1.06387626e-04 9.90409374e-01 3.19275532e-05 9.39635653e-03\n",
      " 5.58337633e-05] [0 1 0 0 0]\n",
      "Waali xaaxxeraa dubiin gaariimaa haa ta.uu malee fuuldurii isaa [1.3855817e-04 9.9804854e-01 2.2490800e-05 1.7718902e-03 1.8443598e-05] [0 1 0 0 0]\n",
      "Robsan baguma mana san hin seenin male si jala dhiphataa ture  [9.9424487e-01 1.5365124e-03 6.8372325e-04 3.4821967e-03 5.2655494e-05] [1 0 0 0 0]\n",
      "Mee namnii akaa kooo dirmaaa kiyyoo arguuf arifatuu essa jirtuu [1.2985625e-03 9.9496621e-01 7.6988770e-05 3.6202450e-03 3.8078997e-05] [0 1 0 0 0]\n",
      "Baga nagaan dhuftan   baayee isiin yaadee [2.2060769e-03 9.9602145e-01 2.4135080e-04 1.0536222e-03 4.7739362e-04] [0 1 0 0 0]\n",
      "Maaliif akka fincaan aduree gootu dheressa male [9.8891312e-04 5.1655879e-06 9.9896753e-01 3.6469879e-05 1.8774292e-06] [0 0 1 0 0]\n",
      "Kutaa 27ffaa moo 28tii kuni garuu [9.6704793e-01 3.2796796e-02 1.0181034e-04 5.1005834e-05 2.4160811e-06] [1 0 0 0 0]\n",
      "Diraamaan keessan  akkuma tapha ijollee tahaa jiraa sirressa [3.1610361e-05 9.9565178e-01 2.4783400e-05 4.2354884e-03 5.6385001e-05] [0 1 0 0 0]\n",
      "Hin gabaabbatee xiqqoo yeroo itti dabalaa [9.9967504e-01 2.6946317e-04 1.2432018e-05 4.1515843e-05 1.5418418e-06] [1 0 0 0 0]\n",
      "Ana dhufuu heduu isin yaadnee jiraa [8.4411126e-01 1.5269062e-01 5.8445259e-04 2.2354736e-03 3.7822791e-04] [1 0 0 0 0]\n",
      " baayyee namatti tola garuu beeksiisa hin dheeressina malee [7.4641186e-01 2.4254099e-01 5.9571206e-03 4.8119086e-03 2.7802738e-04] [0 1 0 0 0]\n",
      "Diramaa akkaa  bishani dhebonuu Diraamaan kun [2.0961612e-01 7.8991711e-01 6.2298655e-05 3.7037692e-04 3.4077322e-05] [1 0 0 0 0]\n",
      "Torbee taa'en issin eegaan bule [9.9988258e-01 9.8369470e-05 6.0228731e-06 9.5886653e-06 3.3485464e-06] [1 0 0 0 0]\n",
      "Baayee namatti toltuu [5.7175756e-01 4.0295634e-01 2.9667339e-03 2.2042617e-02 2.7675385e-04] [0 0 0 1 0]\n",
      "Hawwi gudaan isin egga turee bagaa nagaan dhuftan [8.1282742e-06 9.9996316e-01 5.8095554e-07 2.5720687e-05 2.3376854e-06] [0 1 0 0 0]\n",
      "Baayee issin jaaladhaa  oromoo koo [0.13396733 0.660407   0.03243566 0.16274603 0.01044397] [1 0 0 0 0]\n",
      "Diraamaan kunii heduu  namatii  tolaa  jabbesa  itti  fufa  [9.9971241e-01 1.5520364e-04 2.5824507e-05 9.7500182e-05 9.0382437e-06] [1 0 0 0 0]\n",
      "Baayee namatti toltuu dhugaa [3.1047905e-04 9.7766477e-01 6.7720983e-05 2.1941949e-02 1.5156662e-05] [0 1 0 0 0]\n",
      "Baga Nagaan dhuftan torbee maa Nuraa haftaan [0.34273812 0.2837489  0.11033616 0.21349122 0.04968568] [1 0 0 0 0]\n",
      "Baga nagan dhuftanii garuu nuraa turtanii  [9.9998486e-01 1.1654488e-05 1.4931577e-06 1.8392585e-06 1.4053879e-07] [1 0 0 0 0]\n",
      "Xiqqoo otoo akkanatti addaan turuu baattanii namatti tola [1.6373547e-04 9.9649280e-01 2.8034765e-05 3.2997874e-03 1.5690124e-05] [0 1 0 0 0]\n",
      "Baayee namati tola dhugaa [5.7459675e-04 6.9396237e-06 9.9938452e-01 2.9732671e-05 4.1522012e-06] [0 0 1 0 0]\n",
      "Galatomaa  waan bohasitanfi itti fufa [9.9949920e-01 2.8204065e-04 1.4943283e-04 6.7216752e-05 2.1244721e-06] [1 0 0 0 0]\n",
      "Dhugaa hedduu isin eegaa turree  [6.1645202e-05 4.9566063e-01 1.8816232e-04 5.0387299e-01 2.1660241e-04] [0 0 0 1 0]\n",
      "Baga nagaan dhuftaan kabajamoo keenyaa  siin yaaderaa  [0.0011678  0.42443234 0.00103538 0.57270014 0.00066437] [0 1 0 0 0]\n",
      "Baayee Namati toltuu baaye sin jaladha [3.6563102e-05 9.9809617e-01 1.1301528e-05 1.8335681e-03 2.2497859e-05] [0 1 0 0 0]\n",
      "Yeroon beksisumaan dhume [2.0628115e-05 9.9996078e-01 2.3399148e-06 1.3385438e-05 2.8941197e-06] [0 1 0 0 0]\n",
      "Bayyee isinii jaladhaa diraamaa kiyyoo kesatuu meluu [9.9852377e-01 1.3203379e-03 9.5922922e-05 5.5301549e-05 4.6304567e-06] [1 0 0 0 0]\n",
      "Anaa dhufu baayeen isiin yaadee [2.6781252e-06 1.3913622e-04 3.8472816e-05 9.9979609e-01 2.3691613e-05] [0 0 0 1 0]\n",
      "Baga nagaan dhuftan [0.09593326 0.09985239 0.6606443  0.11607505 0.02749503] [0 0 1 0 0]\n",
      "Baayee namatii tolaa jajabadhaa ittii fufaa [0.0153717  0.810319   0.00219678 0.1709441  0.00116848] [1 0 0 0 0]\n",
      "Essatti badan kana hundaa obsa na ficisistan   [1.1241755e-03 2.3209559e-05 9.9864262e-01 1.8174625e-04 2.8266577e-05] [0 0 1 0 0]\n",
      "Maatii kiyyoo dhugaa fuundura saa tilmaamuun ni ulfaata [9.9919635e-01 7.7023223e-04 5.4184698e-06 2.6709537e-05 1.2914206e-06] [1 0 0 0 0]\n",
      "Baga nagaan dhuftan maatii kiyyoo  [9.6400994e-01 7.6699331e-03 7.4592433e-03 2.0254960e-02 6.0594978e-04] [1 0 0 0 0]\n",
      "Kana caalaa jabaadhaa oromoo koo [9.9929750e-01 5.8539631e-04 1.5666967e-05 9.5813783e-05 5.6509243e-06] [1 0 0 0 0]\n",
      "Diramaan kuni akkumaa maqaasaa kiyyoodha  [7.96053610e-06 1.25546605e-04 1.06335116e-04 9.99752343e-01\n",
      " 7.81522886e-06] [0 0 0 1 0]\n",
      " Ana haa dhufuu baga nagaan dhuftan [1.1304161e-06 9.8524470e-05 5.2047417e-06 9.9989295e-01 2.1803767e-06] [0 0 0 1 0]\n",
      "Yeroo hin gabaabsinaa  [9.9693680e-01 3.0283874e-03 1.6413640e-05 1.8177794e-05 1.9155608e-07] [1 0 0 0 0]\n",
      "Melaalaa irraa Anuu qabdaa [9.9906117e-01 8.0249103e-04 9.6225573e-05 3.7575213e-05 2.5182276e-06] [1 0 0 0 0]\n",
      "Namicha Diaspora  Kana osoo kessa baafatanii nati tola  [9.9860495e-01 1.1379791e-03 5.3726162e-05 1.9699913e-04 6.3984712e-06] [1 0 0 0 0]\n",
      "Barreeffama 28 gara 27 jijjiiraa [1.2676558e-04 9.9935573e-01 1.2803126e-05 5.0053751e-04 4.0195719e-06] [0 1 0 0 0]\n",
      "Heddu isini egaa turre [2.7285227e-01 7.2672653e-01 8.9351211e-05 2.9906793e-04 3.2875050e-05] [0 1 0 0 0]\n",
      "Waantii sinaanitii demaa jiruu ammaale garaa nama nyaata [2.0549423e-04 9.3967980e-01 1.9343226e-04 5.9691556e-02 2.2978013e-04] [0 1 0 0 0]\n",
      "Jabadhaa [0.00901673 0.97656757 0.00160646 0.0117244  0.00108485] [0 1 0 0 0]\n",
      "Torbban tokkoo waggaa natti ta'e [9.9900824e-01 4.8337659e-04 3.7373186e-04 1.3179176e-04 2.8619154e-06] [1 0 0 0 0]\n",
      "29ffa itti nu arifadhaa [8.9595014e-01 1.0400059e-01 3.2386586e-05 1.6170476e-05 7.7583053e-07] [1 0 0 0 0]\n",
      "Akka hadha gaba dhaqxee isiin egnee dadhabne  [6.0493039e-04 9.4207615e-01 5.5641914e-04 5.6398757e-02 3.6375105e-04] [0 0 1 0 0]\n",
      "Baayee nama dhibduu [0.19295682 0.00540676 0.79170763 0.00784806 0.00208063] [1 0 0 0 0]\n",
      "Taatonni diraamaa kanaa hedduu galatoomaa   [1.9385456e-03 9.9571133e-01 1.8813698e-04 1.9700066e-03 1.9192214e-04] [0 1 0 0 0]\n",
      " Torbee darbee maaf nuu jalaa haftaan [0.00235013 0.02912869 0.00856314 0.68519384 0.27476418] [0 0 0 0 1]\n",
      "Dhugaa dubbachuuf diraaman kiyyo kun diraamaa addatii [1.9682626e-05 9.9994195e-01 8.1597767e-07 3.6705729e-05 8.3194681e-07] [0 1 0 0 0]\n",
      " bayyee midhagaa waan isaa hundii [0.09812338 0.5587153  0.08308175 0.19878305 0.0612966 ] [0 1 0 0 0]\n",
      "galatooma jechaa isinis jajjabeesuun nura jirra [0.0034125  0.8250727  0.00185096 0.16883618 0.00082762] [0 1 0 0 0]\n",
      "Yaroo diraamaa itti nuuf dheerressa beeksiisa irraa dhimma hin qabnu [1.0638773e-04 9.9040937e-01 3.1927582e-05 9.3963612e-03 5.5833814e-05] [0 1 0 0 0]\n",
      "Baga nagaan  dhuftan torbe issiin egaan dhabe   [1.3880751e-05 9.9985552e-01 1.5955047e-06 1.2602263e-04 2.9439193e-06] [0 1 0 0 0]\n",
      "jabadhaa hojii kesani hedduu nama bonsaa [3.1535284e-04 9.9913317e-01 2.6349157e-05 3.7847142e-04 1.4661816e-04] [0 1 0 0 0]\n",
      " torbee lama Booda nuf deebitan isin yaadeem  [5.1289266e-01 4.8696601e-01 5.8070480e-05 8.2011924e-05 1.2266502e-06] [0 0 1 0 0]\n",
      "Bonan bilisee sinan irraa fudhatuf dema moo [1.2479430e-03 9.9687886e-01 3.6227432e-04 1.4639390e-03 4.6957288e-05] [0 1 0 0 0]\n",
      "Baayee namattii toltuu nuuf jiradhaa    [1.2535798e-04 9.8476100e-01 5.0521023e-05 1.5001441e-02 6.1626764e-05] [0 1 0 0 0]\n",
      "Isin yaddee dhugaa baga nagaan dhuftan [1.8814291e-04 4.7201467e-01 5.5876316e-04 5.2662253e-01 6.1576837e-04] [0 1 0 0 0]\n",
      "Maloo qalbi nu raraftani torbe addan kutani  [0.02416269 0.12214381 0.04024883 0.6833602  0.13008444] [0 1 0 0 0]\n",
      "Baga Nagan na dhuftaan bayyeen sin jalladhaa [9.9011260e-01 9.8389359e-03 2.8779205e-05 1.8966210e-05 6.5667939e-07] [1 0 0 0 0]\n",
      "Akkuman ittii isiin yadee yoo bektan [1.0562552e-04 9.9909484e-01 1.0133905e-05 7.8010227e-04 9.3210583e-06] [0 1 0 0 0]\n",
      "Baga nagaan dhuftan Garuu  nurraa hin turinaa [9.9982709e-01 1.4846434e-04 8.6350701e-06 1.4500712e-05 1.3773711e-06] [1 0 0 0 0]\n",
      "Garuu of nu barsiistanii maalif akkana baddan [2.8022708e-04 6.7339569e-01 1.3379542e-03 3.2389566e-01 1.0904162e-03] [0 0 0 1 0]\n",
      "Diraamaa kana komeentii barreessuu qofa osoo hin taane hanga xumurraati lamuu dhan haa jajjabeessinu. [2.3079781e-04 5.3570140e-04 2.8099117e-03 5.6035700e-03 9.9081999e-01] [0 0 0 0 1]\n",
      "Dhugaa beyee tokkoo namatii totuu itti fufaa  [0.5878544  0.33355948 0.02809093 0.04620892 0.00428622] [1 0 0 0 0]\n",
      "Anaa dhufu kiyyoo koo sin yaade dhugaa [0.02809449 0.03586954 0.27379405 0.65625846 0.0059834 ] [0 0 1 0 0]\n",
      "Wal baqachuun kun hanga yoomitti garuu [1.0157971e-03 9.5475346e-01 4.8625481e-04 4.3202274e-02 5.4221752e-04] [0 1 0 0 0]\n",
      "Baga bara haraa gessan ijoollee oromoo  [4.9212757e-01 5.0736988e-01 1.2909705e-04 3.4886069e-04 2.4603009e-05] [0 1 0 0 0]\n",
      "Beeksisa nuttii hin bayyisinaa [1.3880751e-05 9.9985552e-01 1.5955047e-06 1.2602263e-04 2.9439193e-06] [0 1 0 0 0]\n",
      " kiyyoo akkan sin jaaladhuu  [3.4497272e-05 6.1930206e-07 9.9995828e-01 5.6020745e-06 1.0791142e-06] [0 0 1 0 0]\n",
      "Nuraa turtan garuu jabaadhaa namaatii tolaa [9.9842417e-01 1.0992683e-03 1.4481779e-04 3.2113303e-04 1.0640678e-05] [1 0 0 0 0]\n",
      " Natuu duraa lallee jiraa    [9.9414909e-01 5.7752212e-03 4.1736668e-05 3.1989937e-05 2.0077553e-06] [1 0 0 0 0]\n",
      "Kiyyoon kan duraa irraa amma caalatti bareeda jira jabaadha [4.3171700e-04 9.9557000e-01 2.8219019e-04 3.5693606e-03 1.4681932e-04] [0 1 0 0 0]\n",
      "Anatuu jalqabaa lallee  [7.4629498e-01 2.5139233e-01 1.5129417e-03 7.5494731e-04 4.4827921e-05] [1 0 0 0 0]\n",
      "Torbee darbee essatii haaftan [0.679652   0.2139356  0.04862656 0.04454961 0.01323623] [1 0 0 0 0]\n",
      "malif hin dhufin sanbata taree [8.7366343e-06 9.9993312e-01 7.4920308e-07 5.3398158e-05 3.9132383e-06] [0 1 0 0 0]\n",
      "Mee namnii akka koo hawwiidhan eegata turtan essa jirtuu [2.1755736e-02 9.7271258e-01 7.4012595e-04 3.5645573e-03 1.2269132e-03] [0 1 0 0 0]\n",
      "Haaradha Namni tokko nan Dursinee [3.6671299e-02 1.4687894e-04 9.6259367e-01 5.6429656e-04 2.3841136e-05] [0 0 1 0 0]\n",
      " Anaa dhufuu  Diramaa kiyyoo  [0.4472422  0.12478414 0.208585   0.09808563 0.12130304] [1 0 0 0 0]\n",
      "An dhufuu kabajamoota keenyaa matii kiyyoo [9.9917883e-01 7.4557104e-04 1.8213759e-05 5.3309759e-05 4.0753098e-06] [1 0 0 0 0]\n",
      "Anaa dhufuu qopheesitoota diraama Kiyyoo [7.9111916e-05 4.5056105e-01 1.8494562e-04 5.4898822e-01 1.8672923e-04] [0 0 0 1 0]\n",
      "Maaf torbee Darbee nuraa haftanii osso isinii egnuu [3.0863779e-05 9.9935168e-01 3.8814755e-06 6.0442783e-04 9.0858848e-06] [0 1 0 0 0]\n",
      "Sin eegaa jirra dheebun [5.6857588e-03 2.6829066e-04 9.9190336e-01 2.0620339e-03 8.0502236e-05] [0 0 1 0 0]\n",
      "Heddu na arsitanii  [5.9408387e-05 9.9986565e-01 1.8563322e-06 7.1484770e-05 1.5473568e-06] [0 1 0 0 0]\n",
      "Anatu tokofaa lalee [2.3695711e-05 4.8211819e-01 1.0562211e-04 5.1764244e-01 1.1010974e-04] [0 0 0 1 0]\n",
      "Baga nagaan dhuftan garuu hin tursiisinaa [1.4604103e-05 9.7311729e-01 1.1525186e-05 2.6843637e-02 1.2957843e-05] [0 1 0 0 0]\n",
      "Maatiin diraamaa kiyyoo suusii natti taatan hojii keessan nyaadhaa [2.7832918e-02 2.5841218e-04 9.7127557e-01 6.0653972e-04 2.6674310e-05] [0 0 1 0 0]\n",
      "Diramaan kiyyoo bayee  namatii tolaa [6.1018509e-04 9.9600536e-01 8.5219661e-05 3.2071378e-03 9.2105765e-05] [0 1 0 0 0]\n",
      "Issa darbe Kutaa 28 keessatti nan dhabe [9.9713480e-01 2.5715828e-03 9.3835311e-05 1.9142822e-04 8.4888625e-06] [1 0 0 0 0]\n",
      "Baayee namatti tolaa [0.09125537 0.00676801 0.87848616 0.02233543 0.00115496] [0 0 1 0 0]\n",
      "Nujalaa gabaabsitan san gubbaan torbetti al tokko [2.3199374e-05 9.9982315e-01 3.9579986e-06 1.4382672e-04 5.8042924e-06] [0 1 0 0 0]\n",
      "Diramaa kiyoo bayyee isin jaaladhaa [2.2427764e-04 9.9630392e-01 2.9521829e-05 3.4294457e-03 1.2814938e-05] [0 1 0 0 0]\n",
      "Baga dhuftan  [2.1113490e-05 9.9974436e-01 2.1020016e-06 2.2856130e-04 3.7546993e-06] [0 1 0 0 0]\n",
      "Akka isiin jaaladhuu [9.18405476e-06 1.13896276e-04 9.68670520e-06 9.99859571e-01\n",
      " 7.61378988e-06] [0 0 0 1 0]\n",
      "Sagaleen babbadaa jira akka duraati deebisaa [9.7695404e-01 3.6330903e-03 1.9216957e-02 1.8726406e-04 8.7160943e-06] [0 1 0 0 0]\n",
      "Baayee Namatti Tola Galatoma  [2.6808020e-03 9.8830265e-01 4.3468937e-04 8.0624260e-03 5.1943207e-04] [0 1 0 0 0]\n",
      "Siifoo xiqooman argee [0.06006891 0.07288536 0.07659554 0.07490623 0.7155439 ] [0 1 0 0 0]\n",
      "Bekisisaa xiqqessaa maali kuni hundii [9.7474921e-01 2.4222268e-02 7.5312325e-04 2.7110084e-04 4.2859847e-06] [1 0 0 0 0]\n",
      "Maaf garuu diramaa yeroo hojjatan ni gababataa mafi dheresitan hin hojjatinaa  [9.9988270e-01 7.5182572e-05 2.9804598e-05 1.2138330e-05 9.2896741e-08] [1 0 0 0 0]\n",
      "Isin Jalanaa jajabaadha [2.6017029e-05 5.4692394e-01 4.4582041e-05 4.5293009e-01 7.5368102e-05] [0 0 0 1 0]\n",
      "Dafaa nuf dabalaa diramaan kun bayyee namaa hawataa dhugaa  [3.1622654e-05 9.9899751e-01 1.0721403e-05 9.3275134e-04 2.7379760e-05] [0 1 0 0 0]\n",
      "Hedduu namatti tola [1.3129527e-05 9.9979728e-01 8.4924295e-07 1.8609114e-04 2.6890409e-06] [0 1 0 0 0]\n",
      "Maaloo ni gabaabsitani yokin immoo torbeetti yeroo 2 nuuf godhaa  [9.0751809e-01 1.6648021e-03 6.8503052e-02 2.1969195e-02 3.4492015e-04] [0 0 1 0 0]\n",
      "Maal taatanii [9.9979168e-01 1.8232883e-04 1.2132030e-05 1.3230423e-05 5.5631443e-07] [1 0 0 0 0]\n",
      "Nujalaa gabaabbate xiqqoo [1.2640024e-02 7.3392286e-05 9.8720014e-01 8.1781676e-05 4.5629163e-06] [0 0 1 0 0]\n",
      "Maaf adaan kutanii nagadhaa mitii [9.8156905e-01 1.7954025e-02 2.7567270e-04 1.8784603e-04 1.3364298e-05] [1 0 0 0 0]\n",
      "Sa'atii xiqqoo itti dabalaa   [5.5184188e-05 4.0110367e-04 6.7045121e-04 8.4917516e-02 9.1395569e-01] [0 0 0 0 1]\n",
      "Bayyee tokko sii jaaladhaa dhugaa [9.9921370e-01 5.1466783e-04 1.5603186e-04 1.0043056e-04 1.5128485e-05] [1 0 0 0 0]\n",
      "Nuuf jiraadhaa [9.9915898e-01 7.3302095e-04 5.5455650e-05 5.0896149e-05 1.5774914e-06] [1 0 0 0 0]\n",
      "Beeksisni baayyate [4.7260616e-04 9.9077058e-01 1.6739810e-04 8.2117468e-03 3.7763643e-04] [0 1 0 0 0]\n",
      "Fiilmii afaan oromo akkana laaluu kiyyati baayeen gammada galatooma [8.9728396e-04 9.9720520e-01 4.0642455e-05 1.8376471e-03 1.9179050e-05] [0 1 0 0 0]\n",
      "Addeemsii keessaan baredadhaa garuu wa'ee bankii gogaa hoolaa ufataa kanaa osoo dubachuu bataanii garii natii fakkataa [1.3129527e-05 9.9979728e-01 8.4924295e-07 1.8609114e-04 2.6890409e-06] [0 1 0 0 0]\n",
      "Jabaadha [8.9315299e-06 9.9994874e-01 9.5817984e-07 3.7356585e-05 4.0958807e-06] [0 1 0 0 0]\n",
      "Maaliidha haraa akka itti eega ture miti garuu wanti namati tolu mooneet milkaa'uf deemti nati fakkaata [2.0061389e-03 9.9575579e-01 8.2295264e-05 2.1340558e-03 2.1752861e-05] [0 1 0 0 0]\n",
      "Diraamaa bayyee jaladhuu [0.02298764 0.5774013  0.07739208 0.02942855 0.29279044] [0 1 0 0 0]\n",
      "Gaalatomaa Ammayyu ittuuma fufa isiin waallin jira [1.3901079e-03 9.9637634e-01 1.0582404e-04 1.9384800e-03 1.8937928e-04] [0 1 0 0 0]\n",
      "Dhugaa dha namaa jalaatan dagachuun salphaa mitii [1.3487362e-05 9.9991512e-01 2.9474436e-06 6.6930457e-05 1.4674338e-06] [0 1 0 0 0]\n",
      "Baga nagaan dhuftan isin jaalanaa  [9.9882632e-01 9.6391264e-04 3.3937587e-05 1.6393821e-04 1.1866961e-05] [1 0 0 0 0]\n",
      "Baayee baredaadha garuu beksissa xiqqesaa yookiin yaroo itti dabalaa [1.3641147e-05 9.9865180e-01 5.3767712e-06 1.3220590e-03 7.1086038e-06] [0 1 0 0 0]\n",
      "Maloo osoo xiqumaa ittii nuuf dheressitani  [5.39060466e-06 3.56790796e-03 1.03342245e-05 9.96406972e-01\n",
      " 9.35492699e-06] [0 0 0 1 0]\n",
      "Diraamaa jaallatamaadha jabaadhaa [7.3753581e-06 9.9994707e-01 9.0983616e-07 4.2733504e-05 1.9238266e-06] [0 1 0 0 0]\n",
      "Meelu mucaa Oromoo jabaadhuu [0.9403785  0.04454666 0.00215933 0.00804873 0.00486679] [0 0 0 0 1]\n",
      "Hedduu galatooma [8.8983238e-01 1.0103379e-01 6.3660587e-03 2.6220845e-03 1.4569963e-04] [1 0 0 0 0]\n",
      "dadafaa kotaa [1.0822798e-03 9.6611661e-01 5.5454648e-04 2.9384235e-02 2.8623040e-03] [0 1 0 0 0]\n",
      "Baayee  nammtti tala  [3.5031095e-05 9.9973017e-01 1.8549305e-06 2.2940162e-04 3.4159132e-06] [0 1 0 0 0]\n",
      "Diraamaa kuni baredadha garu bayye gababadha sanifi ilalunu heddu nama jibisisaa  [6.5676641e-06 9.9997342e-01 4.9010447e-07 1.8927836e-05 6.5154507e-07] [0 1 0 0 0]\n",
      " Ni gabaabate [2.6342275e-06 9.9996507e-01 4.4953254e-07 3.0970321e-05 8.3677378e-07] [0 1 0 0 0]\n",
      "Maalif yeroo gabaabsitu garu [1.6983134e-03 9.9086362e-01 9.0053931e-05 7.2946926e-03 5.3213920e-05] [0 1 0 0 0]\n",
      "Jajjabaadha [9.9827492e-01 1.6657982e-03 6.7377414e-06 4.1479412e-05 1.1117793e-05] [1 0 0 0 0]\n",
      "Baayee gaariidha garuu baayyee gababbate [6.4577929e-05 9.6972543e-01 9.5237592e-05 3.0063396e-02 5.1456558e-05] [0 1 0 0 0]\n",
      "Jabaadha itti fufaa haala gaarii irrati jirtani akkuma kanatti kan biraa ille nuuf dalagaa  [9.9975556e-01 2.1438603e-04 2.3807883e-05 5.8753399e-06 3.6057432e-07] [1 0 0 0 0]\n",
      "Beeksisaa baayistan xiqqeessaa  [3.3944383e-05 1.8507043e-01 7.6768905e-05 8.1479621e-01 2.2647531e-05] [0 1 0 0 0]\n",
      "Jabaadhaa iti fufi namati tolaa [0.09125537 0.00676801 0.87848616 0.02233543 0.00115496] [0 0 1 0 0]\n",
      "Osoon isiin eguu ijii koo na gogee [4.3658610e-02 9.5617801e-01 5.6516867e-05 9.4418327e-05 1.2542038e-05] [0 1 0 0 0]\n",
      "Torbee guutuu isin egnee beksiisa irra hedduudha Maaliif garuu  [5.0784433e-03 7.5959519e-04 9.8266500e-01 4.5951372e-03 6.9017699e-03] [0 0 1 0 0]\n",
      "Baayee nurraa tursiisaa jirtuu maaloo saffisaan nuuf hojjadhaa [7.1656120e-01 2.7860066e-01 2.1932940e-03 2.4756300e-03 1.6923346e-04] [1 0 0 0 0]\n",
      "Waaqayyoo isiin haa Ebbisuu jabaadha  [1.09431985e-05 3.34850221e-04 1.31087087e-04 9.99487996e-01\n",
      " 3.51363524e-05] [0 0 0 1 0]\n",
      "Nuuf jiraadhaa hedduu isiin jaalanaa  [0.18682075 0.04875007 0.37657917 0.15187837 0.2359717 ] [0 0 0 1 0]\n",
      "Diraamaan keessan beeksisaa qofatuu baayetaa yokiin yeroo itti nuuf dabalaa [9.1829452e-06 9.9987328e-01 2.4033541e-06 1.1236828e-04 2.7224796e-06] [0 1 0 0 0]\n",
      "Maaloo yaroo xiqqoo dheressaa [6.2199018e-04 8.9695793e-01 3.0425118e-04 1.0169130e-01 4.2459596e-04] [0 1 0 0 0]\n",
      "Yeromaa hojii kenyaa taa'en lalaa kaa [9.8262331e-07 5.0590232e-05 1.3434819e-05 9.9992764e-01 7.3341475e-06] [0 0 0 1 0]\n",
      " Bekisisaan fixani hoo maal taatan [0.03225519 0.00358856 0.9540332  0.00916024 0.00096288] [0 0 1 0 0]\n",
      "Baayee isin jaaladhaa dhugaa jabaadha  [7.1433437e-01 2.8267807e-01 4.2071391e-04 1.9581227e-03 6.0872431e-04] [1 0 0 0 0]\n",
      "Guyaan nuraa fagaatee [9.0751809e-01 1.6648021e-03 6.8503052e-02 2.1969195e-02 3.4492015e-04] [0 0 1 0 0]\n",
      "Torbee dhufuu nagan kootaa yoo danda'ame yaroo nuuf dabalaa  [2.2857731e-04 9.9798155e-01 4.1608764e-05 1.7290001e-03 1.9230973e-05] [0 1 0 0 0]\n",
      "Torbeen tokkoo hanga gahuutti baayeen arifadhaa  [1.7785314e-05 3.3808779e-03 1.1441136e-04 1.1740616e-02 9.8474634e-01] [0 0 0 0 1]\n",
      "Baga nagaan dhuftan onee keenyaa futan jaalalaan nu bojitan [2.6721924e-03 9.9644357e-01 5.2723644e-05 8.0683525e-04 2.4679635e-05] [0 1 0 0 0]\n"
     ]
    },
    {
     "name": "stdout",
     "output_type": "stream",
     "text": [
      "Fiilmii afaan oromoo keessaa Kan akkanaa daawwadhee hin beekuu  [7.0803631e-05 7.6034549e-04 6.3354213e-04 9.9843794e-01 9.7356104e-05] [0 0 0 1 0]\n",
      "Baayee natti tole dhugaa kutaa dhufuratti meelu garraa gubbuu qabdaa sinaan [7.2413051e-05 9.0350539e-07 9.9990070e-01 2.0000032e-05 5.9260824e-06] [0 0 1 0 0]\n",
      "Diraamaa bareedadha garuu hin xiqqaate [0.51485735 0.28284115 0.07343205 0.1156434  0.013226  ] [1 0 0 0 0]\n",
      "Oromoon kiyaa bareduu dha [0.0026322  0.01038504 0.06768525 0.00262471 0.9166728 ] [0 0 0 0 1]\n",
      "Ijoollee maati naa ta'aa  [2.3097577e-04 3.8629645e-03 4.5126423e-04 9.9534434e-01 1.1049760e-04] [0 0 0 1 0]\n",
      "Heduu namattii toltanii. garuu yeroo nujalaa gabasitanii malee  [4.2102354e-05 2.3238440e-03 2.8633259e-04 8.4143551e-03 9.8893344e-01] [0 0 0 0 1]\n",
      "Baga nagaan dhuftan  [9.9936432e-01 4.5450151e-04 7.6412216e-05 9.9899546e-05 4.8585871e-06] [1 0 0 0 0]\n",
      "Jabaadha isin ija keenya nu barbaachiiftuu [3.5081473e-05 1.7171117e-02 1.3344354e-04 9.8262042e-01 3.9974922e-05] [0 0 0 1 0]\n",
      "Maaloo xiqoo sa'ati itti nuuf dabalaa  [0.00925781 0.00647441 0.19162546 0.0108218  0.7818206 ] [0 0 0 1 0]\n",
      "Rakkon keessan yaroo baayee filmiin hin gabaabataa malif garuu [9.6917570e-01 2.4820339e-02 1.4729642e-03 3.9863009e-03 5.4478116e-04] [1 0 0 0 0]\n",
      "Yaroo isaa baayee gabaabataa maalif itti hin dabalee [9.9925846e-01 6.8627641e-04 2.1803558e-05 3.0330193e-05 3.0970714e-06] [1 0 0 0 0]\n",
      "Hara moo beeksisaa qofaatii yeroo xumuurtaan  [0.43633848 0.55656266 0.00334459 0.003131   0.00062329] [1 0 0 0 0]\n",
      "Biliseenis qabamtemmoo [3.8347763e-04 9.8729670e-01 5.0220819e-04 9.3429200e-03 2.4746584e-03] [0 1 0 0 0]\n",
      "Baayeen jaaladhaa diraamaa kana [0.0149872  0.01400055 0.11454923 0.10820062 0.7482624 ] [0 0 0 1 0]\n",
      "Diraamaan kuni suusii nati ta'e jira garuu gababaate malee [0.856873   0.11985403 0.01038254 0.01146926 0.00142122] [1 0 0 0 0]\n",
      "Baayee siin jaaladhaa jabaadhaa  [1.1264253e-05 5.0515798e-04 2.0030511e-05 9.9946100e-01 2.4474198e-06] [0 0 0 1 0]\n",
      "Beeksisa itti baayyistanii [3.4841752e-04 9.0138775e-01 4.1770769e-04 9.7261295e-02 5.8491447e-04] [0 1 0 0 0]\n",
      "Diraamaa baayee namati toludhaa [7.8631800e-01 2.1170349e-01 1.0331535e-03 8.9772796e-04 4.7618742e-05] [1 0 0 0 0]\n",
      "Ijollee oromoo jabaadha wal jajjabeessa ammallee dhalloonnii dhufu wan heduu nurraa eega waanta'efi. [1.1319098e-05 9.9984539e-01 1.0793690e-06 1.3962227e-04 2.6297357e-06] [0 1 0 0 0]\n",
      "Melu jabaadhu maaf turtee [9.9773622e-01 1.7732109e-03 8.8573412e-05 3.0541208e-04 9.6528282e-05] [1 0 0 0 0]\n",
      "Diramaan keesaan baayee namati tolaa garuu beksiisa hin baayisinaa [7.7971148e-01 2.1984637e-01 9.2246984e-05 3.3805644e-04 1.1940147e-05] [1 0 0 0 0]\n",
      " Baayee isiin egaa turee akka male garaa nu seentani jirtuu [1.6870294e-03 9.8764348e-01 4.1064189e-04 8.5017830e-03 1.7570591e-03] [0 1 0 0 0]\n",
      "Namatii tolaa  [9.2240380e-06 9.9993694e-01 7.5246680e-07 5.1147032e-05 1.8913838e-06] [0 1 0 0 0]\n",
      "Baga nagaan nu dhuftan [9.9918240e-01 5.9168070e-04 2.0442343e-04 2.1271160e-05 2.7509475e-07] [0 1 0 0 0]\n",
      "Kiyyoon diraamaa qofa miti jiruuf jireenya hawaasummaa isa qabatamaadha [1.0478082e-04 9.9764448e-01 1.9211428e-05 2.2113537e-03 2.0062716e-05] [0 1 0 0 0]\n",
      "Diraamaa oromoo dinqisiisaa kan ta'edha dhugaa [9.2240380e-06 9.9993694e-01 7.5246680e-07 5.1147032e-05 1.8913838e-06] [0 1 0 0 0]\n",
      "Baga nagaan dhuftan garuu hamma kana hin tursinaa male [3.2669830e-04 3.4389887e-02 1.9088217e-04 2.4441414e-02 9.4065112e-01] [0 0 0 0 1]\n",
      "Baga nagaan dhuftan  diraamaa kiyyoo   [1.0157971e-03 9.5475346e-01 4.8625481e-04 4.3202274e-02 5.4221752e-04] [0 1 0 0 0]\n",
      "Baga nagaan dhuftan jalatamoo kabajamoo keenyaa [9.6560919e-01 1.3009872e-02 1.0959403e-02 9.8508848e-03 5.7067978e-04] [1 0 0 0 0]\n",
      "Jabaadha [0.0755333  0.03323102 0.23070748 0.1716364  0.48889187] [0 0 0 0 1]\n",
      "Anii akkaa dhunfaa kotii jabaadhaa isin jachuu barbaadaa [2.1705486e-05 9.9959952e-01 2.7850242e-06 3.6901189e-04 6.9509865e-06] [0 1 0 0 0]\n",
      "Diaramaa kiyyoo lalufiii guyaa gutuu yadaa olee [6.7902627e-05 9.9827826e-01 1.2409675e-05 1.6277572e-03 1.3667108e-05] [0 1 0 0 0]\n",
      "Diraamaa heduu namatii tolludhaa kesaa fuu sadarkaa isaa kan egateedhaa [9.9032521e-01 8.3200037e-03 1.1923453e-03 1.6187695e-04 6.0891364e-07] [1 0 0 0 0]\n",
      "Maaloo garuu Dureen maalif badde [5.3335909e-05 9.9864358e-01 9.7629218e-06 1.2716735e-03 2.1644646e-05] [0 1 0 0 0]\n",
      "Baayyee bareedduu dha [1.35243277e-03 9.81998801e-01 3.23548069e-04 1.54263945e-02\n",
      " 8.98770348e-04] [0 1 0 0 0]\n",
      "Anaa dhufu jaalleewwan koo isin egaan ture [3.3694664e-01 6.2768026e-03 6.5220696e-01 4.2976765e-03 2.7186330e-04] [1 0 0 0 0]\n",
      "Baga nagaan dhuftan [7.1761482e-05 9.9910885e-01 8.7789731e-06 7.9796481e-04 1.2664492e-05] [0 1 0 0 0]\n",
      "Bagaa dhuftan oromo koo [0.36445275 0.33977196 0.08578111 0.19798405 0.0120102 ] [1 0 0 0 0]\n",
      "Oromo koo mee artii oromo kan haa gudifnuu  [1.0025562e-05 3.4295679e-03 3.3250468e-05 9.9651623e-01 1.0949229e-05] [0 0 0 1 0]\n",
      "Maali torbanitti tokko innu walakkaan beeksisaa  [2.3296721e-05 9.9971801e-01 1.9388410e-06 2.5158469e-04 5.1571778e-06] [0 1 0 0 0]\n",
      "��𝐚𝐥𝐨 𝐧𝐮uf 𝐝𝐡𝐞𝐫𝐞𝐬a𝐚 𝐝𝐢𝐫a𝐚𝐦𝐚a kana [9.9975199e-01 2.0128669e-04 2.6927853e-05 1.9153562e-05 6.4084509e-07] [1 0 0 0 0]\n",
      "Beksisaa hin bayisinaa [6.1825447e-04 7.0236227e-03 5.4453760e-03 9.7575164e-01 1.1161142e-02] [0 0 0 1 0]\n",
      "Yaroon maaf gabaabatee  [8.5780286e-04 9.5485887e-03 2.0871067e-03 1.5463941e-02 9.7204262e-01] [0 0 0 0 1]\n",
      "Baayee na boharsitani [1.0218641e-05 9.9984348e-01 2.2343750e-06 1.2656706e-04 1.7542417e-05] [0 1 0 0 0]\n",
      "Diraaman kun baayee nama jibisisaa [2.99130479e-04 1.16491085e-02 2.30580757e-04 9.87723947e-01\n",
      " 9.72241833e-05] [0 0 0 1 0]\n",
      "Yaroo isaa oso nuuf dheeressitanii gaariidha  [3.7217480e-05 6.1676134e-03 8.5741427e-05 9.9367380e-01 3.5681620e-05] [0 0 0 1 0]\n",
      "Jabadhaa hojadhaa [2.3893332e-05 9.9959320e-01 4.9412165e-06 3.7042590e-04 7.5238213e-06] [0 1 0 0 0]\n",
      "Baayee isin jaalanaa [6.11754585e-05 9.99867082e-01 5.19108880e-06 5.53877762e-05\n",
      " 1.10537685e-05] [0 1 0 0 0]\n",
      "Siritti hin hojataminee siresaa [8.7925539e-05 9.8218334e-01 3.6743953e-05 1.7668234e-02 2.3787021e-05] [0 1 0 0 0]\n",
      "Sifaan bayyee na maraartii wantii hunduu ishee iftoomina fi dhugaa dubbachudhaa [0.05930087 0.0053467  0.90769947 0.02667282 0.00098013] [0 0 1 0 0]\n",
      "Baga Nagaan dhuftan [1.7347182e-05 9.9990511e-01 1.1787862e-06 7.4289412e-05 2.1920748e-06] [0 1 0 0 0]\n",
      "Maali beksisaa nutti bayyiftan haraa [1.2913035e-04 9.8704302e-01 2.8831457e-05 1.2723124e-02 7.6059208e-05] [0 1 0 0 0]\n",
      "Baga nagaan dhuftan diraamaa kiyyoo [7.2803018e-06 2.2183859e-03 2.0800422e-05 9.9774736e-01 6.1945598e-06] [0 0 0 1 0]\n",
      "Hojii kee nyaadhuu yaa Waqqoo  [6.7902627e-05 9.9827826e-01 1.2409675e-05 1.6277572e-03 1.3667108e-05] [0 1 0 0 0]\n",
      "baga jiraattan [3.5581288e-01 6.4406413e-01 3.0190535e-05 8.7819630e-05 4.9774326e-06] [0 1 0 0 0]\n",
      "hunddi keesanu jabadha nuf jiraadha [2.2955221e-05 9.9990904e-01 1.6953555e-06 6.1711733e-05 4.5347574e-06] [0 1 0 0 0]\n",
      "Baga nagaan dhuftan [2.2175460e-05 9.9987769e-01 1.2776352e-06 9.6494063e-05 2.2466133e-06] [0 1 0 0 0]\n",
      "Yaroon keessan baayyee xiqaate maaloo itti nuuf dabalaa  [1.5674343e-05 9.9993587e-01 8.5587203e-07 4.6124500e-05 1.3831392e-06] [0 1 0 0 0]\n",
      "Jaalallaa dhugaa dha [2.5481097e-03 9.9708039e-01 5.3143543e-05 2.1361937e-04 1.0471358e-04] [0 1 0 0 0]\n",
      "Yeroon kessan heddu gabaabaa dha xiqoo foyyesaa  [1.8854107e-06 1.2319346e-04 3.1702672e-05 9.9981993e-01 2.3187156e-05] [0 0 0 1 0]\n",
      "Baga nagaan dhuftanii ijoolle kenyaa  [1.8751699e-02 9.7263926e-01 1.1718816e-03 6.5315356e-03 9.0551283e-04] [0 1 0 0 0]\n",
      "Maaf yeroo qabdan seeraan hin fayyadamtan  [3.9209794e-05 9.9955052e-01 9.0068734e-06 3.8030179e-04 2.0904752e-05] [0 1 0 0 0]\n",
      "Akkam namati tolaa nuu jiradhaa  [9.9920231e-01 6.7380158e-04 1.1189936e-04 1.1275318e-05 8.3293764e-07] [1 0 0 0 0]\n",
      "Bayee namtii toltuu  [6.0099550e-04 5.1453547e-04 6.0188058e-03 1.6257216e-03 9.9123996e-01] [0 0 0 0 1]\n",
      "Jabaadhaa  [1.18480995e-04 9.98769701e-01 2.73917958e-05 1.06549752e-03\n",
      " 1.89823932e-05] [0 1 0 0 0]\n",
      "Dheeresaa mee  [1.6507145e-02 9.5825738e-01 2.1549936e-03 2.2572082e-02 5.0837221e-04] [0 1 0 0 0]\n",
      "Malo xiqo dheeresaa baayee gabaabatee  jira [4.2463187e-05 2.5634132e-02 7.6537755e-05 9.7420824e-01 3.8549992e-05] [0 0 0 1 0]\n",
      "Baga nagaan dhuftan [0.46648088 0.13833106 0.10996114 0.2829214  0.00230553] [1 0 0 0 0]\n",
      "Baga nagaan dhuftan [9.9254251e-01 6.2134531e-03 6.7547424e-04 5.4943637e-04 1.9218975e-05] [1 0 0 0 0]\n",
      "Barsiisichi baayyee dheeressee  [3.5581288e-01 6.4406413e-01 3.0190535e-05 8.7819630e-05 4.9774326e-06] [1 0 0 0 0]\n",
      "Anaa dhufu kiyyoo koo [0.00892836 0.02029893 0.01078668 0.0075525  0.9524335 ] [1 0 0 0 0]\n",
      "Oduu hin dheeresinaa bakka sani diraamaan osoo nu dheerate oduu san gabaabsitani bareeda jadhen yaadaa  [2.8578489e-04 9.9341798e-01 8.1251899e-04 5.2861338e-03 1.9762863e-04] [0 1 0 0 0]\n",
      "Malo hadha yaroon bayyee xiqaata  [0.12388366 0.864034   0.0031909  0.00793902 0.00095247] [0 1 0 0 0]\n",
      "Beksisumaa qofaa gadii dhisuu didaan [3.3305510e-04 9.9506783e-01 3.0252739e-04 4.1378066e-03 1.5880179e-04] [0 1 0 0 0]\n",
      "Baga nagaan nuf dhuftan diraamaa kiyoo qaqaliiwan kenyaa [4.6499394e-05 4.4880453e-01 1.4191263e-04 5.5093056e-01 7.6510645e-05] [0 1 0 0 0]\n",
      "Eebbifamaa obbolootaa [5.5140617e-07 1.5426581e-04 1.4726212e-06 9.9984181e-01 1.9211309e-06] [0 0 0 1 0]\n",
      "Beeksisa dheeressaa jirtu diraamaa moo beeksisa ilaallaa fooyyessaa [9.9920481e-01 7.4675499e-04 3.4348745e-05 1.3478668e-05 7.4886731e-07] [1 0 0 0 0]\n",
      "diraamaa kiyyoo kanaa baayyeen jaaladhaa garuu osoo torbeeti yeroo lamaa nuuf ta'e gariidhaa [9.8177296e-01 1.7643310e-02 1.7129135e-04 3.9665113e-04 1.5659767e-05] [1 0 0 0 0]\n",
      "Maal gocha jirtaa akka jalqabaa sanitti natti tola hin jiru  [5.5731427e-05 4.1647363e-01 1.2935253e-04 5.8319992e-01 1.4140537e-04] [0 0 0 0 1]\n",
      " jabaadhaa ittii fufaa [6.3546039e-03 2.5725583e-05 9.9353784e-01 7.7863580e-05 3.8771836e-06] [0 0 1 0 0]\n",
      "Baga nagaan dhuftan maatii jaalalaa [9.9989367e-01 9.3591072e-05 5.1444367e-06 7.0190226e-06 6.2277110e-07] [1 0 0 0 0]\n",
      "Maaloo torbeetti lama sadii utuu gootanii maal qabaa [0.11248362 0.44844353 0.06793627 0.17109106 0.20004557] [1 0 0 0 0]\n",
      "Hojii boonssaa hojadhaa maalii kun gadii buhaa torbee torbeen [1.7340390e-05 9.9969089e-01 2.2955344e-06 2.8458881e-04 4.8610418e-06] [0 1 0 0 0]\n",
      "Dhugaan hin qalatii malee hin cittu [9.9915123e-01 7.4936054e-04 7.3251176e-05 2.5757390e-05 3.0442672e-07] [1 0 0 0 0]\n",
      "Haara yaroon keessan bayeen hiratee maalif garu hundaafu jabaadha [9.9966276e-01 2.9154570e-04 1.0485405e-05 3.4398487e-05 7.8429622e-07] [1 0 0 0 0]\n",
      "Baga nagaan dhufan [9.5634466e-01 4.3170173e-02 3.2199401e-04 1.5684834e-04 6.3906327e-06] [1 0 0 0 0]\n",
      "Firoo Nama gaarii tate diraamaa kana irratii [4.5672516e-04 2.1856342e-02 5.9463811e-04 4.6196725e-02 9.3089557e-01] [0 0 0 0 1]\n",
      "Torbee dhufu abdiidhaan isin eginaa  [0.0090375  0.9778151  0.00437896 0.00751268 0.00125578] [0 1 0 0 0]\n",
      "Baga nagaan dhuftan [2.7570146e-01 6.7679250e-01 1.3935875e-02 3.2906201e-02 6.6398096e-04] [0 1 0 0 0]\n",
      "Galaatoma  [0.38620803 0.27982187 0.1024785  0.18612932 0.04536238] [0 1 0 0 0]\n",
      "Diramaa kessaan daqiqaa digdamaa hin gutuu beekesisaa qofaa [3.7723563e-05 9.9873513e-01 7.7255972e-06 1.2155265e-03 3.9320475e-06] [0 1 0 0 0]\n",
      "Jabadhaa  [3.6959445e-05 2.6165817e-02 9.5977106e-05 9.7362918e-01 7.2119947e-05] [0 0 0 1 0]\n",
      "Baga nagaan nuuf dhuftan  jaalatamitotaa koo [9.9888903e-01 1.0000280e-03 1.8893668e-05 8.7109685e-05 4.8296270e-06] [1 0 0 0 0]\n",
      "Baayee namatti bareedu garuu sa'aatin gahaa miti ossoo nuuf dabaaltani gaariidha [4.8365835e-03 9.9279165e-01 1.7879590e-04 1.7913769e-03 4.0154796e-04] [0 1 0 0 0]\n",
      "Galatoomaa baayyee namatti tola [0.00659537 0.9059756  0.00250901 0.08278523 0.00213488] [0 1 0 0 0]\n",
      "Matii kiyyoo baayee siin jaaladhaa  [2.1401570e-06 1.7209491e-04 5.5642708e-05 9.9976140e-01 8.6663549e-06] [0 0 0 1 0]\n",
      "Baga nagaan dhuftani maatii jaalalaa  [2.0875284e-04 1.6414594e-03 1.5606851e-02 9.8232424e-01 2.1868870e-04] [0 0 1 0 0]\n",
      "Baga nagaan dhuftan diraamaa kiyyoo  [0.8778268  0.09824844 0.0109806  0.01200752 0.00093659] [1 0 0 0 0]\n",
      "Baga nagaan dhuftan maatii diraamaa kiyyoo [9.9392694e-01 5.5738110e-03 1.1773157e-04 3.5232742e-04 2.9126020e-05] [1 0 0 0 0]\n",
      "Torbee dhufu wal nu haa deebisuu  [3.7628797e-06 1.3090520e-04 3.5911249e-05 9.9980158e-01 2.7850918e-05] [0 0 0 1 0]\n",
      "Torbeeti guyyaa lamaa osoo tahe bareeda [9.9924147e-01 3.2168633e-04 1.4266428e-04 2.8748155e-04 6.6558209e-06] [1 0 0 0 0]\n",
      "Maloo Daqiqaa itii dabalaa Bayyee xiqaatee [3.8220975e-04 9.9934417e-01 1.3287089e-05 2.5483905e-04 5.4982588e-06] [0 1 0 0 0]\n",
      "Sabbontoota oromoo jabaadha. [6.9936315e-05 9.9828291e-01 1.4877356e-05 1.6198159e-03 1.2553620e-05] [0 1 0 0 0]\n",
      "Baayee kan nama bohaarsuudha [5.425586e-05 9.961267e-01 7.783583e-06 3.805460e-03 5.793222e-06] [0 1 0 0 0]\n",
      "Galatoomaa [7.7227189e-05 9.9983084e-01 3.5423586e-06 8.1777063e-05 6.5619265e-06] [0 1 0 0 0]\n",
      "Yaroo kana hundaa beksisa qofa ta'e maal taatan [3.1270534e-05 9.9819714e-01 5.1026768e-06 1.7629797e-03 3.4788734e-06] [0 1 0 0 0]\n",
      "Haarmeen siinan akkam namatti toltii [4.7141567e-04 9.9206197e-01 1.3209697e-04 7.1076131e-03 2.2690512e-04] [0 1 0 0 0]\n",
      "Baga nagaan dhuftan  [2.4248494e-02 9.7530478e-01 7.5206233e-05 3.5203423e-04 1.9562987e-05] [0 1 0 0 0]\n",
      "Sa'attin baayee xiqqaatee  [1.4770016e-05 1.1285407e-03 1.1038493e-04 9.9868959e-01 5.6803146e-05] [0 0 0 1 0]\n",
      "yaroo hundaa hawwiidhan isin eegganna isinis nu kabajani sa'ati keessan osoo hin dabarsin waanta nuuf gad dhiiftanif ulfaadha [1.1293060e-05 9.9981111e-01 1.8043133e-06 1.7054492e-04 5.1941211e-06] [0 1 0 0 0]\n",
      "jabadhaa [9.9338734e-01 6.5644961e-03 1.6361599e-05 3.0638497e-05 1.2310547e-06] [1 0 0 0 0]\n",
      "Baayee nama gamachisaa [3.3586442e-05 9.9957353e-01 2.1098078e-06 3.8751683e-04 3.2467076e-06] [0 1 0 0 0]\n",
      "Warii diraamaa kiyyoo jaalatani marti akaa koo nagenyi isinif haa baayatu [0.00067401 0.5806834  0.00159223 0.41596758 0.00108269] [0 0 0 1 0]\n",
      "Jabadhaa [1.2111576e-05 9.9986482e-01 7.5770078e-07 1.2114158e-04 1.1859530e-06] [0 1 0 0 0]\n",
      "Ittii fufaa [9.9945420e-01 4.2820891e-04 7.3359945e-05 4.1805775e-05 2.3284301e-06] [1 0 0 0 0]\n",
      "Kiyyoon seennaa oromotti [0.02105857 0.14052469 0.02487765 0.8102422  0.00329692] [0 0 0 1 0]\n",
      "Baga nagaan dhufatani guyyaa gutu isin egaa olee  [9.7448446e-06 9.9996507e-01 1.5484392e-06 1.5560548e-05 8.0427290e-06] [0 1 0 0 0]\n",
      "Galatomaa [9.9977261e-01 1.4382383e-04 5.9201240e-05 2.3105735e-05 1.1802847e-06] [1 0 0 0 0]\n",
      "Ani kanan jedhu beeksisa qofarratti hundaa'aa jirtu natti fakkaataa maaloo xiqqeessaa [3.9644838e-05 9.9975842e-01 7.4453719e-06 1.8613592e-04 8.3995892e-06] [0 1 0 0 0]\n",
      "Matii naaf ta'aa mee obbooleyyaan kiyyaa [0.7696062  0.16064674 0.04798249 0.01861857 0.00314604] [1 0 0 0 0]\n",
      "Hedduu isin jaaladhaa   [0.42730322 0.54991037 0.00261246 0.01944597 0.00072801] [1 0 0 0 0]\n",
      "Akka ko sifuu kan jaalatu jira [9.99425530e-01 2.74669990e-04 1.80710937e-04 1.13195645e-04\n",
      " 5.89130650e-06] [1 0 0 0 0]\n",
      "Diraamaa kiyyoo baga nagaa nuuf dhuftan torbee tokko ji'a tokko nattii ta'ee dhugaa  [2.9385384e-02 9.4475234e-01 2.0406640e-03 2.3096764e-02 7.2478782e-04] [0 1 0 0 0]\n",
      "Woyii obolesaa koo dharii kee akumaa yaroo ijolumatii jiraa [0.94105107 0.01723037 0.03567298 0.00467746 0.00136821] [0 1 0 0 0]\n",
      "Baayyee natti tolee dhugaa [4.8159018e-06 9.9989915e-01 5.0117279e-07 9.5139811e-05 3.9615867e-07] [0 1 0 0 0]\n",
      "Isiin Egaan turre dhuga maalif turtanii [1.2913035e-04 9.8704302e-01 2.8831457e-05 1.2723124e-02 7.6059208e-05] [0 1 0 0 0]\n",
      "Isiin Egan turre dhuga rabbii akkan isiin jaalladhu rabbiin ragaa qaba [1.3334311e-04 8.0333990e-01 2.7750572e-04 1.9597740e-01 2.7192035e-04] [0 1 0 0 0]\n",
      "Baga nagaan dhuftan matii diraamaa kiyyoo  [0.38878018 0.5059406  0.02506785 0.0732835  0.00692784] [0 0 0 0 1]\n",
      "hedduu namatii tolaa  [1.1246600e-04 9.8376495e-01 7.6731070e-05 1.5981494e-02 6.4388900e-05] [0 1 0 0 0]\n",
      "Dafaa kotaa male [9.9693680e-01 3.0283874e-03 1.6413640e-05 1.8177794e-05 1.9155608e-07] [1 0 0 0 0]\n",
      "Akka yaada kotti waan baayee sireesuu qabdu [3.2489101e-05 9.9887651e-01 5.0566819e-06 1.0773698e-03 8.6170667e-06] [0 1 0 0 0]\n",
      "Akkam namatti tolaa [1.0713717e-03 9.9821174e-01 1.0781154e-04 5.8044575e-04 2.8624592e-05] [0 1 0 0 0]\n",
      "Bagaa nagaan dhuftaan anatuu tokkoffaa ilaalee [3.3856759e-05 9.9963892e-01 2.8271379e-06 3.1892734e-04 5.5327127e-06] [0 1 0 0 0]\n",
      "Baga nagaan dhuftan isin egaan turre [9.9613672e-01 8.3005888e-04 1.0246033e-03 1.6290472e-03 3.7961698e-04] [1 0 0 0 0]\n",
      "Haadhallee tatuu anaatu duraa laale  [0.00273884 0.71996254 0.00621744 0.26112732 0.0099539 ] [0 0 0 1 0]\n",
      "Anaa dhufu  [9.9454135e-01 5.3137713e-03 1.8517316e-05 7.5686614e-05 5.0785296e-05] [1 0 0 0 0]\n",
      "wagaa dheeraa jiradhaa [0.00338849 0.6805913  0.00187246 0.31254292 0.0016049 ] [0 1 0 0 0]\n",
      "Anaa dhufu issin egaa jirra  [7.4424950e-04 9.7034383e-01 3.4204344e-04 2.8326841e-02 2.4302138e-04] [0 1 0 0 0]\n",
      "Dursa kan ilaale ana [1.1001398e-03 9.8924810e-01 2.5880322e-04 6.8893819e-03 2.5036165e-03] [0 1 0 0 0]\n",
      "Baga nagaan dhuftan [2.0786456e-04 2.9545426e-03 7.2128960e-04 9.9592894e-01 1.8735886e-04] [0 0 0 1 0]\n",
      "Jalqabaa natu ilalee [4.3425971e-05 9.9968696e-01 2.6339794e-06 2.6491986e-04 2.1355327e-06] [0 1 0 0 0]\n",
      "Bagaa nagaan dhuftan isin egaan jira  [0.00317174 0.9619511  0.00146897 0.02889881 0.00450939] [0 0 0 1 0]\n",
      "Harra isin eegaan turre garu sodomi tokkoffaa hin arganne maali [3.8703176e-05 8.8274630e-04 1.9540731e-03 1.0488627e-03 9.9607557e-01] [0 0 0 0 1]\n",
      "Dubiin jabbatte assirratti [9.9941301e-01 2.7179089e-04 8.6668515e-05 2.1787443e-04 1.0672600e-05] [1 0 0 0 0]\n",
      "Gidduutti addaan kutuu jirtan maalif ta'ee [3.0155783e-05 9.9974257e-01 4.3084565e-06 1.9778579e-04 2.5189949e-05] [0 1 0 0 0]\n",
      "Maloo nuraa badanii jirtan nuuf kotaa saganta itti anuu egachaa jiraa [9.8432618e-01 7.1345191e-03 1.7743310e-03 6.6093514e-03 1.5556569e-04] [1 0 0 0 0]\n",
      "Diraamaa kana hanga  1000 itti fufaa [9.1803581e-01 8.1754684e-02 6.2279578e-05 1.4200468e-04 5.2215469e-06] [1 0 0 0 0]\n",
      "Kiyyoo kutaa sodoomii tokkoffaa maaf haambifatan [7.5309396e-02 1.2582171e-03 9.2325336e-01 1.6983737e-04 9.2585387e-06] [0 0 1 0 0]\n",
      "Kiyyoo hara hin jiru moo [9.9926847e-01 5.0033891e-04 1.6985730e-04 5.3710050e-05 7.6415345e-06] [1 0 0 0 0]\n",
      "Diraamaa kiyyoo Baayee sin jaalanaa dhugaa iti fufaa  [9.9974316e-01 2.3006099e-04 1.9874538e-05 6.7230239e-06 1.6624846e-07] [1 0 0 0 0]\n"
     ]
    },
    {
     "name": "stdout",
     "output_type": "stream",
     "text": [
      "Baayee namatii tolaa [0.01617218 0.13698493 0.02654001 0.8137816  0.00652137] [0 1 0 0 0]\n",
      "Akkatti nama Arsanii garu danda'u dhaa [9.9992156e-01 7.1230366e-05 5.1033380e-06 2.0335908e-06 5.4918630e-08] [1 0 0 0 0]\n",
      "Diraamaan kiyyoo baayee  baredaa akumati itti haa fufu [9.9894518e-01 9.1624825e-04 6.7093511e-05 6.7980589e-05 3.6258541e-06] [1 0 0 0 0]\n",
      "Ani dhuma diraamaa kana ilaluf jarjareraa  [1.6895863e-05 9.9991858e-01 1.3830045e-06 6.0414615e-05 2.7574295e-06] [0 1 0 0 0]\n",
      "minxaafiin kun maali isheen addee meeluu [3.1025773e-03 9.9384695e-01 5.5767410e-04 2.2858900e-03 2.0684628e-04] [0 1 0 0 0]\n",
      "Monetiin garaa na nyaatii  [4.6169571e-05 1.7476130e-03 7.4167689e-04 9.9737036e-01 9.4217903e-05] [0 0 0 1 0]\n",
      "Maattii diraamaa kiyyoo baga nagaan dhuftan [7.9387746e-06 9.9975473e-01 1.1838754e-06 2.3308967e-04 2.9426935e-06] [0 1 0 0 0]\n"
     ]
    },
    {
     "data": {
      "text/plain": [
       "[None,\n",
       " None,\n",
       " None,\n",
       " None,\n",
       " None,\n",
       " None,\n",
       " None,\n",
       " None,\n",
       " None,\n",
       " None,\n",
       " None,\n",
       " None,\n",
       " None,\n",
       " None,\n",
       " None,\n",
       " None,\n",
       " None,\n",
       " None,\n",
       " None,\n",
       " None,\n",
       " None,\n",
       " None,\n",
       " None,\n",
       " None,\n",
       " None,\n",
       " None,\n",
       " None,\n",
       " None,\n",
       " None,\n",
       " None,\n",
       " None,\n",
       " None,\n",
       " None,\n",
       " None,\n",
       " None,\n",
       " None,\n",
       " None,\n",
       " None,\n",
       " None,\n",
       " None,\n",
       " None,\n",
       " None,\n",
       " None,\n",
       " None,\n",
       " None,\n",
       " None,\n",
       " None,\n",
       " None,\n",
       " None,\n",
       " None,\n",
       " None,\n",
       " None,\n",
       " None,\n",
       " None,\n",
       " None,\n",
       " None,\n",
       " None,\n",
       " None,\n",
       " None,\n",
       " None,\n",
       " None,\n",
       " None,\n",
       " None,\n",
       " None,\n",
       " None,\n",
       " None,\n",
       " None,\n",
       " None,\n",
       " None,\n",
       " None,\n",
       " None,\n",
       " None,\n",
       " None,\n",
       " None,\n",
       " None,\n",
       " None,\n",
       " None,\n",
       " None,\n",
       " None,\n",
       " None,\n",
       " None,\n",
       " None,\n",
       " None,\n",
       " None,\n",
       " None,\n",
       " None,\n",
       " None,\n",
       " None,\n",
       " None,\n",
       " None,\n",
       " None,\n",
       " None,\n",
       " None,\n",
       " None,\n",
       " None,\n",
       " None,\n",
       " None,\n",
       " None,\n",
       " None,\n",
       " None,\n",
       " None,\n",
       " None,\n",
       " None,\n",
       " None,\n",
       " None,\n",
       " None,\n",
       " None,\n",
       " None,\n",
       " None,\n",
       " None,\n",
       " None,\n",
       " None,\n",
       " None,\n",
       " None,\n",
       " None,\n",
       " None,\n",
       " None,\n",
       " None,\n",
       " None,\n",
       " None,\n",
       " None,\n",
       " None,\n",
       " None,\n",
       " None,\n",
       " None,\n",
       " None,\n",
       " None,\n",
       " None,\n",
       " None,\n",
       " None,\n",
       " None,\n",
       " None,\n",
       " None,\n",
       " None,\n",
       " None,\n",
       " None,\n",
       " None,\n",
       " None,\n",
       " None,\n",
       " None,\n",
       " None,\n",
       " None,\n",
       " None,\n",
       " None,\n",
       " None,\n",
       " None,\n",
       " None,\n",
       " None,\n",
       " None,\n",
       " None,\n",
       " None,\n",
       " None,\n",
       " None,\n",
       " None,\n",
       " None,\n",
       " None,\n",
       " None,\n",
       " None,\n",
       " None,\n",
       " None,\n",
       " None,\n",
       " None,\n",
       " None,\n",
       " None,\n",
       " None,\n",
       " None,\n",
       " None,\n",
       " None,\n",
       " None,\n",
       " None,\n",
       " None,\n",
       " None,\n",
       " None,\n",
       " None,\n",
       " None,\n",
       " None,\n",
       " None,\n",
       " None,\n",
       " None,\n",
       " None,\n",
       " None,\n",
       " None,\n",
       " None,\n",
       " None,\n",
       " None,\n",
       " None,\n",
       " None,\n",
       " None,\n",
       " None,\n",
       " None,\n",
       " None,\n",
       " None,\n",
       " None,\n",
       " None,\n",
       " None,\n",
       " None,\n",
       " None,\n",
       " None,\n",
       " None,\n",
       " None,\n",
       " None,\n",
       " None,\n",
       " None,\n",
       " None,\n",
       " None,\n",
       " None,\n",
       " None,\n",
       " None,\n",
       " None,\n",
       " None,\n",
       " None,\n",
       " None,\n",
       " None,\n",
       " None,\n",
       " None,\n",
       " None,\n",
       " None,\n",
       " None,\n",
       " None,\n",
       " None,\n",
       " None,\n",
       " None,\n",
       " None,\n",
       " None,\n",
       " None,\n",
       " None,\n",
       " None,\n",
       " None,\n",
       " None,\n",
       " None,\n",
       " None,\n",
       " None,\n",
       " None,\n",
       " None,\n",
       " None,\n",
       " None,\n",
       " None,\n",
       " None,\n",
       " None,\n",
       " None,\n",
       " None,\n",
       " None,\n",
       " None,\n",
       " None,\n",
       " None,\n",
       " None,\n",
       " None,\n",
       " None,\n",
       " None,\n",
       " None,\n",
       " None,\n",
       " None,\n",
       " None,\n",
       " None,\n",
       " None,\n",
       " None,\n",
       " None,\n",
       " None,\n",
       " None,\n",
       " None,\n",
       " None,\n",
       " None,\n",
       " None,\n",
       " None,\n",
       " None,\n",
       " None,\n",
       " None,\n",
       " None,\n",
       " None,\n",
       " None,\n",
       " None,\n",
       " None,\n",
       " None,\n",
       " None,\n",
       " None,\n",
       " None,\n",
       " None,\n",
       " None,\n",
       " None,\n",
       " None,\n",
       " None,\n",
       " None,\n",
       " None,\n",
       " None,\n",
       " None,\n",
       " None,\n",
       " None,\n",
       " None,\n",
       " None,\n",
       " None,\n",
       " None,\n",
       " None,\n",
       " None,\n",
       " None,\n",
       " None,\n",
       " None,\n",
       " None,\n",
       " None,\n",
       " None,\n",
       " None,\n",
       " None,\n",
       " None,\n",
       " None,\n",
       " None,\n",
       " None,\n",
       " None,\n",
       " None,\n",
       " None,\n",
       " None,\n",
       " None,\n",
       " None,\n",
       " None,\n",
       " None,\n",
       " None,\n",
       " None,\n",
       " None,\n",
       " None,\n",
       " None,\n",
       " None,\n",
       " None,\n",
       " None,\n",
       " None,\n",
       " None,\n",
       " None,\n",
       " None,\n",
       " None,\n",
       " None,\n",
       " None,\n",
       " None,\n",
       " None,\n",
       " None,\n",
       " None,\n",
       " None,\n",
       " None,\n",
       " None,\n",
       " None,\n",
       " None,\n",
       " None,\n",
       " None,\n",
       " None,\n",
       " None,\n",
       " None,\n",
       " None,\n",
       " None,\n",
       " None,\n",
       " None,\n",
       " None,\n",
       " None,\n",
       " None,\n",
       " None,\n",
       " None,\n",
       " None,\n",
       " None,\n",
       " None,\n",
       " None,\n",
       " None,\n",
       " None,\n",
       " None,\n",
       " None,\n",
       " None,\n",
       " None,\n",
       " None,\n",
       " None,\n",
       " None,\n",
       " None,\n",
       " None,\n",
       " None,\n",
       " None,\n",
       " None,\n",
       " None,\n",
       " None,\n",
       " None,\n",
       " None,\n",
       " None,\n",
       " None,\n",
       " None,\n",
       " None,\n",
       " None,\n",
       " None,\n",
       " None,\n",
       " None,\n",
       " None,\n",
       " None,\n",
       " None,\n",
       " None,\n",
       " None,\n",
       " None,\n",
       " None,\n",
       " None,\n",
       " None,\n",
       " None,\n",
       " None,\n",
       " None,\n",
       " None,\n",
       " None,\n",
       " None,\n",
       " None,\n",
       " None,\n",
       " None,\n",
       " None]"
      ]
     },
     "execution_count": 20,
     "metadata": {},
     "output_type": "execute_result"
    }
   ],
   "source": [
    "[print (data['Text'][i], predictions[i], y_test[i]) for i in range(0, 400)]"
   ]
  },
  {
   "cell_type": "code",
   "execution_count": 21,
   "metadata": {},
   "outputs": [
    {
     "data": {
      "image/png": "[encoded data removed]",
      "text/plain": [
       "<Figure size 432x288 with 1 Axes>"
      ]
     },
     "metadata": {
      "needs_background": "light"
     },
     "output_type": "display_data"
    },
    {
     "data": {
      "image/png": "[encoded data removed]",
      "text/plain": [
       "<Figure size 432x288 with 1 Axes>"
      ]
     },
     "metadata": {
      "needs_background": "light"
     },
     "output_type": "display_data"
    }
   ],
   "source": [
    "def plot_graphs(history, string):\n",
    "    plt.plot(history.history[string])\n",
    "    plt.plot(history.history['val_'+string])\n",
    "    plt.xlabel(\"epochs\")\n",
    "    plt.ylabel(string)\n",
    "    plt.legend([string, 'val_'+string])\n",
    "    plt.show()\n",
    "plot_graphs(history, \"accuracy\")\n",
    "plot_graphs(history, \"loss\")"
   ]
  },
  {
   "cell_type": "code",
   "execution_count": 22,
   "metadata": {},
   "outputs": [],
   "source": [
    "cm=metrics.confusion_matrix(y_test.argmax(axis=1), predictions.argmax(axis=1))"
   ]
  },
  {
   "cell_type": "code",
   "execution_count": 23,
   "metadata": {},
   "outputs": [],
   "source": [
    "class_names = data.Intent"
   ]
  },
  {
   "cell_type": "code",
   "execution_count": 24,
   "metadata": {},
   "outputs": [],
   "source": [
    "FP = cm.sum(axis=0) - np.diag(cm)  \n",
    "FN = cm.sum(axis=1) - np.diag(cm)\n",
    "TP = np.diag(cm)\n",
    "TN = cm.sum() - (FP + FN + TP)"
   ]
  },
  {
   "cell_type": "code",
   "execution_count": 25,
   "metadata": {},
   "outputs": [],
   "source": [
    "FP = FP.astype(float)\n",
    "FN = FN.astype(float)\n",
    "TP = TP.astype(float)\n",
    "TN = TN.astype(float)"
   ]
  },
  {
   "cell_type": "code",
   "execution_count": 26,
   "metadata": {},
   "outputs": [
    {
     "name": "stdout",
     "output_type": "stream",
     "text": [
      "[27. 55. 11. 38. 13.]\n",
      "[35. 46. 16. 33. 14.]\n",
      "[314. 383.  66. 114.  36.]\n",
      "[681. 573. 964. 872. 994.]\n"
     ]
    }
   ],
   "source": [
    "print(FP)\n",
    "print(FN)\n",
    "print(TP)\n",
    "print(TN)"
   ]
  },
  {
   "cell_type": "code",
   "execution_count": 27,
   "metadata": {},
   "outputs": [],
   "source": [
    "precision = TP/(TP+FP)\n",
    "recall = TP/(TP+FN)\n",
    "f1_score = 2*precision*recall/(precision+recall)"
   ]
  },
  {
   "cell_type": "code",
   "execution_count": 28,
   "metadata": {},
   "outputs": [
    {
     "name": "stdout",
     "output_type": "stream",
     "text": [
      "precision [0.92082111 0.87442922 0.85714286 0.75       0.73469388]\n",
      "recall   [0.89971347 0.89277389 0.80487805 0.7755102  0.72      ]\n",
      "f1_score [0.91014493 0.88350634 0.83018868 0.76254181 0.72727273]\n"
     ]
    }
   ],
   "source": [
    "print(\"precision\",precision)\n",
    "print(\"recall  \", recall)\n",
    "print(\"f1_score\",f1_score)"
   ]
  },
  {
   "cell_type": "code",
   "execution_count": 29,
   "metadata": {},
   "outputs": [],
   "source": [
    "def accuracy(confusion_matrix):\n",
    "    diagonal_sum = confusion_matrix.trace()\n",
    "    sum_of_all_elements = confusion_matrix.sum()\n",
    "    return diagonal_sum / sum_of_all_elements "
   ]
  },
  {
   "cell_type": "code",
   "execution_count": 30,
   "metadata": {},
   "outputs": [
    {
     "data": {
      "text/plain": [
       "0.8637653736991485"
      ]
     },
     "execution_count": 30,
     "metadata": {},
     "output_type": "execute_result"
    }
   ],
   "source": [
    "accuracy(cm)"
   ]
  },
  {
   "cell_type": "code",
   "execution_count": 31,
   "metadata": {},
   "outputs": [],
   "source": [
    "intent_small = [\"Positive\", \"Negative\", \"Suggestion\", \"Question\", \"Wish \"]"
   ]
  },
  {
   "cell_type": "code",
   "execution_count": 32,
   "metadata": {},
   "outputs": [],
   "source": [
    "import matplotlib.pyplot as plt\n",
    "def plot_confusion_matrix(cm, classes,\n",
    "                        normalize=False,\n",
    "                        title='Confusion matrix',\n",
    "                        cmap=plt.cm.Blues):\n",
    "    \"\"\"\n",
    "    This function prints and plots the confusion matrix.\n",
    "    Normalization can be applied by setting `normalize=True`.\n",
    "    \"\"\"\n",
    "    plt.imshow(cm, interpolation='nearest', cmap=cmap)\n",
    "    plt.title(title)\n",
    "    plt.colorbar()\n",
    "    tick_marks = np.arange(len(classes))\n",
    "    plt.xticks(tick_marks, classes, rotation=90)\n",
    "    plt.yticks(tick_marks, classes)\n",
    "\n",
    "    if normalize:\n",
    "        cm = cm.astype('float') / cm.sum(axis=1)[:, np.newaxis]\n",
    "        print(\"Normalized confusion matrix\")\n",
    "    else:\n",
    "        print('Confusion matrix, without normalization')\n",
    "\n",
    "    #print(cm)\n",
    "\n",
    "    plt.ylabel('True label')\n",
    "    plt.xlabel('Predicted label')"
   ]
  },
  {
   "cell_type": "code",
   "execution_count": 33,
   "metadata": {},
   "outputs": [
    {
     "name": "stdout",
     "output_type": "stream",
     "text": [
      "34/34 [==============================] - 13s 366ms/step\n",
      "Normalized confusion matrix\n"
     ]
    },
    {
     "data": {
      "image/png": "[encoded data removed]",
      "text/plain": [
       "<Figure size 432x288 with 2 Axes>"
      ]
     },
     "metadata": {
      "needs_background": "light"
     },
     "output_type": "display_data"
    }
   ],
   "source": [
    "y_pred = model.predict(x_test).argmax(axis=-1)\n",
    "matrix = metrics.confusion_matrix(y_test.argmax(axis=-1), y_pred)\n",
    "plot_confusion_matrix(cm=matrix, normalize=True, classes=intent_small, title='Confusion Matrix')"
   ]
  },
  {
   "cell_type": "code",
   "execution_count": null,
   "metadata": {},
   "outputs": [],
   "source": []
  },
  {
   "cell_type": "code",
   "execution_count": null,
   "metadata": {},
   "outputs": [],
   "source": []
  },
  {
   "cell_type": "code",
   "execution_count": null,
   "metadata": {},
   "outputs": [],
   "source": []
  },
  {
   "cell_type": "code",
   "execution_count": null,
   "metadata": {},
   "outputs": [],
   "source": []
  },
  {
   "cell_type": "code",
   "execution_count": null,
   "metadata": {},
   "outputs": [],
   "source": []
  }
 ],
 "metadata": {
  "kernelspec": {
   "display_name": "Python 3 (ipykernel)",
   "language": "python",
   "name": "python3"
  },
  "language_info": {
   "codemirror_mode": {
    "name": "ipython",
    "version": 3
   },
   "file_extension": ".py",
   "mimetype": "text/x-python",
   "name": "python",
   "nbconvert_exporter": "python",
   "pygments_lexer": "ipython3",
   "version": "3.11.5"
  }
 },
 "nbformat": 4,
 "nbformat_minor": 4
}
