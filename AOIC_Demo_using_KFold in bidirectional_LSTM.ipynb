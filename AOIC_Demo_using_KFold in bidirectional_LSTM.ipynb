{
 "cells": [
  {
   "cell_type": "markdown",
   "metadata": {},
   "source": [
    "# importing important librarys "
   ]
  },
  {
   "cell_type": "code",
   "execution_count": 1,
   "metadata": {},
   "outputs": [],
   "source": [
    "import numpy as np\n",
    "import pandas as pd\n",
    "from sklearn.model_selection import train_test_split\n",
    "import matplotlib.pyplot as plt\n",
    "from keras.models import Sequential,load_model\n",
    "from keras.layers import Dense,LSTM,Bidirectional,Embedding,Dropout\n",
    "from keras.preprocessing.text import Tokenizer\n",
    "from tensorflow.keras.preprocessing import sequence\n",
    "from tensorflow.keras.preprocessing.sequence import pad_sequences\n",
    "from sklearn import metrics\n",
    "from sklearn.metrics import accuracy_score, confusion_matrix, precision_recall_fscore_support\n",
    "import seaborn as sns\n",
    "import re\n",
    "from sklearn.model_selection import KFold"
   ]
  },
  {
   "cell_type": "code",
   "execution_count": 2,
   "metadata": {},
   "outputs": [
    {
     "name": "stdout",
     "output_type": "stream",
     "text": [
      "(10561, 2)\n"
     ]
    },
    {
     "data": {
      "text/html": [
       "<div>\n",
       "<style scoped>\n",
       "    .dataframe tbody tr th:only-of-type {\n",
       "        vertical-align: middle;\n",
       "    }\n",
       "\n",
       "    .dataframe tbody tr th {\n",
       "        vertical-align: top;\n",
       "    }\n",
       "\n",
       "    .dataframe thead th {\n",
       "        text-align: right;\n",
       "    }\n",
       "</style>\n",
       "<table border=\"1\" class=\"dataframe\">\n",
       "  <thead>\n",
       "    <tr style=\"text-align: right;\">\n",
       "      <th></th>\n",
       "      <th>Text</th>\n",
       "      <th>Intent</th>\n",
       "    </tr>\n",
       "  </thead>\n",
       "  <tbody>\n",
       "    <tr>\n",
       "      <th>0</th>\n",
       "      <td>Kiyyoo dirama oso  eguti jirun na darbe tari a...</td>\n",
       "      <td>Question</td>\n",
       "    </tr>\n",
       "    <tr>\n",
       "      <th>1</th>\n",
       "      <td>Meeti ree kuta 28ffaa</td>\n",
       "      <td>Question</td>\n",
       "    </tr>\n",
       "    <tr>\n",
       "      <th>2</th>\n",
       "      <td>Kutaa digdami sadetaffa isiin egee dadhabee.</td>\n",
       "      <td>Negative</td>\n",
       "    </tr>\n",
       "    <tr>\n",
       "      <th>3</th>\n",
       "      <td>Kutaa digdami sadetaffaa fiidagaa maali nuuraa...</td>\n",
       "      <td>Negative</td>\n",
       "    </tr>\n",
       "    <tr>\n",
       "      <th>4</th>\n",
       "      <td>Nuuf jabbadhakaa warii Akka kotti kiyyoo jaala...</td>\n",
       "      <td>Positive</td>\n",
       "    </tr>\n",
       "  </tbody>\n",
       "</table>\n",
       "</div>"
      ],
      "text/plain": [
       "                                                Text     Intent\n",
       "0  Kiyyoo dirama oso  eguti jirun na darbe tari a...  Question \n",
       "1                              Meeti ree kuta 28ffaa  Question \n",
       "2       Kutaa digdami sadetaffa isiin egee dadhabee.   Negative\n",
       "3  Kutaa digdami sadetaffaa fiidagaa maali nuuraa...   Negative\n",
       "4  Nuuf jabbadhakaa warii Akka kotti kiyyoo jaala...   Positive"
      ]
     },
     "execution_count": 2,
     "metadata": {},
     "output_type": "execute_result"
    }
   ],
   "source": [
    "data=pd.read_csv('intent1-corrected.csv',names=['Text','Intent'],encoding=\"utf-8\")\n",
    "data.sample(frac=1).reset_index(drop=True)\n",
    "print(data.shape)\n",
    "data.head()"
   ]
  },
  {
   "cell_type": "code",
   "execution_count": 3,
   "metadata": {},
   "outputs": [
    {
     "data": {
      "text/plain": [
       "<AxesSubplot:xlabel='Intent', ylabel='count'>"
      ]
     },
     "execution_count": 3,
     "metadata": {},
     "output_type": "execute_result"
    },
    {
     "data": {
      "image/png": "[encoded data removed]",
      "text/plain": [
       "<Figure size 432x288 with 1 Axes>"
      ]
     },
     "metadata": {
      "needs_background": "light"
     },
     "output_type": "display_data"
    }
   ],
   "source": [
    "sns.countplot(x='Intent', data=data)"
   ]
  },
  {
   "cell_type": "code",
   "execution_count": 4,
   "metadata": {},
   "outputs": [
    {
     "data": {
      "text/plain": [
       "Positive       4320\n",
       "Negative       3271\n",
       "Suggestion     1686\n",
       "Question        736\n",
       "Wish            546\n",
       "Name: Intent, dtype: int64"
      ]
     },
     "execution_count": 4,
     "metadata": {},
     "output_type": "execute_result"
    }
   ],
   "source": [
    "data[\"Intent\"].value_counts()\n",
    "#print(len('Gosa_miira'))\n",
    "#print(len('jechoota'))"
   ]
  },
  {
   "cell_type": "markdown",
   "metadata": {},
   "source": [
    "# data preprocessing  "
   ]
  },
  {
   "cell_type": "code",
   "execution_count": 5,
   "metadata": {},
   "outputs": [],
   "source": [
    "def preprocess_text(sen):\n",
    "    # Removing html tags\n",
    "    sentence = remove_tags(sen)\n",
    "    # Remove punctuations and numbers\n",
    "    sentence = re.sub('[^a-zA-Z]', ' ', sentence)\n",
    "    # Single character removal\n",
    "    sentence = re.sub(r\"\\s+[a-zA-Z]\\s+\", ' ', sentence)\n",
    "    # Removing multiple spaces\n",
    "    sentence = re.sub(r'\\s+', ' ', sentence)\n",
    "    sentence = sen.lower()\n",
    "    sentence = re.sub(r'wo*w','wow', sentence)\n",
    "    sentence = re.sub(r'uu*f','uff', sentence)\n",
    "    return sentence\n",
    "TAG_RE = re.compile(r'<[^>]+>')\n",
    "def remove_tags(Text):\n",
    "    return TAG_RE.sub('', Text)"
   ]
  },
  {
   "cell_type": "code",
   "execution_count": 6,
   "metadata": {},
   "outputs": [],
   "source": [
    "def remove_stopwords(review_words):\n",
    "    with open('stopwords.txt')as stopfile:\n",
    "        stopwords=stopfile.read()\n",
    "        list=stopwords.split()\n",
    "        print(list)\n",
    "        with open(\"intent1.csv\") as workfile:\n",
    "            read_data=workfile.read()\n",
    "            data=read_data.split()\n",
    "            print(data)\n",
    "            for word1 in list:\n",
    "                for word2 in data:\n",
    "                    if word1==word2:\n",
    "                        return data.remove(list)\n",
    "                        print(remove_stopwords)"
   ]
  },
  {
   "cell_type": "code",
   "execution_count": 7,
   "metadata": {},
   "outputs": [
    {
     "data": {
      "text/plain": [
       "0        kiyyoo dirama oso  eguti jirun na darbe tari a...\n",
       "1                                    meeti ree kuta 28ffaa\n",
       "2             kutaa digdami sadetaffa isiin egee dadhabee.\n",
       "3        kutaa digdami sadetaffaa fiidagaa maali nuuraa...\n",
       "4        nuuf jabbadhakaa warii akka kotti kiyyoo jaala...\n",
       "                               ...                        \n",
       "10556    isheenis namoota dogoggoraa waliin lafa dogogg...\n",
       "10557    vidiyichis battalumatti qoodamuun marsariitiiw...\n",
       "10558    gochiwwan qaamaa warraabbicha irratti ture bah...\n",
       "10559              jechi gurbbichaa altokkicha dhagahame. \n",
       "10560                           viidiyoo waraabaa jirtaa? \n",
       "Name: Text, Length: 10561, dtype: object"
      ]
     },
     "execution_count": 7,
     "metadata": {},
     "output_type": "execute_result"
    }
   ],
   "source": [
    "data['Text'].apply(lambda x: x.lower())"
   ]
  },
  {
   "cell_type": "markdown",
   "metadata": {},
   "source": [
    "# Feature Extraction"
   ]
  },
  {
   "cell_type": "code",
   "execution_count": 8,
   "metadata": {},
   "outputs": [
    {
     "data": {
      "text/plain": [
       "array([[   0,    0,    0,    0,    0,    0,    0,    0,    0,    0,    0,\n",
       "           0,    0,    0,    0,    0,    0,    0,    0,    0,    0,    0,\n",
       "           0,    0,    0,    0,  200, 3022, 3023,   37,  193,  140,  325],\n",
       "       [   0,    0,    0,    0,    0,    0,    0,    0,    0,    0,    0,\n",
       "           0,    0,    0,    0,    0,    0,    0,    0,    0,    0,    0,\n",
       "           0,    0,    0,    0,    0,    0,    0,    0,    0,  439, 3332],\n",
       "       [   0,    0,    0,    0,    0,    0,    0,    0,    0,    0,    0,\n",
       "           0,    0,    0,    0,    0,    0,    0,    0,    0,    0,    0,\n",
       "           0,    0,    0,    0,    0,    0,    0,  162, 3333,  326,  423],\n",
       "       [   0,    0,    0,    0,    0,    0,    0,    0,    0,    0,    0,\n",
       "           0,    0,    0,    0,    0,    0,    0,    0,    0,    0,    0,\n",
       "           0,    0,    0,    0,    0,    0,  162, 3333,  157, 3113,   47],\n",
       "       [   0,    0,    0,    0,    0,    0,    0,    0,    0,    0,    0,\n",
       "           0,    0,    0,    0,    0,    0,    0,    0,    0,    0,    0,\n",
       "           0,    0,    0,    0,    0,   79, 3334,    4, 3114,  200, 3335]])"
      ]
     },
     "execution_count": 8,
     "metadata": {},
     "output_type": "execute_result"
    }
   ],
   "source": [
    "tokenizer=Tokenizer(num_words=4000,split=\" \")\n",
    "tokenizer.fit_on_texts(data['Text'].values)\n",
    "x=tokenizer.texts_to_sequences(data['Text'].values)\n",
    "x=pad_sequences(x)\n",
    "x[:5]"
   ]
  },
  {
   "cell_type": "code",
   "execution_count": 9,
   "metadata": {},
   "outputs": [
    {
     "name": "stdout",
     "output_type": "stream",
     "text": [
      "Question  [0 0 1 0 0]\n",
      "Question  [0 0 1 0 0]\n",
      "Negative [1 0 0 0 0]\n",
      "Negative [1 0 0 0 0]\n",
      "Positive [0 1 0 0 0]\n"
     ]
    },
    {
     "data": {
      "text/plain": [
       "[None, None, None, None, None]"
      ]
     },
     "execution_count": 9,
     "metadata": {},
     "output_type": "execute_result"
    }
   ],
   "source": [
    "y=pd.get_dummies(data['Intent']).values\n",
    "[print(data['Intent'][i],y[i]) for i in range(0,5)]"
   ]
  },
  {
   "cell_type": "code",
   "execution_count": 11,
   "metadata": {},
   "outputs": [],
   "source": [
    "num_folds = 5\n",
    "acc_per_fold = []\n",
    "loss_per_fold = []\n",
    "kfold = KFold(n_splits=num_folds, shuffle=True)"
   ]
  },
  {
   "cell_type": "code",
   "execution_count": 21,
   "metadata": {},
   "outputs": [
    {
     "name": "stdout",
     "output_type": "stream",
     "text": [
      "------------------------------------------------------------------------\n",
      "Training for fold 1 ...\n",
      "Epoch 1/15\n",
      "66/66 - 39s - loss: 1.3937 - accuracy: 0.4068 - val_loss: 1.3316 - val_accuracy: 0.4103 - 39s/epoch - 597ms/step\n",
      "Epoch 2/15\n",
      "66/66 - 28s - loss: 1.2130 - accuracy: 0.5137 - val_loss: 1.0685 - val_accuracy: 0.6034 - 28s/epoch - 430ms/step\n",
      "Epoch 3/15\n",
      "66/66 - 27s - loss: 0.9435 - accuracy: 0.6335 - val_loss: 0.8927 - val_accuracy: 0.6682 - 27s/epoch - 406ms/step\n",
      "Epoch 4/15\n",
      "66/66 - 27s - loss: 0.7602 - accuracy: 0.7247 - val_loss: 0.7562 - val_accuracy: 0.7312 - 27s/epoch - 415ms/step\n",
      "Epoch 5/15\n",
      "66/66 - 26s - loss: 0.5931 - accuracy: 0.7892 - val_loss: 0.6682 - val_accuracy: 0.7719 - 26s/epoch - 401ms/step\n",
      "Epoch 6/15\n",
      "66/66 - 26s - loss: 0.5085 - accuracy: 0.8190 - val_loss: 0.5892 - val_accuracy: 0.8012 - 26s/epoch - 391ms/step\n",
      "Epoch 7/15\n",
      "66/66 - 23s - loss: 0.4401 - accuracy: 0.8421 - val_loss: 0.5451 - val_accuracy: 0.8112 - 23s/epoch - 342ms/step\n",
      "Epoch 8/15\n",
      "66/66 - 26s - loss: 0.3985 - accuracy: 0.8565 - val_loss: 0.5258 - val_accuracy: 0.8140 - 26s/epoch - 401ms/step\n",
      "Epoch 9/15\n",
      "66/66 - 26s - loss: 0.3717 - accuracy: 0.8673 - val_loss: 0.5122 - val_accuracy: 0.8183 - 26s/epoch - 398ms/step\n",
      "Epoch 10/15\n",
      "66/66 - 26s - loss: 0.3385 - accuracy: 0.8755 - val_loss: 0.4994 - val_accuracy: 0.8367 - 26s/epoch - 391ms/step\n",
      "Epoch 11/15\n",
      "66/66 - 27s - loss: 0.3195 - accuracy: 0.8847 - val_loss: 0.4892 - val_accuracy: 0.8334 - 27s/epoch - 409ms/step\n",
      "Epoch 12/15\n",
      "66/66 - 27s - loss: 0.3044 - accuracy: 0.8891 - val_loss: 0.4676 - val_accuracy: 0.8434 - 27s/epoch - 414ms/step\n",
      "Epoch 13/15\n",
      "66/66 - 27s - loss: 0.2889 - accuracy: 0.8897 - val_loss: 0.4769 - val_accuracy: 0.8405 - 27s/epoch - 402ms/step\n",
      "Epoch 14/15\n",
      "66/66 - 28s - loss: 0.2847 - accuracy: 0.8904 - val_loss: 0.4951 - val_accuracy: 0.8348 - 28s/epoch - 431ms/step\n",
      "Epoch 15/15\n",
      "66/66 - 27s - loss: 0.2783 - accuracy: 0.8958 - val_loss: 0.4650 - val_accuracy: 0.8504 - 27s/epoch - 406ms/step\n",
      "Score for fold 1: loss of 0.46497640013694763; accuracy of 85.04496216773987%\n",
      "------------------------------------------------------------------------\n",
      "Score per fold\n",
      "------------------------------------------------------------------------\n",
      "> Fold 1 - Loss: 0.5012109875679016 - Accuracy: 84.80833172798157%\n",
      "------------------------------------------------------------------------\n",
      "> Fold 2 - Loss: 0.4337098002433777 - Accuracy: 84.51704382896423%\n",
      "------------------------------------------------------------------------\n",
      "> Fold 3 - Loss: 0.50132155418396 - Accuracy: 83.47538113594055%\n",
      "------------------------------------------------------------------------\n",
      "> Fold 4 - Loss: 0.49008092284202576 - Accuracy: 84.23295617103577%\n",
      "------------------------------------------------------------------------\n",
      "> Fold 5 - Loss: 0.4695720970630646 - Accuracy: 84.80113744735718%\n",
      "------------------------------------------------------------------------\n",
      "> Fold 6 - Loss: 0.46497640013694763 - Accuracy: 85.04496216773987%\n",
      "------------------------------------------------------------------------\n",
      "Average scores for all folds:\n",
      "> Accuracy: 84.47996874650319 (+- 0.5166841700576261)\n",
      "> Loss: 0.4768119603395462\n",
      "------------------------------------------------------------------------\n",
      "------------------------------------------------------------------------\n",
      "Training for fold 2 ...\n",
      "Epoch 1/15\n",
      "67/67 - 35s - loss: 1.4018 - accuracy: 0.3980 - val_loss: 1.3374 - val_accuracy: 0.4176 - 35s/epoch - 529ms/step\n",
      "Epoch 2/15\n",
      "67/67 - 15s - loss: 1.2437 - accuracy: 0.4726 - val_loss: 1.0517 - val_accuracy: 0.5942 - 15s/epoch - 219ms/step\n",
      "Epoch 3/15\n",
      "67/67 - 14s - loss: 0.8414 - accuracy: 0.6944 - val_loss: 0.7667 - val_accuracy: 0.7083 - 14s/epoch - 207ms/step\n",
      "Epoch 4/15\n",
      "67/67 - 17s - loss: 0.6451 - accuracy: 0.7586 - val_loss: 0.6863 - val_accuracy: 0.7580 - 17s/epoch - 252ms/step\n",
      "Epoch 5/15\n",
      "67/67 - 15s - loss: 0.5474 - accuracy: 0.8051 - val_loss: 0.5922 - val_accuracy: 0.7931 - 15s/epoch - 219ms/step\n",
      "Epoch 6/15\n",
      "67/67 - 15s - loss: 0.4562 - accuracy: 0.8400 - val_loss: 0.6298 - val_accuracy: 0.7926 - 15s/epoch - 218ms/step\n",
      "Epoch 7/15\n",
      "67/67 - 16s - loss: 0.4637 - accuracy: 0.8413 - val_loss: 0.6052 - val_accuracy: 0.7988 - 16s/epoch - 240ms/step\n",
      "Epoch 8/15\n",
      "67/67 - 15s - loss: 0.4242 - accuracy: 0.8519 - val_loss: 0.5194 - val_accuracy: 0.8172 - 15s/epoch - 230ms/step\n",
      "Epoch 9/15\n",
      "67/67 - 17s - loss: 0.3470 - accuracy: 0.8794 - val_loss: 0.5006 - val_accuracy: 0.8239 - 17s/epoch - 255ms/step\n",
      "Epoch 10/15\n",
      "67/67 - 17s - loss: 0.3274 - accuracy: 0.8831 - val_loss: 0.4886 - val_accuracy: 0.8314 - 17s/epoch - 247ms/step\n",
      "Epoch 11/15\n",
      "67/67 - 19s - loss: 0.3021 - accuracy: 0.8899 - val_loss: 0.4956 - val_accuracy: 0.8305 - 19s/epoch - 279ms/step\n",
      "Epoch 12/15\n",
      "67/67 - 17s - loss: 0.3008 - accuracy: 0.8891 - val_loss: 0.4741 - val_accuracy: 0.8338 - 17s/epoch - 247ms/step\n",
      "Epoch 13/15\n",
      "67/67 - 18s - loss: 0.2833 - accuracy: 0.8979 - val_loss: 0.4716 - val_accuracy: 0.8333 - 18s/epoch - 266ms/step\n",
      "Epoch 14/15\n",
      "67/67 - 15s - loss: 0.2693 - accuracy: 0.8982 - val_loss: 0.4850 - val_accuracy: 0.8343 - 15s/epoch - 224ms/step\n",
      "Epoch 15/15\n",
      "67/67 - 16s - loss: 0.2832 - accuracy: 0.8955 - val_loss: 0.4812 - val_accuracy: 0.8371 - 16s/epoch - 245ms/step\n",
      "Score for fold 2: loss of 0.4811636209487915; accuracy of 83.71211886405945%\n",
      "------------------------------------------------------------------------\n",
      "Score per fold\n",
      "------------------------------------------------------------------------\n",
      "> Fold 1 - Loss: 0.5012109875679016 - Accuracy: 84.80833172798157%\n",
      "------------------------------------------------------------------------\n",
      "> Fold 2 - Loss: 0.4337098002433777 - Accuracy: 84.51704382896423%\n",
      "------------------------------------------------------------------------\n",
      "> Fold 3 - Loss: 0.50132155418396 - Accuracy: 83.47538113594055%\n",
      "------------------------------------------------------------------------\n",
      "> Fold 4 - Loss: 0.49008092284202576 - Accuracy: 84.23295617103577%\n",
      "------------------------------------------------------------------------\n",
      "> Fold 5 - Loss: 0.4695720970630646 - Accuracy: 84.80113744735718%\n",
      "------------------------------------------------------------------------\n",
      "> Fold 6 - Loss: 0.46497640013694763 - Accuracy: 85.04496216773987%\n",
      "------------------------------------------------------------------------\n",
      "> Fold 7 - Loss: 0.4811636209487915 - Accuracy: 83.71211886405945%\n",
      "------------------------------------------------------------------------\n",
      "Average scores for all folds:\n",
      "> Accuracy: 84.37027590615409 (+- 0.5486530255258548)\n",
      "> Loss: 0.477433626140867\n",
      "------------------------------------------------------------------------\n",
      "------------------------------------------------------------------------\n",
      "Training for fold 3 ...\n",
      "Epoch 1/15\n",
      "67/67 - 32s - loss: 1.4040 - accuracy: 0.3991 - val_loss: 1.3553 - val_accuracy: 0.4081 - 32s/epoch - 482ms/step\n",
      "Epoch 2/15\n",
      "67/67 - 13s - loss: 1.2919 - accuracy: 0.4312 - val_loss: 1.0777 - val_accuracy: 0.5682 - 13s/epoch - 193ms/step\n",
      "Epoch 3/15\n",
      "67/67 - 13s - loss: 0.9296 - accuracy: 0.6242 - val_loss: 0.7649 - val_accuracy: 0.7079 - 13s/epoch - 194ms/step\n",
      "Epoch 4/15\n",
      "67/67 - 13s - loss: 0.6649 - accuracy: 0.7616 - val_loss: 0.6159 - val_accuracy: 0.7779 - 13s/epoch - 192ms/step\n",
      "Epoch 5/15\n",
      "67/67 - 13s - loss: 0.5269 - accuracy: 0.8149 - val_loss: 0.5425 - val_accuracy: 0.8111 - 13s/epoch - 194ms/step\n",
      "Epoch 6/15\n",
      "67/67 - 13s - loss: 0.4553 - accuracy: 0.8350 - val_loss: 0.5019 - val_accuracy: 0.8229 - 13s/epoch - 192ms/step\n",
      "Epoch 7/15\n",
      "67/67 - 13s - loss: 0.4052 - accuracy: 0.8550 - val_loss: 0.4690 - val_accuracy: 0.8295 - 13s/epoch - 194ms/step\n",
      "Epoch 8/15\n",
      "67/67 - 13s - loss: 0.3753 - accuracy: 0.8651 - val_loss: 0.4651 - val_accuracy: 0.8338 - 13s/epoch - 197ms/step\n",
      "Epoch 9/15\n",
      "67/67 - 13s - loss: 0.3464 - accuracy: 0.8748 - val_loss: 0.4421 - val_accuracy: 0.8423 - 13s/epoch - 189ms/step\n",
      "Epoch 10/15\n",
      "67/67 - 13s - loss: 0.3328 - accuracy: 0.8776 - val_loss: 0.4457 - val_accuracy: 0.8381 - 13s/epoch - 193ms/step\n",
      "Epoch 11/15\n",
      "67/67 - 12s - loss: 0.3053 - accuracy: 0.8900 - val_loss: 0.4570 - val_accuracy: 0.8433 - 12s/epoch - 186ms/step\n",
      "Epoch 12/15\n",
      "67/67 - 13s - loss: 0.3011 - accuracy: 0.8864 - val_loss: 0.4355 - val_accuracy: 0.8438 - 13s/epoch - 189ms/step\n",
      "Epoch 13/15\n",
      "67/67 - 13s - loss: 0.2875 - accuracy: 0.8897 - val_loss: 0.4463 - val_accuracy: 0.8490 - 13s/epoch - 191ms/step\n"
     ]
    },
    {
     "name": "stdout",
     "output_type": "stream",
     "text": [
      "Epoch 14/15\n",
      "67/67 - 13s - loss: 0.3294 - accuracy: 0.8763 - val_loss: 0.4495 - val_accuracy: 0.8456 - 13s/epoch - 191ms/step\n",
      "Epoch 15/15\n",
      "67/67 - 13s - loss: 0.2977 - accuracy: 0.8853 - val_loss: 0.4312 - val_accuracy: 0.8490 - 13s/epoch - 190ms/step\n",
      "Score for fold 3: loss of 0.4312315285205841; accuracy of 84.89583134651184%\n",
      "------------------------------------------------------------------------\n",
      "Score per fold\n",
      "------------------------------------------------------------------------\n",
      "> Fold 1 - Loss: 0.5012109875679016 - Accuracy: 84.80833172798157%\n",
      "------------------------------------------------------------------------\n",
      "> Fold 2 - Loss: 0.4337098002433777 - Accuracy: 84.51704382896423%\n",
      "------------------------------------------------------------------------\n",
      "> Fold 3 - Loss: 0.50132155418396 - Accuracy: 83.47538113594055%\n",
      "------------------------------------------------------------------------\n",
      "> Fold 4 - Loss: 0.49008092284202576 - Accuracy: 84.23295617103577%\n",
      "------------------------------------------------------------------------\n",
      "> Fold 5 - Loss: 0.4695720970630646 - Accuracy: 84.80113744735718%\n",
      "------------------------------------------------------------------------\n",
      "> Fold 6 - Loss: 0.46497640013694763 - Accuracy: 85.04496216773987%\n",
      "------------------------------------------------------------------------\n",
      "> Fold 7 - Loss: 0.4811636209487915 - Accuracy: 83.71211886405945%\n",
      "------------------------------------------------------------------------\n",
      "> Fold 8 - Loss: 0.4312315285205841 - Accuracy: 84.89583134651184%\n",
      "------------------------------------------------------------------------\n",
      "Average scores for all folds:\n",
      "> Accuracy: 84.4359703361988 (+- 0.5418513925317933)\n",
      "> Loss: 0.4716583639383316\n",
      "------------------------------------------------------------------------\n",
      "------------------------------------------------------------------------\n",
      "Training for fold 4 ...\n",
      "Epoch 1/15\n",
      "67/67 - 30s - loss: 1.3946 - accuracy: 0.4063 - val_loss: 1.3546 - val_accuracy: 0.4058 - 30s/epoch - 442ms/step\n",
      "Epoch 2/15\n",
      "67/67 - 13s - loss: 1.2435 - accuracy: 0.4382 - val_loss: 1.0726 - val_accuracy: 0.5014 - 13s/epoch - 189ms/step\n",
      "Epoch 3/15\n",
      "67/67 - 13s - loss: 0.8966 - accuracy: 0.6520 - val_loss: 0.8035 - val_accuracy: 0.6866 - 13s/epoch - 188ms/step\n",
      "Epoch 4/15\n",
      "67/67 - 12s - loss: 0.6673 - accuracy: 0.7446 - val_loss: 0.6685 - val_accuracy: 0.7434 - 12s/epoch - 185ms/step\n",
      "Epoch 5/15\n",
      "67/67 - 13s - loss: 0.5492 - accuracy: 0.7915 - val_loss: 0.5850 - val_accuracy: 0.7694 - 13s/epoch - 187ms/step\n",
      "Epoch 6/15\n",
      "67/67 - 13s - loss: 0.4786 - accuracy: 0.8154 - val_loss: 0.5511 - val_accuracy: 0.7879 - 13s/epoch - 188ms/step\n",
      "Epoch 7/15\n",
      "67/67 - 13s - loss: 0.4360 - accuracy: 0.8317 - val_loss: 0.5249 - val_accuracy: 0.7983 - 13s/epoch - 187ms/step\n",
      "Epoch 8/15\n",
      "67/67 - 12s - loss: 0.4152 - accuracy: 0.8413 - val_loss: 0.5348 - val_accuracy: 0.8045 - 12s/epoch - 186ms/step\n",
      "Epoch 9/15\n",
      "67/67 - 12s - loss: 0.3804 - accuracy: 0.8580 - val_loss: 0.5015 - val_accuracy: 0.8106 - 12s/epoch - 186ms/step\n",
      "Epoch 10/15\n",
      "67/67 - 12s - loss: 0.3558 - accuracy: 0.8679 - val_loss: 0.4835 - val_accuracy: 0.8295 - 12s/epoch - 186ms/step\n",
      "Epoch 11/15\n",
      "67/67 - 12s - loss: 0.3297 - accuracy: 0.8782 - val_loss: 0.4801 - val_accuracy: 0.8291 - 12s/epoch - 186ms/step\n",
      "Epoch 12/15\n",
      "67/67 - 13s - loss: 0.3042 - accuracy: 0.8839 - val_loss: 0.4615 - val_accuracy: 0.8357 - 13s/epoch - 187ms/step\n",
      "Epoch 13/15\n",
      "67/67 - 12s - loss: 0.2944 - accuracy: 0.8903 - val_loss: 0.4515 - val_accuracy: 0.8513 - 12s/epoch - 185ms/step\n",
      "Epoch 14/15\n",
      "67/67 - 13s - loss: 0.2809 - accuracy: 0.8940 - val_loss: 0.4507 - val_accuracy: 0.8485 - 13s/epoch - 189ms/step\n",
      "Epoch 15/15\n",
      "67/67 - 13s - loss: 0.2737 - accuracy: 0.8942 - val_loss: 0.4574 - val_accuracy: 0.8475 - 13s/epoch - 187ms/step\n",
      "Score for fold 4: loss of 0.4573667049407959; accuracy of 84.75378751754761%\n",
      "------------------------------------------------------------------------\n",
      "Score per fold\n",
      "------------------------------------------------------------------------\n",
      "> Fold 1 - Loss: 0.5012109875679016 - Accuracy: 84.80833172798157%\n",
      "------------------------------------------------------------------------\n",
      "> Fold 2 - Loss: 0.4337098002433777 - Accuracy: 84.51704382896423%\n",
      "------------------------------------------------------------------------\n",
      "> Fold 3 - Loss: 0.50132155418396 - Accuracy: 83.47538113594055%\n",
      "------------------------------------------------------------------------\n",
      "> Fold 4 - Loss: 0.49008092284202576 - Accuracy: 84.23295617103577%\n",
      "------------------------------------------------------------------------\n",
      "> Fold 5 - Loss: 0.4695720970630646 - Accuracy: 84.80113744735718%\n",
      "------------------------------------------------------------------------\n",
      "> Fold 6 - Loss: 0.46497640013694763 - Accuracy: 85.04496216773987%\n",
      "------------------------------------------------------------------------\n",
      "> Fold 7 - Loss: 0.4811636209487915 - Accuracy: 83.71211886405945%\n",
      "------------------------------------------------------------------------\n",
      "> Fold 8 - Loss: 0.4312315285205841 - Accuracy: 84.89583134651184%\n",
      "------------------------------------------------------------------------\n",
      "> Fold 9 - Loss: 0.4573667049407959 - Accuracy: 84.75378751754761%\n",
      "------------------------------------------------------------------------\n",
      "Average scores for all folds:\n",
      "> Accuracy: 84.47128335634868 (+- 0.5205347815191497)\n",
      "> Loss: 0.4700704018274943\n",
      "------------------------------------------------------------------------\n",
      "------------------------------------------------------------------------\n",
      "Training for fold 5 ...\n",
      "Epoch 1/15\n",
      "67/67 - 33s - loss: 1.3921 - accuracy: 0.3953 - val_loss: 1.3619 - val_accuracy: 0.4034 - 33s/epoch - 500ms/step\n",
      "Epoch 2/15\n",
      "67/67 - 15s - loss: 1.1836 - accuracy: 0.4881 - val_loss: 1.0384 - val_accuracy: 0.5743 - 15s/epoch - 223ms/step\n",
      "Epoch 3/15\n",
      "67/67 - 13s - loss: 0.9288 - accuracy: 0.6397 - val_loss: 0.8694 - val_accuracy: 0.6714 - 13s/epoch - 195ms/step\n",
      "Epoch 4/15\n",
      "67/67 - 13s - loss: 0.7527 - accuracy: 0.7200 - val_loss: 0.8246 - val_accuracy: 0.7041 - 13s/epoch - 194ms/step\n",
      "Epoch 5/15\n",
      "67/67 - 13s - loss: 0.6495 - accuracy: 0.7626 - val_loss: 0.7213 - val_accuracy: 0.7443 - 13s/epoch - 198ms/step\n",
      "Epoch 6/15\n",
      "67/67 - 13s - loss: 0.5526 - accuracy: 0.8045 - val_loss: 0.6260 - val_accuracy: 0.7727 - 13s/epoch - 199ms/step\n",
      "Epoch 7/15\n",
      "67/67 - 16s - loss: 0.4559 - accuracy: 0.8401 - val_loss: 0.5734 - val_accuracy: 0.8054 - 16s/epoch - 241ms/step\n",
      "Epoch 8/15\n",
      "67/67 - 14s - loss: 0.4163 - accuracy: 0.8534 - val_loss: 0.5427 - val_accuracy: 0.8215 - 14s/epoch - 216ms/step\n",
      "Epoch 9/15\n",
      "67/67 - 14s - loss: 0.3820 - accuracy: 0.8659 - val_loss: 0.5068 - val_accuracy: 0.8310 - 14s/epoch - 203ms/step\n",
      "Epoch 10/15\n",
      "67/67 - 13s - loss: 0.3562 - accuracy: 0.8721 - val_loss: 0.5072 - val_accuracy: 0.8300 - 13s/epoch - 201ms/step\n",
      "Epoch 11/15\n",
      "67/67 - 13s - loss: 0.3382 - accuracy: 0.8767 - val_loss: 0.4894 - val_accuracy: 0.8305 - 13s/epoch - 198ms/step\n",
      "Epoch 12/15\n",
      "67/67 - 14s - loss: 0.3283 - accuracy: 0.8837 - val_loss: 0.4756 - val_accuracy: 0.8366 - 14s/epoch - 205ms/step\n",
      "Epoch 13/15\n",
      "67/67 - 13s - loss: 0.3025 - accuracy: 0.8906 - val_loss: 0.4872 - val_accuracy: 0.8286 - 13s/epoch - 199ms/step\n",
      "Epoch 14/15\n",
      "67/67 - 13s - loss: 0.3034 - accuracy: 0.8865 - val_loss: 0.4792 - val_accuracy: 0.8333 - 13s/epoch - 195ms/step\n",
      "Epoch 15/15\n",
      "67/67 - 13s - loss: 0.2890 - accuracy: 0.8923 - val_loss: 0.4778 - val_accuracy: 0.8404 - 13s/epoch - 196ms/step\n",
      "Score for fold 5: loss of 0.477834552526474; accuracy of 84.04356241226196%\n",
      "------------------------------------------------------------------------\n",
      "Score per fold\n",
      "------------------------------------------------------------------------\n",
      "> Fold 1 - Loss: 0.5012109875679016 - Accuracy: 84.80833172798157%\n",
      "------------------------------------------------------------------------\n",
      "> Fold 2 - Loss: 0.4337098002433777 - Accuracy: 84.51704382896423%\n",
      "------------------------------------------------------------------------\n",
      "> Fold 3 - Loss: 0.50132155418396 - Accuracy: 83.47538113594055%\n",
      "------------------------------------------------------------------------\n",
      "> Fold 4 - Loss: 0.49008092284202576 - Accuracy: 84.23295617103577%\n",
      "------------------------------------------------------------------------\n",
      "> Fold 5 - Loss: 0.4695720970630646 - Accuracy: 84.80113744735718%\n",
      "------------------------------------------------------------------------\n",
      "> Fold 6 - Loss: 0.46497640013694763 - Accuracy: 85.04496216773987%\n",
      "------------------------------------------------------------------------\n",
      "> Fold 7 - Loss: 0.4811636209487915 - Accuracy: 83.71211886405945%\n",
      "------------------------------------------------------------------------\n",
      "> Fold 8 - Loss: 0.4312315285205841 - Accuracy: 84.89583134651184%\n",
      "------------------------------------------------------------------------\n",
      "> Fold 9 - Loss: 0.4573667049407959 - Accuracy: 84.75378751754761%\n",
      "------------------------------------------------------------------------\n",
      "> Fold 10 - Loss: 0.477834552526474 - Accuracy: 84.04356241226196%\n",
      "------------------------------------------------------------------------\n",
      "Average scores for all folds:\n",
      "> Accuracy: 84.42851126194 (+- 0.5102214043285606)\n",
      "> Loss: 0.4708468168973923\n",
      "------------------------------------------------------------------------\n"
     ]
    }
   ],
   "source": [
    "fold_no = 1\n",
    "for train, test in kfold.split(x, y):\n",
    "    model = Sequential()\n",
    "    model.add(Embedding(20000, 32, input_length=x.shape[1]))\n",
    "    model.add(Dropout(0.5))\n",
    "    model.add(Bidirectional(LSTM(32, return_sequences=True, dropout=0.2, recurrent_dropout=0.2)))\n",
    "    model.add(Bidirectional(LSTM(32, dropout=0.3, recurrent_dropout=0.2)))\n",
    "    #model.add(LSTM(128, dropout=0.2, recurrent_dropout=0.3))\n",
    "    model.add(Dense(5, activation = 'sigmoid'))\n",
    "    model.compile(loss='categorical_crossentropy', optimizer='adam',metrics=['accuracy'])\n",
    "    # Generate a print\n",
    "    print('------------------------------------------------------------------------')\n",
    "    print(f'Training for fold {fold_no} ...')\n",
    "    # Fit data to model\n",
    "    history = model.fit(x[train], y[train], epochs=15, batch_size=128, validation_data=(x[test], y[test]),verbose=2)\n",
    "    # Generate generalization metrics\n",
    "    scores = model.evaluate(x[test], y[test], verbose=0)\n",
    "    print(f'Score for fold {fold_no}: {model.metrics_names[0]} of {scores[0]}; {model.metrics_names[1]} of {scores[1]*100}%')\n",
    "    acc_per_fold.append(scores[1] * 100)\n",
    "    loss_per_fold.append(scores[0])\n",
    "    # Increase fold number\n",
    "    fold_no = fold_no + 1\n",
    "    # == Provide average scores ==\n",
    "    print('------------------------------------------------------------------------')\n",
    "    print('Score per fold')\n",
    "    for i in range(0, len(acc_per_fold)):\n",
    "        print('------------------------------------------------------------------------')\n",
    "        print(f'> Fold {i+1} - Loss: {loss_per_fold[i]} - Accuracy: {acc_per_fold[i]}%')\n",
    "    print('------------------------------------------------------------------------')\n",
    "    print('Average scores for all folds:')\n",
    "    print(f'> Accuracy: {np.mean(acc_per_fold)} (+- {np.std(acc_per_fold)})')\n",
    "    print(f'> Loss: {np.mean(loss_per_fold)}')\n",
    "    print('------------------------------------------------------------------------')"
   ]
  },
  {
   "cell_type": "code",
   "execution_count": 22,
   "metadata": {},
   "outputs": [],
   "source": [
    "model.compile(loss='categorical_crossentropy', optimizer='adam',metrics=['accuracy'])"
   ]
  },
  {
   "cell_type": "code",
   "execution_count": 23,
   "metadata": {},
   "outputs": [
    {
     "name": "stdout",
     "output_type": "stream",
     "text": [
      "66/66 [==============================] - 2s 15ms/step\n"
     ]
    }
   ],
   "source": [
    "predictions = model.predict(x[test])"
   ]
  },
  {
   "cell_type": "code",
   "execution_count": 24,
   "metadata": {},
   "outputs": [
    {
     "name": "stdout",
     "output_type": "stream",
     "text": [
      "66/66 - 4s - loss: 0.4778 - accuracy: 0.8404 - 4s/epoch - 53ms/step\n",
      "[0.477834552526474, 0.8404356241226196]\n"
     ]
    }
   ],
   "source": [
    "scores = model.evaluate(x[test], y[test],verbose=2)\n",
    "\n",
    "print(scores)"
   ]
  },
  {
   "cell_type": "code",
   "execution_count": 26,
   "metadata": {},
   "outputs": [],
   "source": [
    "model.save(\"D:\\Extremist UI Flask - 1/Bi-Directional-LSTM.h5\")"
   ]
  },
  {
   "cell_type": "markdown",
   "metadata": {},
   "source": [
    "# Training and Testing dataset Splitting "
   ]
  },
  {
   "cell_type": "code",
   "execution_count": null,
   "metadata": {},
   "outputs": [],
   "source": [
    "x_train, x_test, y_train, y_test = train_test_split(x, y, test_size = 0.2, random_state=0)"
   ]
  },
  {
   "cell_type": "markdown",
   "metadata": {},
   "source": [
    "# Train the Model"
   ]
  },
  {
   "cell_type": "code",
   "execution_count": null,
   "metadata": {},
   "outputs": [],
   "source": [
    "batch_size = 32\n",
    "epochs = 10\n",
    "history = model.fit(x_train, y_train, epochs=epochs, batch_size=batch_size,validation_data=(x_test, y_test), verbose=2)"
   ]
  },
  {
   "cell_type": "markdown",
   "metadata": {},
   "source": [
    "# Test the Model "
   ]
  },
  {
   "cell_type": "code",
   "execution_count": null,
   "metadata": {},
   "outputs": [],
   "source": [
    "predictions = model.predict(x_test)"
   ]
  },
  {
   "cell_type": "code",
   "execution_count": null,
   "metadata": {},
   "outputs": [],
   "source": [
    "scores = model.evaluate(x_test, y_test,verbose=2)\n",
    "\n",
    "print(scores)"
   ]
  },
  {
   "cell_type": "code",
   "execution_count": null,
   "metadata": {},
   "outputs": [],
   "source": [
    "model.save(\"Intent_Classification.h5\")"
   ]
  },
  {
   "cell_type": "code",
   "execution_count": null,
   "metadata": {},
   "outputs": [],
   "source": [
    "new_intent = ['Kiyyoo dirama oso  eguti jirun na darbe tari ayaana moo sababa godhatu moyuu']\n",
    "seq = tokenizer.texts_to_sequences(new_intent)\n",
    "padded = pad_sequences(seq, maxlen=6000)\n",
    "pred = model.predict(padded)\n",
    "Intent = ['Question', 'Negative', 'Positive', 'Suggestion', 'Wish']\n",
    "print(pred, Intent[np.argmax(pred)])"
   ]
  },
  {
   "cell_type": "code",
   "execution_count": null,
   "metadata": {},
   "outputs": [],
   "source": [
    "[print (data['Text'][i], predictions[i], y_test[i]) for i in range(0, 400)]"
   ]
  },
  {
   "cell_type": "code",
   "execution_count": 27,
   "metadata": {},
   "outputs": [
    {
     "data": {
      "image/png": "[encoded data removed]",
      "text/plain": [
       "<Figure size 432x288 with 1 Axes>"
      ]
     },
     "metadata": {
      "needs_background": "light"
     },
     "output_type": "display_data"
    },
    {
     "data": {
      "image/png": "[encoded data removed]",
      "text/plain": [
       "<Figure size 432x288 with 1 Axes>"
      ]
     },
     "metadata": {
      "needs_background": "light"
     },
     "output_type": "display_data"
    }
   ],
   "source": [
    "def plot_graphs(history, string):\n",
    "  plt.plot(history.history[string])\n",
    "  plt.plot(history.history['val_'+string])\n",
    "  plt.xlabel(\"epochs\")\n",
    "  plt.ylabel(string)\n",
    "  plt.legend([string, 'val_'+string])\n",
    "  plt.show()\n",
    "  \n",
    "plot_graphs(history, \"accuracy\")\n",
    "plot_graphs(history, \"loss\")"
   ]
  },
  {
   "cell_type": "code",
   "execution_count": 29,
   "metadata": {},
   "outputs": [],
   "source": [
    "cm=metrics.confusion_matrix(y[test].argmax(axis=1), predictions.argmax(axis=1))"
   ]
  },
  {
   "cell_type": "code",
   "execution_count": 30,
   "metadata": {},
   "outputs": [],
   "source": [
    "FP = cm.sum(axis=0) - np.diag(cm)  \n",
    "FN = cm.sum(axis=1) - np.diag(cm)\n",
    "TP = np.diag(cm)\n",
    "TN = cm.sum() - (FP + FN + TP)"
   ]
  },
  {
   "cell_type": "code",
   "execution_count": 31,
   "metadata": {},
   "outputs": [],
   "source": [
    "FP = FP.astype(float)\n",
    "FN = FN.astype(float)\n",
    "TP = TP.astype(float)\n",
    "TN = TN.astype(float)"
   ]
  },
  {
   "cell_type": "code",
   "execution_count": 32,
   "metadata": {},
   "outputs": [
    {
     "name": "stdout",
     "output_type": "stream",
     "text": [
      "[ 87. 111.  25.  95.  19.]\n",
      "[ 71. 125.  31.  78.  32.]\n",
      "[577. 727. 135. 257.  79.]\n",
      "[1377. 1149. 1921. 1682. 1982.]\n"
     ]
    }
   ],
   "source": [
    "print(FP)\n",
    "print(FN)\n",
    "print(TP)\n",
    "print(TN)"
   ]
  },
  {
   "cell_type": "code",
   "execution_count": 33,
   "metadata": {},
   "outputs": [],
   "source": [
    "precision = TP/(TP+FP)\n",
    "recall = TP/(TP+FN)\n",
    "f1_score = 2*precision*recall/(precision+recall)"
   ]
  },
  {
   "cell_type": "code",
   "execution_count": 34,
   "metadata": {},
   "outputs": [
    {
     "name": "stdout",
     "output_type": "stream",
     "text": [
      "precision [0.8689759  0.86754177 0.84375    0.73011364 0.80612245]\n",
      "recall   [0.8904321  0.85328638 0.81325301 0.76716418 0.71171171]\n",
      "f1_score [0.87957317 0.86035503 0.82822086 0.74818049 0.75598086]\n"
     ]
    }
   ],
   "source": [
    "print(\"precision\",precision)\n",
    "print(\"recall  \", recall)\n",
    "print(\"f1_score\",f1_score)"
   ]
  },
  {
   "cell_type": "code",
   "execution_count": 35,
   "metadata": {},
   "outputs": [],
   "source": [
    "def accuracy(confusion_matrix):\n",
    "    diagonal_sum = confusion_matrix.trace()\n",
    "    sum_of_all_elements = confusion_matrix.sum()\n",
    "    return diagonal_sum / sum_of_all_elements "
   ]
  },
  {
   "cell_type": "code",
   "execution_count": 36,
   "metadata": {},
   "outputs": [
    {
     "data": {
      "text/plain": [
       "0.8404356060606061"
      ]
     },
     "execution_count": 36,
     "metadata": {},
     "output_type": "execute_result"
    }
   ],
   "source": [
    "accuracy(cm)"
   ]
  },
  {
   "cell_type": "code",
   "execution_count": null,
   "metadata": {},
   "outputs": [],
   "source": []
  }
 ],
 "metadata": {
  "kernelspec": {
   "display_name": "Python 3 (ipykernel)",
   "language": "python",
   "name": "python3"
  },
  "language_info": {
   "codemirror_mode": {
    "name": "ipython",
    "version": 3
   },
   "file_extension": ".py",
   "mimetype": "text/x-python",
   "name": "python",
   "nbconvert_exporter": "python",
   "pygments_lexer": "ipython3",
   "version": "3.9.12"
  }
 },
 "nbformat": 4,
 "nbformat_minor": 2
}
